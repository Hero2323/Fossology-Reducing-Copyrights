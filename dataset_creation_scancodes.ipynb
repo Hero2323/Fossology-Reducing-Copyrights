{
 "cells": [
  {
   "cell_type": "code",
   "execution_count": 1,
   "metadata": {},
   "outputs": [],
   "source": [
    "import pandas as pd\n",
    "import json\n",
    "from tqdm import tqdm"
   ]
  },
  {
   "cell_type": "code",
   "execution_count": null,
   "metadata": {},
   "outputs": [],
   "source": [
    "# The command for calling scancodes to get the copyrights from a specific directory.\n",
    "# --processes 6 is the number of processes to use for scanning.\n",
    "# --reencode no is to not reencode the files.\n",
    "# -c is to get the copyrigths.\n",
    "# --json is to output the results in json format.\n",
    "# scancodes/fossology-master.json is the output file.\n",
    "# fossology-master is the directory to scan.\n",
    "\n",
    "!scancode --processes 6 --reencode no -c --json scancodes/fossology-master.json fossology-master"
   ]
  },
  {
   "cell_type": "code",
   "execution_count": 2,
   "metadata": {},
   "outputs": [],
   "source": [
    "scancode_json = open('scancodes/fossology-master.json')\n",
    "scancode_json_str = scancode_json.read()"
   ]
  },
  {
   "cell_type": "code",
   "execution_count": 3,
   "metadata": {},
   "outputs": [],
   "source": [
    "data = json.loads(scancode_json_str)"
   ]
  },
  {
   "cell_type": "code",
   "execution_count": 4,
   "metadata": {},
   "outputs": [],
   "source": [
    "scancode_copyrights_df = pd.DataFrame(columns=['file_path', 'copyright', 'falsePositive'])"
   ]
  },
  {
   "cell_type": "code",
   "execution_count": 5,
   "metadata": {},
   "outputs": [
    {
     "name": "stderr",
     "output_type": "stream",
     "text": [
      "100%|██████████| 4960/4960 [00:33<00:00, 147.54it/s] \n"
     ]
    }
   ],
   "source": [
    "for i in tqdm(range(len(data['files']))):\n",
    "    path = data['files'][i]['path']\n",
    "    type = data['files'][i]['type']\n",
    "    copyrights = data['files'][i]['copyrights']\n",
    "    holders = data['files'][i]['holders']\n",
    "    authors = data['files'][i]['authors']\n",
    "    if type == 'directory':\n",
    "        continue\n",
    "    for j in range(len(copyrights)):\n",
    "        scancode_copyright = copyrights[j]['copyright']\n",
    "        falsePositive = 0\n",
    "        newRow = pd.Series({\n",
    "                    'file_path': path,\n",
    "                    'copyright': scancode_copyright,\n",
    "                    'falsePositive': falsePositive\n",
    "                })\n",
    "        scancode_copyrights_df.loc[len(scancode_copyrights_df)] = newRow"
   ]
  },
  {
   "cell_type": "code",
   "execution_count": 6,
   "metadata": {},
   "outputs": [],
   "source": [
    "scancode_copyrights_df = scancode_copyrights_df.sort_values('file_path')\n",
    "scancode_copyrights_df = scancode_copyrights_df.reset_index()"
   ]
  },
  {
   "cell_type": "code",
   "execution_count": 7,
   "metadata": {},
   "outputs": [],
   "source": [
    "scancode_copyrights_df.to_csv('scan_code_csvs/fossology-master_1.csv')"
   ]
  },
  {
   "cell_type": "code",
   "execution_count": null,
   "metadata": {},
   "outputs": [],
   "source": []
  }
 ],
 "metadata": {
  "kernelspec": {
   "display_name": "Python 3",
   "language": "python",
   "name": "python3"
  },
  "language_info": {
   "codemirror_mode": {
    "name": "ipython",
    "version": 3
   },
   "file_extension": ".py",
   "mimetype": "text/x-python",
   "name": "python",
   "nbconvert_exporter": "python",
   "pygments_lexer": "ipython3",
   "version": "3.8.5"
  },
  "orig_nbformat": 4,
  "vscode": {
   "interpreter": {
    "hash": "069bb8bee4d116659dec40e4a227483e59993d66caaf019b0bf4acfff5c59bd2"
   }
  }
 },
 "nbformat": 4,
 "nbformat_minor": 2
}
