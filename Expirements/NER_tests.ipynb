{
 "cells": [
  {
   "cell_type": "code",
   "execution_count": 2,
   "metadata": {},
   "outputs": [
    {
     "name": "stderr",
     "output_type": "stream",
     "text": [
      "[nltk_data] Downloading package stopwords to /home/jimbo/nltk_data...\n",
      "[nltk_data]   Package stopwords is already up-to-date!\n",
      "[nltk_data] Downloading package punkt to /home/jimbo/nltk_data...\n",
      "[nltk_data]   Package punkt is already up-to-date!\n",
      "[nltk_data] Downloading package wordnet to /home/jimbo/nltk_data...\n",
      "[nltk_data]   Package wordnet is already up-to-date!\n"
     ]
    }
   ],
   "source": [
    "import pandas as pd\n",
    "import re\n",
    "from sklearn.model_selection import train_test_split\n",
    "from sklearn.metrics import accuracy_score, classification_report\n",
    "from sklearn.model_selection import GridSearchCV, RandomizedSearchCV\n",
    "from sklearn.ensemble import BaggingClassifier\n",
    "from sklearn.multiclass import OneVsRestClassifier\n",
    "import numpy as np\n",
    "from sklearn.feature_extraction.text import TfidfVectorizer\n",
    "from sklearn.svm import SVC\n",
    "from tqdm import tqdm\n",
    "import string\n",
    "import scipy\n",
    "import nltk\n",
    "nltk.download('stopwords')\n",
    "nltk.download('punkt')\n",
    "nltk.download('wordnet')\n",
    "from nltk.corpus import stopwords\n",
    "from nltk.stem import PorterStemmer, WordNetLemmatizer\n",
    "from nltk.tokenize import word_tokenize\n",
    "stop_words = stopwords.words('english')\n",
    "stemmer = PorterStemmer()\n",
    "lemmatizer = WordNetLemmatizer()"
   ]
  },
  {
   "cell_type": "code",
   "execution_count": 61,
   "metadata": {},
   "outputs": [
    {
     "name": "stdout",
     "output_type": "stream",
     "text": [
      "Class 0 Percentage:  0.7522737712448323\n",
      "Class 1 Percentage:  0.24772622875516767\n"
     ]
    }
   ],
   "source": [
    "data_0 = pd.read_csv('../datasets/fossology-master-corrected.csv')\n",
    "X_0 = data_0[\"copyright\"]\n",
    "y_0 = data_0[\"falsePositive\"]\n",
    "X_0 = X_0.drop_duplicates()\n",
    "y_0 = y_0[X_0.index]\n",
    "\n",
    "data_1 = pd.read_csv('../datasets/kubernetes-master-corrected.csv')\n",
    "X_1 = data_1[\"copyright\"]\n",
    "y_1 = data_1[\"falsePositive\"]\n",
    "X_1 = X_1.drop_duplicates()\n",
    "y_1 = y_1[X_1.index]\n",
    "\n",
    "data_2 = pd.read_csv('../datasets/tensorflow-master-corrected.csv')\n",
    "X_2 = data_2[\"copyright\"]\n",
    "y_2 = data_2[\"falsePositive\"]\n",
    "X_2 = X_2.drop_duplicates()\n",
    "y_2 = y_2[X_2.index]\n",
    "\n",
    "data_3 = pd.read_csv('../datasets/fossology-provided-1-corrected.csv')\n",
    "\n",
    "X_3 = data_3['copyright']\n",
    "y_3 = data_3['falsePositive']\n",
    "X_3 = X_3.drop_duplicates()\n",
    "y_3 = y_3[X_3.index]\n",
    "\n",
    "data_4 = pd.read_csv('../datasets/fossology-provided-2.csv')\n",
    "\n",
    "X_4 = data_4['copyright']\n",
    "y_4 = data_4['falsePositive']\n",
    "X_4 = X_4.drop_duplicates()\n",
    "y_4 = y_4[X_4.index]\n",
    "\n",
    "data_5 = pd.read_csv('../datasets/feature-extraction-paper.csv')\n",
    "\n",
    "X_5 = data_5['copyright']\n",
    "y_5 = data_5['falsePositive']\n",
    "X_5 = X_5.drop_duplicates()\n",
    "y_5 = y_5[X_5.index]\n",
    "\n",
    "X = pd.concat([X_0, X_1, X_2, X_3])\n",
    "y = pd.concat([y_0, y_1, y_2, y_3])\n",
    "\n",
    "X = X.reset_index(drop=True)\n",
    "y = y.reset_index(drop=True)\n",
    "\n",
    "print('Class 0 Percentage: ', len(y[y == 0]) / len(y))\n",
    "print('Class 1 Percentage: ', len(y[y == 1]) / len(y))\n",
    "\n",
    "X_train, X_test, y_train, y_test = train_test_split(X, y, test_size=0.2, random_state=42, shuffle=True)"
   ]
  },
  {
   "cell_type": "code",
   "execution_count": 4,
   "metadata": {},
   "outputs": [],
   "source": [
    "def aggregate_reports(reports, print_aggregates=True):\n",
    "    import pandas as pd\n",
    "    import numpy as np\n",
    "    dfs = []\n",
    "    for metric in ['precision', 'recall', 'f1-score']:\n",
    "        scores = []\n",
    "        for report in reports:\n",
    "            scores.append([report['0'][metric], report['1'][metric]])\n",
    "        scores = np.array(scores)\n",
    "        scores = scores[:, :2]\n",
    "        mean_scores = np.mean(scores, axis=0)\n",
    "        mean_scores = [f\"{score:.6f}\" for score in mean_scores]\n",
    "        df = pd.DataFrame(scores, columns=['0', '1'])\n",
    "        df.loc['Mean'] = mean_scores\n",
    "        df['Metric'] = metric\n",
    "        dfs.append(df)\n",
    "    if print_aggregates:\n",
    "        print(\"## Precision\")\n",
    "        print(dfs[0].to_markdown())\n",
    "        print(\"## Recall\")\n",
    "        print(dfs[1].to_markdown())\n",
    "        print(\"## F1-score\")\n",
    "        print(dfs[2].to_markdown())\n",
    "    else:\n",
    "        return dfs[0], dfs[1], dfs[2]"
   ]
  },
  {
   "cell_type": "code",
   "execution_count": 5,
   "metadata": {},
   "outputs": [],
   "source": [
    "def get_missclassified_rows(X, y_true, y_pred, only_this_class = [0, 1], return_index=False):\n",
    "    if type(y_true) != list:\n",
    "        y_true = y_true.tolist()\n",
    "    if type(y_pred) != list:\n",
    "        y_pred = y_pred.tolist()\n",
    "    if type(X) != list:\n",
    "        X = X.tolist()\n",
    "    missclassified_rows = []\n",
    "    for i in range(len(y_true)):\n",
    "        if y_true[i] != y_pred[i] and y_true[i] in only_this_class:\n",
    "            missclassified_rows.append(i)\n",
    "    if return_index:\n",
    "        return [(y_pred[i], i, X[i]) for i in missclassified_rows]\n",
    "    else:\n",
    "        return [(y_pred[i], X[i]) for i in missclassified_rows]"
   ]
  },
  {
   "cell_type": "code",
   "execution_count": 6,
   "metadata": {},
   "outputs": [],
   "source": [
    "from nltk.tokenize.treebank import TreebankWordTokenizer\n",
    "tokenizer = TreebankWordTokenizer()"
   ]
  },
  {
   "cell_type": "code",
   "execution_count": 9,
   "metadata": {},
   "outputs": [],
   "source": [
    "def preprocess_function(sentences, lower=False, replace_copyright_symbols=False,\n",
    "                        replace_dates=False, remove_numbers=False, remove_punctuation=False,\n",
    "                        remove_special_characters=False, remove_whitespaces=False, remove_specials_weird=False,\n",
    "                        remove_stopwords=False, replace_emails=False, replace_names=False, replace_orgs=False,\n",
    "                        tokenize=False, lemmatize=False, glove=False):\n",
    "    if type(sentences) is not list:\n",
    "        sentences = sentences.to_list()\n",
    "    if replace_dates:\n",
    "        if glove:\n",
    "            sentences = [re.sub(r'\\d{4}', ' <DATE> ', sentence) for sentence in sentences]\n",
    "        else:\n",
    "            sentences = [re.sub(r'\\d{4}', ' DATE ', sentence) for sentence in sentences]\n",
    "    if remove_numbers:\n",
    "        sentences = [re.sub(r'\\d+', ' ', sentence) for sentence in sentences]\n",
    "    if replace_copyright_symbols:\n",
    "        if glove:\n",
    "            symbol_text = ' <COPYRIGHT SYMBOL> '\n",
    "        else:\n",
    "            symbol_text = ' COPYRIGHTSYMBOL '\n",
    "        sentences = [re.sub(r'©', symbol_text, sentence) for sentence in sentences]\n",
    "        sentences = [re.sub(r'\\(c\\)', symbol_text, sentence) for sentence in sentences]\n",
    "        sentences = [re.sub(r'\\(C\\)', symbol_text, sentence) for sentence in sentences]\n",
    "    if replace_emails:\n",
    "        if glove:\n",
    "            email_text = ' <EMAIL> '\n",
    "        else:\n",
    "            email_text = ' EMAIL '\n",
    "        sentences = [re.sub(\"\"\"(?:[a-z0-9!#$%&'*+/=?^_`{|}~-]+(?:\\.[a-z0-9!#$%&'*+/=?^_`{|}~-]+)*|\"(?:[\\x01-\\x08\\x0b\\x0c\\x0e-\\x1f\\x21\\x23-\\x5b\\x5d-\\x7f]|\\\\[\\x01-\\x09\\x0b\\x0c\\x0e-\\x7f])*\")@(?:(?:[a-z0-9](?:[a-z0-9-]*[a-z0-9])?\\.)+[a-z0-9](?:[a-z0-9-]*[a-z0-9])?|\\[(?:(?:(2(5[0-5]|[0-4][0-9])|1[0-9][0-9]|[1-9]?[0-9]))\\.){3}(?:(2(5[0-5]|[0-4][0-9])|1[0-9][0-9]|[1-9]?[0-9])|[a-z0-9-]*[a-z0-9]:(?:[\\x01-\\x08\\x0b\\x0c\\x0e-\\x1f\\x21-\\x5a\\x53-\\x7f]|\\\\[\\x01-\\x09\\x0b\\x0c\\x0e-\\x7f])+)\\])\"\"\", email_text, sentence) for sentence in sentences]\n",
    "    if replace_names:\n",
    "        pass # TODO: Implement this using NER if needed\n",
    "    if replace_orgs:\n",
    "        pass # TODO: Implement this using NER if needed\n",
    "    if tokenize:\n",
    "        if not glove:\n",
    "            sentences = [''.join(tokenizer.tokenize(sentence)) for sentence in sentences]\n",
    "        else:\n",
    "            sentences = [tokenizer.tokenize(sentence) for sentence in sentences]\n",
    "    if lemmatize:\n",
    "        lemmatizer = WordNetLemmatizer()\n",
    "        if not glove:\n",
    "            sentences = [''.join([lemmatizer.lemmatize(word) for word in sentence]) for sentence in sentences]\n",
    "        else:\n",
    "            sentences = [[lemmatizer.lemmatize(word) for word in sentence] for sentence in sentences]\n",
    "    if remove_punctuation:\n",
    "        sentences = [re.sub(r'[^\\w\\s]', ' ', sentence) for sentence in sentences]\n",
    "    if remove_special_characters:\n",
    "        sentences = [re.sub(r'[^a-zA-Z0-9]', ' ', sentence) for sentence in sentences]\n",
    "    if remove_specials_weird:\n",
    "        sentences = [re.sub(r'[^a-zA-Z0-9]', '', sentence) for sentence in sentences]\n",
    "    if lower:\n",
    "        sentences = [sentence.lower() for sentence in sentences]\n",
    "    if remove_stopwords:\n",
    "        sentences = [re.sub(r'\\b(?:{})\\b'.format('|'.join(stopwords.words('english'))), ' ', sentence)\n",
    "                     for sentence in sentences]\n",
    "    if remove_whitespaces:\n",
    "        sentences = [re.sub(r' {2,}', ' ', sentence) for sentence in sentences]\n",
    "    return sentences"
   ]
  },
  {
   "cell_type": "code",
   "execution_count": 81,
   "metadata": {},
   "outputs": [],
   "source": [
    "# Train to save space in code\n",
    "def train(svm, vectorizer, threshold, preprocess_function,**kwargs):\n",
    "    X_train_tfidf = vectorizer.fit_transform(preprocess_function(X_train, **kwargs))\n",
    "    X_test_tfidf = vectorizer.transform(preprocess_function(X_test, **kwargs))\n",
    "    X_1_tfidf = vectorizer.transform(preprocess_function(X_1, **kwargs))\n",
    "    X_2_tfidf = vectorizer.transform(preprocess_function(X_2, **kwargs))\n",
    "    X_3_tfidf = vectorizer.transform(preprocess_function(X_3, **kwargs))\n",
    "    X_tfidf = vectorizer.transform(preprocess_function(X, **kwargs))\n",
    "    svm.fit(X_train_tfidf, y_train)\n",
    "    if True: #svm.probability:\n",
    "        y_pred = svm.predict_proba(X_test_tfidf)\n",
    "        y_pred_1 = svm.predict_proba(X_1_tfidf)\n",
    "        y_pred_2 = svm.predict_proba(X_2_tfidf)\n",
    "        y_pred_3 = svm.predict_proba(X_3_tfidf)\n",
    "        y_pred_4 = svm.predict_proba(X_tfidf)\n",
    "        if threshold is None:\n",
    "            y_pred_classification = np.argmax(y_pred, axis=1)\n",
    "            y_pred_1_classification = np.argmax(y_pred_1, axis=1)\n",
    "            y_pred_2_classification = np.argmax(y_pred_2, axis=1)\n",
    "            y_pred_3_classification = np.argmax(y_pred_3, axis=1)\n",
    "            y_pred_4_classification = np.argmax(y_pred_4, axis=1)\n",
    "        else:\n",
    "            y_pred_classification = [np.argmax(y) if max(y) > threshold else 0 for y in y_pred]\n",
    "            y_pred_1_classification = [np.argmax(y) if max(y) > threshold else 0 for y in y_pred_1]\n",
    "            y_pred_2_classification = [np.argmax(y) if max(y) > threshold else 0 for y in y_pred_2]\n",
    "            y_pred_3_classification = [np.argmax(y) if max(y) > threshold else 0 for y in y_pred_3]\n",
    "            y_pred_4_classification = [np.argmax(y) if max(y) > threshold else 0 for y in y_pred_4]\n",
    "    else:\n",
    "        y_pred_classification = svm.predict(X_test_tfidf)\n",
    "        y_pred_1_classification = svm.predict(X_1_tfidf)\n",
    "        y_pred_2_classification = svm.predict(X_2_tfidf)\n",
    "        y_pred_3_classification = svm.predict(X_3_tfidf)\n",
    "        y_pred_4_classification = svm.predict(X_tfidf)\n",
    "    report = classification_report(y_test, y_pred_classification, output_dict=True)\n",
    "    report_1 = classification_report(y_1, y_pred_1_classification, output_dict=True)\n",
    "    report_2 = classification_report(y_2, y_pred_2_classification, output_dict=True)\n",
    "    report_3 = classification_report(y_3, y_pred_3_classification, output_dict=True)\n",
    "    report_4 = classification_report(y, y_pred_4_classification, output_dict=True)\n",
    "    miss_classified_rows_0 = get_missclassified_rows(X, y, y_pred_4_classification, only_this_class=[0], return_index=True)\n",
    "    miss_classified_rows_1 = get_missclassified_rows(X, y, y_pred_4_classification, only_this_class=[1], return_index=True)\n",
    "    #aggregate_reports([report, report_1, report_2, report_3, report_4])\n",
    "    print('Number of missclassifications in class 0: ', report_4['0']['support'] - round(report_4['0']['recall'] * report_4['0']['support']), 'out of a total sample of: ', report_4['0']['support'], ' - about ', round((1 - report_4['0']['recall']) * 100, 2), '% of the class was missclassified')\n",
    "    print('Number of missclassifications in class 1: ', report_4['1']['support'] - round(report_4['1']['recall'] * report_4['1']['support']), 'out of a total sample of: ', report_4['1']['support'], ' - about ', round((1 - report_4['1']['recall']) * 100, 2), '% of the class was missclassified')\n",
    "    return svm, vectorizer, miss_classified_rows_0, miss_classified_rows_1"
   ]
  },
  {
   "cell_type": "markdown",
   "metadata": {},
   "source": [
    "# NER testing out fine tuned tiny BERT (doesn't have license attached to it) - pretrained on conll2003"
   ]
  },
  {
   "cell_type": "code",
   "execution_count": 8,
   "metadata": {},
   "outputs": [],
   "source": [
    "# Import libraries\n",
    "import torch\n",
    "import transformers\n",
    "import pandas as pd\n",
    "from sklearn.metrics import f1_score\n",
    "from IPython.display import HTML, display"
   ]
  },
  {
   "cell_type": "code",
   "execution_count": 68,
   "metadata": {},
   "outputs": [],
   "source": [
    "def merge_split_symbols(tokens):\n",
    "  merged_tokens = []\n",
    "  for token in tokens:\n",
    "    if token.startswith(\"##\"):\n",
    "      merged_tokens[-1] += token[2:]\n",
    "    else:\n",
    "      merged_tokens.append(token)\n",
    "  return merged_tokens\n"
   ]
  },
  {
   "cell_type": "code",
   "execution_count": 108,
   "metadata": {},
   "outputs": [],
   "source": [
    "from transformers import AutoTokenizer, AutoModelForTokenClassification\n",
    "from transformers import pipeline\n",
    "tokenizer = AutoTokenizer.from_pretrained(\"gagan3012/bert-tiny-finetuned-ner\")\n",
    "model = AutoModelForTokenClassification.from_pretrained(\"gagan3012/bert-tiny-finetuned-ner\")\n",
    "nlp = pipeline(\"ner\", model=model, tokenizer=tokenizer)\n",
    "processed_X = preprocess_function(X, replace_dates=True, remove_numbers=True)"
   ]
  },
  {
   "cell_type": "code",
   "execution_count": 109,
   "metadata": {},
   "outputs": [],
   "source": [
    "def merge_entities(entities):\n",
    "    merged_entities = []\n",
    "    current_entity = None\n",
    "    current_label = None\n",
    "    for entity in entities:\n",
    "        word = entity[\"word\"]\n",
    "        label = entity[\"entity\"]\n",
    "        if word.startswith(\"##\"):\n",
    "            current_entity += word[2:]\n",
    "        else:\n",
    "            if current_entity is not None:\n",
    "                merged_entities.append({\"word\": current_entity, \"entity\": current_label})\n",
    "            current_entity = word\n",
    "            current_label = label\n",
    "    if current_entity is not None:\n",
    "        merged_entities.append({\"word\": current_entity, \"entity\": current_label})\n",
    "    for entity in merged_entities:\n",
    "        entity_label = entity[\"entity\"]\n",
    "        if entity_label != \"LABEL_0\":\n",
    "            for other_entity in merged_entities:\n",
    "                if other_entity[\"word\"] == entity[\"word\"] and other_entity[\"entity\"] != \"LABEL_0\" and other_entity[\"entity\"] != entity_label:\n",
    "                    entity[\"entity\"] = other_entity[\"entity\"]\n",
    "                    break\n",
    "    return merged_entities"
   ]
  },
  {
   "cell_type": "code",
   "execution_count": 110,
   "metadata": {},
   "outputs": [
    {
     "name": "stderr",
     "output_type": "stream",
     "text": [
      "  0%|          | 0/21770 [00:00<?, ?it/s]Asking to truncate to max_length but no maximum length is provided and the model has no predefined maximum length. Default to no truncation.\n",
      "100%|██████████| 21770/21770 [01:00<00:00, 361.82it/s]\n",
      "100%|██████████| 21770/21770 [00:00<00:00, 62356.12it/s]\n"
     ]
    }
   ],
   "source": [
    "entities = [nlp(sentence) for sentence in tqdm(processed_X)]\n",
    "merged_entities = [merge_entities(entity) for entity in tqdm(entities)]"
   ]
  },
  {
   "cell_type": "code",
   "execution_count": 111,
   "metadata": {},
   "outputs": [],
   "source": [
    "label_colors = {\n",
    "    'LABEL_0': 'white', # Other\n",
    "    'LABEL_1': 'red', # B-PER\n",
    "    'LABEL_2': 'green', # I-PER\n",
    "    'LABEL_3': 'blue', # B-ORG\n",
    "    'LABEL_4': 'orange', # I-ORG\n",
    "    'LABEL_5': 'purple', # B-LOC\n",
    "    'LABEL_6': 'brown', # I-LOC\n",
    "    'LABEL_7': 'pink', # B-MISC\n",
    "    'LABEL_8': 'gray', # I-MISC\n",
    "}\n",
    "def get_colored_text_from_entity(entity_list, label_colors):\n",
    "    colored_text = ''\n",
    "    for entity in entity_list:\n",
    "        word = entity[\"word\"]\n",
    "        entity_label = entity[\"entity\"]\n",
    "        label_color = label_colors.get(entity_label, \"white\")\n",
    "        colored_word = f'<font color=\"{label_color}\">{word}</font>'\n",
    "        colored_text += colored_word + \" \"\n",
    "    return colored_text\n",
    "\n",
    "def display_colored_text(colored_texts):\n",
    "    for colored_text in colored_texts:\n",
    "        display(HTML(colored_text))"
   ]
  },
  {
   "cell_type": "code",
   "execution_count": 112,
   "metadata": {},
   "outputs": [
    {
     "name": "stderr",
     "output_type": "stream",
     "text": [
      "100%|██████████| 21770/21770 [00:00<00:00, 121337.51it/s]\n"
     ]
    }
   ],
   "source": [
    "colored_texts = [get_colored_text_from_entity(entity, label_colors) for entity in tqdm(merged_entities)]"
   ]
  },
  {
   "cell_type": "code",
   "execution_count": 120,
   "metadata": {},
   "outputs": [
    {
     "data": {
      "text/html": [
       "<font color=\"white\">copyright</font> <font color=\"white\">(</font> <font color=\"white\">c</font> <font color=\"white\">)</font> <font color=\"white\">date</font> <font color=\"white\">,</font> <font color=\"white\">date</font> <font color=\"blue\">hewlett</font> <font color=\"blue\">-</font> <font color=\"blue\">packard</font> <font color=\"orange\">development</font> <font color=\"orange\">company</font> <font color=\"white\">,</font> <font color=\"blue\">l</font> <font color=\"blue\">.</font> <font color=\"blue\">p</font> <font color=\"blue\">.</font> "
      ],
      "text/plain": [
       "<IPython.core.display.HTML object>"
      ]
     },
     "metadata": {},
     "output_type": "display_data"
    },
    {
     "data": {
      "text/html": [
       "<font color=\"white\">copyright</font> <font color=\"white\">(</font> <font color=\"white\">c</font> <font color=\"white\">)</font> <font color=\"white\">date</font> <font color=\"white\">-</font> <font color=\"white\">date</font> <font color=\"blue\">hewlett</font> <font color=\"blue\">-</font> <font color=\"blue\">packard</font> <font color=\"orange\">development</font> <font color=\"orange\">company</font> <font color=\"white\">,</font> <font color=\"blue\">l</font> <font color=\"blue\">.</font> <font color=\"blue\">p</font> <font color=\"blue\">.</font> "
      ],
      "text/plain": [
       "<IPython.core.display.HTML object>"
      ]
     },
     "metadata": {},
     "output_type": "display_data"
    },
    {
     "data": {
      "text/html": [
       "<font color=\"white\">copyright</font> <font color=\"white\">(</font> <font color=\"white\">c</font> <font color=\"white\">)</font> <font color=\"white\">date</font> <font color=\"white\">-</font> <font color=\"white\">date</font> <font color=\"blue\">hewlett</font> <font color=\"blue\">-</font> <font color=\"blue\">packard</font> <font color=\"orange\">development</font> <font color=\"orange\">company</font> <font color=\"white\">,</font> <font color=\"blue\">l</font> <font color=\"blue\">.</font> <font color=\"blue\">p</font> <font color=\"blue\">.</font> "
      ],
      "text/plain": [
       "<IPython.core.display.HTML object>"
      ]
     },
     "metadata": {},
     "output_type": "display_data"
    },
    {
     "data": {
      "text/html": [
       "<font color=\"white\">copyright</font> <font color=\"white\">(</font> <font color=\"white\">c</font> <font color=\"white\">)</font> <font color=\"white\">date</font> <font color=\"white\">-</font> <font color=\"white\">date</font> <font color=\"blue\">hewlett</font> <font color=\"blue\">-</font> <font color=\"blue\">packard</font> <font color=\"orange\">development</font> <font color=\"orange\">company</font> <font color=\"white\">,</font> <font color=\"blue\">l</font> <font color=\"blue\">.</font> <font color=\"blue\">p</font> <font color=\"blue\">.</font> "
      ],
      "text/plain": [
       "<IPython.core.display.HTML object>"
      ]
     },
     "metadata": {},
     "output_type": "display_data"
    },
    {
     "data": {
      "text/html": [
       "<font color=\"white\">copyright</font> <font color=\"white\">(</font> <font color=\"white\">c</font> <font color=\"white\">)</font> <font color=\"white\">date</font> <font color=\"white\">-</font> <font color=\"white\">date</font> <font color=\"blue\">hewlett</font> <font color=\"blue\">-</font> <font color=\"blue\">packard</font> <font color=\"orange\">development</font> <font color=\"orange\">company</font> <font color=\"white\">,</font> <font color=\"blue\">l</font> <font color=\"blue\">.</font> <font color=\"blue\">p</font> <font color=\"blue\">.</font> "
      ],
      "text/plain": [
       "<IPython.core.display.HTML object>"
      ]
     },
     "metadata": {},
     "output_type": "display_data"
    },
    {
     "data": {
      "text/html": [
       "<font color=\"white\">copyright</font> <font color=\"white\">(</font> <font color=\"white\">c</font> <font color=\"white\">)</font> <font color=\"white\">date</font> <font color=\"white\">-</font> <font color=\"white\">date</font> <font color=\"blue\">hewlett</font> <font color=\"blue\">-</font> <font color=\"blue\">packard</font> <font color=\"orange\">development</font> <font color=\"orange\">company</font> <font color=\"white\">,</font> <font color=\"blue\">l</font> <font color=\"blue\">.</font> <font color=\"blue\">p</font> <font color=\"blue\">.</font> "
      ],
      "text/plain": [
       "<IPython.core.display.HTML object>"
      ]
     },
     "metadata": {},
     "output_type": "display_data"
    },
    {
     "data": {
      "text/html": [
       "<font color=\"white\">copyright</font> <font color=\"white\">(</font> <font color=\"white\">c</font> <font color=\"white\">)</font> <font color=\"white\">date</font> <font color=\"white\">-</font> <font color=\"white\">date</font> <font color=\"white\">,</font> <font color=\"blue\">date</font> <font color=\"blue\">siemens</font> <font color=\"orange\">ag</font> "
      ],
      "text/plain": [
       "<IPython.core.display.HTML object>"
      ]
     },
     "metadata": {},
     "output_type": "display_data"
    },
    {
     "data": {
      "text/html": [
       "<font color=\"white\">copyright</font> <font color=\"white\">(</font> <font color=\"white\">c</font> <font color=\"white\">)</font> <font color=\"white\">date</font> <font color=\"white\">~</font> <font color=\"white\">date</font> <font color=\"blue\">hewlett</font> <font color=\"blue\">-</font> <font color=\"blue\">packard</font> <font color=\"orange\">development</font> <font color=\"orange\">company</font> <font color=\"white\">,</font> <font color=\"blue\">l</font> <font color=\"blue\">.</font> <font color=\"blue\">p</font> <font color=\"blue\">.</font> "
      ],
      "text/plain": [
       "<IPython.core.display.HTML object>"
      ]
     },
     "metadata": {},
     "output_type": "display_data"
    },
    {
     "data": {
      "text/html": [
       "<font color=\"white\">copyright</font> <font color=\"white\">(</font> <font color=\"white\">c</font> <font color=\"white\">)</font> <font color=\"white\">date</font> <font color=\"blue\">hewlett</font> <font color=\"orange\">-</font> <font color=\"orange\">packard</font> <font color=\"orange\">development</font> <font color=\"orange\">company</font> <font color=\"white\">,</font> <font color=\"blue\">l</font> <font color=\"blue\">.</font> <font color=\"blue\">p</font> <font color=\"blue\">.</font> "
      ],
      "text/plain": [
       "<IPython.core.display.HTML object>"
      ]
     },
     "metadata": {},
     "output_type": "display_data"
    },
    {
     "data": {
      "text/html": [
       "<font color=\"white\">copyright</font> <font color=\"white\">(</font> <font color=\"white\">c</font> <font color=\"white\">)</font> <font color=\"white\">date</font> <font color=\"white\">-</font> <font color=\"white\">date</font> <font color=\"blue\">hewlett</font> <font color=\"blue\">-</font> <font color=\"blue\">packard</font> <font color=\"orange\">development</font> <font color=\"orange\">company</font> <font color=\"white\">,</font> <font color=\"blue\">l</font> <font color=\"blue\">.</font> <font color=\"blue\">p</font> <font color=\"blue\">.</font> "
      ],
      "text/plain": [
       "<IPython.core.display.HTML object>"
      ]
     },
     "metadata": {},
     "output_type": "display_data"
    },
    {
     "data": {
      "text/html": [
       "<font color=\"white\">copyright</font> <font color=\"white\">(</font> <font color=\"white\">c</font> <font color=\"white\">)</font> <font color=\"white\">date</font> <font color=\"white\">-</font> <font color=\"white\">date</font> <font color=\"blue\">hewlett</font> <font color=\"blue\">-</font> <font color=\"blue\">packard</font> <font color=\"orange\">development</font> <font color=\"orange\">company</font> <font color=\"white\">,</font> <font color=\"blue\">l</font> <font color=\"blue\">.</font> <font color=\"blue\">p</font> <font color=\"blue\">.</font> "
      ],
      "text/plain": [
       "<IPython.core.display.HTML object>"
      ]
     },
     "metadata": {},
     "output_type": "display_data"
    },
    {
     "data": {
      "text/html": [
       "<font color=\"white\">copyright</font> <font color=\"white\">(</font> <font color=\"white\">c</font> <font color=\"white\">)</font> <font color=\"white\">date</font> <font color=\"white\">-</font> <font color=\"white\">date</font> <font color=\"blue\">siemens</font> <font color=\"orange\">ag</font> "
      ],
      "text/plain": [
       "<IPython.core.display.HTML object>"
      ]
     },
     "metadata": {},
     "output_type": "display_data"
    },
    {
     "data": {
      "text/html": [
       "<font color=\"white\">copyright</font> <font color=\"white\">(</font> <font color=\"white\">c</font> <font color=\"white\">)</font> <font color=\"white\">date</font> <font color=\"white\">,</font> <font color=\"white\">date</font> <font color=\"blue\">siemens</font> <font color=\"orange\">ag</font> "
      ],
      "text/plain": [
       "<IPython.core.display.HTML object>"
      ]
     },
     "metadata": {},
     "output_type": "display_data"
    },
    {
     "data": {
      "text/html": [
       "<font color=\"white\">copyright</font> <font color=\"white\">(</font> <font color=\"white\">c</font> <font color=\"white\">)</font> <font color=\"white\">date</font> <font color=\"blue\">hewlett</font> <font color=\"orange\">-</font> <font color=\"orange\">packard</font> <font color=\"orange\">development</font> <font color=\"orange\">company</font> <font color=\"white\">,</font> <font color=\"blue\">l</font> <font color=\"blue\">.</font> <font color=\"blue\">p</font> <font color=\"blue\">.</font> "
      ],
      "text/plain": [
       "<IPython.core.display.HTML object>"
      ]
     },
     "metadata": {},
     "output_type": "display_data"
    },
    {
     "data": {
      "text/html": [
       "<font color=\"white\">copyright</font> <font color=\"white\">(</font> <font color=\"white\">c</font> <font color=\"white\">)</font> <font color=\"white\">date</font> <font color=\"white\">siemens</font> <font color=\"white\">ag</font> <font color=\"white\">author</font> <font color=\"white\">:</font> <font color=\"red\">daniele</font> <font color=\"green\">fognini</font> "
      ],
      "text/plain": [
       "<IPython.core.display.HTML object>"
      ]
     },
     "metadata": {},
     "output_type": "display_data"
    },
    {
     "data": {
      "text/html": [
       "<font color=\"white\">copyright</font> <font color=\"white\">(</font> <font color=\"white\">c</font> <font color=\"white\">)</font> <font color=\"white\">date</font> <font color=\"white\">siemens</font> <font color=\"white\">ag</font> <font color=\"white\">author</font> <font color=\"white\">:</font> <font color=\"red\">daniele</font> <font color=\"green\">fognini</font> <font color=\"white\">,</font> <font color=\"red\">cedric</font> <font color=\"green\">bodet</font> <font color=\"white\">,</font> <font color=\"red\">johannes</font> <font color=\"green\">najjar</font> "
      ],
      "text/plain": [
       "<IPython.core.display.HTML object>"
      ]
     },
     "metadata": {},
     "output_type": "display_data"
    },
    {
     "data": {
      "text/html": [
       "<font color=\"white\">copyright</font> <font color=\"white\">(</font> <font color=\"white\">c</font> <font color=\"white\">)</font> <font color=\"white\">date</font> <font color=\"white\">,</font> <font color=\"white\">date</font> <font color=\"white\">-</font> <font color=\"white\">date</font> <font color=\"white\">,</font> <font color=\"blue\">siemens</font> <font color=\"orange\">ag</font> "
      ],
      "text/plain": [
       "<IPython.core.display.HTML object>"
      ]
     },
     "metadata": {},
     "output_type": "display_data"
    },
    {
     "data": {
      "text/html": [
       "<font color=\"white\">copyright</font> <font color=\"white\">(</font> <font color=\"white\">c</font> <font color=\"white\">)</font> <font color=\"white\">date</font> <font color=\"white\">siemens</font> <font color=\"white\">ag</font> <font color=\"white\">author</font> <font color=\"white\">:</font> <font color=\"red\">daniele</font> <font color=\"green\">fognini</font> <font color=\"white\">,</font> <font color=\"red\">johannes</font> <font color=\"green\">najjar</font> "
      ],
      "text/plain": [
       "<IPython.core.display.HTML object>"
      ]
     },
     "metadata": {},
     "output_type": "display_data"
    },
    {
     "data": {
      "text/html": [
       "<font color=\"white\">copyright</font> <font color=\"white\">(</font> <font color=\"white\">c</font> <font color=\"white\">)</font> <font color=\"white\">date</font> <font color=\"white\">siemens</font> <font color=\"white\">ag</font> <font color=\"white\">author</font> <font color=\"white\">:</font> <font color=\"red\">j</font> <font color=\"red\">.</font> <font color=\"green\">najjar</font> "
      ],
      "text/plain": [
       "<IPython.core.display.HTML object>"
      ]
     },
     "metadata": {},
     "output_type": "display_data"
    },
    {
     "data": {
      "text/html": [
       "<font color=\"white\">copyright</font> <font color=\"white\">(</font> <font color=\"white\">c</font> <font color=\"white\">)</font> <font color=\"white\">date</font> <font color=\"white\">siemens</font> <font color=\"white\">ag</font> <font color=\"white\">author</font> <font color=\"white\">:</font> <font color=\"red\">johannes</font> <font color=\"green\">najjar</font> "
      ],
      "text/plain": [
       "<IPython.core.display.HTML object>"
      ]
     },
     "metadata": {},
     "output_type": "display_data"
    },
    {
     "data": {
      "text/html": [
       "<font color=\"white\">copyright</font> <font color=\"white\">(</font> <font color=\"white\">c</font> <font color=\"white\">)</font> <font color=\"white\">date</font> <font color=\"white\">siemens</font> <font color=\"white\">ag</font> <font color=\"white\">author</font> <font color=\"white\">:</font> <font color=\"red\">johannes</font> <font color=\"green\">najjar</font> <font color=\"white\">,</font> <font color=\"red\">daniele</font> <font color=\"green\">fognini</font> "
      ],
      "text/plain": [
       "<IPython.core.display.HTML object>"
      ]
     },
     "metadata": {},
     "output_type": "display_data"
    },
    {
     "data": {
      "text/html": [
       "<font color=\"white\">copyright</font> <font color=\"white\">(</font> <font color=\"white\">c</font> <font color=\"white\">)</font> <font color=\"white\">date</font> <font color=\"white\">,</font> <font color=\"white\">date</font> <font color=\"blue\">siemens</font> <font color=\"orange\">ag</font> "
      ],
      "text/plain": [
       "<IPython.core.display.HTML object>"
      ]
     },
     "metadata": {},
     "output_type": "display_data"
    },
    {
     "data": {
      "text/html": [
       "<font color=\"white\">copyright</font> <font color=\"white\">(</font> <font color=\"white\">c</font> <font color=\"white\">)</font> <font color=\"white\">date</font> <font color=\"blue\">siemens</font> <font color=\"orange\">ag</font> <font color=\"white\">author</font> <font color=\"white\">:</font> <font color=\"red\">steffen</font> <font color=\"green\">weber</font> "
      ],
      "text/plain": [
       "<IPython.core.display.HTML object>"
      ]
     },
     "metadata": {},
     "output_type": "display_data"
    },
    {
     "data": {
      "text/html": [
       "<font color=\"white\">copyright</font> <font color=\"white\">(</font> <font color=\"white\">c</font> <font color=\"white\">)</font> <font color=\"white\">date</font> <font color=\"white\">,</font> <font color=\"white\">date</font> <font color=\"blue\">siemens</font> <font color=\"orange\">ag</font> <font color=\"white\">authors</font> <font color=\"white\">:</font> <font color=\"red\">andreas</font> <font color=\"green\">wurl</font> <font color=\"white\">,</font> <font color=\"red\">daniele</font> <font color=\"green\">fognini</font> "
      ],
      "text/plain": [
       "<IPython.core.display.HTML object>"
      ]
     },
     "metadata": {},
     "output_type": "display_data"
    },
    {
     "data": {
      "text/html": [
       "<font color=\"white\">copyright</font> <font color=\"white\">(</font> <font color=\"white\">c</font> <font color=\"white\">)</font> <font color=\"white\">date</font> <font color=\"blue\">siemens</font> <font color=\"orange\">ag</font> <font color=\"white\">authors</font> <font color=\"white\">:</font> <font color=\"red\">andreas</font> <font color=\"green\">wurl</font> <font color=\"white\">,</font> <font color=\"red\">steffen</font> <font color=\"green\">weber</font> "
      ],
      "text/plain": [
       "<IPython.core.display.HTML object>"
      ]
     },
     "metadata": {},
     "output_type": "display_data"
    },
    {
     "data": {
      "text/html": [
       "<font color=\"white\">copyright</font> <font color=\"white\">(</font> <font color=\"white\">c</font> <font color=\"white\">)</font> <font color=\"white\">date</font> <font color=\"blue\">siemens</font> <font color=\"orange\">ag</font> <font color=\"white\">authors</font> <font color=\"white\">:</font> <font color=\"red\">daniele</font> <font color=\"green\">fognini</font> <font color=\"white\">,</font> <font color=\"red\">steffen</font> <font color=\"green\">weber</font> <font color=\"white\">,</font> <font color=\"red\">andreas</font> <font color=\"green\">wurl</font> "
      ],
      "text/plain": [
       "<IPython.core.display.HTML object>"
      ]
     },
     "metadata": {},
     "output_type": "display_data"
    },
    {
     "data": {
      "text/html": [
       "<font color=\"white\">copyright</font> <font color=\"white\">(</font> <font color=\"white\">c</font> <font color=\"white\">)</font> <font color=\"white\">date</font> <font color=\"white\">siemens</font> <font color=\"orange\">ag</font> <font color=\"white\">authors</font> <font color=\"white\">:</font> <font color=\"red\">johannes</font> <font color=\"green\">najjar</font> <font color=\"white\">,</font> <font color=\"red\">andreas</font> <font color=\"green\">wurl</font> "
      ],
      "text/plain": [
       "<IPython.core.display.HTML object>"
      ]
     },
     "metadata": {},
     "output_type": "display_data"
    },
    {
     "data": {
      "text/html": [
       "<font color=\"white\">copyright</font> <font color=\"white\">(</font> <font color=\"white\">c</font> <font color=\"white\">)</font> <font color=\"white\">date</font> <font color=\"blue\">siemens</font> <font color=\"orange\">ag</font> <font color=\"white\">authors</font> <font color=\"white\">:</font> <font color=\"red\">steffen</font> <font color=\"green\">weber</font> <font color=\"white\">,</font> <font color=\"red\">andreas</font> <font color=\"green\">wurl</font> "
      ],
      "text/plain": [
       "<IPython.core.display.HTML object>"
      ]
     },
     "metadata": {},
     "output_type": "display_data"
    },
    {
     "data": {
      "text/html": [
       "<font color=\"white\">copyright</font> <font color=\"white\">(</font> <font color=\"white\">c</font> <font color=\"white\">)</font> <font color=\"white\">date</font> <font color=\"white\">,</font> <font color=\"white\">date</font> <font color=\"blue\">siemens</font> <font color=\"orange\">ag</font> <font color=\"white\">author</font> <font color=\"white\">:</font> <font color=\"red\">daniele</font> <font color=\"green\">fognini</font> <font color=\"white\">,</font> <font color=\"red\">anupam</font> <font color=\"white\">.</font> <font color=\"green\">ghosh</font> <font color=\"white\">@</font> <font color=\"blue\">siemens</font> <font color=\"white\">.</font> <font color=\"white\">com</font> "
      ],
      "text/plain": [
       "<IPython.core.display.HTML object>"
      ]
     },
     "metadata": {},
     "output_type": "display_data"
    },
    {
     "data": {
      "text/html": [
       "<font color=\"white\">copyright</font> <font color=\"white\">(</font> <font color=\"white\">c</font> <font color=\"white\">)</font> <font color=\"white\">date</font> <font color=\"white\">,</font> <font color=\"white\">date</font> <font color=\"blue\">siemens</font> <font color=\"orange\">ag</font> "
      ],
      "text/plain": [
       "<IPython.core.display.HTML object>"
      ]
     },
     "metadata": {},
     "output_type": "display_data"
    },
    {
     "data": {
      "text/html": [
       "<font color=\"white\">copyright</font> <font color=\"white\">(</font> <font color=\"white\">c</font> <font color=\"white\">)</font> <font color=\"white\">date</font> <font color=\"white\">-</font> <font color=\"white\">date</font> <font color=\"blue\">siemens</font> <font color=\"orange\">ag</font> <font color=\"white\">author</font> <font color=\"white\">:</font> <font color=\"red\">daniele</font> <font color=\"green\">fognini</font> <font color=\"white\">,</font> <font color=\"red\">johannes</font> <font color=\"green\">najjar</font> "
      ],
      "text/plain": [
       "<IPython.core.display.HTML object>"
      ]
     },
     "metadata": {},
     "output_type": "display_data"
    },
    {
     "data": {
      "text/html": [
       "<font color=\"white\">copyright</font> <font color=\"white\">(</font> <font color=\"white\">c</font> <font color=\"white\">)</font> <font color=\"white\">date</font> <font color=\"white\">siemens</font> <font color=\"white\">ag</font> <font color=\"white\">author</font> <font color=\"white\">:</font> <font color=\"red\">d</font> <font color=\"red\">.</font> <font color=\"green\">fognini</font> <font color=\"white\">,</font> <font color=\"red\">s</font> <font color=\"red\">.</font> <font color=\"green\">weber</font> <font color=\"white\">,</font> <font color=\"purple\">j</font> <font color=\"red\">.</font> <font color=\"green\">najjar</font> "
      ],
      "text/plain": [
       "<IPython.core.display.HTML object>"
      ]
     },
     "metadata": {},
     "output_type": "display_data"
    },
    {
     "data": {
      "text/html": [
       "<font color=\"white\">copyright</font> <font color=\"white\">(</font> <font color=\"white\">c</font> <font color=\"white\">)</font> <font color=\"white\">date</font> <font color=\"white\">-</font> <font color=\"white\">date</font> <font color=\"blue\">hewlett</font> <font color=\"blue\">-</font> <font color=\"blue\">packard</font> <font color=\"orange\">development</font> <font color=\"white\">company</font> <font color=\"white\">,</font> <font color=\"blue\">l</font> <font color=\"blue\">.</font> <font color=\"blue\">p</font> <font color=\"blue\">.</font> <font color=\"white\">date</font> <font color=\"white\">-</font> <font color=\"white\">date</font> <font color=\"white\">,</font> <font color=\"white\">date</font> <font color=\"white\">,</font> <font color=\"blue\">siemens</font> <font color=\"orange\">ag</font> "
      ],
      "text/plain": [
       "<IPython.core.display.HTML object>"
      ]
     },
     "metadata": {},
     "output_type": "display_data"
    },
    {
     "data": {
      "text/html": [
       "<font color=\"white\">copyright</font> <font color=\"white\">(</font> <font color=\"white\">c</font> <font color=\"white\">)</font> <font color=\"white\">date</font> <font color=\"white\">-</font> <font color=\"white\">date</font> <font color=\"blue\">siemens</font> <font color=\"orange\">ag</font> "
      ],
      "text/plain": [
       "<IPython.core.display.HTML object>"
      ]
     },
     "metadata": {},
     "output_type": "display_data"
    },
    {
     "data": {
      "text/html": [
       "<font color=\"white\">copyright</font> <font color=\"white\">(</font> <font color=\"white\">c</font> <font color=\"white\">)</font> <font color=\"white\">date</font> <font color=\"white\">-</font> <font color=\"white\">date</font> <font color=\"blue\">siemens</font> <font color=\"orange\">ag</font> <font color=\"white\">author</font> <font color=\"white\">:</font> <font color=\"red\">andreas</font> <font color=\"green\">wurl</font> "
      ],
      "text/plain": [
       "<IPython.core.display.HTML object>"
      ]
     },
     "metadata": {},
     "output_type": "display_data"
    },
    {
     "data": {
      "text/html": [
       "<font color=\"white\">copyright</font> <font color=\"white\">(</font> <font color=\"white\">c</font> <font color=\"white\">)</font> <font color=\"white\">date</font> <font color=\"blue\">siemens</font> <font color=\"orange\">ag</font> "
      ],
      "text/plain": [
       "<IPython.core.display.HTML object>"
      ]
     },
     "metadata": {},
     "output_type": "display_data"
    },
    {
     "data": {
      "text/html": [
       "<font color=\"white\">copyright</font> <font color=\"white\">(</font> <font color=\"white\">c</font> <font color=\"white\">)</font> <font color=\"white\">date</font> <font color=\"white\">siemens</font> <font color=\"white\">ag</font> <font color=\"white\">author</font> <font color=\"white\">:</font> <font color=\"red\">andreas</font> <font color=\"green\">wurl</font> "
      ],
      "text/plain": [
       "<IPython.core.display.HTML object>"
      ]
     },
     "metadata": {},
     "output_type": "display_data"
    },
    {
     "data": {
      "text/html": [
       "<font color=\"white\">copyright</font> <font color=\"white\">(</font> <font color=\"white\">c</font> <font color=\"white\">)</font> <font color=\"white\">date</font> <font color=\"white\">-</font> <font color=\"white\">date</font> <font color=\"blue\">siemens</font> <font color=\"orange\">ag</font> <font color=\"white\">author</font> <font color=\"white\">:</font> <font color=\"red\">andreas</font> <font color=\"green\">wurl</font> "
      ],
      "text/plain": [
       "<IPython.core.display.HTML object>"
      ]
     },
     "metadata": {},
     "output_type": "display_data"
    },
    {
     "data": {
      "text/html": [
       "<font color=\"white\">copyright</font> <font color=\"white\">(</font> <font color=\"white\">c</font> <font color=\"white\">)</font> <font color=\"white\">date</font> <font color=\"white\">siemens</font> <font color=\"white\">ag</font> <font color=\"white\">author</font> <font color=\"white\">:</font> <font color=\"red\">andreas</font> <font color=\"green\">wurl</font> <font color=\"white\">,</font> <font color=\"red\">steffen</font> <font color=\"green\">weber</font> "
      ],
      "text/plain": [
       "<IPython.core.display.HTML object>"
      ]
     },
     "metadata": {},
     "output_type": "display_data"
    },
    {
     "data": {
      "text/html": [
       "<font color=\"white\">copyright</font> <font color=\"white\">(</font> <font color=\"white\">c</font> <font color=\"white\">)</font> <font color=\"white\">date</font> <font color=\"white\">-</font> <font color=\"white\">date</font> <font color=\"blue\">siemens</font> <font color=\"orange\">ag</font> "
      ],
      "text/plain": [
       "<IPython.core.display.HTML object>"
      ]
     },
     "metadata": {},
     "output_type": "display_data"
    },
    {
     "data": {
      "text/html": [
       "<font color=\"white\">copyright</font> <font color=\"white\">(</font> <font color=\"white\">c</font> <font color=\"white\">)</font> <font color=\"white\">date</font> <font color=\"white\">-</font> <font color=\"white\">date</font> <font color=\"white\">,</font> <font color=\"blue\">date</font> <font color=\"blue\">siemens</font> <font color=\"orange\">ag</font> "
      ],
      "text/plain": [
       "<IPython.core.display.HTML object>"
      ]
     },
     "metadata": {},
     "output_type": "display_data"
    },
    {
     "data": {
      "text/html": [
       "<font color=\"white\">copyright</font> <font color=\"white\">(</font> <font color=\"white\">c</font> <font color=\"white\">)</font> <font color=\"white\">date</font> <font color=\"white\">-</font> <font color=\"white\">date</font> <font color=\"white\">,</font> <font color=\"white\">date</font> <font color=\"blue\">siemens</font> <font color=\"orange\">ag</font> <font color=\"white\">author</font> <font color=\"white\">:</font> <font color=\"red\">steffen</font> <font color=\"green\">weber</font> "
      ],
      "text/plain": [
       "<IPython.core.display.HTML object>"
      ]
     },
     "metadata": {},
     "output_type": "display_data"
    },
    {
     "data": {
      "text/html": [
       "<font color=\"white\">copyright</font> <font color=\"white\">(</font> <font color=\"white\">c</font> <font color=\"white\">)</font> <font color=\"white\">date</font> <font color=\"white\">-</font> <font color=\"white\">date</font> <font color=\"white\">,</font> <font color=\"blue\">date</font> <font color=\"blue\">siemens</font> <font color=\"orange\">ag</font> "
      ],
      "text/plain": [
       "<IPython.core.display.HTML object>"
      ]
     },
     "metadata": {},
     "output_type": "display_data"
    },
    {
     "data": {
      "text/html": [
       "<font color=\"white\">copyright</font> <font color=\"white\">(</font> <font color=\"white\">c</font> <font color=\"white\">)</font> <font color=\"white\">date</font> <font color=\"white\">-</font> <font color=\"white\">date</font> <font color=\"white\">,</font> <font color=\"white\">date</font> <font color=\"white\">,</font> <font color=\"blue\">siemens</font> <font color=\"orange\">ag</font> "
      ],
      "text/plain": [
       "<IPython.core.display.HTML object>"
      ]
     },
     "metadata": {},
     "output_type": "display_data"
    },
    {
     "data": {
      "text/html": [
       "<font color=\"white\">copyright</font> <font color=\"white\">(</font> <font color=\"white\">c</font> <font color=\"white\">)</font> <font color=\"white\">date</font> <font color=\"white\">-</font> <font color=\"white\">date</font> <font color=\"blue\">siemens</font> <font color=\"orange\">ag</font> <font color=\"white\">authors</font> <font color=\"white\">:</font> <font color=\"red\">andreas</font> <font color=\"green\">wurl</font> <font color=\"white\">,</font> <font color=\"red\">steffen</font> <font color=\"green\">weber</font> "
      ],
      "text/plain": [
       "<IPython.core.display.HTML object>"
      ]
     },
     "metadata": {},
     "output_type": "display_data"
    },
    {
     "data": {
      "text/html": [
       "<font color=\"white\">copyright</font> <font color=\"white\">(</font> <font color=\"white\">c</font> <font color=\"white\">)</font> <font color=\"white\">date</font> <font color=\"white\">-</font> <font color=\"white\">date</font> <font color=\"blue\">siemens</font> <font color=\"orange\">ag</font> <font color=\"white\">author</font> <font color=\"white\">:</font> <font color=\"red\">steffen</font> <font color=\"green\">weber</font> <font color=\"white\">,</font> <font color=\"red\">johannes</font> <font color=\"green\">najjar</font> "
      ],
      "text/plain": [
       "<IPython.core.display.HTML object>"
      ]
     },
     "metadata": {},
     "output_type": "display_data"
    },
    {
     "data": {
      "text/html": [
       "<font color=\"white\">copyright</font> <font color=\"white\">(</font> <font color=\"white\">c</font> <font color=\"white\">)</font> <font color=\"white\">date</font> <font color=\"white\">-</font> <font color=\"white\">date</font> <font color=\"blue\">siemens</font> <font color=\"orange\">ag</font> <font color=\"white\">author</font> <font color=\"white\">:</font> <font color=\"red\">steffen</font> <font color=\"green\">weber</font> "
      ],
      "text/plain": [
       "<IPython.core.display.HTML object>"
      ]
     },
     "metadata": {},
     "output_type": "display_data"
    },
    {
     "data": {
      "text/html": [
       "<font color=\"white\">copyright</font> <font color=\"white\">(</font> <font color=\"white\">c</font> <font color=\"white\">)</font> <font color=\"white\">date</font> <font color=\"white\">-</font> <font color=\"white\">date</font> <font color=\"blue\">siemens</font> <font color=\"orange\">ag</font> <font color=\"white\">author</font> <font color=\"white\">:</font> <font color=\"red\">johannes</font> <font color=\"green\">najjar</font> <font color=\"white\">,</font> <font color=\"red\">daniele</font> <font color=\"green\">fognini</font> "
      ],
      "text/plain": [
       "<IPython.core.display.HTML object>"
      ]
     },
     "metadata": {},
     "output_type": "display_data"
    },
    {
     "data": {
      "text/html": [
       "<font color=\"white\">copyright</font> <font color=\"white\">(</font> <font color=\"white\">c</font> <font color=\"white\">)</font> <font color=\"white\">date</font> <font color=\"white\">-</font> <font color=\"white\">date</font> <font color=\"blue\">siemens</font> <font color=\"orange\">ag</font> <font color=\"white\">author</font> <font color=\"white\">:</font> <font color=\"red\">johannes</font> <font color=\"green\">najjar</font> "
      ],
      "text/plain": [
       "<IPython.core.display.HTML object>"
      ]
     },
     "metadata": {},
     "output_type": "display_data"
    },
    {
     "data": {
      "text/html": [
       "<font color=\"white\">copyright</font> <font color=\"white\">(</font> <font color=\"white\">c</font> <font color=\"white\">)</font> <font color=\"white\">date</font> <font color=\"white\">-</font> <font color=\"white\">date</font> <font color=\"white\">siemens</font> <font color=\"white\">ag</font> <font color=\"white\">author</font> <font color=\"white\">:</font> <font color=\"red\">j</font> <font color=\"red\">.</font> <font color=\"green\">najjar</font> <font color=\"white\">,</font> <font color=\"purple\">s</font> <font color=\"red\">.</font> <font color=\"green\">weber</font> "
      ],
      "text/plain": [
       "<IPython.core.display.HTML object>"
      ]
     },
     "metadata": {},
     "output_type": "display_data"
    },
    {
     "data": {
      "text/html": [
       "<font color=\"white\">copyright</font> <font color=\"white\">(</font> <font color=\"white\">c</font> <font color=\"white\">)</font> <font color=\"white\">date</font> <font color=\"white\">-</font> <font color=\"white\">date</font> <font color=\"blue\">siemens</font> <font color=\"orange\">ag</font> <font color=\"white\">author</font> <font color=\"white\">:</font> <font color=\"red\">daniele</font> <font color=\"green\">fognini</font> <font color=\"white\">,</font> <font color=\"red\">johannes</font> <font color=\"green\">najjar</font> <font color=\"white\">,</font> <font color=\"red\">steffen</font> <font color=\"green\">weber</font> "
      ],
      "text/plain": [
       "<IPython.core.display.HTML object>"
      ]
     },
     "metadata": {},
     "output_type": "display_data"
    },
    {
     "data": {
      "text/html": [
       "<font color=\"white\">copyright</font> <font color=\"white\">(</font> <font color=\"white\">c</font> <font color=\"white\">)</font> <font color=\"white\">date</font> <font color=\"white\">-</font> <font color=\"white\">date</font> <font color=\"blue\">siemens</font> <font color=\"white\">ag</font> <font color=\"white\">author</font> <font color=\"white\">:</font> <font color=\"red\">daniele</font> <font color=\"green\">fognini</font> "
      ],
      "text/plain": [
       "<IPython.core.display.HTML object>"
      ]
     },
     "metadata": {},
     "output_type": "display_data"
    },
    {
     "data": {
      "text/html": [
       "<font color=\"white\">copyright</font> <font color=\"white\">(</font> <font color=\"white\">c</font> <font color=\"white\">)</font> <font color=\"white\">date</font> <font color=\"white\">-</font> <font color=\"white\">date</font> <font color=\"blue\">siemens</font> <font color=\"white\">ag</font> <font color=\"white\">author</font> <font color=\"white\">:</font> <font color=\"red\">andreas</font> <font color=\"green\">wurl</font> <font color=\"white\">,</font> <font color=\"red\">johannes</font> <font color=\"green\">najjar</font> "
      ],
      "text/plain": [
       "<IPython.core.display.HTML object>"
      ]
     },
     "metadata": {},
     "output_type": "display_data"
    },
    {
     "data": {
      "text/html": [
       "<font color=\"white\">copyright</font> <font color=\"white\">(</font> <font color=\"white\">c</font> <font color=\"white\">)</font> <font color=\"white\">date</font> <font color=\"white\">-</font> <font color=\"white\">date</font> <font color=\"blue\">siemens</font> <font color=\"orange\">ag</font> <font color=\"white\">authors</font> <font color=\"white\">:</font> <font color=\"red\">andreas</font> <font color=\"green\">wurl</font> <font color=\"white\">,</font> <font color=\"red\">daniele</font> <font color=\"green\">fognini</font> "
      ],
      "text/plain": [
       "<IPython.core.display.HTML object>"
      ]
     },
     "metadata": {},
     "output_type": "display_data"
    },
    {
     "data": {
      "text/html": [
       "<font color=\"white\">copyright</font> <font color=\"white\">(</font> <font color=\"white\">c</font> <font color=\"white\">)</font> <font color=\"white\">date</font> <font color=\"white\">-</font> <font color=\"white\">date</font> <font color=\"blue\">hewlett</font> <font color=\"blue\">-</font> <font color=\"blue\">packard</font> <font color=\"orange\">development</font> <font color=\"white\">company</font> <font color=\"white\">,</font> <font color=\"blue\">l</font> <font color=\"blue\">.</font> <font color=\"blue\">p</font> <font color=\"blue\">.</font> <font color=\"white\">date</font> <font color=\"white\">-</font> <font color=\"blue\">date</font> <font color=\"blue\">siemens</font> <font color=\"orange\">ag</font> "
      ],
      "text/plain": [
       "<IPython.core.display.HTML object>"
      ]
     },
     "metadata": {},
     "output_type": "display_data"
    },
    {
     "data": {
      "text/html": [
       "<font color=\"white\">copyright</font> <font color=\"white\">(</font> <font color=\"white\">c</font> <font color=\"white\">)</font> <font color=\"white\">date</font> <font color=\"white\">-</font> <font color=\"white\">date</font> <font color=\"blue\">hewlett</font> <font color=\"blue\">-</font> <font color=\"blue\">packard</font> <font color=\"orange\">development</font> <font color=\"orange\">company</font> <font color=\"white\">,</font> <font color=\"blue\">l</font> <font color=\"blue\">.</font> <font color=\"blue\">p</font> <font color=\"blue\">.</font> "
      ],
      "text/plain": [
       "<IPython.core.display.HTML object>"
      ]
     },
     "metadata": {},
     "output_type": "display_data"
    },
    {
     "data": {
      "text/html": [
       "<font color=\"white\">copyright</font> <font color=\"white\">(</font> <font color=\"white\">c</font> <font color=\"white\">)</font> <font color=\"white\">date</font> <font color=\"white\">,</font> <font color=\"white\">date</font> <font color=\"white\">free</font> <font color=\"orange\">software</font> <font color=\"orange\">foundation</font> <font color=\"orange\">,</font> <font color=\"orange\">inc</font> <font color=\"white\">.</font> "
      ],
      "text/plain": [
       "<IPython.core.display.HTML object>"
      ]
     },
     "metadata": {},
     "output_type": "display_data"
    },
    {
     "data": {
      "text/html": [
       "<font color=\"white\">copyright</font> <font color=\"white\">(</font> <font color=\"white\">c</font> <font color=\"white\">)</font> <font color=\"white\">year</font> <font color=\"white\">name</font> <font color=\"white\">of</font> <font color=\"white\">author</font> "
      ],
      "text/plain": [
       "<IPython.core.display.HTML object>"
      ]
     },
     "metadata": {},
     "output_type": "display_data"
    },
    {
     "data": {
      "text/html": [
       "<font color=\"white\">copyright</font> <font color=\"white\">(</font> <font color=\"white\">c</font> <font color=\"white\">)</font> <font color=\"white\">date</font> <font color=\"white\">red</font> <font color=\"orange\">hat</font> <font color=\"orange\">,</font> <font color=\"orange\">inc</font> <font color=\"white\">.</font> "
      ],
      "text/plain": [
       "<IPython.core.display.HTML object>"
      ]
     },
     "metadata": {},
     "output_type": "display_data"
    },
    {
     "data": {
      "text/html": [
       "<font color=\"white\">copyright</font> <font color=\"white\">(</font> <font color=\"white\">c</font> <font color=\"white\">)</font> <font color=\"white\">date</font> <font color=\"white\">-</font> <font color=\"white\">date</font> <font color=\"blue\">zend</font> <font color=\"orange\">technologies</font> <font color=\"orange\">ltd</font> <font color=\"white\">.</font> <font color=\"white\">all</font> <font color=\"orange\">rights</font> <font color=\"white\">reserved</font> <font color=\"white\">.</font> "
      ],
      "text/plain": [
       "<IPython.core.display.HTML object>"
      ]
     },
     "metadata": {},
     "output_type": "display_data"
    },
    {
     "data": {
      "text/html": [
       "<font color=\"white\">copyright</font> <font color=\"white\">(</font> <font color=\"white\">c</font> <font color=\"white\">)</font> <font color=\"white\">date</font> <font color=\"blue\">hewlett</font> <font color=\"orange\">-</font> <font color=\"orange\">packard</font> <font color=\"orange\">development</font> <font color=\"orange\">company</font> <font color=\"white\">,</font> <font color=\"blue\">l</font> <font color=\"blue\">.</font> <font color=\"blue\">p</font> <font color=\"blue\">.</font> "
      ],
      "text/plain": [
       "<IPython.core.display.HTML object>"
      ]
     },
     "metadata": {},
     "output_type": "display_data"
    },
    {
     "data": {
      "text/html": [
       "<font color=\"white\">copyright</font> <font color=\"white\">(</font> <font color=\"white\">c</font> <font color=\"white\">)</font> <font color=\"white\">date</font> <font color=\"blue\">siemens</font> <font color=\"orange\">ag</font> "
      ],
      "text/plain": [
       "<IPython.core.display.HTML object>"
      ]
     },
     "metadata": {},
     "output_type": "display_data"
    },
    {
     "data": {
      "text/html": [
       "<font color=\"white\">copyright</font> <font color=\"white\">(</font> <font color=\"white\">c</font> <font color=\"white\">)</font> <font color=\"white\">yyyy</font> <font color=\"white\">name</font> <font color=\"white\">of</font> <font color=\"white\">author</font> "
      ],
      "text/plain": [
       "<IPython.core.display.HTML object>"
      ]
     },
     "metadata": {},
     "output_type": "display_data"
    },
    {
     "data": {
      "text/html": [
       "<font color=\"white\">copyright</font> <font color=\"white\">(</font> <font color=\"white\">c</font> <font color=\"white\">)</font> <font color=\"white\">date</font> <font color=\"blue\">hewlett</font> <font color=\"orange\">-</font> <font color=\"orange\">packard</font> <font color=\"orange\">development</font> <font color=\"orange\">company</font> <font color=\"white\">,</font> <font color=\"blue\">l</font> <font color=\"blue\">.</font> <font color=\"blue\">p</font> <font color=\"blue\">.</font> "
      ],
      "text/plain": [
       "<IPython.core.display.HTML object>"
      ]
     },
     "metadata": {},
     "output_type": "display_data"
    },
    {
     "data": {
      "text/html": [
       "<font color=\"white\">copyright</font> <font color=\"white\">(</font> <font color=\"white\">c</font> <font color=\"white\">)</font> <font color=\"white\">date</font> <font color=\"white\">-</font> <font color=\"white\">date</font> <font color=\"blue\">hewlett</font> <font color=\"blue\">-</font> <font color=\"blue\">packard</font> <font color=\"orange\">development</font> <font color=\"orange\">company</font> <font color=\"white\">,</font> <font color=\"blue\">l</font> <font color=\"blue\">.</font> <font color=\"blue\">p</font> <font color=\"blue\">.</font> "
      ],
      "text/plain": [
       "<IPython.core.display.HTML object>"
      ]
     },
     "metadata": {},
     "output_type": "display_data"
    },
    {
     "data": {
      "text/html": [
       "<font color=\"white\">copyright</font> <font color=\"white\">(</font> <font color=\"white\">c</font> <font color=\"white\">)</font> <font color=\"white\">date</font> <font color=\"white\">-</font> <font color=\"white\">date</font> <font color=\"blue\">hewlett</font> <font color=\"blue\">-</font> <font color=\"blue\">packard</font> <font color=\"orange\">development</font> <font color=\"orange\">company</font> <font color=\"white\">,</font> <font color=\"blue\">l</font> <font color=\"blue\">.</font> <font color=\"blue\">p</font> <font color=\"blue\">.</font> "
      ],
      "text/plain": [
       "<IPython.core.display.HTML object>"
      ]
     },
     "metadata": {},
     "output_type": "display_data"
    },
    {
     "data": {
      "text/html": [
       "<font color=\"white\">copyright</font> <font color=\"white\">(</font> <font color=\"white\">c</font> <font color=\"white\">)</font> <font color=\"white\">date</font> <font color=\"white\">-</font> <font color=\"red\">date</font> <font color=\"red\">jean</font> <font color=\"green\">-</font> <font color=\"green\">loup</font> <font color=\"green\">gailly</font> <font color=\"white\">and</font> <font color=\"red\">mark</font> <font color=\"green\">adler</font> "
      ],
      "text/plain": [
       "<IPython.core.display.HTML object>"
      ]
     },
     "metadata": {},
     "output_type": "display_data"
    },
    {
     "data": {
      "text/html": [
       "<font color=\"blue\">copyright</font> <font color=\"white\">by</font> <font color=\"white\">the</font> <font color=\"blue\">free</font> <font color=\"orange\">software</font> <font color=\"orange\">foundation</font> "
      ],
      "text/plain": [
       "<IPython.core.display.HTML object>"
      ]
     },
     "metadata": {},
     "output_type": "display_data"
    },
    {
     "data": {
      "text/html": [
       "<font color=\"white\">copyright</font> <font color=\"white\">(</font> <font color=\"white\">c</font> <font color=\"white\">)</font> <font color=\"white\">date</font> <font color=\"white\">-</font> <font color=\"white\">date</font> <font color=\"blue\">hewlett</font> <font color=\"blue\">-</font> <font color=\"blue\">packard</font> <font color=\"orange\">development</font> <font color=\"orange\">company</font> <font color=\"white\">,</font> <font color=\"blue\">l</font> <font color=\"blue\">.</font> <font color=\"blue\">p</font> <font color=\"blue\">.</font> "
      ],
      "text/plain": [
       "<IPython.core.display.HTML object>"
      ]
     },
     "metadata": {},
     "output_type": "display_data"
    },
    {
     "data": {
      "text/html": [
       "<font color=\"white\">copyright</font> <font color=\"white\">(</font> <font color=\"white\">c</font> <font color=\"white\">)</font> <font color=\"white\">date</font> <font color=\"blue\">hewlett</font> <font color=\"orange\">-</font> <font color=\"orange\">packard</font> <font color=\"orange\">development</font> <font color=\"orange\">company</font> <font color=\"white\">,</font> <font color=\"blue\">l</font> <font color=\"blue\">.</font> <font color=\"blue\">p</font> <font color=\"blue\">.</font> "
      ],
      "text/plain": [
       "<IPython.core.display.HTML object>"
      ]
     },
     "metadata": {},
     "output_type": "display_data"
    },
    {
     "data": {
      "text/html": [
       "<font color=\"white\">copyright</font> <font color=\"white\">(</font> <font color=\"white\">c</font> <font color=\"white\">)</font> <font color=\"white\">date</font> <font color=\"white\">-</font> <font color=\"white\">date</font> <font color=\"blue\">hewlett</font> <font color=\"blue\">-</font> <font color=\"blue\">packard</font> <font color=\"orange\">development</font> <font color=\"orange\">company</font> <font color=\"white\">,</font> <font color=\"blue\">l</font> <font color=\"blue\">.</font> <font color=\"blue\">p</font> <font color=\"blue\">.</font> "
      ],
      "text/plain": [
       "<IPython.core.display.HTML object>"
      ]
     },
     "metadata": {},
     "output_type": "display_data"
    },
    {
     "data": {
      "text/html": [
       "<font color=\"white\">copyright</font> <font color=\"white\">(</font> <font color=\"white\">c</font> <font color=\"white\">)</font> <font color=\"white\">date</font> <font color=\"white\">-</font> <font color=\"white\">date</font> <font color=\"blue\">hewlett</font> <font color=\"blue\">-</font> <font color=\"blue\">packard</font> <font color=\"orange\">development</font> <font color=\"orange\">company</font> <font color=\"white\">,</font> <font color=\"blue\">l</font> <font color=\"blue\">.</font> <font color=\"blue\">p</font> <font color=\"blue\">.</font> "
      ],
      "text/plain": [
       "<IPython.core.display.HTML object>"
      ]
     },
     "metadata": {},
     "output_type": "display_data"
    },
    {
     "data": {
      "text/html": [
       "<font color=\"white\">copyright</font> <font color=\"white\">(</font> <font color=\"white\">c</font> <font color=\"white\">)</font> <font color=\"white\">date</font> <font color=\"white\">-</font> <font color=\"white\">date</font> <font color=\"white\">hp</font> <font color=\"white\">development</font> <font color=\"white\">company</font> <font color=\"white\">,</font> <font color=\"blue\">l</font> <font color=\"blue\">.</font> <font color=\"gray\">p</font> <font color=\"blue\">.</font> <font color=\"white\">and</font> <font color=\"white\">others</font> <font color=\"white\">.</font> "
      ],
      "text/plain": [
       "<IPython.core.display.HTML object>"
      ]
     },
     "metadata": {},
     "output_type": "display_data"
    },
    {
     "data": {
      "text/html": [
       "<font color=\"white\">copyright</font> <font color=\"white\">(</font> <font color=\"white\">c</font> <font color=\"white\">)</font> <font color=\"white\">date</font> <font color=\"white\">-</font> <font color=\"white\">date</font> <font color=\"blue\">hewlett</font> <font color=\"blue\">-</font> <font color=\"blue\">packard</font> <font color=\"orange\">development</font> <font color=\"orange\">company</font> <font color=\"white\">,</font> <font color=\"blue\">l</font> <font color=\"blue\">.</font> <font color=\"blue\">p</font> <font color=\"blue\">.</font> "
      ],
      "text/plain": [
       "<IPython.core.display.HTML object>"
      ]
     },
     "metadata": {},
     "output_type": "display_data"
    },
    {
     "data": {
      "text/html": [
       "<font color=\"white\">copyright</font> <font color=\"white\">(</font> <font color=\"white\">c</font> <font color=\"white\">)</font> <font color=\"white\">date</font> <font color=\"white\">-</font> <font color=\"white\">date</font> <font color=\"blue\">hewlett</font> <font color=\"blue\">-</font> <font color=\"blue\">packard</font> <font color=\"orange\">development</font> <font color=\"orange\">company</font> <font color=\"white\">,</font> <font color=\"blue\">l</font> <font color=\"blue\">.</font> <font color=\"blue\">p</font> <font color=\"blue\">.</font> "
      ],
      "text/plain": [
       "<IPython.core.display.HTML object>"
      ]
     },
     "metadata": {},
     "output_type": "display_data"
    },
    {
     "data": {
      "text/html": [
       "<font color=\"white\">copyright</font> <font color=\"white\">(</font> <font color=\"white\">c</font> <font color=\"white\">)</font> <font color=\"white\">date</font> <font color=\"white\">-</font> <font color=\"white\">date</font> <font color=\"blue\">hewlett</font> <font color=\"blue\">-</font> <font color=\"blue\">packard</font> <font color=\"orange\">development</font> <font color=\"orange\">company</font> <font color=\"white\">,</font> <font color=\"blue\">l</font> <font color=\"blue\">.</font> <font color=\"blue\">p</font> <font color=\"blue\">.</font> "
      ],
      "text/plain": [
       "<IPython.core.display.HTML object>"
      ]
     },
     "metadata": {},
     "output_type": "display_data"
    },
    {
     "data": {
      "text/html": [
       "<font color=\"white\">copyright</font> <font color=\"white\">(</font> <font color=\"white\">c</font> <font color=\"white\">)</font> <font color=\"white\">date</font> <font color=\"white\">-</font> <font color=\"white\">date</font> <font color=\"blue\">hewlett</font> <font color=\"blue\">-</font> <font color=\"blue\">packard</font> <font color=\"orange\">development</font> <font color=\"orange\">company</font> <font color=\"white\">,</font> <font color=\"blue\">l</font> <font color=\"blue\">.</font> <font color=\"blue\">p</font> <font color=\"blue\">.</font> "
      ],
      "text/plain": [
       "<IPython.core.display.HTML object>"
      ]
     },
     "metadata": {},
     "output_type": "display_data"
    },
    {
     "data": {
      "text/html": [
       "<font color=\"white\">copyright</font> <font color=\"white\">(</font> <font color=\"white\">c</font> <font color=\"white\">)</font> <font color=\"white\">date</font> <font color=\"blue\">hewlett</font> <font color=\"orange\">-</font> <font color=\"orange\">packard</font> <font color=\"orange\">development</font> <font color=\"orange\">company</font> <font color=\"white\">,</font> <font color=\"blue\">l</font> <font color=\"blue\">.</font> <font color=\"blue\">p</font> <font color=\"blue\">.</font> "
      ],
      "text/plain": [
       "<IPython.core.display.HTML object>"
      ]
     },
     "metadata": {},
     "output_type": "display_data"
    },
    {
     "data": {
      "text/html": [
       "<font color=\"white\">copyright</font> <font color=\"white\">(</font> <font color=\"white\">c</font> <font color=\"white\">)</font> <font color=\"white\">date</font> <font color=\"white\">,</font> <font color=\"white\">date</font> <font color=\"blue\">hewlett</font> <font color=\"blue\">-</font> <font color=\"blue\">packard</font> <font color=\"orange\">development</font> <font color=\"orange\">company</font> <font color=\"white\">,</font> <font color=\"blue\">l</font> <font color=\"blue\">.</font> <font color=\"blue\">p</font> <font color=\"blue\">.</font> "
      ],
      "text/plain": [
       "<IPython.core.display.HTML object>"
      ]
     },
     "metadata": {},
     "output_type": "display_data"
    },
    {
     "data": {
      "text/html": [
       "<font color=\"white\">copyright</font> <font color=\"white\">(</font> <font color=\"white\">c</font> <font color=\"white\">)</font> <font color=\"white\">date</font> <font color=\"white\">-</font> <font color=\"white\">date</font> <font color=\"blue\">hewlett</font> <font color=\"blue\">-</font> <font color=\"blue\">packard</font> <font color=\"orange\">development</font> <font color=\"orange\">company</font> <font color=\"white\">,</font> <font color=\"blue\">l</font> <font color=\"blue\">.</font> <font color=\"blue\">p</font> <font color=\"blue\">.</font> "
      ],
      "text/plain": [
       "<IPython.core.display.HTML object>"
      ]
     },
     "metadata": {},
     "output_type": "display_data"
    },
    {
     "data": {
      "text/html": [
       "<font color=\"white\">copyright</font> <font color=\"white\">(</font> <font color=\"white\">c</font> <font color=\"white\">)</font> <font color=\"white\">date</font> <font color=\"white\">-</font> <font color=\"white\">date</font> <font color=\"blue\">hewlett</font> <font color=\"blue\">-</font> <font color=\"blue\">packard</font> <font color=\"orange\">development</font> <font color=\"orange\">company</font> <font color=\"white\">,</font> <font color=\"blue\">l</font> <font color=\"blue\">.</font> <font color=\"blue\">p</font> <font color=\"blue\">.</font> "
      ],
      "text/plain": [
       "<IPython.core.display.HTML object>"
      ]
     },
     "metadata": {},
     "output_type": "display_data"
    },
    {
     "data": {
      "text/html": [
       "<font color=\"white\">copyright</font> <font color=\"white\">(</font> <font color=\"white\">c</font> <font color=\"white\">)</font> <font color=\"white\">date</font> <font color=\"white\">-</font> <font color=\"white\">date</font> <font color=\"blue\">hewlett</font> <font color=\"blue\">-</font> <font color=\"blue\">packard</font> <font color=\"orange\">development</font> <font color=\"orange\">company</font> <font color=\"white\">,</font> <font color=\"blue\">l</font> <font color=\"blue\">.</font> <font color=\"blue\">p</font> <font color=\"blue\">.</font> "
      ],
      "text/plain": [
       "<IPython.core.display.HTML object>"
      ]
     },
     "metadata": {},
     "output_type": "display_data"
    },
    {
     "data": {
      "text/html": [
       "<font color=\"white\">copyright</font> <font color=\"white\">(</font> <font color=\"white\">c</font> <font color=\"white\">)</font> <font color=\"white\">date</font> <font color=\"white\">-</font> <font color=\"white\">date</font> <font color=\"blue\">hewlett</font> <font color=\"blue\">-</font> <font color=\"blue\">packard</font> <font color=\"orange\">development</font> <font color=\"orange\">company</font> <font color=\"white\">,</font> <font color=\"blue\">l</font> <font color=\"blue\">.</font> <font color=\"blue\">p</font> <font color=\"blue\">.</font> "
      ],
      "text/plain": [
       "<IPython.core.display.HTML object>"
      ]
     },
     "metadata": {},
     "output_type": "display_data"
    },
    {
     "data": {
      "text/html": [
       "<font color=\"white\">copyright</font> <font color=\"white\">(</font> <font color=\"white\">c</font> <font color=\"white\">)</font> <font color=\"white\">date</font> <font color=\"white\">-</font> <font color=\"white\">date</font> <font color=\"blue\">hewlett</font> <font color=\"blue\">-</font> <font color=\"blue\">packard</font> <font color=\"orange\">development</font> <font color=\"orange\">company</font> <font color=\"white\">,</font> <font color=\"blue\">l</font> <font color=\"blue\">.</font> <font color=\"blue\">p</font> <font color=\"blue\">.</font> "
      ],
      "text/plain": [
       "<IPython.core.display.HTML object>"
      ]
     },
     "metadata": {},
     "output_type": "display_data"
    },
    {
     "data": {
      "text/html": [
       "<font color=\"white\">copyright</font> <font color=\"white\">(</font> <font color=\"white\">c</font> <font color=\"white\">)</font> <font color=\"white\">date</font> <font color=\"white\">-</font> <font color=\"white\">date</font> <font color=\"blue\">hewlett</font> <font color=\"blue\">-</font> <font color=\"blue\">packard</font> <font color=\"orange\">development</font> <font color=\"orange\">company</font> <font color=\"white\">,</font> <font color=\"blue\">l</font> <font color=\"blue\">.</font> <font color=\"blue\">p</font> <font color=\"blue\">.</font> "
      ],
      "text/plain": [
       "<IPython.core.display.HTML object>"
      ]
     },
     "metadata": {},
     "output_type": "display_data"
    },
    {
     "data": {
      "text/html": [
       "<font color=\"white\">copyright</font> <font color=\"white\">(</font> <font color=\"white\">c</font> <font color=\"white\">)</font> <font color=\"white\">date</font> <font color=\"white\">,</font> <font color=\"white\">date</font> <font color=\"white\">,</font> <font color=\"red\">date</font> <font color=\"blue\">hewlett</font> <font color=\"orange\">-</font> <font color=\"blue\">packard</font> <font color=\"orange\">development</font> <font color=\"white\">company</font> <font color=\"white\">,</font> <font color=\"blue\">l</font> <font color=\"blue\">.</font> <font color=\"blue\">p</font> <font color=\"blue\">.</font> "
      ],
      "text/plain": [
       "<IPython.core.display.HTML object>"
      ]
     },
     "metadata": {},
     "output_type": "display_data"
    },
    {
     "data": {
      "text/html": [
       "<font color=\"white\">©</font> <font color=\"white\">date</font> <font color=\"white\">by</font> <font color=\"red\">patrick</font> <font color=\"green\">o</font> <font color=\"green\">'</font> <font color=\"green\">grady</font> <font color=\"white\">/</font> <font color=\"white\">mad</font> <font color=\"white\">dog</font> <font color=\"white\">media</font> <font color=\"white\">.</font> <font color=\"white\">all</font> <font color=\"white\">rights</font> <font color=\"white\">and</font> <font color=\"white\">most</font> <font color=\"white\">lefts</font> <font color=\"white\">reserved</font> <font color=\"white\">.</font> <font color=\"white\">copyrighted</font> <font color=\"white\">under</font> <font color=\"purple\">u</font> <font color=\"blue\">.</font> <font color=\"purple\">s</font> <font color=\"orange\">.</font> <font color=\"white\">and</font> <font color=\"white\">international</font> <font color=\"white\">laws</font> <font color=\"white\">.</font> <font color=\"orange\">sun</font> <font color=\"orange\">microsystems</font> <font color=\"orange\">,</font> <font color=\"orange\">inc</font> <font color=\"blue\">.</font> <font color=\"orange\">of</font> <font color=\"brown\">mountain</font> <font color=\"brown\">view</font> <font color=\"white\">,</font> <font color=\"blue\">california</font> <font color=\"white\">owns</font> <font color=\"white\">copyrighted</font> <font color=\"white\">by</font> <font color=\"white\">the</font> <font color=\"blue\">regents</font> <font color=\"orange\">of</font> <font color=\"white\">the</font> <font color=\"blue\">university</font> <font color=\"orange\">of</font> <font color=\"blue\">california</font> <font color=\"orange\">sun</font> <font color=\"orange\">microsystem</font> <font color=\"white\">and</font> <font color=\"white\">other</font> <font color=\"white\">parties</font> <font color=\"white\">apply</font> <font color=\"white\">to</font> <font color=\"white\">all</font> <font color=\"white\">files</font> <font color=\"white\">associ</font> "
      ],
      "text/plain": [
       "<IPython.core.display.HTML object>"
      ]
     },
     "metadata": {},
     "output_type": "display_data"
    },
    {
     "data": {
      "text/html": [
       "<font color=\"white\">(</font> <font color=\"white\">c</font> <font color=\"white\">)</font> <font color=\"white\">date</font> <font color=\"red\">michael</font> <font color=\"green\">c</font> <font color=\"red\">.</font> <font color=\"green\">jaeger</font> <font color=\"white\">,</font> <font color=\"red\">mcj</font> <font color=\"white\">@</font> <font color=\"red\">mcj</font> <font color=\"red\">.</font> <font color=\"green\">de</font> "
      ],
      "text/plain": [
       "<IPython.core.display.HTML object>"
      ]
     },
     "metadata": {},
     "output_type": "display_data"
    },
    {
     "data": {
      "text/html": [
       "<font color=\"white\">(</font> <font color=\"blue\">c</font> <font color=\"white\">)</font> <font color=\"white\">copyright</font> <font color=\"white\">date</font> <font color=\"white\">hewlett</font> <font color=\"orange\">-</font> <font color=\"orange\">packard</font> <font color=\"orange\">development</font> <font color=\"orange\">company</font> <font color=\"white\">,</font> <font color=\"blue\">l</font> <font color=\"blue\">.</font> <font color=\"blue\">p</font> <font color=\"blue\">.</font> "
      ],
      "text/plain": [
       "<IPython.core.display.HTML object>"
      ]
     },
     "metadata": {},
     "output_type": "display_data"
    },
    {
     "data": {
      "text/html": [
       "<font color=\"white\">(</font> <font color=\"white\">c</font> <font color=\"white\">)</font> <font color=\"white\">copyright</font> <font color=\"white\">date</font> <font color=\"white\">-</font> <font color=\"white\">date</font> <font color=\"blue\">hewlett</font> <font color=\"blue\">-</font> <font color=\"blue\">packard</font> <font color=\"orange\">development</font> <font color=\"orange\">company</font> <font color=\"white\">,</font> <font color=\"blue\">l</font> <font color=\"blue\">.</font> <font color=\"blue\">p</font> <font color=\"blue\">.</font> "
      ],
      "text/plain": [
       "<IPython.core.display.HTML object>"
      ]
     },
     "metadata": {},
     "output_type": "display_data"
    },
    {
     "data": {
      "text/html": [
       "<font color=\"white\">(</font> <font color=\"white\">c</font> <font color=\"white\">)</font> <font color=\"white\">copyright</font> <font color=\"white\">date</font> <font color=\"white\">-</font> <font color=\"white\">date</font> <font color=\"white\">bittium</font> <font color=\"white\">wireless</font> <font color=\"orange\">ltd</font> <font color=\"white\">.</font> "
      ],
      "text/plain": [
       "<IPython.core.display.HTML object>"
      ]
     },
     "metadata": {},
     "output_type": "display_data"
    },
    {
     "data": {
      "text/html": [
       "<font color=\"white\">(</font> <font color=\"white\">c</font> <font color=\"white\">)</font> <font color=\"white\">copyright</font> <font color=\"white\">date</font> <font color=\"white\">gaurav</font> <font color=\"white\"><</font> <font color=\"pink\">gmishx</font> <font color=\"white\">@</font> <font color=\"blue\">gmail</font> <font color=\"white\">.</font> <font color=\"white\">com</font> <font color=\"white\">></font> "
      ],
      "text/plain": [
       "<IPython.core.display.HTML object>"
      ]
     },
     "metadata": {},
     "output_type": "display_data"
    },
    {
     "data": {
      "text/html": [
       "<font color=\"white\">(</font> <font color=\"white\">c</font> <font color=\"white\">)</font> <font color=\"white\">date</font> <font color=\"white\">-</font> <font color=\"white\">date</font> <font color=\"white\">,</font> <font color=\"red\">sebastian</font> <font color=\"green\">stein</font> "
      ],
      "text/plain": [
       "<IPython.core.display.HTML object>"
      ]
     },
     "metadata": {},
     "output_type": "display_data"
    },
    {
     "data": {
      "text/html": [
       "<font color=\"white\">(</font> <font color=\"white\">c</font> <font color=\"white\">)</font> <font color=\"white\">date</font> <font color=\"white\">-</font> <font color=\"red\">peter</font> <font color=\"green\">nederlof</font> <font color=\"red\">peterned</font> <font color=\"white\">-</font> <font color=\"white\">http</font> <font color=\"white\">:</font> <font color=\"white\">/</font> <font color=\"white\">/</font> <font color=\"white\">www</font> <font color=\"white\">.</font> <font color=\"white\">xs</font> <font color=\"white\">all</font> <font color=\"white\">.</font> <font color=\"pink\">nl</font> <font color=\"white\">/</font> <font color=\"white\">~</font> <font color=\"red\">peterned</font> <font color=\"white\">/</font> "
      ],
      "text/plain": [
       "<IPython.core.display.HTML object>"
      ]
     },
     "metadata": {},
     "output_type": "display_data"
    },
    {
     "data": {
      "text/html": [
       "<font color=\"white\">(</font> <font color=\"blue\">c</font> <font color=\"white\">)</font> <font color=\"white\">copyright</font> <font color=\"blue\">bigelow</font> <font color=\"orange\">&</font> <font color=\"orange\">holmes</font> <font color=\"white\">date</font> <font color=\"white\">,</font> <font color=\"white\">date</font> <font color=\"white\">.</font> <font color=\"red\">lucida</font> <font color=\"white\">is</font> <font color=\"white\">a</font> <font color=\"white\">registered</font> <font color=\"white\">trademark</font> <font color=\"white\">of</font> <font color=\"blue\">bigelow</font> <font color=\"orange\">&</font> <font color=\"orange\">holmes</font> <font color=\"white\">.</font> "
      ],
      "text/plain": [
       "<IPython.core.display.HTML object>"
      ]
     },
     "metadata": {},
     "output_type": "display_data"
    },
    {
     "data": {
      "text/html": [
       "<font color=\"white\">(</font> <font color=\"blue\">c</font> <font color=\"white\">)</font> <font color=\"blue\">copyright</font> <font color=\"blue\">nicrozoft</font> <font color=\"orange\">corp</font> <font color=\"white\">.</font> <font color=\"white\">date</font> <font color=\"white\">this</font> <font color=\"white\">source</font> <font color=\"white\">is</font> <font color=\"white\">subject</font> <font color=\"white\">to</font> <font color=\"white\">the</font> <font color=\"blue\">nicrozoft</font> <font color=\"white\">public</font> <font color=\"white\">license</font> <font color=\"white\">(</font> <font color=\"purple\">nzpl</font> <font color=\"white\">)</font> <font color=\"white\">.</font> <font color=\"white\">all</font> <font color=\"white\">other</font> <font color=\"white\">right</font> <font color=\"white\">reserved</font> <font color=\"white\">.</font> "
      ],
      "text/plain": [
       "<IPython.core.display.HTML object>"
      ]
     },
     "metadata": {},
     "output_type": "display_data"
    },
    {
     "data": {
      "text/html": [
       "<font color=\"white\">(</font> <font color=\"pink\">c</font> <font color=\"white\">)</font> <font color=\"blue\">openjs</font> <font color=\"orange\">foundation</font> <font color=\"white\">and</font> <font color=\"white\">other</font> <font color=\"white\">contributors</font> "
      ],
      "text/plain": [
       "<IPython.core.display.HTML object>"
      ]
     },
     "metadata": {},
     "output_type": "display_data"
    },
    {
     "data": {
      "text/html": [
       "<font color=\"white\">copyright</font> <font color=\"white\">(</font> <font color=\"white\">c</font> <font color=\"white\">)</font> <font color=\"white\">date</font> <font color=\"white\">,</font> <font color=\"white\">date</font> <font color=\"orange\">free</font> <font color=\"orange\">software</font> <font color=\"orange\">foundation</font> <font color=\"orange\">,</font> <font color=\"orange\">inc</font> <font color=\"orange\">.</font> <font color=\"brown\">franklin</font> <font color=\"brown\">street</font> <font color=\"white\">,</font> <font color=\"white\">fifth</font> <font color=\"white\">floor</font> <font color=\"white\">,</font> <font color=\"purple\">boston</font> <font color=\"white\">,</font> <font color=\"white\">ma</font> <font color=\"white\">date</font> <font color=\"white\">-</font> <font color=\"white\">date</font> <font color=\"purple\">usa</font> "
      ],
      "text/plain": [
       "<IPython.core.display.HTML object>"
      ]
     },
     "metadata": {},
     "output_type": "display_data"
    },
    {
     "data": {
      "text/html": [
       "<font color=\"white\">copyright</font> <font color=\"white\">(</font> <font color=\"white\">c</font> <font color=\"white\">)</font> <font color=\"white\">date</font> <font color=\"white\">bell</font> <font color=\"orange\">communications</font> "
      ],
      "text/plain": [
       "<IPython.core.display.HTML object>"
      ]
     },
     "metadata": {},
     "output_type": "display_data"
    },
    {
     "data": {
      "text/html": [
       "<font color=\"white\">copyright</font> <font color=\"white\">(</font> <font color=\"white\">c</font> <font color=\"white\">)</font> <font color=\"white\">date</font> <font color=\"white\">-</font> <font color=\"white\">,</font> <font color=\"blue\">rsa</font> <font color=\"orange\">data</font> <font color=\"orange\">security</font> <font color=\"orange\">,</font> <font color=\"orange\">inc</font> <font color=\"orange\">.</font> <font color=\"white\">created</font> <font color=\"white\">date</font> <font color=\"white\">.</font> <font color=\"white\">all</font> <font color=\"white\">rights</font> <font color=\"white\">reserved</font> "
      ],
      "text/plain": [
       "<IPython.core.display.HTML object>"
      ]
     },
     "metadata": {},
     "output_type": "display_data"
    }
   ],
   "source": [
    "display_colored_text(colored_texts[200:300])"
   ]
  },
  {
   "cell_type": "code",
   "execution_count": 122,
   "metadata": {},
   "outputs": [
    {
     "data": {
      "text/html": [
       "<font color=\"white\">copyright</font> <font color=\"white\">(</font> <font color=\"white\">c</font> <font color=\"white\">)</font> <font color=\"white\">date</font> <font color=\"white\">-</font> <font color=\"white\">date</font> <font color=\"white\">free</font> <font color=\"orange\">software</font> <font color=\"orange\">foundation</font> <font color=\"orange\">,</font> <font color=\"orange\">inc</font> <font color=\"white\">.</font> "
      ],
      "text/plain": [
       "<IPython.core.display.HTML object>"
      ]
     },
     "metadata": {},
     "output_type": "display_data"
    },
    {
     "data": {
      "text/html": [
       "<font color=\"blue\">copyright</font> <font color=\"white\">(</font> <font color=\"white\">c</font> <font color=\"white\">)</font> <font color=\"white\">date</font> <font color=\"white\">,</font> <font color=\"blue\">board</font> <font color=\"orange\">of</font> <font color=\"orange\">trustees</font> <font color=\"orange\">of</font> <font color=\"orange\">the</font> <font color=\"orange\">university</font> <font color=\"orange\">of</font> <font color=\"orange\">illinois</font> "
      ],
      "text/plain": [
       "<IPython.core.display.HTML object>"
      ]
     },
     "metadata": {},
     "output_type": "display_data"
    },
    {
     "data": {
      "text/html": [
       "<font color=\"white\">copyright</font> <font color=\"white\">(</font> <font color=\"white\">c</font> <font color=\"white\">)</font> <font color=\"white\">date</font> <font color=\"white\">,</font> <font color=\"white\">date</font> <font color=\"white\">,</font> <font color=\"blue\">date</font> <font color=\"blue\">nexus</font> <font color=\"orange\">electronics</font> <font color=\"orange\">ltd</font> "
      ],
      "text/plain": [
       "<IPython.core.display.HTML object>"
      ]
     },
     "metadata": {},
     "output_type": "display_data"
    },
    {
     "data": {
      "text/html": [
       "<font color=\"white\">copyright</font> <font color=\"white\">(</font> <font color=\"white\">c</font> <font color=\"white\">)</font> <font color=\"white\">date</font> <font color=\"white\">suse</font> <font color=\"orange\">linux</font> <font color=\"white\">products</font> <font color=\"orange\">gmbh</font> <font color=\"white\">.</font> <font color=\"blue\">maciej</font> <font color=\"blue\">warnecki</font> <font color=\"white\"><</font> <font color=\"blue\">maciekw</font> <font color=\"white\">@</font> <font color=\"blue\">gmail</font> <font color=\"white\">.</font> <font color=\"white\">com</font> <font color=\"white\">></font> <font color=\"white\">,</font> <font color=\"white\">date</font> <font color=\"white\">.</font> <font color=\"white\">wadim</font> <font color=\"white\">dziedzic</font> <font color=\"white\"><</font> <font color=\"white\">nikdo</font> <font color=\"white\">@</font> <font color=\"white\">aviary</font> <font color=\"white\">.</font> <font color=\"white\">pl</font> <font color=\"white\">></font> "
      ],
      "text/plain": [
       "<IPython.core.display.HTML object>"
      ]
     },
     "metadata": {},
     "output_type": "display_data"
    },
    {
     "data": {
      "text/html": [
       "<font color=\"white\">copyright</font> <font color=\"white\">(</font> <font color=\"white\">c</font> <font color=\"white\">)</font> <font color=\"white\">date</font> <font color=\"white\">suse</font> <font color=\"white\">linux</font> <font color=\"white\">products</font> <font color=\"white\">gmbh</font> <font color=\"white\">.</font> <font color=\"white\"><</font> <font color=\"white\">/</font> <font color=\"white\">s</font> <font color=\"white\">></font> <font color=\"blue\">maciej</font> <font color=\"white\">warnecki</font> <font color=\"white\"><</font> <font color=\"blue\">maciekw</font> <font color=\"white\">@</font> <font color=\"blue\">gmail</font> <font color=\"white\">.</font> <font color=\"white\">com</font> <font color=\"white\">></font> <font color=\"white\">,</font> <font color=\"white\">date</font> <font color=\"white\">.</font> <font color=\"white\">wadim</font> <font color=\"white\">dziedzic</font> <font color=\"white\"><</font> <font color=\"white\">nikdo</font> <font color=\"white\">@</font> <font color=\"white\">aviary</font> <font color=\"white\">.</font> <font color=\"white\">pl</font> <font color=\"white\">></font> "
      ],
      "text/plain": [
       "<IPython.core.display.HTML object>"
      ]
     },
     "metadata": {},
     "output_type": "display_data"
    },
    {
     "data": {
      "text/html": [
       "<font color=\"white\">copyright</font> <font color=\"white\">(</font> <font color=\"white\">c</font> <font color=\"white\">)</font> <font color=\"white\">date</font> <font color=\"white\">-</font> <font color=\"white\">date</font> <font color=\"blue\">hewlett</font> <font color=\"blue\">-</font> <font color=\"blue\">packard</font> <font color=\"orange\">development</font> <font color=\"orange\">company</font> <font color=\"white\">,</font> <font color=\"blue\">l</font> <font color=\"blue\">.</font> <font color=\"blue\">p</font> <font color=\"blue\">.</font> "
      ],
      "text/plain": [
       "<IPython.core.display.HTML object>"
      ]
     },
     "metadata": {},
     "output_type": "display_data"
    },
    {
     "data": {
      "text/html": [
       "<font color=\"white\">copyright</font> <font color=\"white\">date</font> "
      ],
      "text/plain": [
       "<IPython.core.display.HTML object>"
      ]
     },
     "metadata": {},
     "output_type": "display_data"
    },
    {
     "data": {
      "text/html": [
       "<font color=\"white\">copyright</font> <font color=\"white\">date</font> <font color=\"white\">author</font> <font color=\"white\">:</font> <font color=\"red\">sandip</font> <font color=\"green\">kumar</font> <font color=\"green\">bhuyan</font> <font color=\"white\">(</font> <font color=\"red\">sandipbhuyan</font> <font color=\"white\">@</font> <font color=\"blue\">gmail</font> <font color=\"white\">.</font> <font color=\"white\">com</font> <font color=\"white\">)</font> "
      ],
      "text/plain": [
       "<IPython.core.display.HTML object>"
      ]
     },
     "metadata": {},
     "output_type": "display_data"
    },
    {
     "data": {
      "text/html": [
       "<font color=\"white\">copyright</font> <font color=\"white\">date</font> <font color=\"white\">author</font> <font color=\"white\">:</font> <font color=\"white\">vivek</font> <font color=\"white\">kumar</font> <font color=\"white\"><</font> <font color=\"white\">vvksindia</font> <font color=\"white\">@</font> <font color=\"white\">gmaail</font> <font color=\"white\">.</font> <font color=\"white\">com</font> <font color=\"white\">></font> "
      ],
      "text/plain": [
       "<IPython.core.display.HTML object>"
      ]
     },
     "metadata": {},
     "output_type": "display_data"
    },
    {
     "data": {
      "text/html": [
       "<font color=\"white\">copyright</font> <font color=\"white\">date</font> <font color=\"white\">author</font> <font color=\"white\">:</font> <font color=\"white\">vivek</font> <font color=\"white\">kumar</font> <font color=\"white\"><</font> <font color=\"white\">vvksindia</font> <font color=\"white\">@</font> <font color=\"blue\">gmail</font> <font color=\"white\">.</font> <font color=\"white\">com</font> <font color=\"white\">></font> "
      ],
      "text/plain": [
       "<IPython.core.display.HTML object>"
      ]
     },
     "metadata": {},
     "output_type": "display_data"
    },
    {
     "data": {
      "text/html": [
       "<font color=\"white\">copyright</font> <font color=\"white\">date</font> <font color=\"white\">author</font> <font color=\"white\">:</font> <font color=\"white\">vivek</font> <font color=\"white\">kumar</font> <font color=\"white\"><</font> <font color=\"white\">vvksindia</font> <font color=\"white\">@</font> <font color=\"blue\">gmail</font> <font color=\"white\">.</font> <font color=\"white\">com</font> <font color=\"white\">></font> "
      ],
      "text/plain": [
       "<IPython.core.display.HTML object>"
      ]
     },
     "metadata": {},
     "output_type": "display_data"
    },
    {
     "data": {
      "text/html": [
       "<font color=\"white\">copyright</font> <font color=\"white\">date</font> <font color=\"blue\">siemens</font> <font color=\"orange\">ag</font> "
      ],
      "text/plain": [
       "<IPython.core.display.HTML object>"
      ]
     },
     "metadata": {},
     "output_type": "display_data"
    },
    {
     "data": {
      "text/html": [
       "<font color=\"white\">copyright</font> <font color=\"white\">date</font> <font color=\"red\">robert</font> <font color=\"purple\">bosch</font> <font color=\"green\">gmbh</font> <font color=\"white\">,</font> <font color=\"green\">dineshkumar</font> <font color=\"red\">devarajan</font> <font color=\"white\"><</font> <font color=\"red\">devarajan</font> <font color=\"white\">.</font> <font color=\"green\">dineshkumar</font> <font color=\"white\">@</font> <font color=\"white\">in</font> <font color=\"white\">.</font> <font color=\"purple\">bosch</font> <font color=\"white\">.</font> <font color=\"white\">com</font> <font color=\"white\">></font> "
      ],
      "text/plain": [
       "<IPython.core.display.HTML object>"
      ]
     },
     "metadata": {},
     "output_type": "display_data"
    },
    {
     "data": {
      "text/html": [
       "<font color=\"white\">copyright</font> <font color=\"white\">date</font> <font color=\"blue\">siemens</font> <font color=\"orange\">ag</font> "
      ],
      "text/plain": [
       "<IPython.core.display.HTML object>"
      ]
     },
     "metadata": {},
     "output_type": "display_data"
    },
    {
     "data": {
      "text/html": [
       "<font color=\"white\">copyright</font> <font color=\"white\">date</font> <font color=\"white\">avinal</font> <font color=\"white\">kumar</font> <font color=\"white\"><</font> <font color=\"white\">avinal</font> <font color=\"white\">.</font> <font color=\"white\">xlvii</font> <font color=\"white\">@</font> <font color=\"blue\">gmail</font> <font color=\"white\">.</font> <font color=\"white\">com</font> <font color=\"white\">></font> "
      ],
      "text/plain": [
       "<IPython.core.display.HTML object>"
      ]
     },
     "metadata": {},
     "output_type": "display_data"
    },
    {
     "data": {
      "text/html": [
       "<font color=\"white\">copyright</font> <font color=\"white\">date</font> <font color=\"white\">gaurav</font> <font color=\"white\">mishra</font> <font color=\"white\"><</font> <font color=\"red\">mishra</font> <font color=\"white\">.</font> <font color=\"red\">gaurav</font> <font color=\"white\">@</font> <font color=\"blue\">siemens</font> <font color=\"white\">.</font> <font color=\"white\">com</font> <font color=\"white\">></font> "
      ],
      "text/plain": [
       "<IPython.core.display.HTML object>"
      ]
     },
     "metadata": {},
     "output_type": "display_data"
    },
    {
     "data": {
      "text/html": [
       "<font color=\"white\">copyright</font> <font color=\"white\">darshan</font> <font color=\"purple\">kansagara</font> <font color=\"white\"><</font> <font color=\"green\">kansagara</font> <font color=\"white\">.</font> <font color=\"red\">darshan</font> <font color=\"white\">@</font> <font color=\"blue\">gmail</font> <font color=\"white\">.</font> <font color=\"white\">com</font> <font color=\"white\">></font> <font color=\"white\">author</font> <font color=\"white\">:</font> <font color=\"purple\">darshan</font> <font color=\"purple\">kansagara</font> <font color=\"white\"><</font> <font color=\"green\">kansagara</font> <font color=\"white\">.</font> <font color=\"red\">darshan</font> <font color=\"white\">@</font> <font color=\"blue\">gmail</font> <font color=\"white\">.</font> <font color=\"white\">com</font> <font color=\"white\">></font> "
      ],
      "text/plain": [
       "<IPython.core.display.HTML object>"
      ]
     },
     "metadata": {},
     "output_type": "display_data"
    },
    {
     "data": {
      "text/html": [
       "<font color=\"blue\">copyright</font> <font color=\"orange\">siemens</font> <font color=\"orange\">ag</font> <font color=\"white\">date</font> "
      ],
      "text/plain": [
       "<IPython.core.display.HTML object>"
      ]
     },
     "metadata": {},
     "output_type": "display_data"
    },
    {
     "data": {
      "text/html": [
       "<font color=\"blue\">copyright</font> <font color=\"orange\">siemens</font> <font color=\"orange\">ag</font> <font color=\"white\">date</font> <font color=\"white\">,</font> <font color=\"white\">date</font> "
      ],
      "text/plain": [
       "<IPython.core.display.HTML object>"
      ]
     },
     "metadata": {},
     "output_type": "display_data"
    },
    {
     "data": {
      "text/html": [
       "<font color=\"white\">copyright</font> <font color=\"orange\">siemens</font> <font color=\"white\">ag</font> <font color=\"white\">date</font> <font color=\"white\">-</font> <font color=\"white\">date</font> "
      ],
      "text/plain": [
       "<IPython.core.display.HTML object>"
      ]
     },
     "metadata": {},
     "output_type": "display_data"
    },
    {
     "data": {
      "text/html": [
       "<font color=\"white\">copyright</font> <font color=\"orange\">siemens</font> <font color=\"white\">ag</font> <font color=\"white\">date</font> <font color=\"white\">-</font> <font color=\"white\">date</font> "
      ],
      "text/plain": [
       "<IPython.core.display.HTML object>"
      ]
     },
     "metadata": {},
     "output_type": "display_data"
    },
    {
     "data": {
      "text/html": [
       "<font color=\"blue\">copyright</font> <font color=\"orange\">siemens</font> <font color=\"orange\">ag</font> <font color=\"white\">date</font> "
      ],
      "text/plain": [
       "<IPython.core.display.HTML object>"
      ]
     },
     "metadata": {},
     "output_type": "display_data"
    },
    {
     "data": {
      "text/html": [
       "<font color=\"blue\">copyright</font> <font color=\"orange\">siemens</font> <font color=\"orange\">ag</font> <font color=\"white\">date</font> <font color=\"white\">,</font> <font color=\"red\">maximilian</font> <font color=\"white\">.</font> <font color=\"green\">huber</font> <font color=\"white\">@</font> <font color=\"blue\">tngtech</font> <font color=\"white\">.</font> <font color=\"white\">com</font> "
      ],
      "text/plain": [
       "<IPython.core.display.HTML object>"
      ]
     },
     "metadata": {},
     "output_type": "display_data"
    },
    {
     "data": {
      "text/html": [
       "<font color=\"white\">copyright</font> <font color=\"blue\">siemens</font> <font color=\"white\">ag</font> <font color=\"white\">date</font> <font color=\"white\">,</font> <font color=\"red\">fabio</font> <font color=\"white\">.</font> <font color=\"green\">huser</font> <font color=\"white\">@</font> <font color=\"blue\">siemens</font> <font color=\"white\">.</font> <font color=\"white\">com</font> "
      ],
      "text/plain": [
       "<IPython.core.display.HTML object>"
      ]
     },
     "metadata": {},
     "output_type": "display_data"
    },
    {
     "data": {
      "text/html": [
       "<font color=\"blue\">copyright</font> <font color=\"orange\">siemens</font> <font color=\"orange\">ag</font> <font color=\"white\">date</font> "
      ],
      "text/plain": [
       "<IPython.core.display.HTML object>"
      ]
     },
     "metadata": {},
     "output_type": "display_data"
    },
    {
     "data": {
      "text/html": [
       "<font color=\"blue\">copyright</font> <font color=\"orange\">siemens</font> <font color=\"orange\">ag</font> <font color=\"white\">date</font> "
      ],
      "text/plain": [
       "<IPython.core.display.HTML object>"
      ]
     },
     "metadata": {},
     "output_type": "display_data"
    },
    {
     "data": {
      "text/html": [
       "<font color=\"blue\">copyright</font> <font color=\"orange\">siemens</font> <font color=\"orange\">ag</font> <font color=\"white\">date</font> "
      ],
      "text/plain": [
       "<IPython.core.display.HTML object>"
      ]
     },
     "metadata": {},
     "output_type": "display_data"
    },
    {
     "data": {
      "text/html": [
       "<font color=\"white\">copyright</font> <font color=\"white\">date</font> <font color=\"blue\">siemens</font> <font color=\"orange\">ag</font> <font color=\"white\">author</font> <font color=\"white\">:</font> <font color=\"red\">gaurav</font> <font color=\"green\">mishra</font> <font color=\"white\"><</font> <font color=\"white\">mishra</font> <font color=\"white\">.</font> <font color=\"red\">gaurav</font> <font color=\"white\">@</font> <font color=\"blue\">siemens</font> <font color=\"white\">.</font> <font color=\"white\">com</font> <font color=\"white\">></font> "
      ],
      "text/plain": [
       "<IPython.core.display.HTML object>"
      ]
     },
     "metadata": {},
     "output_type": "display_data"
    },
    {
     "data": {
      "text/html": [
       "<font color=\"white\">copyright</font> <font color=\"white\">siemens</font> <font color=\"white\">ag</font> <font color=\"white\">date</font> <font color=\"white\">,</font> <font color=\"red\">anupam</font> <font color=\"white\">.</font> <font color=\"green\">ghosh</font> <font color=\"white\">@</font> <font color=\"blue\">siemens</font> <font color=\"white\">.</font> <font color=\"white\">com</font> <font color=\"white\">,</font> <font color=\"blue\">gaurav</font> <font color=\"white\">.</font> <font color=\"white\">mishra</font> <font color=\"white\">@</font> <font color=\"blue\">siemens</font> <font color=\"white\">.</font> <font color=\"white\">com</font> "
      ],
      "text/plain": [
       "<IPython.core.display.HTML object>"
      ]
     },
     "metadata": {},
     "output_type": "display_data"
    },
    {
     "data": {
      "text/html": [
       "<font color=\"white\">copyright</font> <font color=\"white\">date</font> <font color=\"blue\">siemens</font> <font color=\"orange\">ag</font> "
      ],
      "text/plain": [
       "<IPython.core.display.HTML object>"
      ]
     },
     "metadata": {},
     "output_type": "display_data"
    },
    {
     "data": {
      "text/html": [
       "<font color=\"white\">copyright</font> <font color=\"white\">date</font> <font color=\"blue\">siemens</font> <font color=\"orange\">ag</font> "
      ],
      "text/plain": [
       "<IPython.core.display.HTML object>"
      ]
     },
     "metadata": {},
     "output_type": "display_data"
    },
    {
     "data": {
      "text/html": [
       "<font color=\"white\">copyright</font> <font color=\"white\">(</font> <font color=\"white\">c</font> <font color=\"white\">)</font> <font color=\"white\">date</font> <font color=\"red\">jorn</font> <font color=\"green\">zaefferer</font> "
      ],
      "text/plain": [
       "<IPython.core.display.HTML object>"
      ]
     },
     "metadata": {},
     "output_type": "display_data"
    },
    {
     "data": {
      "text/html": [
       "<font color=\"white\">copyright</font> <font color=\"white\">(</font> <font color=\"white\">c</font> <font color=\"white\">)</font> <font color=\"white\">date</font> <font color=\"white\">-</font> <font color=\"white\">date</font> <font color=\"white\">sprymedia</font> <font color=\"white\">limited</font> "
      ],
      "text/plain": [
       "<IPython.core.display.HTML object>"
      ]
     },
     "metadata": {},
     "output_type": "display_data"
    },
    {
     "data": {
      "text/html": [
       "<font color=\"white\">copyright</font> <font color=\"white\">(</font> <font color=\"white\">c</font> <font color=\"white\">)</font> <font color=\"white\">date</font> <font color=\"blue\">siemens</font> <font color=\"orange\">ag</font> "
      ],
      "text/plain": [
       "<IPython.core.display.HTML object>"
      ]
     },
     "metadata": {},
     "output_type": "display_data"
    },
    {
     "data": {
      "text/html": [
       "<font color=\"white\">copyright</font> <font color=\"white\">(</font> <font color=\"white\">c</font> <font color=\"white\">)</font> <font color=\"white\">date</font> <font color=\"white\">lg</font> <font color=\"orange\">electronics</font> <font color=\"orange\">inc</font> <font color=\"white\">.</font> "
      ],
      "text/plain": [
       "<IPython.core.display.HTML object>"
      ]
     },
     "metadata": {},
     "output_type": "display_data"
    },
    {
     "data": {
      "text/html": [
       "<font color=\"white\">copyright</font> <font color=\"white\">date</font> <font color=\"white\">,</font> <font color=\"white\">date</font> <font color=\"white\">,</font> <font color=\"white\">date</font> <font color=\"white\">drew</font> <font color=\"pink\">eckhardt</font> <font color=\"white\">visionary</font> <font color=\"orange\">computing</font> "
      ],
      "text/plain": [
       "<IPython.core.display.HTML object>"
      ]
     },
     "metadata": {},
     "output_type": "display_data"
    },
    {
     "data": {
      "text/html": [
       "<font color=\"white\">copyright</font> <font color=\"white\">date</font> <font color=\"white\">adobe</font> <font color=\"orange\">systems</font> <font color=\"white\">incorporated</font> <font color=\"white\">.</font> <font color=\"white\">all</font> <font color=\"white\">rights</font> <font color=\"white\">reserved</font> <font color=\"white\">.</font> "
      ],
      "text/plain": [
       "<IPython.core.display.HTML object>"
      ]
     },
     "metadata": {},
     "output_type": "display_data"
    },
    {
     "data": {
      "text/html": [
       "<font color=\"white\">copyright</font> <font color=\"white\">date</font> <font color=\"white\">by</font> <font color=\"red\">robert</font> <font color=\"green\">penner</font> <font color=\"white\">.</font> "
      ],
      "text/plain": [
       "<IPython.core.display.HTML object>"
      ]
     },
     "metadata": {},
     "output_type": "display_data"
    },
    {
     "data": {
      "text/html": [
       "<font color=\"white\">copyright</font> <font color=\"white\">date</font> <font color=\"red\">kate</font> <font color=\"green\">ward</font> <font color=\"white\">.</font> <font color=\"white\">all</font> <font color=\"white\">rights</font> <font color=\"white\">reserved</font> <font color=\"white\">.</font> "
      ],
      "text/plain": [
       "<IPython.core.display.HTML object>"
      ]
     },
     "metadata": {},
     "output_type": "display_data"
    },
    {
     "data": {
      "text/html": [
       "<font color=\"white\">copyright</font> <font color=\"white\">date</font> <font color=\"white\">-</font> <font color=\"white\">date</font> <font color=\"red\">jovan</font> <font color=\"green\">popovic</font> <font color=\"white\">,</font> <font color=\"white\">all</font> <font color=\"white\">rights</font> <font color=\"white\">reserved</font> <font color=\"white\">.</font> "
      ],
      "text/plain": [
       "<IPython.core.display.HTML object>"
      ]
     },
     "metadata": {},
     "output_type": "display_data"
    },
    {
     "data": {
      "text/html": [
       "<font color=\"white\">copyright</font> <font color=\"white\">date</font> <font color=\"red\">klaus</font> <font color=\"green\">hartl</font> "
      ],
      "text/plain": [
       "<IPython.core.display.HTML object>"
      ]
     },
     "metadata": {},
     "output_type": "display_data"
    },
    {
     "data": {
      "text/html": [
       "<font color=\"white\">copyright</font> <font color=\"white\">date</font> <font color=\"white\">-</font> <font color=\"white\">date</font> <font color=\"blue\">siemens</font> <font color=\"orange\">ag</font> "
      ],
      "text/plain": [
       "<IPython.core.display.HTML object>"
      ]
     },
     "metadata": {},
     "output_type": "display_data"
    },
    {
     "data": {
      "text/html": [
       "<font color=\"white\">copyright</font> <font color=\"white\">date</font> <font color=\"white\">-</font> <font color=\"white\">date</font> <font color=\"white\">,</font> <font color=\"white\">date</font> <font color=\"blue\">siemens</font> <font color=\"orange\">ag</font> "
      ],
      "text/plain": [
       "<IPython.core.display.HTML object>"
      ]
     },
     "metadata": {},
     "output_type": "display_data"
    },
    {
     "data": {
      "text/html": [
       "<font color=\"white\">copyright</font> <font color=\"white\">date</font> <font color=\"white\">-</font> <font color=\"white\">date</font> <font color=\"white\">,</font> <font color=\"white\">date</font> <font color=\"blue\">siemens</font> <font color=\"orange\">ag</font> "
      ],
      "text/plain": [
       "<IPython.core.display.HTML object>"
      ]
     },
     "metadata": {},
     "output_type": "display_data"
    },
    {
     "data": {
      "text/html": [
       "<font color=\"white\">copyright</font> <font color=\"white\">date</font> <font color=\"white\">-</font> <font color=\"white\">date</font> <font color=\"blue\">siemens</font> <font color=\"orange\">ag</font> "
      ],
      "text/plain": [
       "<IPython.core.display.HTML object>"
      ]
     },
     "metadata": {},
     "output_type": "display_data"
    },
    {
     "data": {
      "text/html": [
       "<font color=\"white\">copyright</font> <font color=\"white\">date</font> <font color=\"white\">-</font> <font color=\"white\">date</font> <font color=\"blue\">siemens</font> <font color=\"orange\">ag</font> "
      ],
      "text/plain": [
       "<IPython.core.display.HTML object>"
      ]
     },
     "metadata": {},
     "output_type": "display_data"
    },
    {
     "data": {
      "text/html": [
       "<font color=\"white\">copyright</font> <font color=\"white\">date</font> <font color=\"white\">-</font> <font color=\"white\">date</font> <font color=\"white\">,</font> <font color=\"white\">date</font> <font color=\"blue\">siemens</font> <font color=\"orange\">ag</font> "
      ],
      "text/plain": [
       "<IPython.core.display.HTML object>"
      ]
     },
     "metadata": {},
     "output_type": "display_data"
    },
    {
     "data": {
      "text/html": [
       "<font color=\"white\">copyright</font> <font color=\"white\">date</font> <font color=\"white\">-</font> <font color=\"white\">date</font> <font color=\"blue\">siemens</font> <font color=\"orange\">ag</font> "
      ],
      "text/plain": [
       "<IPython.core.display.HTML object>"
      ]
     },
     "metadata": {},
     "output_type": "display_data"
    },
    {
     "data": {
      "text/html": [
       "<font color=\"white\">copyright</font> <font color=\"white\">date</font> <font color=\"blue\">siemens</font> <font color=\"orange\">ag</font> "
      ],
      "text/plain": [
       "<IPython.core.display.HTML object>"
      ]
     },
     "metadata": {},
     "output_type": "display_data"
    },
    {
     "data": {
      "text/html": [
       "<font color=\"white\">copyright</font> <font color=\"white\">date</font> <font color=\"white\">,</font> <font color=\"white\">date</font> <font color=\"white\">,</font> <font color=\"blue\">siemens</font> <font color=\"orange\">ag</font> "
      ],
      "text/plain": [
       "<IPython.core.display.HTML object>"
      ]
     },
     "metadata": {},
     "output_type": "display_data"
    },
    {
     "data": {
      "text/html": [
       "<font color=\"white\">copyright</font> <font color=\"white\">date</font> <font color=\"white\">-</font> <font color=\"white\">date</font> <font color=\"blue\">siemens</font> <font color=\"orange\">ag</font> "
      ],
      "text/plain": [
       "<IPython.core.display.HTML object>"
      ]
     },
     "metadata": {},
     "output_type": "display_data"
    },
    {
     "data": {
      "text/html": [
       "<font color=\"white\">copyright</font> <font color=\"white\">date</font> <font color=\"white\">-</font> <font color=\"white\">date</font> <font color=\"white\">,</font> <font color=\"white\">date</font> <font color=\"blue\">siemens</font> <font color=\"orange\">ag</font> "
      ],
      "text/plain": [
       "<IPython.core.display.HTML object>"
      ]
     },
     "metadata": {},
     "output_type": "display_data"
    },
    {
     "data": {
      "text/html": [
       "<font color=\"blue\">copyright</font> <font color=\"orange\">siemens</font> <font color=\"orange\">ag</font> <font color=\"white\">,</font> <font color=\"white\">date</font> "
      ],
      "text/plain": [
       "<IPython.core.display.HTML object>"
      ]
     },
     "metadata": {},
     "output_type": "display_data"
    },
    {
     "data": {
      "text/html": [
       "<font color=\"white\">copyright</font> <font color=\"orange\">siemens</font> <font color=\"orange\">ag</font> <font color=\"white\">,</font> <font color=\"white\">date</font> <font color=\"white\">-</font> <font color=\"white\">date</font> "
      ],
      "text/plain": [
       "<IPython.core.display.HTML object>"
      ]
     },
     "metadata": {},
     "output_type": "display_data"
    },
    {
     "data": {
      "text/html": [
       "<font color=\"white\">(</font> <font color=\"white\">c</font> <font color=\"white\">)</font> <font color=\"white\">copyright</font> <font color=\"white\">date</font> <font color=\"blue\">sun</font> <font color=\"orange\">microsystems</font> <font color=\"orange\">,</font> <font color=\"orange\">inc</font> <font color=\"white\">.</font> "
      ],
      "text/plain": [
       "<IPython.core.display.HTML object>"
      ]
     },
     "metadata": {},
     "output_type": "display_data"
    },
    {
     "data": {
      "text/html": [
       "<font color=\"white\">copyright</font> <font color=\"white\">(</font> <font color=\"white\">c</font> <font color=\"white\">)</font> <font color=\"white\">date</font> <font color=\"white\">-</font> <font color=\"white\">date</font> <font color=\"red\">gunnar</font> <font color=\"green\">ritter</font> <font color=\"white\">,</font> <font color=\"purple\">freiburg</font> <font color=\"white\">i</font> <font color=\"white\">.</font> <font color=\"green\">br</font> <font color=\"green\">.</font> <font color=\"white\">,</font> <font color=\"purple\">germany</font> <font color=\"white\">.</font> "
      ],
      "text/plain": [
       "<IPython.core.display.HTML object>"
      ]
     },
     "metadata": {},
     "output_type": "display_data"
    },
    {
     "data": {
      "text/html": [
       "<font color=\"blue\">copyright</font> <font color=\"white\">(</font> <font color=\"white\">c</font> <font color=\"white\">)</font> <font color=\"blue\">date</font> <font color=\"blue\">tng</font> <font color=\"orange\">technology</font> <font color=\"orange\">consulting</font> <font color=\"orange\">gmbh</font> "
      ],
      "text/plain": [
       "<IPython.core.display.HTML object>"
      ]
     },
     "metadata": {},
     "output_type": "display_data"
    },
    {
     "data": {
      "text/html": [
       "<font color=\"white\">copyright</font> <font color=\"white\">notices</font> "
      ],
      "text/plain": [
       "<IPython.core.display.HTML object>"
      ]
     },
     "metadata": {},
     "output_type": "display_data"
    },
    {
     "data": {
      "text/html": [
       "<font color=\"blue\">copyright</font> <font color=\"white\">(</font> <font color=\"white\">c</font> <font color=\"white\">)</font> <font color=\"white\">date</font> <font color=\"white\">,</font> <font color=\"white\">date</font> <font color=\"white\">the</font> <font color=\"orange\">regents</font> <font color=\"orange\">of</font> <font color=\"white\">the</font> <font color=\"blue\">university</font> <font color=\"orange\">of</font> <font color=\"orange\">california</font> <font color=\"orange\">.</font> <font color=\"orange\">all</font> <font color=\"white\">rights</font> <font color=\"white\">reserved</font> <font color=\"white\">.</font> "
      ],
      "text/plain": [
       "<IPython.core.display.HTML object>"
      ]
     },
     "metadata": {},
     "output_type": "display_data"
    },
    {
     "data": {
      "text/html": [
       "<font color=\"white\">copyright</font> <font color=\"white\">statements</font> "
      ],
      "text/plain": [
       "<IPython.core.display.HTML object>"
      ]
     },
     "metadata": {},
     "output_type": "display_data"
    },
    {
     "data": {
      "text/html": [
       "<font color=\"white\">copyright</font> <font color=\"white\">.</font> <font color=\"white\">your</font> <font color=\"white\">rights</font> <font color=\"white\">to</font> <font color=\"white\">use</font> <font color=\"white\">these</font> <font color=\"white\">open</font> <font color=\"white\">source</font> <font color=\"white\">software</font> <font color=\"white\">components</font> <font color=\"white\">are</font> <font color=\"white\">governed</font> <font color=\"white\">by</font> <font color=\"white\">the</font> <font color=\"white\">applicable</font> <font color=\"white\">open</font> <font color=\"white\">source</font> <font color=\"white\">software</font> <font color=\"white\">license</font> <font color=\"white\">conditions</font> <font color=\"white\">.</font> <font color=\"white\">you</font> <font color=\"white\">must</font> <font color=\"white\">comply</font> <font color=\"white\">with</font> <font color=\"white\">these</font> <font color=\"white\">license</font> <font color=\"white\">conditions</font> <font color=\"white\">in</font> <font color=\"white\">order</font> <font color=\"white\">to</font> <font color=\"white\">be</font> <font color=\"white\">entitled</font> <font color=\"white\">to</font> <font color=\"white\">use</font> <font color=\"white\">the</font> <font color=\"white\">open</font> <font color=\"white\">source</font> <font color=\"white\">software</font> <font color=\"white\">as</font> <font color=\"white\">foreseen</font> <font color=\"white\">in</font> <font color=\"white\">the</font> <font color=\"white\">relevant</font> <font color=\"white\">license</font> <font color=\"white\">.</font> "
      ],
      "text/plain": [
       "<IPython.core.display.HTML object>"
      ]
     },
     "metadata": {},
     "output_type": "display_data"
    },
    {
     "data": {
      "text/html": [
       "<font color=\"white\">copyright</font> <font color=\"white\">dfx</font> <font color=\"orange\">interactive</font> <font color=\"white\">,</font> <font color=\"orange\">inc</font> <font color=\"orange\">.</font> <font color=\"white\">date</font> <font color=\"white\">,</font> <font color=\"white\">all</font> <font color=\"white\">rights</font> <font color=\"white\">reserved</font> "
      ],
      "text/plain": [
       "<IPython.core.display.HTML object>"
      ]
     },
     "metadata": {},
     "output_type": "display_data"
    },
    {
     "data": {
      "text/html": [
       "<font color=\"white\">copyright</font> <font color=\"white\">(</font> <font color=\"white\">c</font> <font color=\"white\">)</font> <font color=\"white\">date</font> <font color=\"white\">,</font> <font color=\"white\">date</font> <font color=\"white\">free</font> <font color=\"orange\">software</font> <font color=\"orange\">foundation</font> <font color=\"orange\">,</font> <font color=\"orange\">inc</font> <font color=\"white\">.</font> "
      ],
      "text/plain": [
       "<IPython.core.display.HTML object>"
      ]
     },
     "metadata": {},
     "output_type": "display_data"
    },
    {
     "data": {
      "text/html": [
       "<font color=\"white\">copyright</font> <font color=\"white\">(</font> <font color=\"white\">c</font> <font color=\"white\">)</font> <font color=\"white\">date</font> <font color=\"white\">free</font> <font color=\"orange\">software</font> <font color=\"orange\">foundation</font> <font color=\"orange\">,</font> <font color=\"orange\">inc</font> <font color=\"white\">.</font> "
      ],
      "text/plain": [
       "<IPython.core.display.HTML object>"
      ]
     },
     "metadata": {},
     "output_type": "display_data"
    },
    {
     "data": {
      "text/html": [
       "<font color=\"white\">copyright</font> <font color=\"white\">(</font> <font color=\"white\">c</font> <font color=\"white\">)</font> <font color=\"white\">{</font> <font color=\"white\">{</font> <font color=\"white\">year</font> <font color=\"white\">}</font> <font color=\"white\">}</font> <font color=\"white\">,</font> <font color=\"white\">{</font> <font color=\"white\">{</font> <font color=\"white\">owner</font> <font color=\"white\">}</font> <font color=\"white\">}</font> "
      ],
      "text/plain": [
       "<IPython.core.display.HTML object>"
      ]
     },
     "metadata": {},
     "output_type": "display_data"
    },
    {
     "data": {
      "text/html": [
       "<font color=\"white\">copyright</font> <font color=\"white\">notice</font> <font color=\"white\">and</font> <font color=\"white\">this</font> <font color=\"white\">notice</font> <font color=\"white\">are</font> <font color=\"white\">preserved</font> <font color=\"white\">.</font> <font color=\"white\">this</font> <font color=\"white\">file</font> <font color=\"white\">is</font> <font color=\"white\">offered</font> <font color=\"white\">as</font> <font color=\"white\">-</font> <font color=\"white\">is</font> <font color=\"white\">,</font> <font color=\"white\">without</font> <font color=\"white\">any</font> <font color=\"white\">warranty</font> <font color=\"white\">.</font> "
      ],
      "text/plain": [
       "<IPython.core.display.HTML object>"
      ]
     },
     "metadata": {},
     "output_type": "display_data"
    },
    {
     "data": {
      "text/html": [
       "<font color=\"white\">copyright</font> <font color=\"white\">interest</font> <font color=\"white\">in</font> "
      ],
      "text/plain": [
       "<IPython.core.display.HTML object>"
      ]
     },
     "metadata": {},
     "output_type": "display_data"
    },
    {
     "data": {
      "text/html": [
       "<font color=\"white\">copyright</font> <font color=\"white\">(</font> <font color=\"white\">c</font> <font color=\"white\">)</font> <font color=\"white\">date</font> <font color=\"red\">lawrence</font> <font color=\"green\">e</font> <font color=\"orange\">.</font> <font color=\"green\">rosen</font> <font color=\"orange\">.</font> <font color=\"white\">all</font> <font color=\"white\">rights</font> <font color=\"white\">reserved</font> <font color=\"white\">.</font> "
      ],
      "text/plain": [
       "<IPython.core.display.HTML object>"
      ]
     },
     "metadata": {},
     "output_type": "display_data"
    },
    {
     "data": {
      "text/html": [
       "<font color=\"white\">copyright</font> <font color=\"white\">(</font> <font color=\"white\">c</font> <font color=\"white\">)</font> <font color=\"white\">date</font> <font color=\"white\">,</font> <font color=\"white\">date</font> <font color=\"white\">free</font> <font color=\"orange\">software</font> <font color=\"orange\">foundation</font> <font color=\"orange\">,</font> <font color=\"orange\">inc</font> <font color=\"white\">.</font> "
      ],
      "text/plain": [
       "<IPython.core.display.HTML object>"
      ]
     },
     "metadata": {},
     "output_type": "display_data"
    },
    {
     "data": {
      "text/html": [
       "<font color=\"white\">copyright</font> <font color=\"white\">(</font> <font color=\"white\">c</font> <font color=\"white\">)</font> <font color=\"white\">date</font> <font color=\"blue\">siemens</font> <font color=\"orange\">ag</font> "
      ],
      "text/plain": [
       "<IPython.core.display.HTML object>"
      ]
     },
     "metadata": {},
     "output_type": "display_data"
    },
    {
     "data": {
      "text/html": [
       "<font color=\"white\">copyright</font> <font color=\"white\">(</font> <font color=\"white\">c</font> <font color=\"white\">)</font> <font color=\"white\">date</font> <font color=\"white\">-</font> <font color=\"white\">date</font> <font color=\"white\">hp</font> <font color=\"white\">development</font> <font color=\"white\">company</font> <font color=\"white\">,</font> <font color=\"blue\">l</font> <font color=\"blue\">.</font> <font color=\"gray\">p</font> <font color=\"white\">.</font> "
      ],
      "text/plain": [
       "<IPython.core.display.HTML object>"
      ]
     },
     "metadata": {},
     "output_type": "display_data"
    },
    {
     "data": {
      "text/html": [
       "<font color=\"white\">copyright</font> <font color=\"white\">notices</font> "
      ],
      "text/plain": [
       "<IPython.core.display.HTML object>"
      ]
     },
     "metadata": {},
     "output_type": "display_data"
    },
    {
     "data": {
      "text/html": [
       "<font color=\"white\">copyright</font> <font color=\"white\">date</font> <font color=\"white\">-</font> <font color=\"white\">date</font> <font color=\"blue\">ximian</font> <font color=\"white\">,</font> <font color=\"orange\">inc</font> <font color=\"white\">.</font> <font color=\"white\">,</font> <font color=\"white\">date</font> <font color=\"white\">gerg</font> "
      ],
      "text/plain": [
       "<IPython.core.display.HTML object>"
      ]
     },
     "metadata": {},
     "output_type": "display_data"
    },
    {
     "data": {
      "text/html": [
       "<font color=\"white\">copyright</font> <font color=\"white\">(</font> <font color=\"white\">c</font> <font color=\"white\">)</font> <font color=\"red\">aaron</font> <font color=\"green\">seigo</font> <font color=\"white\"><</font> <font color=\"white\">aseigo</font> <font color=\"white\">kde</font> <font color=\"white\">.</font> <font color=\"white\">org</font> <font color=\"white\">></font> "
      ],
      "text/plain": [
       "<IPython.core.display.HTML object>"
      ]
     },
     "metadata": {},
     "output_type": "display_data"
    },
    {
     "data": {
      "text/html": [
       "<font color=\"white\">copyright</font> <font color=\"white\">(</font> <font color=\"white\">c</font> <font color=\"white\">)</font> <font color=\"white\">date</font> <font color=\"white\">-</font> <font color=\"white\">date</font> <font color=\"blue\">hewlett</font> <font color=\"blue\">-</font> <font color=\"blue\">packard</font> <font color=\"orange\">development</font> <font color=\"orange\">company</font> <font color=\"white\">,</font> <font color=\"blue\">l</font> <font color=\"blue\">.</font> <font color=\"blue\">p</font> <font color=\"blue\">.</font> "
      ],
      "text/plain": [
       "<IPython.core.display.HTML object>"
      ]
     },
     "metadata": {},
     "output_type": "display_data"
    },
    {
     "data": {
      "text/html": [
       "<font color=\"white\">copyright</font> <font color=\"white\">(</font> <font color=\"white\">c</font> <font color=\"white\">)</font> <font color=\"white\">date</font> <font color=\"white\">-</font> <font color=\"white\">date</font> <font color=\"blue\">siemens</font> <font color=\"orange\">ag</font> "
      ],
      "text/plain": [
       "<IPython.core.display.HTML object>"
      ]
     },
     "metadata": {},
     "output_type": "display_data"
    },
    {
     "data": {
      "text/html": [
       "<font color=\"blue\">copyright</font> <font color=\"orange\">tng</font> <font color=\"orange\">technology</font> <font color=\"orange\">consulting</font> <font color=\"orange\">gmbh</font> <font color=\"white\">date</font> <font color=\"white\">,</font> <font color=\"blue\">maximilian</font> <font color=\"orange\">.</font> <font color=\"orange\">huber</font> <font color=\"white\">@</font> <font color=\"blue\">tngtech</font> <font color=\"white\">.</font> <font color=\"white\">com</font> "
      ],
      "text/plain": [
       "<IPython.core.display.HTML object>"
      ]
     },
     "metadata": {},
     "output_type": "display_data"
    },
    {
     "data": {
      "text/html": [
       "<font color=\"white\">copyright</font> <font color=\"white\">(</font> <font color=\"white\">c</font> <font color=\"white\">)</font> <font color=\"white\">date</font> <font color=\"white\">,</font> <font color=\"white\">date</font> <font color=\"white\">free</font> <font color=\"orange\">software</font> <font color=\"orange\">foundation</font> <font color=\"orange\">,</font> <font color=\"orange\">inc</font> <font color=\"white\">.</font> "
      ],
      "text/plain": [
       "<IPython.core.display.HTML object>"
      ]
     },
     "metadata": {},
     "output_type": "display_data"
    },
    {
     "data": {
      "text/html": [
       "<font color=\"white\">(</font> <font color=\"pink\">c</font> <font color=\"white\">)</font> <font color=\"white\">date</font> <font color=\"white\">-</font> <font color=\"white\">date</font> <font color=\"white\">hp</font> <font color=\"white\">development</font> <font color=\"white\">company</font> "
      ],
      "text/plain": [
       "<IPython.core.display.HTML object>"
      ]
     },
     "metadata": {},
     "output_type": "display_data"
    },
    {
     "data": {
      "text/html": [
       "<font color=\"blue\">copyright</font> <font color=\"orange\">tng</font> <font color=\"orange\">technology</font> <font color=\"orange\">consulting</font> <font color=\"orange\">gmbh</font> <font color=\"white\">date</font> <font color=\"white\">-</font> <font color=\"white\">date</font> <font color=\"white\">,</font> <font color=\"blue\">maximilian</font> <font color=\"white\">.</font> <font color=\"green\">huber</font> <font color=\"white\">@</font> <font color=\"blue\">tngtech</font> <font color=\"white\">.</font> <font color=\"white\">com</font> "
      ],
      "text/plain": [
       "<IPython.core.display.HTML object>"
      ]
     },
     "metadata": {},
     "output_type": "display_data"
    },
    {
     "data": {
      "text/html": [
       "<font color=\"white\">(</font> <font color=\"white\">c</font> <font color=\"white\">)</font> <font color=\"white\">date</font> <font color=\"white\">,</font> <font color=\"red\">matt</font> <font color=\"blue\">taggart</font> <font color=\"white\"><</font> <font color=\"blue\">taggart</font> <font color=\"white\">@</font> <font color=\"blue\">debian</font> <font color=\"white\">.</font> <font color=\"white\">org</font> <font color=\"white\">></font> "
      ],
      "text/plain": [
       "<IPython.core.display.HTML object>"
      ]
     },
     "metadata": {},
     "output_type": "display_data"
    },
    {
     "data": {
      "text/html": [
       "<font color=\"white\">copyright</font> <font color=\"white\">by</font> <font color=\"white\">many</font> <font color=\"white\">contributors</font> <font color=\"white\">;</font> <font color=\"white\">see</font> <font color=\"white\">http</font> <font color=\"white\">:</font> <font color=\"white\">/</font> <font color=\"white\">/</font> <font color=\"white\">babel</font> <font color=\"white\">.</font> <font color=\"white\">eclipse</font> <font color=\"white\">.</font> <font color=\"white\">org</font> <font color=\"white\">/</font> "
      ],
      "text/plain": [
       "<IPython.core.display.HTML object>"
      ]
     },
     "metadata": {},
     "output_type": "display_data"
    },
    {
     "data": {
      "text/html": [
       "<font color=\"white\">copyright</font> <font color=\"white\">(</font> <font color=\"white\">c</font> <font color=\"white\">)</font> <font color=\"white\">date</font> <font color=\"white\">,</font> <font color=\"red\">jeff</font> <font color=\"white\">hostetler</font> <font color=\"white\">,</font> <font color=\"white\">spyglass</font> <font color=\"white\">,</font> <font color=\"blue\">inc</font> <font color=\"white\">.</font> "
      ],
      "text/plain": [
       "<IPython.core.display.HTML object>"
      ]
     },
     "metadata": {},
     "output_type": "display_data"
    },
    {
     "data": {
      "text/html": [
       "<font color=\"white\">(</font> <font color=\"white\">c</font> <font color=\"white\">)</font> <font color=\"white\">date</font> <font color=\"blue\">verisign</font> <font color=\"white\">,</font> <font color=\"orange\">inc</font> <font color=\"white\">.</font> "
      ],
      "text/plain": [
       "<IPython.core.display.HTML object>"
      ]
     },
     "metadata": {},
     "output_type": "display_data"
    },
    {
     "data": {
      "text/html": [
       "<font color=\"white\">copyright</font> <font color=\"white\">(</font> <font color=\"white\">c</font> <font color=\"white\">)</font> <font color=\"white\">date</font> <font color=\"white\">-</font> <font color=\"red\">date</font> <font color=\"red\">mika</font> <font color=\"green\">tuupola</font> <font color=\"white\">,</font> <font color=\"red\">dylan</font> <font color=\"green\">verheul</font> "
      ],
      "text/plain": [
       "<IPython.core.display.HTML object>"
      ]
     },
     "metadata": {},
     "output_type": "display_data"
    },
    {
     "data": {
      "text/html": [
       "<font color=\"white\">copyright</font> <font color=\"white\">jquery</font> <font color=\"orange\">foundation</font> <font color=\"white\">and</font> <font color=\"white\">other</font> <font color=\"white\">contributors</font> "
      ],
      "text/plain": [
       "<IPython.core.display.HTML object>"
      ]
     },
     "metadata": {},
     "output_type": "display_data"
    },
    {
     "data": {
      "text/html": [
       "<font color=\"white\">copyright</font> <font color=\"white\">dfx</font> <font color=\"orange\">interactive</font> <font color=\"white\">,</font> <font color=\"orange\">inc</font> <font color=\"orange\">.</font> <font color=\"white\">date</font> <font color=\"white\">,</font> <font color=\"white\">all</font> <font color=\"white\">rights</font> <font color=\"white\">reserved</font> "
      ],
      "text/plain": [
       "<IPython.core.display.HTML object>"
      ]
     },
     "metadata": {},
     "output_type": "display_data"
    },
    {
     "data": {
      "text/html": [
       "<font color=\"white\">copyright</font> <font color=\"white\">:</font> <font color=\"white\">date</font> <font color=\"white\">gaurav</font> <font color=\"white\"><</font> <font color=\"pink\">gmishx</font> <font color=\"white\">@</font> <font color=\"blue\">gmail</font> <font color=\"white\">.</font> <font color=\"white\">com</font> <font color=\"white\">></font> "
      ],
      "text/plain": [
       "<IPython.core.display.HTML object>"
      ]
     },
     "metadata": {},
     "output_type": "display_data"
    },
    {
     "data": {
      "text/html": [
       "<font color=\"white\">copyright</font> <font color=\"white\">(</font> <font color=\"white\">c</font> <font color=\"white\">)</font> <font color=\"white\">date</font> <font color=\"white\">orange</font> <font color=\"white\">by</font> <font color=\"blue\">piotr</font> <font color=\"blue\">pszczola</font> <font color=\"white\"><</font> <font color=\"blue\">piotr</font> <font color=\"white\">.</font> <font color=\"blue\">pszczola</font> <font color=\"white\">@</font> <font color=\"white\">orange</font> <font color=\"white\">.</font> <font color=\"white\">com</font> <font color=\"white\">></font> "
      ],
      "text/plain": [
       "<IPython.core.display.HTML object>"
      ]
     },
     "metadata": {},
     "output_type": "display_data"
    },
    {
     "data": {
      "text/html": [
       "<font color=\"white\">copyright</font> <font color=\"white\">(</font> <font color=\"white\">c</font> <font color=\"white\">)</font> <font color=\"white\">date</font> <font color=\"white\">-</font> <font color=\"white\">date</font> <font color=\"white\">free</font> <font color=\"orange\">software</font> <font color=\"orange\">foundation</font> <font color=\"orange\">,</font> <font color=\"orange\">inc</font> <font color=\"white\">.</font> "
      ],
      "text/plain": [
       "<IPython.core.display.HTML object>"
      ]
     },
     "metadata": {},
     "output_type": "display_data"
    },
    {
     "data": {
      "text/html": [
       "<font color=\"white\">copyright</font> <font color=\"white\">(</font> <font color=\"white\">c</font> <font color=\"white\">)</font> <font color=\"white\">date</font> <font color=\"red\">lawrence</font> <font color=\"green\">e</font> <font color=\"orange\">.</font> <font color=\"green\">rosen</font> <font color=\"orange\">.</font> <font color=\"white\">all</font> <font color=\"white\">rights</font> <font color=\"white\">reserved</font> <font color=\"white\">.</font> "
      ],
      "text/plain": [
       "<IPython.core.display.HTML object>"
      ]
     },
     "metadata": {},
     "output_type": "display_data"
    },
    {
     "data": {
      "text/html": [
       "<font color=\"white\">copyright</font> <font color=\"white\">(</font> <font color=\"white\">c</font> <font color=\"white\">)</font> <font color=\"white\">date</font> <font color=\"white\">,</font> <font color=\"white\">date</font> <font color=\"white\">by</font> <font color=\"blue\">carnegie</font> <font color=\"orange\">mellon</font> "
      ],
      "text/plain": [
       "<IPython.core.display.HTML object>"
      ]
     },
     "metadata": {},
     "output_type": "display_data"
    },
    {
     "data": {
      "text/html": [
       "<font color=\"white\">copyright</font> <font color=\"white\">©</font> <font color=\"blue\">microsoft</font> <font color=\"white\">date</font> "
      ],
      "text/plain": [
       "<IPython.core.display.HTML object>"
      ]
     },
     "metadata": {},
     "output_type": "display_data"
    },
    {
     "data": {
      "text/html": [
       "<font color=\"white\">copyright</font> <font color=\"white\">(</font> <font color=\"white\">c</font> <font color=\"white\">)</font> <font color=\"white\">date</font> <font color=\"white\">-</font> <font color=\"white\">date</font> <font color=\"white\">jorn</font> <font color=\"orange\">zaefferer</font> "
      ],
      "text/plain": [
       "<IPython.core.display.HTML object>"
      ]
     },
     "metadata": {},
     "output_type": "display_data"
    },
    {
     "data": {
      "text/html": [
       "<font color=\"blue\">copyright</font> <font color=\"orange\">siemens</font> <font color=\"orange\">ag</font> <font color=\"white\">date</font> <font color=\"white\">,</font> <font color=\"white\">date</font> "
      ],
      "text/plain": [
       "<IPython.core.display.HTML object>"
      ]
     },
     "metadata": {},
     "output_type": "display_data"
    },
    {
     "data": {
      "text/html": [
       "<font color=\"white\">copyright</font> <font color=\"white\">(</font> <font color=\"white\">c</font> <font color=\"white\">)</font> <font color=\"white\">date</font> <font color=\"white\">-</font> <font color=\"white\">date</font> <font color=\"blue\">siemens</font> <font color=\"orange\">ag</font> "
      ],
      "text/plain": [
       "<IPython.core.display.HTML object>"
      ]
     },
     "metadata": {},
     "output_type": "display_data"
    },
    {
     "data": {
      "text/html": [
       "<font color=\"white\">copyright</font> <font color=\"white\">(</font> <font color=\"white\">c</font> <font color=\"white\">)</font> <font color=\"white\">date</font> <font color=\"white\">-</font> <font color=\"white\">date</font> <font color=\"blue\">siemens</font> <font color=\"orange\">ag</font> <font color=\"white\">author</font> <font color=\"white\">:</font> <font color=\"red\">shaheem</font> <font color=\"orange\">azmal</font> <font color=\"white\"><</font> <font color=\"red\">shaheem</font> <font color=\"white\">.</font> <font color=\"orange\">azmal</font> <font color=\"white\">@</font> <font color=\"blue\">siemens</font> <font color=\"white\">.</font> <font color=\"white\">com</font> <font color=\"white\">></font> <font color=\"white\">,</font> <font color=\"white\">anupam</font> <font color=\"white\">ghosh</font> <font color=\"white\"><</font> <font color=\"white\">anupam</font> <font color=\"white\">.</font> <font color=\"white\">ghosh</font> <font color=\"white\">@</font> <font color=\"blue\">siemens</font> <font color=\"white\">.</font> <font color=\"white\">com</font> <font color=\"white\">></font> "
      ],
      "text/plain": [
       "<IPython.core.display.HTML object>"
      ]
     },
     "metadata": {},
     "output_type": "display_data"
    },
    {
     "data": {
      "text/html": [
       "<font color=\"white\">copyright</font> <font color=\"white\">(</font> <font color=\"white\">c</font> <font color=\"white\">)</font> <font color=\"white\">date</font> <font color=\"white\">-</font> <font color=\"white\">date</font> <font color=\"blue\">siemens</font> <font color=\"white\">ag</font> <font color=\"white\">author</font> <font color=\"white\">:</font> <font color=\"red\">daniele</font> <font color=\"green\">fognini</font> <font color=\"white\">,</font> <font color=\"red\">andreas</font> <font color=\"green\">wurl</font> "
      ],
      "text/plain": [
       "<IPython.core.display.HTML object>"
      ]
     },
     "metadata": {},
     "output_type": "display_data"
    },
    {
     "data": {
      "text/html": [
       "<font color=\"white\">copyright</font> <font color=\"white\">(</font> <font color=\"white\">c</font> <font color=\"white\">)</font> <font color=\"white\">date</font> <font color=\"blue\">siemens</font> <font color=\"orange\">ag</font> "
      ],
      "text/plain": [
       "<IPython.core.display.HTML object>"
      ]
     },
     "metadata": {},
     "output_type": "display_data"
    },
    {
     "data": {
      "text/html": [
       "<font color=\"white\">copyright</font> <font color=\"white\">(</font> <font color=\"white\">c</font> <font color=\"white\">)</font> <font color=\"white\">date</font> <font color=\"white\">-</font> <font color=\"white\">date</font> <font color=\"blue\">siemens</font> <font color=\"white\">ag</font> <font color=\"white\">author</font> <font color=\"white\">:</font> <font color=\"red\">daniele</font> <font color=\"green\">fognini</font> "
      ],
      "text/plain": [
       "<IPython.core.display.HTML object>"
      ]
     },
     "metadata": {},
     "output_type": "display_data"
    }
   ],
   "source": [
    "display_colored_text(colored_texts[300:400])"
   ]
  },
  {
   "cell_type": "code",
   "execution_count": 9,
   "metadata": {},
   "outputs": [],
   "source": [
    "from transformers import AutoTokenizer, AutoModelForTokenClassification\n",
    "from transformers import pipeline\n",
    "tokenizer = AutoTokenizer.from_pretrained(\"gagan3012/bert-tiny-finetuned-ner\")\n",
    "model = AutoModelForTokenClassification.from_pretrained(\"gagan3012/bert-tiny-finetuned-ner\")\n",
    "nlp = pipeline(\"ner\", model=model, tokenizer=tokenizer)\n",
    "def merge_entities(entities):\n",
    "    merged_entities = []\n",
    "    current_entity = None\n",
    "    current_label = None\n",
    "    for entity in entities:\n",
    "        word = entity[\"word\"]\n",
    "        label = entity[\"entity\"]\n",
    "        if word.startswith(\"##\"):\n",
    "            current_entity += word[2:]\n",
    "        else:\n",
    "            if current_entity is not None:\n",
    "                merged_entities.append({\"word\": current_entity, \"entity\": current_label})\n",
    "            current_entity = word\n",
    "            current_label = label\n",
    "    if current_entity is not None:\n",
    "        merged_entities.append({\"word\": current_entity, \"entity\": current_label})\n",
    "    for entity in merged_entities:\n",
    "        entity_label = entity[\"entity\"]\n",
    "        if entity_label != \"LABEL_0\":\n",
    "            for other_entity in merged_entities:\n",
    "                if other_entity[\"word\"] == entity[\"word\"] and other_entity[\"entity\"] != \"LABEL_0\" and other_entity[\"entity\"] != entity_label:\n",
    "                    entity[\"entity\"] = other_entity[\"entity\"]\n",
    "                    break\n",
    "    return merged_entities"
   ]
  },
  {
   "cell_type": "code",
   "execution_count": 155,
   "metadata": {},
   "outputs": [],
   "source": [
    "def preprocess_function(sentences, lower=False, replace_copyright_symbols=False,\n",
    "                        replace_dates=False, remove_numbers=False, remove_punctuation=False,\n",
    "                        remove_special_characters=False, remove_whitespaces=False, remove_specials_weird=False,\n",
    "                        remove_stopwords=False, replace_emails=False, replace_names=False, replace_orgs=False,\n",
    "                        tokenize=False, lemmatize=False, glove=False, remove_endlines=False,\n",
    "                        replace_copyright_symbol_v2=False):\n",
    "    if type(sentences) is not list:\n",
    "        sentences = sentences.to_list()\n",
    "    if replace_dates:\n",
    "        if glove:\n",
    "            sentences = [re.sub(r'\\d{4}', ' <DATE> ', sentence) for sentence in sentences]\n",
    "        else:\n",
    "            sentences = [re.sub(r'\\d{4}', ' DATE ', sentence) for sentence in sentences]\n",
    "    if remove_numbers:\n",
    "        sentences = [re.sub(r'\\d+', ' ', sentence) for sentence in sentences]\n",
    "    if replace_copyright_symbols:\n",
    "        if glove:\n",
    "            symbol_text = ' <COPYRIGHT SYMBOL> '\n",
    "        else:\n",
    "            symbol_text = ' COPYRIGHTSYMBOL '\n",
    "        sentences = [re.sub(r'©', symbol_text, sentence) for sentence in sentences]\n",
    "        sentences = [re.sub(r'\\(c\\)', symbol_text, sentence) for sentence in sentences]\n",
    "        sentences = [re.sub(r'\\(C\\)', symbol_text, sentence) for sentence in sentences]\n",
    "    if replace_copyright_symbol_v2:\n",
    "        if glove:\n",
    "            symbol_text = ' <COPYRIGHT SYMBOL> '\n",
    "        else:\n",
    "            symbol_text = ' COPYRIGHT SYMBOL '\n",
    "        sentences = [re.sub(r'©', symbol_text, sentence) for sentence in sentences]\n",
    "        sentences = [re.sub(r'\\(c\\)', symbol_text, sentence) for sentence in sentences]\n",
    "        sentences = [re.sub(r'\\(C\\)', symbol_text, sentence) for sentence in sentences]\n",
    "    if replace_emails:\n",
    "        if glove:\n",
    "            email_text = ' <EMAIL> '\n",
    "        else:\n",
    "            email_text = ' EMAIL '\n",
    "        sentences = [re.sub(\"\"\"(?:[a-z0-9!#$%&'*+/=?^_`{|}~-]+(?:\\.[a-z0-9!#$%&'*+/=?^_`{|}~-]+)*|\"(?:[\\x01-\\x08\\x0b\\x0c\\x0e-\\x1f\\x21\\x23-\\x5b\\x5d-\\x7f]|\\\\[\\x01-\\x09\\x0b\\x0c\\x0e-\\x7f])*\")@(?:(?:[a-z0-9](?:[a-z0-9-]*[a-z0-9])?\\.)+[a-z0-9](?:[a-z0-9-]*[a-z0-9])?|\\[(?:(?:(2(5[0-5]|[0-4][0-9])|1[0-9][0-9]|[1-9]?[0-9]))\\.){3}(?:(2(5[0-5]|[0-4][0-9])|1[0-9][0-9]|[1-9]?[0-9])|[a-z0-9-]*[a-z0-9]:(?:[\\x01-\\x08\\x0b\\x0c\\x0e-\\x1f\\x21-\\x5a\\x53-\\x7f]|\\\\[\\x01-\\x09\\x0b\\x0c\\x0e-\\x7f])+)\\])\"\"\", email_text, sentence) for sentence in sentences]\n",
    "    if tokenize:\n",
    "        if not glove:\n",
    "            sentences = [''.join(tokenizer.tokenize(sentence)) for sentence in sentences]\n",
    "        else:\n",
    "            sentences = [tokenizer.tokenize(sentence) for sentence in sentences]\n",
    "    if lemmatize:\n",
    "        lemmatizer = WordNetLemmatizer()\n",
    "        if not glove:\n",
    "            sentences = [''.join([lemmatizer.lemmatize(word) for word in sentence]) for sentence in sentences]\n",
    "        else:\n",
    "            sentences = [[lemmatizer.lemmatize(word) for word in sentence] for sentence in sentences]\n",
    "    if remove_punctuation:\n",
    "        sentences = [re.sub(r'[^\\w\\s]', ' ', sentence) for sentence in sentences]\n",
    "    if remove_special_characters:\n",
    "        sentences = [re.sub(r'[^a-zA-Z0-9]', ' ', sentence) for sentence in sentences]\n",
    "    if remove_specials_weird:\n",
    "        sentences = [re.sub(r'[^a-zA-Z0-9]', '', sentence) for sentence in sentences]\n",
    "    if lower:\n",
    "        sentences = [sentence.lower() for sentence in sentences]\n",
    "    if remove_stopwords:\n",
    "        sentences = [re.sub(r'\\b(?:{})\\b'.format('|'.join(stopwords.words('english'))), ' ', sentence)\n",
    "                     for sentence in sentences]\n",
    "    if replace_names:\n",
    "        entities = [nlp(sentence) for sentence in sentences]\n",
    "        merged_entities = [merge_entities(entity) for entity in entities]\n",
    "        merged_entities = [[{'entity': entity['entity'] ,'word': 'PERSON' if entity['entity'] == 'LABEL_1' or entity['entity'] == 'LABEL_2' else entity['word']} for entity in merged_entity] for merged_entity in merged_entities]\n",
    "        if replace_orgs:\n",
    "            merged_entities = [[{'entity': entity['entity'], 'word': 'ORG' if entity['entity'] == 'LABEL_3' or entity['entity'] == 'LABEL_4' else entity['word']} for entity in merged_entity] for merged_entity in merged_entities]\n",
    "        sentences = [' '.join([entity['word'] for entity in merged_entity]) for merged_entity in merged_entities]\n",
    "    if replace_orgs:\n",
    "        if not replace_names:\n",
    "            entities = [nlp(sentence) for sentence in sentences]\n",
    "            merged_entities = [merge_entities(entity) for entity in entities]\n",
    "            merged_entities = [[{'entity': entity['entity'], 'word': 'ORG' if entity['entity'] == 'LABEL_3' or entity['entity'] == 'LABEL_4' else entity['word']} for entity in merged_entity] for merged_entity in merged_entities]\n",
    "            sentences = [' '.join([entity['word'] for entity in merged_entity]) for merged_entity in merged_entities]\n",
    "    if remove_endlines:\n",
    "        sentences = [re.sub(r'\\n', ' ', sentence) for sentence in sentences]\n",
    "    if remove_whitespaces:\n",
    "        sentences = [re.sub(r' {2,}', ' ', sentence) for sentence in sentences]\n",
    "    return sentences"
   ]
  },
  {
   "cell_type": "code",
   "execution_count": 25,
   "metadata": {},
   "outputs": [
    {
     "name": "stdout",
     "output_type": "stream",
     "text": [
      "Number of missclassifications in class 0:  26.0 out of a total sample of:  16377.0  - about  0.16 % of the class was missclassified\n",
      "Number of missclassifications in class 1:  25.0 out of a total sample of:  5393.0  - about  0.46 % of the class was missclassified\n"
     ]
    }
   ],
   "source": [
    "clf = OneVsRestClassifier(SVC(probability=True, C=25))\n",
    "test_1 = train(clf, TfidfVectorizer(ngram_range=(1, 2), binary=True), None, preprocess_function,\n",
    "                                            replace_dates=True, remove_numbers=True, replace_copyright_symbols=True,\n",
    "                                            remove_whitespaces=True, lower=True, remove_special_characters=True, \n",
    "                                            replace_emails=True)"
   ]
  },
  {
   "cell_type": "code",
   "execution_count": 63,
   "metadata": {},
   "outputs": [
    {
     "name": "stdout",
     "output_type": "stream",
     "text": [
      "Number of missclassifications in class 0:  19.0 out of a total sample of:  16377.0  - about  0.12 % of the class was missclassified\n",
      "Number of missclassifications in class 1:  28.0 out of a total sample of:  5393.0  - about  0.52 % of the class was missclassified\n"
     ]
    }
   ],
   "source": [
    "clf = OneVsRestClassifier(SVC(probability=True, C=25))\n",
    "only_names = train(clf, TfidfVectorizer(ngram_range=(1, 2), binary=True), None, preprocess_function,\n",
    "                                            replace_dates=True, remove_numbers=True, replace_copyright_symbols=True,\n",
    "                                            remove_whitespaces=True, lower=True, remove_special_characters=True, \n",
    "                                            replace_emails=True, replace_names=True) ## 0.26"
   ]
  },
  {
   "cell_type": "code",
   "execution_count": 34,
   "metadata": {},
   "outputs": [
    {
     "name": "stdout",
     "output_type": "stream",
     "text": [
      "Number of missclassifications in class 0:  31.0 out of a total sample of:  16377.0  - about  0.19 % of the class was missclassified\n",
      "Number of missclassifications in class 1:  44.0 out of a total sample of:  5393.0  - about  0.82 % of the class was missclassified\n"
     ]
    }
   ],
   "source": [
    "clf = OneVsRestClassifier(SVC(probability=True, C=25))\n",
    "only_orgs = train(clf, TfidfVectorizer(ngram_range=(1, 2), binary=True), None, preprocess_function,\n",
    "                                            replace_dates=True, remove_numbers=True, replace_copyright_symbols=True,\n",
    "                                            remove_whitespaces=True, lower=True, remove_special_characters=True, \n",
    "                                            replace_emails=True, replace_orgs=True) ## 0.26"
   ]
  },
  {
   "cell_type": "code",
   "execution_count": 238,
   "metadata": {},
   "outputs": [
    {
     "data": {
      "text/plain": [
       "[(1,\n",
       "  10,\n",
       "  'copyright (c) 2012: Scott Jehl, Paul Irish, Nicholas Zakas. Dual MIT/BSD license */ NOTE: If you\\'re already including a window.matchMedia polyfill via Modernizr or otherwise, you don\\'t need this part */ window.matchMedia=window.matchMedia||function(a){\"use strict\";var c,d=a.documentElement,e=d.f'),\n",
       " (1,\n",
       "  87,\n",
       "  'copyright RSA Data Security, Inc. Their notice is reproduced below in its entirety.'),\n",
       " (1,\n",
       "  184,\n",
       "  \"Copyright 1988,1990,1993 by Paul Vixie\\\\n\\\\nAll rights reserved\\\\n\\\\nDistribute freely, except: don't remove my name from the source or documentation (don't take credit for my work), mark your changes (don't get me blamed for your possible bugs), don't alter or remove this notice. May be sold if buildab\"),\n",
       " (1,\n",
       "  292,\n",
       "  \"Copyright Flag\\x018BIM' Japanese Print Flags 8BIM\\x03��\\x17Color Halftone SettingsH/ff\\x01lff /ff\\x01������ 2\\x01Z 5\\x01- 8BIM\\x03��\\x17Color Transfer Settingsp��������������������������������������������\\x03����������������������������������������������\\x03����������������������������������������������\\x03������������������������\"),\n",
       " (1, 295, 'Copyright 2003 Name'),\n",
       " (1,\n",
       "  682,\n",
       "  \"copyright (copyright_pk, agent_fk, pfile_fk, content, hash, type, copy_startbyte, copy_endbyte, is_enabled) VALUES (10, 8, 5, 'copyright (c) 2002 by author professional identification * url 0xcd38e0e5aeb1930f', 'statement', 31, 97, 'true');\"),\n",
       " (1,\n",
       "  746,\n",
       "  \"(c) Mar 2002 evil_deceiver http://justice.loyola.edu/~mcoffey/ce/music/genre.php released under the GNU GPL ( http://www.gnu.org/copyleft/gpl.html ) If there's a word that you think should be in here but isn't, let me know.\"),\n",
       " (1,\n",
       "  793,\n",
       "  'copyright RSA Data Security, Inc.</s> Their notice is reproduced below in its entirety.'),\n",
       " (1, 1149, 'Copyright (C) YEAR Free Software Foundation, Inc.'),\n",
       " (1,\n",
       "  1293,\n",
       "  'Copyright \\\\(co 2006 Canonical Ltd. br This is free software; see the source for copying conditions. There is NO warranty; not even for MERCHANTABILITY or FITNESS FOR A PARTICULAR PURPOSE.'),\n",
       " (1,\n",
       "  1343,\n",
       "  'Copyright (c) [year] [copyright holders] The Universal Permissive License (UPL), Version 1.0'),\n",
       " (1,\n",
       "  1443,\n",
       "  'Copyright (C) 1991-2020 Free Software Foundation, Inc.\" License: description: License from the database type: object properties: shortName: description: Short name type: string example: MIT\" fullName: descript'),\n",
       " (1, 1490, '�� wraps an actual value allowing assertions to be made on it:'),\n",
       " (1, 1728, '�� 6[��9'),\n",
       " (1,\n",
       "  1750,\n",
       "  '�� and Expect functions automatically trigger failure if any return values after the first return value are non-zero/non-nil.'),\n",
       " (1,\n",
       "  1753,\n",
       "  '�� i nomi sul disco\\\\n\" t kubectl create secret generic my-secret --from-file=ssh-privatekey=~/.\" ssh/id_rsa --from-file=ssh-publickey=~/.ssh/id_rsa.pub\\\\n\"'),\n",
       " (1,\n",
       "  1761,\n",
       "  'copyrighted by, proprietary to and a trade secret of ADAPTEC. ADAPTEC retains the title, ownership and intellectual property rights in and to the Software and all subsequent copies regardless of the form or media. The Software is protected by the copyright laws of the United States, the European Uni'),\n",
       " (1,\n",
       "  2006,\n",
       "  '© Fossology contributors SPDX-License-Identifier: GPL-2.0-only file brief Add the template path of decider twig templates to twig.loader see Twig_Loader_Filesystem'),\n",
       " (1, 2256, 'copyright> year>2003-2005</year> holder>Jeff Garzik</holder>'),\n",
       " (1,\n",
       "  2345,\n",
       "  '�� x. func (s *Sparse) IntersectionWith(x *Sparse) { if s == x { return'),\n",
       " (1,\n",
       "  2391,\n",
       "  '(c) for c in u\"������������\"]) self.assertAllEqual(starts, [0, 3, 6, 9])'),\n",
       " (1,\n",
       "  2583,\n",
       "  'copyrights include \"red hat\", \"red hat software\" and \"red hat inc\"'),\n",
       " (1, 2805, '�� criado, \"'),\n",
       " (1, 2870, 'Copyright Eberhard Mattes'),\n",
       " (1, 2930, '�� T == T'),\n",
       " (1,\n",
       "  3154,\n",
       "  '(c) the European Community 2007\\\\n\\\\nThis European Union Public Licence (the \\\\\"EUPL\\\\\") applies to the Work or Software (as defined below) which is provided under the terms of this Licence. Any use of the Work, other than as authorised under this Licence is prohibited (to the extent such use is covered'),\n",
       " (1,\n",
       "  3300,\n",
       "  '�� i nomi dei file su disco\\\\n\" t\\\\t kubectl create configmap my-config --from-file=key1=/path/to/bar/\" file1.txt --from-file=key2=/path/to/bar/file2.txt\\\\n\"'),\n",
       " (1,\n",
       "  3902,\n",
       "  'copyrighted free software by Yukihiro Matsumoto <matz@netlab.co.jp>. You can redistribute it and/or modify it under either the terms of the GPL see COPYING.txt file), or the conditions below:'),\n",
       " (1,\n",
       "  4311,\n",
       "  'Copyright The OpenTelemetry Authors|generated|GENERATED/ && NR<=3 { found=1; next } END { if (!found) print FILENAME }\\' $$f; \\\\ done); \\\\ if [ -n \"$${licRes}\" ]; then \\\\ echo \"license header checking failed:\"; echo \"$${licRes}\"; \\\\ exit 1; \\\\ fi')]"
      ]
     },
     "execution_count": 238,
     "metadata": {},
     "output_type": "execute_result"
    }
   ],
   "source": [
    "only_orgs[2]"
   ]
  },
  {
   "cell_type": "code",
   "execution_count": 240,
   "metadata": {},
   "outputs": [
    {
     "data": {
      "text/plain": [
       "['copyright copyrightsymbol date scott jehl ORG irish nicholas zakas dual ORG ORG license note if you re already including a window matchmedia polyfill via modernizr or otherwise you don t need this part window matchmedia window matchmedia function a use strict var c d a documentelement e d f',\n",
       " 'copyright rsa data security inc their notice is reproduced below in its entirety',\n",
       " 'copyright date date date by paul vixie n nall rights reserved n ndistribute freely except don t remove my name from the source or documentation don t take credit for my work mark your changes don t get me blamed for your possible bugs don t alter or remove this notice may be sold if buildab',\n",
       " 'copyright flag bim japanese print flags bim color halftone settingsh ff ORG ff z bim color transfer settingsp',\n",
       " 'copyright date name',\n",
       " 'copyright copyright pk agent ORG ORG ORG ORG ORG type copy startbyte copy endbyte is enabled values copyright copyrightsymbol date by author professional identification url xcd e e aeb date f statement true',\n",
       " 'copyrightsymbol mar date evil deceiver http justice loyola edu mcoffey ORG music genre php released under the gnu gpl http www gnu org copyleft gpl html if there s a word that you think should be in here but isn t let me know',\n",
       " 'copyright rsa ORG ORG ORG s their notice is reproduced below in its entirety',\n",
       " 'ORG copyrightsymbol year free ORG ORG ORG',\n",
       " 'copyright co date canonical ltd br this is free software see the source for copying conditions there is no warranty not even for merchantability or fitness for a particular purpose',\n",
       " 'copyright copyrightsymbol year copyright holders the universal permissive license upl version',\n",
       " 'copyright copyrightsymbol date date free software ORG inc license description license from the database type object properties shortname description short name type string example mit fullname descript',\n",
       " 'wraps an actual value allowing assertions to be made on it',\n",
       " '',\n",
       " 'and expect functions automatically trigger failure if any return values after the first return value are non zero non nil',\n",
       " 'i nomi sul disco n t kubectl create secret generic my secret from file ssh privatekey ORG id ORG from file ORG ORG ORG id ORG pub n',\n",
       " 'copyrighted by proprietary to and a trade secret of adaptec adaptec retains the title ownership and intellectual property rights in and to the software and all subsequent copies regardless of the form or media the software is protected by the copyright laws of the united states the european uni',\n",
       " 'copyrightsymbol fossology contributors spdx license identifier gpl only file brief add the template path of decider twig templates to twig loader see twig loader filesystem',\n",
       " 'copyright year date date year holder jeff garzik holder',\n",
       " 'ORG func s sparse intersectionwith x sparse if s x return',\n",
       " 'copyrightsymbol for c in u self assertallequal starts',\n",
       " 'copyrights include ORG ORG ORG ORG software and ORG ORG ORG',\n",
       " 'ORG',\n",
       " 'copyright eberhard mattes',\n",
       " 't t',\n",
       " 'copyrightsymbol the ORG community date n nthis ORG ORG public licence the eupl applies to the work or software as defined below which is provided under the terms of this licence any use of the work other than as authorised under this licence is prohibited to the extent such use is covered',\n",
       " 'i nomi dei file su disco n t t kubectl create configmap my config from file key path to bar file ORG from file key path to bar file ORG n',\n",
       " 'copyrighted free software by yukihiro matsumoto email you can redistribute it and or modify it under either the terms of the gpl see copying txt file or the conditions below',\n",
       " 'copyright the opentelemetry authors generated generated nr found next end if found print filename f done if n licres then echo license header checking failed echo licres exit fi']"
      ]
     },
     "execution_count": 240,
     "metadata": {},
     "output_type": "execute_result"
    }
   ],
   "source": [
    "sentences = []\n",
    "for row in only_orgs[2]:\n",
    "    sentences.append(row[2])\n",
    "sentences = preprocess_function(sentences, replace_dates=True, remove_numbers=True, replace_copyright_symbols=True,\n",
    "                                remove_whitespaces=True, lower=True, remove_special_characters=True, \n",
    "                                replace_emails=True, replace_orgs=True)\n",
    "\n",
    "sentences"
   ]
  },
  {
   "cell_type": "code",
   "execution_count": 82,
   "metadata": {},
   "outputs": [
    {
     "name": "stdout",
     "output_type": "stream",
     "text": [
      "Number of missclassifications in class 0:  26.0 out of a total sample of:  16377.0  - about  0.16 % of the class was missclassified\n",
      "Number of missclassifications in class 1:  44.0 out of a total sample of:  5393.0  - about  0.82 % of the class was missclassified\n"
     ]
    }
   ],
   "source": [
    "clf = OneVsRestClassifier(SVC(probability=True, C=25))\n",
    "names_and_orgs = train(clf, TfidfVectorizer(ngram_range=(1, 2), binary=True), None, preprocess_function,\n",
    "                                            replace_dates=True, remove_numbers=True, replace_copyright_symbols=True,\n",
    "                                            remove_whitespaces=True, lower=True, remove_special_characters=True, \n",
    "                                            replace_emails=True, replace_names=True, replace_orgs=True) ## 0.26"
   ]
  },
  {
   "cell_type": "code",
   "execution_count": 83,
   "metadata": {},
   "outputs": [
    {
     "data": {
      "text/plain": [
       "[(1,\n",
       "  244,\n",
       "  '��\\tNU��!nep��g��[\\x1fl��pj\\x043K��Y����\\x12y+ 4����y%��f\\x083K��Y����\\x12f��0����y%��VW{\\x12��,af\\t3K��Y��\\x12����0������\\x14af����5 ��\\x19��9��������4v} ����\\x1e��&����jC��r=\\x1a��>7P'),\n",
       " (1,\n",
       "  292,\n",
       "  \"Copyright Flag\\x018BIM' Japanese Print Flags 8BIM\\x03��\\x17Color Halftone SettingsH/ff\\x01lff /ff\\x01������ 2\\x01Z 5\\x01- 8BIM\\x03��\\x17Color Transfer Settingsp��������������������������������������������\\x03����������������������������������������������\\x03����������������������������������������������\\x03������������������������\"),\n",
       " (1, 295, 'Copyright 2003 Name'),\n",
       " (1,\n",
       "  637,\n",
       "  \"�� J��T����R7��T\\x06o��������Jvow\\x1er\\ne��m��HA\\x04D��������I��t��/����\\x0c����Tt|��p\\x07��������d\\x05V��#��\\x7f\\x07������p����GM��4B����\\x03��yD���� ����i��v\\x19ST����Me����������\\x13��S��q\\x1cO��Gm[qN��mZ����Q+������eQ+|\\x12.����5��\\x19��8[\\x160������Z��L��w��%��\\x08��Ll<\\x1aF\\x1d��\\x19Rbf��\\x1br��b&9������Z[V��', ����>6��b0F��[f����a���� ������\\x148����jr(G����Tg��O����D/������[N/h��\\x01V��)����Knvf����f����g\\x1fv������,\\x0b=������ed��\\\\H����Y����}��>QB\\\\��\\x14=����`Q\\x16K������\\x14������\\x03_��\"),\n",
       " (1,\n",
       "  682,\n",
       "  \"copyright (copyright_pk, agent_fk, pfile_fk, content, hash, type, copy_startbyte, copy_endbyte, is_enabled) VALUES (10, 8, 5, 'copyright (c) 2002 by author professional identification * url 0xcd38e0e5aeb1930f', 'statement', 31, 97, 'true');\"),\n",
       " (1,\n",
       "  1343,\n",
       "  'Copyright (c) [year] [copyright holders] The Universal Permissive License (UPL), Version 1.0'),\n",
       " (1, 1490, '�� wraps an actual value allowing assertions to be made on it:'),\n",
       " (1,\n",
       "  1750,\n",
       "  '�� and Expect functions automatically trigger failure if any return values after the first return value are non-zero/non-nil.'),\n",
       " (1,\n",
       "  1753,\n",
       "  '�� i nomi sul disco\\\\n\" t kubectl create secret generic my-secret --from-file=ssh-privatekey=~/.\" ssh/id_rsa --from-file=ssh-publickey=~/.ssh/id_rsa.pub\\\\n\"'),\n",
       " (1,\n",
       "  1761,\n",
       "  'copyrighted by, proprietary to and a trade secret of ADAPTEC. ADAPTEC retains the title, ownership and intellectual property rights in and to the Software and all subsequent copies regardless of the form or media. The Software is protected by the copyright laws of the United States, the European Uni'),\n",
       " (1,\n",
       "  2006,\n",
       "  '© Fossology contributors SPDX-License-Identifier: GPL-2.0-only file brief Add the template path of decider twig templates to twig.loader see Twig_Loader_Filesystem'),\n",
       " (1,\n",
       "  2258,\n",
       "  '�� O��\\x12Oh��2����Fv}Wy\\x1d_xE_�����x��������s����������\\x04?u!Xy����-��\\x0e3��K��\\x13P��5P��\\x1a��1:����:��HC]P\\x05}����k��A����        ��P��:������ ��P\\x0f��H\\x0e5��B\\x1a��I����AJ����[��K��        ��)'),\n",
       " (1,\n",
       "  2345,\n",
       "  '�� x. func (s *Sparse) IntersectionWith(x *Sparse) { if s == x { return'),\n",
       " (1,\n",
       "  2391,\n",
       "  '(c) for c in u\"������������\"]) self.assertAllEqual(starts, [0, 3, 6, 9])'),\n",
       " (1,\n",
       "  2583,\n",
       "  'copyrights include \"red hat\", \"red hat software\" and \"red hat inc\"'),\n",
       " (1,\n",
       "  3154,\n",
       "  '(c) the European Community 2007\\\\n\\\\nThis European Union Public Licence (the \\\\\"EUPL\\\\\") applies to the Work or Software (as defined below) which is provided under the terms of this Licence. Any use of the Work, other than as authorised under this Licence is prohibited (to the extent such use is covered'),\n",
       " (1,\n",
       "  3300,\n",
       "  '�� i nomi dei file su disco\\\\n\" t\\\\t kubectl create configmap my-config --from-file=key1=/path/to/bar/\" file1.txt --from-file=key2=/path/to/bar/file2.txt\\\\n\"'),\n",
       " (1,\n",
       "  4311,\n",
       "  'Copyright The OpenTelemetry Authors|generated|GENERATED/ && NR<=3 { found=1; next } END { if (!found) print FILENAME }\\' $$f; \\\\ done); \\\\ if [ -n \"$${licRes}\" ]; then \\\\ echo \"license header checking failed:\"; echo \"$${licRes}\"; \\\\ exit 1; \\\\ fi')]"
      ]
     },
     "execution_count": 83,
     "metadata": {},
     "output_type": "execute_result"
    }
   ],
   "source": [
    "only_names[2]"
   ]
  },
  {
   "cell_type": "code",
   "execution_count": 84,
   "metadata": {},
   "outputs": [
    {
     "name": "stdout",
     "output_type": "stream",
     "text": [
      "Number of missclassifications in class 0:  4.0 out of a total sample of:  16377.0  - about  0.02 % of the class was missclassified\n",
      "Number of missclassifications in class 1:  194.0 out of a total sample of:  5393.0  - about  3.6 % of the class was missclassified\n"
     ]
    }
   ],
   "source": [
    "clf = OneVsRestClassifier(SVC(probability=True, C=25))\n",
    "only_names_99 = train(clf, TfidfVectorizer(ngram_range=(1, 2), binary=True), 0.99, preprocess_function,\n",
    "                                            replace_dates=True, remove_numbers=True, replace_copyright_symbols=True,\n",
    "                                            remove_whitespaces=True, lower=True, remove_special_characters=True, \n",
    "                                            replace_emails=True, replace_names=True) ## 0.26"
   ]
  },
  {
   "cell_type": "code",
   "execution_count": 86,
   "metadata": {},
   "outputs": [
    {
     "data": {
      "text/plain": [
       "[(1,\n",
       "  11786,\n",
       "  'Copyright (c) [year] [copyright holders] The Universal Permissive License (UPL), Version 1.0'),\n",
       " (1,\n",
       "  13458,\n",
       "  '(c) the European Community 2007\\\\n\\\\nThis European Union Public Licence (the \\\\\"EUPL\\\\\") applies to the Work or Software (as defined below) which is provided under the terms of this Licence. Any use of the Work, other than as authorised under this Licence is prohibited (to the extent such use is covered'),\n",
       " (1, 17694, 'Copyright © . All rights reserved.'),\n",
       " (1, 17927, 'Copyright 2003 Name')]"
      ]
     },
     "execution_count": 86,
     "metadata": {},
     "output_type": "execute_result"
    }
   ],
   "source": [
    "only_names_99[2]"
   ]
  },
  {
   "cell_type": "markdown",
   "metadata": {},
   "source": [
    "## Language Detection"
   ]
  },
  {
   "cell_type": "code",
   "execution_count": 91,
   "metadata": {},
   "outputs": [
    {
     "name": "stdout",
     "output_type": "stream",
     "text": [
      "The sentence is in English.\n",
      "The confidence score is [0.95017874]\n"
     ]
    },
    {
     "name": "stderr",
     "output_type": "stream",
     "text": [
      "Warning : `load_model` does not return WordVectorModel or SupervisedModel any more, but a `FastText` object which is very similar.\n"
     ]
    }
   ],
   "source": [
    "import fasttext\n",
    "model = fasttext.load_model(\"../lid.176.ftz\")\n",
    "sentence = \"This is an example sentence in English.\"\n",
    "label, score = model.predict(sentence, k=1)"
   ]
  },
  {
   "cell_type": "code",
   "execution_count": 147,
   "metadata": {},
   "outputs": [],
   "source": [
    "np.set_printoptions(threshold=np.inf)"
   ]
  },
  {
   "cell_type": "code",
   "execution_count": 221,
   "metadata": {},
   "outputs": [
    {
     "name": "stdout",
     "output_type": "stream",
     "text": [
      "303 copyright copyright symbol date suse linux products gmbh maciej warnecki maciekw gmail com date wadim dziedzic email  0.8305246233940125\n",
      "304 copyright copyright symbol date suse linux products gmbh s maciej warnecki maciekw gmail com date wadim dziedzic email  0.8305246233940125\n",
      "453 copyright copyright symbol date orange author drozdz bartlomiej email  0.9019572734832764\n",
      "607 copyright date date ion gaztanaga 0.859765350818634\n",
      "628 copyright copyright symbol date louis dionne 0.9576355218887329\n",
      "687 copyright copyright symbol date date louis dionne 0.9576355218887329\n",
      "730 copyright date date ion gaztanaga 0.9074114561080933\n",
      "804 copyright date date ion gaztanaga 0.9074114561080933\n",
      "811 copyright date date ion gaztanaga 0.9074114561080933\n",
      "942 copyright date ion gaztanaga 0.9074114561080933\n",
      "1153 copyright date maarten keijzer 0.8483233451843262\n",
      "1357 copyright thijs van den berg date  0.8920164108276367\n",
      "1408 copyright date giel van schijndel 0.9443939924240112\n",
      "1418 copyright date maciej piechotka authors maciej piechotka 0.825570285320282\n",
      "1577 copyright date date ion gaztanaga 0.9074114561080933\n",
      "1607 copyright ralf w grosse kunstleve date  0.8185913562774658\n",
      "1613 copyright ralf w grosse kunstleve date  0.8185913562774658\n",
      "1615 copyright ralf w grosse kunstleve date  0.8185913562774658\n",
      "1639 copyright date date ion gaztanaga 0.9074114561080933\n",
      "1740 copyright copyright symbol date date samuel debionne grenoble france  0.9761606454849243\n",
      "1761 copyright louis dionne date  0.9293875694274902\n",
      "1763 copyright louis dionne date  0.9293875694274902\n",
      "1999 copyright ion gaztanaga date  0.9074114561080933\n",
      "2151 copyright ralf w grosse kunstleve date date  0.8185913562774658\n",
      "2171 copyright copyright symbol date louis dionne 0.9576355218887329\n",
      "3191 copyright copyright symbol date louis dionne 0.9576355218887329\n",
      "3374 copyright date ion gaztanaga 0.9074114561080933\n",
      "3477 copyright date è ªç è½ ä å ºé ä¼ ã  0.9417115449905396\n",
      "3571 copyright ç æ æ æ date è ªç è½ ä å ºé ä¼ ã  0.8621582984924316\n",
      "3716 copyright louis dionne date date  0.9293875694274902\n",
      "3731 copyright ion gaztanaga date date  0.9074114561080933\n",
      "3816 copyright louis dionne date date  0.9293875694274902\n",
      "3826 copyright date date ion gaztanaga 0.9074114561080933\n",
      "4192 copyright copyright symbol fsf wszystkie prawa zastrzezone 0.9408255219459534\n",
      "4660 copyright louis dionne date date  0.9745222330093384\n",
      "4768 copyright ion gaztanaga date  0.9074114561080933\n",
      "4769 copyright copyright symbol date samuel debionne grenoble france  0.9761606454849243\n",
      "4771 copyright ion gaztanaga date  0.9074114561080933\n",
      "4787 copyright date date ion gaztanaga 0.9074114561080933\n",
      "4809 copyright date date ion gaztanaga 0.859765350818634\n",
      "4854 copyright date date ion gaztanaga 0.859765350818634\n",
      "4976 copyright copyright symbol date louis dionne 0.9576355218887329\n",
      "4988 copyright thijs van den berg date  0.8920164108276367\n",
      "5055 copyright louis dionne date date  0.9745222330093384\n",
      "5057 copyright louis dionne date date  0.9745222330093384\n",
      "5408 copyright date date ion gaztanaga 0.9074114561080933\n",
      "5416  copyright symbol copyright date louis dionne 0.9576355218887329\n",
      "5479 copyright date ion gaztanaga 0.9074114561080933\n",
      "5487 copyright ion gaztanaga date date  0.9074114561080933\n",
      "5614 copyright louis dionne date  0.9745222330093384\n",
      "5615 copyright louis dionne date  0.9745222330093384\n",
      "5766 copyright copyright symbol date louis dionne 0.9576355218887329\n",
      "6574 copyright copyright symbol date free software foundation inc അന പ anoop പ p email ല ല lalu ക ആര kr email സജ വ sajeev പ ആര pr email  0.9108763933181763\n",
      "7201 copyright copyright symbol date associazione culturale itpug 0.9190660715103149\n",
      "7299 copyright copyright symbol date date gant red hat inc  0.971695065498352\n",
      "7532 copyright copyright symbol date date baptiste lepilleur 0.8894314169883728\n",
      "7673  copyright symbol jonathan a schweder lt email gt  0.8497745394706726\n",
      "7675 copyright date baptiste lepilleur 0.9376837015151978\n",
      "7678 copyright date baptiste lepilleur 0.9376837015151978\n",
      "7679 copyright date date baptiste lepilleur 0.9376837015151978\n",
      "7680 copyright date date baptiste lepilleur 0.9376837015151978\n",
      "7682 copyright date baptiste lepilleur 0.9376837015151978\n",
      "7687 copyright date baptiste lepilleur 0.9376837015151978\n",
      "7716 copyright copyright symbol date bundesamt für sicherheit in der informationstechnik 0.9555254578590393\n",
      "7955 copyright copyright symbol date andrew gierth 0.9575702548027039\n",
      "9851 copyright copyright symbol date date free software foundation inc kemal yilmaz email date mətin əmirov email date  0.8871710300445557\n",
      "10402 copyright copyright symbol date date diego pettenò email  0.822978138923645\n",
      "10406 copyright copyright symbol date tomasz miąsko 0.9061869978904724\n",
      "10638 copyright copyright symbol date free software foundation inc мирослав николић email date date  0.9079232215881348\n",
      "10796 copyright date free software foundation inc 版权所有 date date 自由软件基金会  0.8159257173538208\n",
      "11907  copyright symbol de jouir de l œuvre tel que permis par la lal liberté de copier diffuser modifier implique pour chacun la responsabilité de ses propres faits  0.9614472985267639\n",
      "11908  copyright symbol posés par la lal  0.9956325888633728\n",
      "11909  copyright symbol de modifier les copies des originaux initiaux et conséquents dans le respect des conditions suivantes   0.9872877597808838\n",
      "11910  copyright symbol de copier cette œuvre pour vous vos amis ou toute autre personne quelle que soit la technique employée  0.9849255681037903\n",
      "11921  copyright symbol accordées par cette licence ces autorisations n entraînent pas un dessaisissement de vos droits intellectuels  0.992725133895874\n",
      "11924  copyright symbol souhaite distribuer un logiciel modifié combiné à un logiciel assujetti à une licence compatible mais dont il ne serait pas possible d en respecter les termes le concédant offre en plus de la présente concession une concession selon les termes de cette licence compatible  0.9898642301559448\n",
      "11954  copyright symbol distribue le logiciel ou un logiciel modifié ce dernier doit assumer l obligation d en distribuer le code source de la manière prévue au troisième alinéa de l article   0.9354740977287292\n",
      "11955  copyright symbol distribue le logiciel le concédant offre au récipiendaire une concession sur le logiciel selon les termes de la présente licence le licencié doit offrir une concession selon les termes de la présente licence pour tout logiciel modifié qu il distribue  0.9885149598121643\n",
      "11956  copyright symbol dont le titulaire du droit d auteur précise qu il est sujet aux termes de la licence libre du québec réciprocité liliq r ci après appelée la  licence   0.97068190574646\n",
      "11967  copyright symbol est comparable ou supérieur à celui de la présente licence sans toutefois être moindre notamment   0.9939047694206238\n",
      "11986  copyright symbol dans un délai de jours de sa prise de connaissance par la personne en défaut et qu il s agit du premier défaut la licence est accordée de nouveau  0.9902487397193909\n",
      "11987  copyright symbol ou par des tiers pour quelque cause que ce soit en lien avec la licence et les droits qui y sont accordés  0.9985330104827881\n",
      "11988  copyright symbol est responsable de tout préjudice résultant de l exercice des droits accordés par la licence  0.9831392168998718\n",
      "11989  copyright symbol d offrir ou d exclure des garanties ou du support  0.8413841724395752\n",
      "11990  copyright symbol est comparable à celui de la présente licence sans toutefois être moindre notamment  0.9956293702125549\n",
      "11991  copyright symbol qui est titulaire exclusif du droit d auteur sur le logiciel assujetti à une licence compatible ne peut pas se prévaloir de cette offre il en est de même pour toute autre personne dûment autorisée à sous licencier par le titulaire exclusif du droit d auteur sur le logiciel assujetti à une 0.9964910745620728\n",
      "11992  copyright symbol souhaite distribuer un logiciel modifié ou dérivé combiné à un logiciel assujetti à une licence compatible mais dont il ne serait pas possible d en respecter les termes le concédant offre en plus de la présente concession une concession selon les termes de cette licence compatible  0.9908694624900818\n",
      "11993  copyright symbol distribue le logiciel un logiciel modifié ou un logiciel dérivé ce dernier doit assumer l obligation d en distribuer le code source de la manière prévue au troisième alinéa de l article  0.9464313983917236\n",
      "11994  copyright symbol distribue le logiciel le concédant offre au récipiendaire une concession sur le logiciel selon les termes de la présente licence le licencié doit offrir une concession selon les termes de la présente licence pour tout logiciel modifié ou dérivé qu il distribue  0.9897311329841614\n",
      "11995  copyright symbol concernant le logiciel ne doivent pas être modifiées ou supprimées à moins que ces étiquettes ou mentions ne soient inapplicables à un logiciel modifié ou dérivé donné  0.9905753135681152\n",
      "11996  copyright symbol modifié le licencié doit en faire la mention de préférence dans chacun des fichiers modifiés dont la nature permet une telle mention  0.9916402101516724\n",
      "11997  copyright symbol d un exemplaire de cette licence  0.8795099854469299\n",
      "11998  copyright symbol peut choisir sous quelle version la licence lui est accordée  0.9555037021636963\n",
      "12011  copyright symbol peut distribuer des copies du logiciel d un logiciel modifié ou dérivé sous réserve de respecter les conditions suivantes  0.9925848245620728\n",
      "12025  copyright symbol d une offre de distribuer le code source du logiciel sans frais supplémentaires autres que ceux raisonnables afin de permettre la livraison du code source cette offre doit être valide pendant une durée raisonnable  0.9892308712005615\n",
      "12054  copyright symbol ou une partie importante  0.9988166689872742\n",
      "12055  copyright symbol ou une partie importante en public  0.9891808032989502\n",
      "12056  copyright symbol ou une partie importante  0.9988166689872742\n",
      "12057  copyright symbol une licence non exclusive et libre de redevances lui permettant d exercer les droits suivants sur le logiciel  0.9615967273712158\n",
      "12058  copyright symbol de l un des fichiers source du logiciel ou encore tout nouveau fichier source qui incorpore le logiciel ou une partie importante de ce dernier  0.988348662853241\n",
      "12059  copyright symbol par un licencié autre que le logiciel ou un logiciel modifié qui produit ou reproduit la totalité ou une partie importante du logiciel  0.9937912821769714\n",
      "12060  copyright symbol qu elle est sujette aux termes de la présente licence  0.9929901957511902\n",
      "12061  copyright symbol dans le logiciel  0.9984148144721985\n",
      "12062  copyright symbol comme un concédant en regard de sa contribution  0.8378266096115112\n",
      "12063  copyright symbol dont le titulaire du droit d auteur précise qu il est sujet aux termes de la licence libre du québec réciprocité forte liliq r ci après appelée la  licence   0.9687698483467102\n",
      "12108  copyright symbol de proposer de nouvelles versions de la licence ouverte cependant les réutilisateurs pourront continuer à réutiliser les informations qu ils ont obtenues sous cette licence s ils le souhaitent text  0.9853960275650024\n",
      "12110  copyright symbol du premier ministre d ouvrir le plus grand nombre de données publiques des administrations de l etat et de ses établissements publics elle a réalisé la licence ouverte pour faciliter la réutilisation libre et gratuite de ces informations publiques telles que définies par l article l  0.9873132705688477\n",
      "12111  copyright symbol produite ou reçue  0.9936847686767578\n",
      "12112  copyright symbol conçue pour être compatible avec toute licence libre qui exige au moins la mention de paternité et notamment avec la version antérieure de la présente licence ainsi qu avec les licences  0.9964027404785156\n",
      "12113  copyright symbol intellectuelle cessibles sur l information il les cède au réutilisateur de façon non exclusive à titre gracieux pour le monde entier pour toute la durée des droits de propriété intellectuelle et le réutilisateur peut faire tout usage de l information c 0.9908818602561951\n",
      "12114  copyright symbol intellectuelle détenus par des tiers ou par le concédant sur l information ne font pas obstacle aux droits accordés par la présente licence  0.9952107071876526\n",
      "12115  copyright symbol ne confère aucun caractère officiel à la réutilisation de l information et ne doit pas suggérer une quelconque reconnaissance ou caution par le concédant ou par toute autre entité publique du réutilisateur ou de sa réutilisation  0.988773763179779\n",
      "12124  copyright symbol intellectuelle tous droits identifiés comme tels par le code de la propriété intellectuelle notamment le droit d auteur droits voisins au droit d auteur droit sui generis des producteurs de bases de données  0.9788200855255127\n",
      "12152  copyright symbol communiquée ou alors vous prévaloir des dispositions d une des versions ultérieures  0.988646388053894\n",
      "12153  copyright symbol accordés par cette licence  0.9949263334274292\n",
      "12155  copyright symbol de modifier les copies des originaux originels et conséquents qui peuvent être partielles ou non dans le respect des conditions prévues à l article en cas de diffusion ou représentation de la copie modifiée l auteur de l original pourra s il le souhaite vous autoriser à modifie 0.9880353212356567\n",
      "12156  copyright symbol l oeuvre à l origine d une arborescence de cette oeuvre modifiée par cette licence l auteur détermine les conditions dans lesquelles ce travail se fait  0.9969125986099243\n",
      "12157  copyright symbol de l oeuvre de sa définition de sa partition ou de son programme que l auteur présente comme référence pour toutes actualisations interprétations copies ou reproductions ultérieures  0.9561299681663513\n",
      "12158  copyright symbol expérimenté par nombre d artistes contemporains  0.9534264206886292\n",
      "12159  copyright symbol littéraire et artistique conduit à restreindre l accès du public à l oeuvre la licence art libre a pour but de le favoriser  0.9761705994606018\n",
      "12163  copyright symbol une licence non exclusive et libre de redevances lui permettant d exercer les droits suivants sur le logiciel   0.9589525461196899\n",
      "12164  copyright symbol dont le titulaire du droit d auteur précise qu il est sujet aux termes de la licence libre du québec permissive liliq p ci après appelée la  licence   0.9609107971191406\n",
      "12167  copyright symbol de copier cette oeuvre pour un usage personnel pour vos amis ou toute autre personne et quelque soit la technique employée  0.9850040078163147\n",
      "12455  copyright symbol que le présent contrat et tous les documents connexes soient rédigés en anglais  0.9901013970375061\n",
      "13504  copyright symbol ministerium f u fcr wissenschaft und forschung nordrhein westfalen date n nerstellt von axel metzger und till jaeger institut f u fcr rechtsfragen der freien und open source software http www ifross de n npr u e ambel n nsoftware ist mehr als ein wirtschaftsgut sie ist die technisc 0.9975071549415588\n",
      "15239  copyright symbol date date orange contributors piotr pszczola bartlomiej drozdz 0.9283848404884338\n",
      "15495 copyright acr par  0.9999070763587952\n",
      "15748 copyright c copy year some groupe bull  0.8888761401176453\n",
      "15996 copyright â copyright symbol date date json lib 0.8093206286430359\n",
      "16244  copyright symbol des termes du contrat est réputée acquise du fait du premier des faits suivants  0.9979397654533386\n",
      "16245  copyright symbol rue leblanc immeuble le ponant d date paris  0.8044787645339966\n",
      "16248  copyright symbol au code source et les droits de copie de modification et de redistribution qui découlent de ce contrat ont pour contrepartie de n offrir aux utilisateurs qu une garantie limitée et de ne faire peser sur l auteur du logiciel le titulaire des droits patrimoniaux et les concédants successifs qu  0.9710697531700134\n",
      "16249  copyright symbol d en observer d en étudier ou d en tester le fonctionnement afin de déterminer les idées et principes qui sont à la base de n importe quel élément de ce logiciel et ceci lorsque le licencié effectue toute opération de chargement d affichage d exécution de transmission ou de stockag 0.9750769734382629\n",
      "16250  copyright symbol telle que définie en  0.8681578040122986\n",
      "16251  copyright symbol sa spécificité de logiciel libre qui peut le rendre complexe à manipuler et qui le réserve donc à des développeurs ou des professionnels avertis possédant des connaissances informatiques approfondies les utilisateurs sont donc invités à charger et tester l adéquation du logiciel à leu 0.9905925989151001\n",
      "16252  copyright symbol mis à disposition du licencié préalablement à son acceptation telle que définie à l article ci dessus et le licencié reconnaît en avoir pris connaissance  0.9823082089424133\n",
      "16253  copyright symbol est autorisé à distribuer des copies du logiciel modifié ou non à des tiers dans les conditions ci après détaillées  0.9945166707038879\n",
      "16255  copyright symbol et le concédant  0.9659463763237\n",
      "16256  copyright symbol d une licence non exclusive cessible et mondiale du logiciel telle que définie ci après à l article pour toute la durée de protection des droits portant sur ce logiciel  0.9870958924293518\n",
      "16257  copyright symbol de l un quelconque des droits concédés par le contrat  0.9727174043655396\n",
      "16258  copyright symbol est autorisé à distribuer des copies conformes du logiciel sous forme de code source ou de code objet à condition que cette distribution respecte les dispositions du contrat dans leur totalité et soit accompagnée  0.9899697303771973\n",
      "16259  copyright symbol est autorisé à utiliser le logiciel sans restriction quant aux domaines d application étant ci après précisé que cela comporte  0.9706275463104248\n",
      "16260  copyright symbol permette un accès effectif au code source complet du logiciel pendant au moins toute la durée de sa distribution du logiciel étant entendu que le coût additionnel d acquisition du code source ne devra pas excéder le simple coût de transfert des données  0.9745205044746399\n",
      "16261  copyright symbol apporte une contribution au logiciel le logiciel modifié peut être distribué sous un contrat de licence autre que le présent contrat sous réserve du respect des dispositions de l article  0.9918909668922424\n",
      "16262  copyright symbol est autorisé à apporter toute contribution au logiciel sous réserve de mentionner de façon explicite son nom en tant qu auteur de cette contribution et la date de création de celle ci  0.9868329167366028\n",
      "16263  copyright symbol au logiciel de telle sorte qu ils s exécutent dans le même espace d adressage  0.9953989386558533\n",
      "16264  copyright symbol du logiciel tel que ce module et le logiciel s exécutent dans des espaces d adressage différents l un appelant l autre au moment de leur exécution  0.9754716753959656\n",
      "16265  copyright symbol auteur d au moins une contribution  0.9951329231262207\n",
      "16266  copyright symbol par au moins une contribution  0.9999468922615051\n",
      "16267  copyright symbol est assorti d une obligation forte de citation à la charge de ceux qui distribueraient un logiciel incorporant un logiciel régi par la présente licence afin d assurer que les contributions de tous soient correctement identifiées et reconnues  0.9682090282440186\n",
      "16268  copyright symbol de modification et de redistribution du logiciel régi par cette licence  0.9912317991256714\n",
      "16269  copyright symbol civile que du droit de la propriété intellectuelle et de la protection qu il offre aux auteurs et titulaires des droits patrimoniaux sur un logiciel les auteurs de la licence cecill b sont  0.9662781953811646\n",
      "16270  copyright symbol sous une version donnée du contrat ne pourra faire l objet d une diffusion ultérieure que sous la même version du contrat ou une version postérieure  0.9965542554855347\n",
      "16271  copyright symbol et ne peut être modifié que par les auteurs de la licence lesquels se réservent le droit de publier périodiquement des mises à jour ou de nouvelles versions du contrat qui posséderont chacune un numéro distinct ces versions ultérieures seront susceptibles de prendre en compte de nouvell 0.9788388609886169\n",
      "16272  copyright symbol en langue française et en langue anglaise ces deux versions faisant également foi  0.9590514898300171\n",
      "16274  copyright symbol dont le contrat est résilié n est plus autorisé à utiliser modifier ou distribuer le logiciel cependant toutes les licences qu il aura concédées antérieurement à la résiliation du contrat resteront valides sous réserve qu elles aient été effectuées en conformité avec le contrat  0.9960522651672363\n",
      "16275  copyright symbol aux obligations mises à sa charge par le contrat le concédant pourra résilier de plein droit le contrat trente jours après notification adressée au licencié et restée sans effet  0.9756534695625305\n",
      "16276  copyright symbol intellectuelle d un tiers portant sur un brevet un logiciel ou sur tout autre droit de propriété ainsi le concédant exclut toute garantie au profit du licencié contre les actions en contrefaçon qui pourraient être diligentées au titre de l utilisation de la modification et de la redist 0.9756828546524048\n",
      "16277  copyright symbol et sa configuration logicielle ni qu il remplira les besoins du licencié  0.8624786734580994\n",
      "16278  copyright symbol reconnaît que le logiciel est fourni en l état par le concédant sans autre garantie expresse ou tacite que celle prévue à l article et notamment sans aucune garantie sur sa valeur commerciale son caractère sécurisé innovant ou pertinent  0.9700027108192444\n",
      "16279  copyright symbol du licencié de contrôler par tous moyens l adéquation du produit à ses besoins son bon fonctionnement et de s assurer qu il ne causera pas de dommages aux personnes et aux biens  0.9961236715316772\n",
      "16280  copyright symbol du concédant est limitée aux engagements pris en application du contrat et ne saurait être engagée en raison notamment i des dommages dus à l inexécution totale ou partielle de ses obligations par le licencié ii des dommages directs ou indirects découlant de l utilisation ou des pe 0.9542536735534668\n",
      "16281  copyright symbol a la faculté sous réserve de prouver la faute du concédant concerné de solliciter la réparation du préjudice direct qu il subirait du fait du logiciel et dont il apportera la preuve  0.9830588698387146\n",
      "16282  copyright symbol et ce dans les conditions qu il souhaite cette garantie et les modalités financières de son application feront l objet d un acte séparé entre le concédant et le licencié  0.9724815487861633\n",
      "16283  copyright symbol du concédant qui les propose  0.9629428386688232\n",
      "16284  copyright symbol s engage à ne pas porter atteinte directement ou indirectement aux droits de propriété intellectuelle du titulaire et ou des contributeurs sur le logiciel et à prendre le cas échéant à l égard de son personnel toutes les mesures nécessaires pour assurer le respect des dits droits de p 0.9818426370620728\n",
      "16285  copyright symbol intellectuelle apposées sur le logiciel  0.964832603931427\n",
      "16288  copyright symbol du concédant telle que prévue aux articles et  0.9519976377487183\n",
      "16289  copyright symbol reconnaît que l état actuel des connaissances scientifiques et techniques au moment de la mise en circulation du logiciel ne permet pas d en tester et d en vérifier toutes les utilisations ni de détecter l existence d éventuels défauts l attention du licencié a été attirée sur ce point 0.980063796043396\n",
      "16290  copyright symbol qui distribue un logiciel modifié s engage expressément  0.9021539688110352\n",
      "16291  copyright symbol qui a développé un module externe est titulaire sur celui ci des droits de propriété intellectuelle dans les conditions définies par la législation applicable et reste libre du choix du contrat régissant sa diffusion  0.983370840549469\n",
      "16292  copyright symbol peut être distribué sous le contrat de licence cecill c les stipulations prévues à l article sont alors facultatives  0.9941864013671875\n",
      "16293  copyright symbol réalisé à partir du logiciel régi par le contrat en reproduisant les mentions de propriété intellectuelle du logiciel  0.9953790903091431\n",
      "16294  copyright symbol a développé un module externe les conditions du contrat ne s appliquent pas à ce module externe qui peut être distribué sous un contrat de licence différent  0.9879951477050781\n",
      "16295  copyright symbol intellectuelle sur les copies du logiciel modifié ou non  0.978118896484375\n",
      "16296  copyright symbol qui a développé une contribution est titulaire sur celle ci des droits de propriété intellectuelle dans les conditions définies par la législation applicable  0.9910941123962402\n",
      "16297  copyright symbol intellectuelle et le fait qu il est régi par le contrat soient indiqués dans un texte facilement accessible depuis l interface du logiciel modifié  0.9962761402130127\n",
      "16298  copyright symbol ou non est distribué avec un module externe qui a été conçu pour l utiliser le licencié doit soumettre le dit module externe aux obligations précédentes  0.9942900538444519\n",
      "16299  copyright symbol contient une contribution soumise au contrat de licence cecill les stipulations prévues à l article sont facultatives  0.9880549907684326\n",
      "16300  copyright symbol auteur d au moins une contribution intégrée  0.9979381561279297\n",
      "16301  copyright symbol résulte soient clairement identifiées et documentées  0.9949231743812561\n",
      "16302  copyright symbol permette un accès effectif au code source du logiciel modifié pendant au moins toute la durée de la distribution du logiciel dérivé de telle sorte que ces modifications puissent être reprises dans une version ultérieure du logiciel étant entendu que le coût additionnel d acquisition du 0.981846272945404\n",
      "16303  copyright symbol contient une contribution intégrée soumise au contrat de licence cecill ou lorsqu un logiciel dérivé contient un module lié soumis au contrat de licence cecill les stipulations prévues au troisième item de l article sont facultatives  0.9783689379692078\n",
      "16304  copyright symbol par au moins une contribution intégrée  0.9999263882637024\n",
      "16305  copyright symbol est assorti d une obligation de remettre à la disposition de la communauté les modifications apportées au code source du logiciel afin de contribuer à son évolution  0.9622455835342407\n",
      "16307  copyright symbol qui a développé un module lié est titulaire sur celui ci des droits de propriété intellectuelle dans les conditions définies par la législation applicable et reste libre du choix du contrat régissant sa diffusion dans les conditions définies à l article  0.9894528388977051\n",
      "16308  copyright symbol est autorisé à apporter toute modification au logiciel sous réserve de mentionner de façon explicite son nom en tant qu auteur de cette modification et la date de création de celle ci  0.9877138137817383\n",
      "16309  copyright symbol apporte une contribution intégrée au logiciel les conditions de distribution du logiciel modifié en résultant sont alors soumises à l intégralité des dispositions du contrat  0.9962468147277832\n",
      "16310  copyright symbol est autorisé à distribuer le logiciel modifié sous forme de code source ou de code objet à condition que cette distribution respecte les dispositions du contrat dans leur totalité et soit accompagnée  0.9893534183502197\n",
      "16311  copyright symbol est redistribué le licencié permette un accès effectif à son code source complet pendant au moins toute la durée de sa distribution du logiciel modifié étant entendu que le coût additionnel d acquisition du code source ne devra pas excéder le simple coût de transfert des données  0.9763239622116089\n",
      "16312  copyright symbol crée un logiciel dérivé ce logiciel dérivé peut être distribué sous un contrat de licence autre que le présent contrat à condition de respecter les obligations de mention des droits sur le logiciel telles que définies à l article dans le cas où la création du logiciel dérivé a 0.9856953620910645\n",
      "16313  copyright symbol correspondant à cette modification soit régi par le présent contrat  0.999229371547699\n",
      "16314  copyright symbol de modifier et de réutiliser le logiciel régi par cette licence  0.9964976906776428\n",
      "16315  copyright symbol intellectuelle et le fait qu il est régi par le contrat soient indiqués dans un texte facilement accessible notamment depuis l interface de tout logiciel dérivé  0.9953587651252747\n",
      "16316  copyright symbol intellectuelle sur les copies du logiciel modifié ou non  0.978118896484375\n",
      "16317  copyright symbol civile que du droit de la propriété intellectuelle et de la protection qu il offre aux auteurs et titulaires des droits patrimoniaux sur un logiciel les auteurs de la licence cecill c sont  0.9662781953811646\n",
      "16318  copyright symbol qui a développé une contribution intégrée est titulaire sur celle ci des droits de propriété intellectuelle dans les conditions définies par la législation applicable  0.9929033517837524\n",
      "16375  copyright symbol ministerium für wissenschaft und forschung nordrhein westfalen date  0.9768970608711243\n",
      "16489 copyright copyright symbol date date miklos szeredi email  0.90934818983078\n",
      "16692 copyright copyright symbol date daniel svärd email  0.9305213689804077\n",
      "16700 copyright string auf stderr ausgeben kurzusage auf stderr ausgeben und beenden langusage auf stdout ausgeben und beenden return license info string name of program optional name of package which includes this program version string 0.9395573139190674\n",
      "16890 copyright or other intellectual property right  0.81676185131073\n",
      "16921 copyright copyright symbol date red hat inc par all rights reserved par par this library is free software you can redistribute it and or par modify it under the terms of the gnu lesser general public par license as published by the free software foundation version par of the license par 0.8988614082336426\n",
      "16927 copyright copyright symbol date date verein zur foerderung der freien virtuellen maschine cacao 0.9239601492881775\n",
      "17255  copyright symbol herein  0.8884689211845398\n",
      "17761  copyright symbol microsoft a é aviséde l éntualitée tels dommages certains éts juridictions ne permettent pas l exclusion ou la limitation de responsabilitéelative aux dommages indirects ou consétifs et la limitation ci dessus peut ne pas s appliquer àotre érd  0.8692967891693115\n",
      "18131  copyright symbol date orange author bartłomiej dróżdż email author piotr pszczoła email  0.9911935925483704\n",
      "18134  copyright symbol date orange author bartłomiej dróżdż email  0.9935162663459778\n",
      "18337  copyright symbol que le présent contrat et tous les documents 0.9926610589027405\n",
      "18370  copyright symbol au québec canada certaines des clauses dans ce contrat sont fournies ci dessous en français  0.99564129114151\n",
      "18371  copyright symbol stricte de négligence ou d une autre faute dans la limite autorisée par la loi en vigueur elle s applique également même si microsoft connaissait ou devrait connaître l éventualité d un tel dommage si votre pays n autorise pas l exclusion ou la limitation de responsabilité 0.9962085485458374\n",
      "18372  copyright symbol au logiciel aux services ou au contenu y compris le code figurant sur des sites internet tiers ou dans des programmes tiers et 0.9636651277542114\n",
      "18373  copyright symbol par une licence est offert tel quel toute utilisation de ce logiciel est à votre seule risque et péril microsoft n accorde aucune autre garantie expresse vous pouvez bénéficier de droits additionnels en vertu du droit local sur la protection dues consommateurs que ce contrat ne peu 0.9858334064483643\n",
      "19203  copyright symbol ministerium fuer wissenschaft und forschung nordrhein westfalen date erstellt von axel metzger und till jaeger institut fuer rechtsfragen der freien und open source software http www ifross de  0.9035652279853821\n",
      "19230 copyright copyright symbol date date trolltech as norway  0.9190359115600586\n",
      "19232 copyright copyright symbol date date trolltech as norway  0.9190359115600586\n",
      "19713  deixada sem nome na v o padr o service v  0.9080329537391663\n",
      "19717  uma chave v lida no diret rio ser n t tcolocada no configmap qualquer entrada de diret rio exceto as com arquivos v lidos ser o ignorados por exemplo sub diret rios n t tsymlinks devices pipes etc  0.9649173617362976\n",
      "19720  verdadeira quando n  0.9914522767066956\n",
      "19721  enviado para o servidor  0.844870388507843\n",
      "19724  verdadeiro  0.8600549101829529\n",
      "19725  verdadeiro esta tamb m a porta utilizada pelo servi o quando for criado  0.9848871827125549\n",
      "19726  criado  0.9399317502975464\n",
      "19728  criado para os dois ltimos replicas deve ser valor padr o always para cronjobs never  0.977318525314331\n",
      "19731  no formato yaml pode ser utilizadoa op o o para mudar o formato de sa da cria um namespace com um nome especificado cria uma role com uma nica regra cria uma conta de servi o com um nome especificado remove a restri o de execu o de workloads no node aplica a re 0.9958876371383667\n",
      "19732  que a porta de servi o na v chamada de default enquanto ela deixada sem nome na v o padr o service v o protocolo de rede para o servi o ser criado padr o tcp a porta para que o servi o possa servir copiado do recurso sendo exposto se n o especificadoo recurso req 0.8309481739997864\n",
      "19734  trouv e msgstr watch n est compatible qu avec les ressources individuelles et les  0.9962708353996277\n",
      "19736  du kubeconfigsupprimer le contexte sp cifi du kubeconfigd crire un ou plusieurs contextesafficher les cluster d finis dans kubeconfigafficher les param tres fusionn s de kubeconfig ou d un fichier kubeconfig sp cifi modifier des fichiers kubeconfigmettre jour les annotations d un 0.9189361929893494\n",
      "19746  queste risorse spesso n t trappresentano entit del cluster la cancellazione non pu essere presa in carico immediatamente se il nodo n t tche ospita un pod spento o non raggiungibile da api server termination pu richiedere molto pi tempo n t tdel grace pe 0.9363541007041931\n",
      "19747  questi pods verrebbero immediatamente sostituiti dal n t tdaemonset controller che ignora le marcature unschedulable se ci sono n  0.9926978349685669\n",
      "19748  mirror pod n gestiti dal replicationcontroller n t treplicaset daemonset statefulset o job allora drain non canceller  0.8918852806091309\n",
      "19756  y y case y typ nil  0.8709592819213867\n",
      "20018 copyright date zbigniew mandziejewicz 0.8179879784584045\n",
      "20246  sa q i c \u001fr v dqo cd ya iqo zsn c \u001dsj en c q e q rh c q m uor \u000b \u001e g \u001e s mf a v p lt qe\t z x o l m p r u q j p g y o q k f  0.9768377542495728\n",
      "20477 copyright copyright symbol date bartlomiej wolowiec 0.9808604121208191\n",
      "20516 copyright copyright symbol date bartlomiej wolowiec email  0.9808604121208191\n",
      "20528 copyright copyright symbol date alex beregszaszi 0.8050731420516968\n",
      "20721 copyright copyright symbol date date baptiste lepilleur 0.8894314169883728\n",
      "21625  copyright symbol q g ëz\u001cç ûõ p  0.8295201659202576\n",
      "21712  copyright symbol ho používať ako samostatný nástroj na konverziu a filtrovanie súborov s prekladovými dátami  0.9636362195014954\n",
      "21713  copyright symbol sú nasledujúce formáty  0.9343974590301514\n",
      "21715  copyright symbol majú prednosť  0.9964966177940369\n",
      "21716  copyright symbol použiť niekoľko krát na zlúčenie vstupných súborov môže byť apos apos štandardný vstup pre použitie v rúre pipe  0.9659512042999268\n",
      "21717  copyright symbol súbory prednastavené je apos latin apos pre qm a apos utf apos pre po súbory utf sa vždy skúša tiež 0.9277986884117126\n",
      "21718  copyright symbol po súbory prednastavené je apos utf apos  0.8851244449615479\n",
      "21719  copyright symbol extra značky pri zápise ts alebo xliff súborov  0.8815293908119202\n",
      "21721  copyright symbol odkazy na zdrojový kód v ts súboroch  0.828799307346344\n",
      "21723  copyright symbol voľby tiež môžu byť zadané iba s jednou pomlčkou  0.9616409540176392\n",
      "21724  copyright symbol ho používať ako samostatný nástroj na konverziu xml prekladových súborov vo formáte ts 0.9781765341758728\n",
      "21737  copyright symbol správy sú uložené v textových zdrojových súboroch prekladu 0.9828938841819763\n",
      "21738  copyright symbol a modifikované správy môžu byť zlúčené do existujúcich ts súborov  0.9924494624137878\n",
      "21739  copyright symbol položky extensions lt prípona gt lt prípona gt spracovať iba súbory so zadanými príponami  0.9235125184059143\n",
      "21742  copyright symbol opakovane pro lt názov_súboru gt  0.8252286314964294\n",
      "21743  copyright symbol reťazce v nových súboroch  0.9980176091194153\n",
      "21763  copyright symbol zdrojové súbory štandardne budú zahrnuté všetky súbory v adresároch ktoré vyhovujú filtru súborov translation message message source source file path source  0.8549666404724121\n"
     ]
    }
   ],
   "source": [
    "languages = np.array(list(range(len(X))), dtype=object)\n",
    "scores = np.array(list(range(len(X))), dtype=object)\n",
    "\n",
    "for index, sentence in enumerate(preprocess_function(X, remove_endlines=True, remove_whitespaces=True, \n",
    "                                                    replace_emails=True, replace_dates=True, remove_numbers=True,\n",
    "                                                    remove_punctuation=True, replace_copyright_symbol_v2=True,)):\n",
    "    label, score = model.predict(sentence, k=1)\n",
    "    languages[index] = label[0].split('__label__')[1]\n",
    "    scores[index] = score[0]\n",
    "\n",
    "for index, sentence in enumerate(preprocess_function(X, remove_endlines=True, remove_whitespaces=True, \n",
    "                                                    replace_emails=True, replace_dates=True, remove_numbers=True,\n",
    "                                                    remove_punctuation=True, replace_copyright_symbol_v2=True,\n",
    "                                                    lower=True)):\n",
    "    if languages[index] != 'en':\n",
    "        if scores[index] > 0.8:\n",
    "            print(index, sentence, scores[index])"
   ]
  },
  {
   "cell_type": "code",
   "execution_count": 167,
   "metadata": {},
   "outputs": [],
   "source": [
    "preprocessed_X = preprocess_function(X, replace_dates=True, remove_numbers=True, replace_copyright_symbols=True,\n",
    "                                        remove_whitespaces=True, lower=True, remove_special_characters=True, \n",
    "                                        replace_emails=True, replace_names=True)"
   ]
  },
  {
   "cell_type": "code",
   "execution_count": 176,
   "metadata": {},
   "outputs": [
    {
     "data": {
      "text/plain": [
       "'Copyright (C) 2020 Orange Author: Drozdz Bartlomiej <bartlomiej.drozdz@orange.com>'"
      ]
     },
     "execution_count": 176,
     "metadata": {},
     "output_type": "execute_result"
    }
   ],
   "source": [
    "preprocess_function(X)[453]"
   ]
  },
  {
   "cell_type": "code",
   "execution_count": 175,
   "metadata": {},
   "outputs": [
    {
     "data": {
      "text/plain": [
       "'copyright copyrightsymbol date orange author drozdz PERSON email'"
      ]
     },
     "execution_count": 175,
     "metadata": {},
     "output_type": "execute_result"
    }
   ],
   "source": [
    "preprocessed_X[453]"
   ]
  },
  {
   "cell_type": "code",
   "execution_count": 178,
   "metadata": {},
   "outputs": [
    {
     "data": {
      "text/plain": [
       "(('__label__pl',), array([0.76333958]))"
      ]
     },
     "execution_count": 178,
     "metadata": {},
     "output_type": "execute_result"
    }
   ],
   "source": [
    "model.predict(preprocess_function(X)[453], k=1)"
   ]
  },
  {
   "cell_type": "code",
   "execution_count": 179,
   "metadata": {},
   "outputs": [
    {
     "data": {
      "text/plain": [
       "(('__label__pl',), array([0.76333958]))"
      ]
     },
     "execution_count": 179,
     "metadata": {},
     "output_type": "execute_result"
    }
   ],
   "source": [
    "model.predict(preprocess_function(X, remove_numbers=True)[453], k=1)"
   ]
  },
  {
   "cell_type": "code",
   "execution_count": 180,
   "metadata": {},
   "outputs": [
    {
     "data": {
      "text/plain": [
       "(('__label__pl',), array([0.76333958]))"
      ]
     },
     "execution_count": 180,
     "metadata": {},
     "output_type": "execute_result"
    }
   ],
   "source": [
    "model.predict(preprocess_function(X, remove_numbers=True, replace_dates=True)[453], k=1)"
   ]
  },
  {
   "cell_type": "code",
   "execution_count": 181,
   "metadata": {},
   "outputs": [
    {
     "data": {
      "text/plain": [
       "(('__label__pl',), array([0.45504943]))"
      ]
     },
     "execution_count": 181,
     "metadata": {},
     "output_type": "execute_result"
    }
   ],
   "source": [
    "model.predict(preprocess_function(X, remove_numbers=True, replace_dates=True, replace_emails=True)[453], k=1)"
   ]
  },
  {
   "cell_type": "code",
   "execution_count": 183,
   "metadata": {},
   "outputs": [
    {
     "data": {
      "text/plain": [
       "(('__label__pl',), array([0.72843605]))"
      ]
     },
     "execution_count": 183,
     "metadata": {},
     "output_type": "execute_result"
    }
   ],
   "source": [
    "model.predict(preprocess_function(X, remove_numbers=True, replace_dates=True,\n",
    "                                     replace_emails=True, replace_copyright_symbol_v2=True)[453], k=1)"
   ]
  },
  {
   "cell_type": "code",
   "execution_count": 185,
   "metadata": {},
   "outputs": [
    {
     "data": {
      "text/plain": [
       "(('__label__pl',), array([0.72843605]))"
      ]
     },
     "execution_count": 185,
     "metadata": {},
     "output_type": "execute_result"
    }
   ],
   "source": [
    "model.predict(preprocess_function(X, remove_numbers=True, replace_dates=True,\n",
    "                                     replace_emails=True, replace_copyright_symbols=True)[453], k=1)"
   ]
  },
  {
   "cell_type": "code",
   "execution_count": 187,
   "metadata": {},
   "outputs": [
    {
     "data": {
      "text/plain": [
       "(('__label__pl',), array([0.45504943]))"
      ]
     },
     "execution_count": 187,
     "metadata": {},
     "output_type": "execute_result"
    }
   ],
   "source": [
    "model.predict(preprocess_function(X, remove_numbers=True, replace_dates=True,\n",
    "                                     replace_emails=True, remove_whitespaces=True, remove_endlines=True)[453], k=1)"
   ]
  },
  {
   "cell_type": "code",
   "execution_count": 188,
   "metadata": {},
   "outputs": [
    {
     "data": {
      "text/plain": [
       "(('__label__pl',), array([0.89805561]))"
      ]
     },
     "execution_count": 188,
     "metadata": {},
     "output_type": "execute_result"
    }
   ],
   "source": [
    "model.predict(preprocess_function(X, remove_numbers=True, replace_dates=True,\n",
    "                                     replace_emails=True, remove_whitespaces=True, \n",
    "                                     remove_endlines=True, remove_punctuation=True)[453], k=1)"
   ]
  },
  {
   "cell_type": "code",
   "execution_count": 197,
   "metadata": {},
   "outputs": [
    {
     "data": {
      "text/plain": [
       "(('__label__es',), array([0.26881203]))"
      ]
     },
     "execution_count": 197,
     "metadata": {},
     "output_type": "execute_result"
    }
   ],
   "source": [
    "model.predict(preprocess_function(X, remove_numbers=True, replace_dates=True,\n",
    "                                     replace_emails=True, remove_whitespaces=True,\n",
    "                                     remove_endlines=True, lower=True)[453], k=1)"
   ]
  },
  {
   "cell_type": "code",
   "execution_count": 199,
   "metadata": {},
   "outputs": [
    {
     "data": {
      "text/plain": [
       "(('__label__pl',), array([0.29756558]))"
      ]
     },
     "execution_count": 199,
     "metadata": {},
     "output_type": "execute_result"
    }
   ],
   "source": [
    "model.predict(preprocess_function(X, replace_emails=True, remove_whitespaces=True,\n",
    "                                     remove_endlines=True, lower=True)[453], k=1)"
   ]
  },
  {
   "cell_type": "code",
   "execution_count": 216,
   "metadata": {},
   "outputs": [
    {
     "data": {
      "text/plain": [
       "(('__label__es',), array([0.26881203]))"
      ]
     },
     "execution_count": 216,
     "metadata": {},
     "output_type": "execute_result"
    }
   ],
   "source": [
    "model.predict(preprocess_function(X, replace_emails=True, remove_whitespaces=True,\n",
    "                                     remove_endlines=True, lower=True,\n",
    "                                     replace_dates=True,)[453], k=1)"
   ]
  },
  {
   "cell_type": "code",
   "execution_count": 217,
   "metadata": {},
   "outputs": [
    {
     "data": {
      "text/plain": [
       "(('__label__pl',), array([0.28540385]))"
      ]
     },
     "execution_count": 217,
     "metadata": {},
     "output_type": "execute_result"
    }
   ],
   "source": [
    "model.predict(preprocess_function(X, replace_emails=True, remove_whitespaces=True,\n",
    "                                     remove_endlines=True, lower=True,\n",
    "                                     replace_dates=True, replace_copyright_symbols=True)[453], k=1)"
   ]
  },
  {
   "cell_type": "code",
   "execution_count": 218,
   "metadata": {},
   "outputs": [
    {
     "data": {
      "text/plain": [
       "(('__label__en',), array([0.24512441]))"
      ]
     },
     "execution_count": 218,
     "metadata": {},
     "output_type": "execute_result"
    }
   ],
   "source": [
    "model.predict(preprocess_function(X, replace_emails=True, remove_whitespaces=True,\n",
    "                                     remove_endlines=True, lower=True,\n",
    "                                     replace_dates=True, replace_copyright_symbol_v2=True)[453], k=1)"
   ]
  },
  {
   "cell_type": "code",
   "execution_count": 189,
   "metadata": {},
   "outputs": [
    {
     "data": {
      "text/plain": [
       "'Copyright (c) Alexander Zaitsev &lt;zamazan4ik@gmail.com&gt;, 2016'"
      ]
     },
     "execution_count": 189,
     "metadata": {},
     "output_type": "execute_result"
    }
   ],
   "source": [
    "preprocess_function(X)[600]"
   ]
  },
  {
   "cell_type": "code",
   "execution_count": 196,
   "metadata": {},
   "outputs": [
    {
     "data": {
      "text/plain": [
       "(('__label__en',), array([0.28598779]))"
      ]
     },
     "execution_count": 196,
     "metadata": {},
     "output_type": "execute_result"
    }
   ],
   "source": [
    "model.predict(preprocess_function(X, replace_emails=True, remove_whitespaces=True, remove_endlines=True)[600], k=1)"
   ]
  },
  {
   "cell_type": "code",
   "execution_count": 200,
   "metadata": {},
   "outputs": [
    {
     "data": {
      "text/plain": [
       "(('__label__en',), array([0.36918202]))"
      ]
     },
     "execution_count": 200,
     "metadata": {},
     "output_type": "execute_result"
    }
   ],
   "source": [
    "model.predict(preprocess_function(X, remove_numbers=True, replace_dates=True,\n",
    "                                     replace_emails=True, remove_whitespaces=True,\n",
    "                                     remove_endlines=True, lower=True)[600], k=1)"
   ]
  },
  {
   "cell_type": "code",
   "execution_count": 201,
   "metadata": {},
   "outputs": [
    {
     "data": {
      "text/plain": [
       "(('__label__en',), array([0.40733448]))"
      ]
     },
     "execution_count": 201,
     "metadata": {},
     "output_type": "execute_result"
    }
   ],
   "source": [
    "model.predict(preprocess_function(X, replace_emails=True, remove_whitespaces=True,\n",
    "                                     remove_endlines=True, lower=True)[600], k=1)"
   ]
  },
  {
   "cell_type": "code",
   "execution_count": 202,
   "metadata": {},
   "outputs": [
    {
     "data": {
      "text/plain": [
       "(('__label__en',), array([0.39119032]))"
      ]
     },
     "execution_count": 202,
     "metadata": {},
     "output_type": "execute_result"
    }
   ],
   "source": [
    "model.predict(preprocess_function(X, replace_emails=True, remove_whitespaces=True,\n",
    "                                     remove_endlines=True, lower=True,\n",
    "                                     remove_numbers=True)[600], k=1)"
   ]
  },
  {
   "cell_type": "code",
   "execution_count": 203,
   "metadata": {},
   "outputs": [
    {
     "data": {
      "text/plain": [
       "(('__label__en',), array([0.38340202]))"
      ]
     },
     "execution_count": 203,
     "metadata": {},
     "output_type": "execute_result"
    }
   ],
   "source": [
    "model.predict(preprocess_function(X, replace_emails=True, remove_whitespaces=True,\n",
    "                                     remove_endlines=True, lower=True,\n",
    "                                     replace_dates=True)[600], k=1)"
   ]
  },
  {
   "cell_type": "code",
   "execution_count": 220,
   "metadata": {},
   "outputs": [
    {
     "data": {
      "text/plain": [
       "(('__label__en',), array([0.34574115]))"
      ]
     },
     "execution_count": 220,
     "metadata": {},
     "output_type": "execute_result"
    }
   ],
   "source": [
    "model.predict(preprocess_function(X, replace_emails=True, remove_whitespaces=True,\n",
    "                                     remove_endlines=True, lower=True,\n",
    "                                     replace_dates=True, replace_copyright_symbols=True)[600], k=1)"
   ]
  },
  {
   "cell_type": "code",
   "execution_count": 219,
   "metadata": {},
   "outputs": [
    {
     "data": {
      "text/plain": [
       "(('__label__en',), array([0.381634]))"
      ]
     },
     "execution_count": 219,
     "metadata": {},
     "output_type": "execute_result"
    }
   ],
   "source": [
    "model.predict(preprocess_function(X, replace_emails=True, remove_whitespaces=True,\n",
    "                                     remove_endlines=True, lower=True,\n",
    "                                     replace_dates=True, replace_copyright_symbol_v2=True)[600], k=1)"
   ]
  },
  {
   "cell_type": "code",
   "execution_count": 204,
   "metadata": {},
   "outputs": [
    {
     "data": {
      "text/plain": [
       "'(C) Copyright Synge Todo 2003'"
      ]
     },
     "execution_count": 204,
     "metadata": {},
     "output_type": "execute_result"
    }
   ],
   "source": [
    "preprocess_function(X)[700]"
   ]
  },
  {
   "cell_type": "code",
   "execution_count": 207,
   "metadata": {},
   "outputs": [
    {
     "data": {
      "text/plain": [
       "(('__label__es',), array([0.24165182]))"
      ]
     },
     "execution_count": 207,
     "metadata": {},
     "output_type": "execute_result"
    }
   ],
   "source": [
    "model.predict(preprocess_function(X, replace_emails=True, remove_whitespaces=True,\n",
    "                                     remove_endlines=True, lower=True,)[700], k=1)"
   ]
  },
  {
   "cell_type": "code",
   "execution_count": 208,
   "metadata": {},
   "outputs": [
    {
     "data": {
      "text/plain": [
       "(('__label__es',), array([0.24165182]))"
      ]
     },
     "execution_count": 208,
     "metadata": {},
     "output_type": "execute_result"
    }
   ],
   "source": [
    "model.predict(preprocess_function(X, replace_emails=True, remove_whitespaces=True,\n",
    "                                     remove_endlines=True, lower=True,\n",
    "                                     remove_numbers=True)[700], k=1)"
   ]
  },
  {
   "cell_type": "code",
   "execution_count": 209,
   "metadata": {},
   "outputs": [
    {
     "data": {
      "text/plain": [
       "(('__label__en',), array([0.21101804]))"
      ]
     },
     "execution_count": 209,
     "metadata": {},
     "output_type": "execute_result"
    }
   ],
   "source": [
    "model.predict(preprocess_function(X, replace_emails=True, remove_whitespaces=True,\n",
    "                                     remove_endlines=True, lower=True,\n",
    "                                     replace_dates=True)[700], k=1)"
   ]
  },
  {
   "cell_type": "code",
   "execution_count": 210,
   "metadata": {},
   "outputs": [
    {
     "data": {
      "text/plain": [
       "(('__label__en',), array([0.21101804]))"
      ]
     },
     "execution_count": 210,
     "metadata": {},
     "output_type": "execute_result"
    }
   ],
   "source": [
    "model.predict(preprocess_function(X, replace_emails=True, remove_whitespaces=True,\n",
    "                                     remove_endlines=True, lower=True,\n",
    "                                     replace_dates=True, lemmatize=True)[700], k=1)"
   ]
  },
  {
   "cell_type": "code",
   "execution_count": 212,
   "metadata": {},
   "outputs": [
    {
     "data": {
      "text/plain": [
       "(('__label__en',), array([0.19021918]))"
      ]
     },
     "execution_count": 212,
     "metadata": {},
     "output_type": "execute_result"
    }
   ],
   "source": [
    "model.predict(preprocess_function(X, replace_emails=True, remove_whitespaces=True,\n",
    "                                     remove_endlines=True, lower=True,\n",
    "                                     replace_dates=True, replace_copyright_symbols=True)[700], k=1)"
   ]
  },
  {
   "cell_type": "code",
   "execution_count": 213,
   "metadata": {},
   "outputs": [
    {
     "data": {
      "text/plain": [
       "(('__label__en',), array([0.22986507]))"
      ]
     },
     "execution_count": 213,
     "metadata": {},
     "output_type": "execute_result"
    }
   ],
   "source": [
    "model.predict(preprocess_function(X, replace_emails=True, remove_whitespaces=True,\n",
    "                                     remove_endlines=True, lower=True,\n",
    "                                     replace_dates=True, replace_copyright_symbol_v2=True)[700], k=1)"
   ]
  },
  {
   "cell_type": "code",
   "execution_count": 222,
   "metadata": {},
   "outputs": [
    {
     "name": "stdout",
     "output_type": "stream",
     "text": [
      "1761 copyright louis dionne date  0.8385561108589172\n",
      "1763 copyright louis dionne date  0.8385561108589172\n",
      "3496 copyright date , a kaliforniai egyetem kormã¡nyzã³ja 0.8509538173675537\n",
      "4192 copyright copyright symbol fsf. wszystkie prawa zastrzezone 0.8541680574417114\n",
      "4660 copyright louis dionne, date - date  0.80096834897995\n",
      "5614 copyright louis dionne date  0.8385561108589172\n",
      "5615 copyright louis dionne date  0.8385561108589172\n",
      "7675 copyright date baptiste lepilleur 0.8360307216644287\n",
      "7678 copyright date baptiste lepilleur 0.8360307216644287\n",
      "7682 copyright date baptiste lepilleur 0.8360307216644287\n",
      "7687 copyright date baptiste lepilleur 0.8360307216644287\n",
      "7716 copyright copyright symbol date bundesamt für sicherheit in der informationstechnik 0.8937627673149109\n",
      "11907  copyright symbol de jouir de l'œuvre tel que permis par la lal (liberté de copier, diffuser, modifier) implique pour chacun la responsabilité de ses propres faits. 0.939477801322937\n",
      "11908  copyright symbol posés par la lal. 0.9734050631523132\n",
      "11909  copyright symbol de modifier les copies des originaux (initiaux et conséquents) dans le respect des conditions suivantes : 0.9871823191642761\n",
      "11910  copyright symbol de copier cette œuvre pour vous, vos amis ou toute autre personne, quelle que soit la technique employée. 0.9715960025787354\n",
      "11921  copyright symbol accordées par cette licence. ces autorisations n'entraînent pas un dessaisissement de vos droits intellectuels. 0.9863457679748535\n",
      "11924  copyright symbol souhaite distribuer un logiciel modifié combiné à un logiciel assujetti à une licence compatible, mais dont il ne serait pas possible d'en respecter les termes, le concédant offre, en plus de la présente concession, une concession selon les termes de cette licence compatible. 0.9849515557289124\n",
      "11954  copyright symbol distribue le logiciel ou un logiciel modifié, ce dernier doit assumer l'obligation d'en distribuer le code source, de la manière prévue au troisième alinéa de l'article 3. 0.9247632622718811\n",
      "11955  copyright symbol distribue le logiciel, le concédant offre au récipiendaire une concession sur le logiciel selon les termes de la présente licence. le licencié doit offrir une concession selon les termes de la présente licence pour tout logiciel modifié qu'il distribue. 0.9905542135238647\n",
      "11956  copyright symbol dont le titulaire du droit d'auteur précise qu'il est sujet aux termes de la licence libre du québec – réciprocité (liliq-r) (ci-après appelée la « licence »). 0.9852808713912964\n",
      "11967  copyright symbol est comparable ou supérieur à celui de la présente licence, sans toutefois être moindre, notamment : 0.9948850274085999\n",
      "11986  copyright symbol dans un délai de 30 jours de sa prise de connaissance par la personne en défaut, et qu'il s'agit du premier défaut, la licence est accordée de nouveau. 0.9946049451828003\n",
      "11987  copyright symbol ou par des tiers, pour quelque cause que ce soit en lien avec la licence et les droits qui y sont accordés. 0.99778813123703\n",
      "11988  copyright symbol est responsable de tout préjudice résultant de l'exercice des droits accordés par la licence. 0.9628780484199524\n",
      "11989  copyright symbol d'offrir ou d'exclure des garanties ou du support. 0.9062699675559998\n",
      "11990  copyright symbol est comparable à celui de la présente licence, sans toutefois être moindre, notamment: 0.9905332922935486\n",
      "11991  copyright symbol qui est titulaire exclusif du droit d'auteur sur le logiciel assujetti à une licence compatible ne peut pas se prévaloir de cette offre. il en est de même pour toute autre personne dûment autorisée à sous-licencier par le titulaire exclusif du droit d'auteur sur le logiciel assujetti à une 0.9961158037185669\n",
      "11992  copyright symbol souhaite distribuer un logiciel modifié ou dérivé combiné à un logiciel assujetti à une licence compatible, mais dont il ne serait pas possible d'en respecter les termes, le concédant offre, en plus de la présente concession, une concession selon les termes de cette licence compatible. 0.9867119789123535\n",
      "11993  copyright symbol distribue le logiciel, un logiciel modifié, ou un logiciel dérivé, ce dernier doit assumer l'obligation d'en distribuer le code source, de la manière prévue au troisième alinéa de l'article 3. 0.9392695426940918\n",
      "11994  copyright symbol distribue le logiciel, le concédant offre au récipiendaire une concession sur le logiciel selon les termes de la présente licence. le licencié doit offrir une concession selon les termes de la présente licence pour tout logiciel modifié ou dérivé qu'il distribue. 0.9913479685783386\n",
      "11995  copyright symbol concernant le logiciel ne doivent pas être modifiées ou supprimées, à moins que ces étiquettes ou mentions ne soient inapplicables à un logiciel modifié ou dérivé donné. 0.9878338575363159\n",
      "11996  copyright symbol modifié, le licencié doit en faire la mention, de préférence dans chacun des fichiers modifiés dont la nature permet une telle mention; 0.9889986515045166\n",
      "11997  copyright symbol d'un exemplaire de cette licence; 0.881206750869751\n",
      "11998  copyright symbol peut choisir sous quelle version la licence lui est accordée. 0.945519745349884\n",
      "12011  copyright symbol peut distribuer des copies du logiciel, d'un logiciel modifié ou dérivé, sous réserve de respecter les conditions suivantes : 0.9907199740409851\n",
      "12025  copyright symbol d'une offre de distribuer le code source du logiciel, sans frais supplémentaires, autres que ceux raisonnables afin de permettre la livraison du code source. cette offre doit être valide pendant une durée raisonnable. 0.9722380042076111\n",
      "12054  copyright symbol ou une partie importante. 0.9821821451187134\n",
      "12055  copyright symbol ou une partie importante en public; 0.9800986051559448\n",
      "12056  copyright symbol ou une partie importante; 0.9968729615211487\n",
      "12057  copyright symbol une licence non exclusive et libre de redevances lui permettant d'exercer les droits suivants sur le logiciel: 0.9470382332801819\n",
      "12058  copyright symbol de l'un des fichiers source du logiciel ou encore tout nouveau fichier source qui incorpore le logiciel ou une partie importante de ce dernier. 0.9807407259941101\n",
      "12059  copyright symbol par un licencié, autre que le logiciel ou un logiciel modifié, qui produit ou reproduit la totalité ou une partie importante du logiciel; 0.9926296472549438\n",
      "12060  copyright symbol qu'elle est sujette aux termes de la présente licence; 0.9875931739807129\n",
      "12061  copyright symbol dans le logiciel; 0.9927299618721008\n",
      "12062  copyright symbol comme un concédant en regard de sa contribution; 0.804960310459137\n",
      "12063  copyright symbol dont le titulaire du droit d'auteur précise qu'il est sujet aux termes de la licence libre du québec – réciprocité forte (liliq-r+) (ci-après appelée la « licence »). 0.982355535030365\n",
      "12108  copyright symbol de proposer de nouvelles versions de la licence ouverte. cependant, les « réutilisateurs » pourront continuer à réutiliser les informations qu'ils ont obtenues sous cette licence s'ils le souhaitent. </text> 0.9841352105140686\n",
      "12110  copyright symbol du premier ministre, d'ouvrir le plus grand nombre de données publiques des administrations de l'etat et de ses établissements publics. elle a réalisé la licence ouverte pour faciliter la réutilisation libre et gratuite de ces informations publiques, telles que définies par l'article l321-1 0.9784815907478333\n",
      "12111  copyright symbol produite ou reçue. 0.950576663017273\n",
      "12112  copyright symbol conçue pour être compatible avec toute licence libre qui exige au moins la mention de paternité et notamment avec la version antérieure de la présente licence ainsi qu'avec les licences : 0.9947773814201355\n",
      "12113  copyright symbol intellectuelle » cessibles sur l'« information », il les cède au « réutilisateur » de façon non exclusive, à titre gracieux, pour le monde entier, pour toute la durée des « droits de propriété intellectuelle », et le « réutilisateur » peut faire tout usage de l'« information » c 0.9927260279655457\n",
      "12114  copyright symbol intellectuelle » détenus par des tiers ou par le « concédant » sur l'« information » ne font pas obstacle aux droits accordés par la présente licence. 0.9909223318099976\n",
      "12115  copyright symbol ne confère aucun caractère officiel à la « réutilisation » de l'« information », et ne doit pas suggérer une quelconque reconnaissance ou caution par le « concédant », ou par toute autre entité publique, du « réutilisateur » ou de sa « réutilisation ». 0.9936085343360901\n",
      "12124  copyright symbol intellectuelle » : tous droits identifiés comme tels par le code de la propriété intellectuelle (notamment le droit d'auteur, droits voisins au droit d'auteur, droit sui generis des producteurs de bases de données…). 0.9708228707313538\n",
      "12152  copyright symbol communiquée ou alors, vous prévaloir des dispositions d'une des versions ultérieures. 0.9467450976371765\n",
      "12153  copyright symbol accordés par cette licence. 0.9653103947639465\n",
      "12155  copyright symbol de modifier les copies des originaux (originels et conséquents), qui peuvent être partielles ou non, dans le respect des conditions prévues à l'article 2.2 en cas de diffusion (ou représentation) de la copie modifiée. l'auteur de l'original pourra, s'il le souhaite, vous autoriser à modifie 0.9793179631233215\n",
      "12156  copyright symbol l'oeuvre à l'origine d'une arborescence de cette oeuvre modifiée. par cette licence, l'auteur détermine les conditions dans lesquelles ce travail se fait. 0.992088794708252\n",
      "12157  copyright symbol de l'oeuvre, de sa définition, de sa partition ou de son programme que l'auteur présente comme référence pour toutes actualisations, interprétations, copies ou reproductions ultérieures. 0.9527539610862732\n",
      "12158  copyright symbol expérimenté par nombre d'artistes contemporains. 0.9255930781364441\n",
      "12159  copyright symbol littéraire et artistique conduit à restreindre l'accès du public à l'oeuvre, la licence art libre a pour but de le favoriser. 0.9599931836128235\n",
      "12163  copyright symbol une licence non exclusive et libre de redevances lui permettant d'exercer les droits suivants sur le logiciel : 0.9722656607627869\n",
      "12164  copyright symbol dont le titulaire du droit d'auteur précise qu'il est sujet aux termes de la licence libre du québec – permissive (liliq-p) (ci-après appelée la « licence »). 0.9789775013923645\n",
      "12167  copyright symbol de copier cette oeuvre pour un usage personnel, pour vos amis, ou toute autre personne et quelque soit la technique employée. 0.9853510856628418\n",
      "12455  copyright symbol que le présent contrat et tous les documents connexes soient rédigés en anglais. 0.9810580015182495\n",
      "13504  copyright symbol ministerium f\\u00fcr wissenschaft und forschung nordrhein-westfalen date \\n\\nerstellt von axel metzger und till jaeger, institut f\\u00fcr rechtsfragen der freien und open source software - (http:\\/\\/www.ifross.de).\\n\\npr\\u00e4ambel\\n\\nsoftware ist mehr als ein wirtschaftsgut. sie ist die technisc 0.9890285730361938\n",
      "16244  copyright symbol des termes du contrat est réputée acquise du fait du premier des faits suivants: 0.9909029603004456\n",
      "16248  copyright symbol au code source et les droits de copie, de modification et de redistribution qui découlent de ce contrat ont pour contrepartie de n'offrir aux utilisateurs qu'une garantie limitée et de ne faire peser sur l'auteur du logiciel, le titulaire des droits patrimoniaux et les concédants successifs qu' 0.9830247759819031\n",
      "16249  copyright symbol d'en observer, d'en étudier, ou d'en tester le fonctionnement afin de déterminer les idées et principes qui sont à la base de n'importe quel élément de ce logiciel; et ceci, lorsque le licencié effectue toute opération de chargement, d'affichage, d'exécution, de transmission ou de stockag 0.9758281111717224\n",
      "16250  copyright symbol telle que définie en 3.1. 0.8495256900787354\n",
      "16251  copyright symbol sa spécificité de logiciel libre, qui peut le rendre complexe à manipuler et qui le réserve donc à des développeurs ou des professionnels avertis possédant des connaissances informatiques approfondies. les utilisateurs sont donc invités à charger et tester l'adéquation du logiciel à leu 0.9888704419136047\n",
      "16252  copyright symbol mis à disposition du licencié préalablement à son acceptation telle que définie à l'article 3.1 ci dessus et le licencié reconnaît en avoir pris connaissance. 0.9677245020866394\n",
      "16253  copyright symbol est autorisé à distribuer des copies du logiciel, modifié ou non, à des tiers dans les conditions ci-après détaillées. 0.9940863847732544\n",
      "16256  copyright symbol d'une licence non exclusive, cessible et mondiale du logiciel telle que définie ci-après à l'article 5 pour toute la durée de protection des droits portant sur ce logiciel. 0.9778091311454773\n",
      "16257  copyright symbol de l'un quelconque des droits concédés par le contrat. 0.9003785848617554\n",
      "16258  copyright symbol est autorisé à distribuer des copies conformes du logiciel, sous forme de code source ou de code objet, à condition que cette distribution respecte les dispositions du contrat dans leur totalité et soit accompagnée: 0.9848525524139404\n",
      "16259  copyright symbol est autorisé à utiliser le logiciel, sans restriction quant aux domaines d'application, étant ci-après précisé que cela comporte: 0.9619770050048828\n",
      "16260  copyright symbol permette un accès effectif au code source complet du logiciel pendant au moins toute la durée de sa distribution du logiciel, étant entendu que le coût additionnel d'acquisition du code source ne devra pas excéder le simple coût de transfert des données. 0.9643083810806274\n",
      "16261  copyright symbol apporte une contribution au logiciel, le logiciel modifié peut être distribué sous un contrat de licence autre que le présent contrat sous réserve du respect des dispositions de l'article 5.3.4. 0.9901139736175537\n",
      "16262  copyright symbol est autorisé à apporter toute contribution au logiciel sous réserve de mentionner, de façon explicite, son nom en tant qu'auteur de cette contribution et la date de création de celle-ci. 0.9928486347198486\n",
      "16263  copyright symbol au logiciel de telle sorte qu'ils s'exécutent dans le même espace d'adressage. 0.9965429902076721\n",
      "16264  copyright symbol du logiciel, tel que ce module et le logiciel s'exécutent dans des espaces d'adressage différents, l'un appelant l'autre au moment de leur exécution. 0.969612717628479\n",
      "16265  copyright symbol auteur d'au moins une contribution. 0.9463464617729187\n",
      "16266  copyright symbol par au moins une contribution. 0.9958636164665222\n",
      "16267  copyright symbol est assorti d'une obligation forte de citation à la charge de ceux qui distribueraient un logiciel incorporant un logiciel régi par la présente licence afin d'assurer que les contributions de tous soient correctement identifiées et reconnues. 0.9498414397239685\n",
      "16268  copyright symbol de modification et de redistribution du logiciel régi par cette licence. 0.979702889919281\n",
      "16269  copyright symbol civile que du droit de la propriété intellectuelle et de la protection qu'il offre aux auteurs et titulaires des droits patrimoniaux sur un logiciel. les auteurs de la licence cecill-b1 sont: 0.968452513217926\n",
      "16270  copyright symbol sous une version donnée du contrat ne pourra faire l'objet d'une diffusion ultérieure que sous la même version du contrat ou une version postérieure. 0.9888994693756104\n",
      "16271  copyright symbol et ne peut être modifié que par les auteurs de la licence, lesquels se réservent le droit de publier périodiquement des mises à jour ou de nouvelles versions du contrat, qui posséderont chacune un numéro distinct. ces versions ultérieures seront susceptibles de prendre en compte de nouvell 0.9772170782089233\n",
      "16272  copyright symbol en langue française et en langue anglaise, ces deux versions faisant également foi. 0.9713568687438965\n",
      "16274  copyright symbol dont le contrat est résilié n'est plus autorisé à utiliser, modifier ou distribuer le logiciel. cependant, toutes les licences qu'il aura concédées antérieurement à la résiliation du contrat resteront valides sous réserve qu'elles aient été effectuées en conformité avec le contrat. 0.9970974326133728\n",
      "16275  copyright symbol aux obligations mises à sa charge par le contrat, le concédant pourra résilier de plein droit le contrat trente (30) jours après notification adressée au licencié et restée sans effet. 0.9552028775215149\n",
      "16276  copyright symbol intellectuelle d'un tiers portant sur un brevet, un logiciel ou sur tout autre droit de propriété. ainsi, le concédant exclut toute garantie au profit du licencié contre les actions en contrefaçon qui pourraient être diligentées au titre de l'utilisation, de la modification, et de la redist 0.9697990417480469\n",
      "16277  copyright symbol et sa configuration logicielle ni qu'il remplira les besoins du licencié. 0.9477460980415344\n",
      "16278  copyright symbol reconnaît que le logiciel est fourni \"en l'état\" par le concédant sans autre garantie, expresse ou tacite, que celle prévue à l'article 9.2 et notamment sans aucune garantie sur sa valeur commerciale, son caractère sécurisé, innovant ou pertinent. 0.9410368800163269\n",
      "16279  copyright symbol du licencié de contrôler, par tous moyens, l'adéquation du produit à ses besoins, son bon fonctionnement et de s'assurer qu'il ne causera pas de dommages aux personnes et aux biens. 0.997150719165802\n",
      "16280  copyright symbol du concédant est limitée aux engagements pris en application du contrat et ne saurait être engagée en raison notamment: (i) des dommages dus à l'inexécution, totale ou partielle, de ses obligations par le licencié, (ii) des dommages directs ou indirects découlant de l'utilisation ou des pe 0.9256158471107483\n",
      "16281  copyright symbol a la faculté, sous réserve de prouver la faute du concédant concerné, de solliciter la réparation du préjudice direct qu'il subirait du fait du logiciel et dont il apportera la preuve. 0.9877693057060242\n",
      "16282  copyright symbol et ce, dans les conditions qu'il souhaite. cette garantie et les modalités financières de son application feront l'objet d'un acte séparé entre le concédant et le licencié. 0.9746465682983398\n",
      "16283  copyright symbol du concédant qui les propose. 0.8488808274269104\n",
      "16284  copyright symbol s'engage à ne pas porter atteinte, directement ou indirectement, aux droits de propriété intellectuelle du titulaire et/ou des contributeurs sur le logiciel et à prendre, le cas échéant, à l'égard de son personnel toutes les mesures nécessaires pour assurer le respect des dits droits de p 0.9822302460670471\n",
      "16285  copyright symbol intellectuelle apposées sur le logiciel; 0.950491189956665\n",
      "16288  copyright symbol du concédant telle que prévue aux articles 8 et 9, 0.9149664044380188\n",
      "16289  copyright symbol reconnaît que l'état actuel des connaissances scientifiques et techniques au moment de la mise en circulation du logiciel ne permet pas d'en tester et d'en vérifier toutes les utilisations ni de détecter l'existence d'éventuels défauts. l'attention du licencié a été attirée sur ce point 0.9714716672897339\n",
      "16290  copyright symbol qui distribue un logiciel modifié s'engage expressément: 0.9461440443992615\n",
      "16291  copyright symbol qui a développé un module externe est titulaire sur celui-ci des droits de propriété intellectuelle dans les conditions définies par la législation applicable et reste libre du choix du contrat régissant sa diffusion. 0.9787530899047852\n",
      "16292  copyright symbol peut être distribué sous le contrat de licence cecill-c. les stipulations prévues à l'article 5.3.4 sont alors facultatives. 0.9822113513946533\n",
      "16293  copyright symbol réalisé à partir du logiciel régi par le contrat, en reproduisant les mentions de propriété intellectuelle du logiciel, 0.9952536821365356\n",
      "16294  copyright symbol a développé un module externe les conditions du contrat ne s'appliquent pas à ce module externe, qui peut être distribué sous un contrat de licence différent. 0.9848742485046387\n",
      "16295  copyright symbol intellectuelle sur les copies du logiciel modifié ou non. 0.957396924495697\n",
      "16296  copyright symbol qui a développé une contribution est titulaire sur celle-ci des droits de propriété intellectuelle dans les conditions définies par la législation applicable. 0.9889774322509766\n",
      "16297  copyright symbol intellectuelle et le fait qu'il est régi par le contrat soient indiqués dans un texte facilement accessible depuis l'interface du logiciel modifié, 0.9973251819610596\n",
      "16298  copyright symbol ou non est distribué avec un module externe qui a été conçu pour l'utiliser, le licencié doit soumettre le dit module externe aux obligations précédentes. 0.9879432916641235\n",
      "16299  copyright symbol contient une contribution soumise au contrat de licence cecill, les stipulations prévues à l'article 5.3.4 sont facultatives. 0.9676483273506165\n",
      "16300  copyright symbol auteur d'au moins une contribution intégrée. 0.993626058101654\n",
      "16301  copyright symbol résulte soient clairement identifiées et documentées, 0.9909533262252808\n",
      "16302  copyright symbol permette un accès effectif au code source du logiciel modifié, pendant au moins toute la durée de la distribution du logiciel dérivé, de telle sorte que ces modifications puissent être reprises dans une version ultérieure du logiciel, étant entendu que le coût additionnel d'acquisition du 0.9821265339851379\n",
      "16303  copyright symbol contient une contribution intégrée soumise au contrat de licence cecill, ou lorsqu'un logiciel dérivé contient un module lié soumis au contrat de licence cecill, les stipulations prévues au troisième item de l'article 6.4 sont facultatives. 0.9808914661407471\n",
      "16304  copyright symbol par au moins une contribution intégrée. 0.9993935227394104\n",
      "16305  copyright symbol est assorti d'une obligation de remettre à la disposition de la communauté les modifications apportées au code source du logiciel afin de contribuer à son évolution. 0.9207140803337097\n",
      "16306  copyright symbol ou non, et d'un module lié. 0.9538953304290771\n",
      "16307  copyright symbol qui a développé un module lié est titulaire sur celui-ci des droits de propriété intellectuelle dans les conditions définies par la législation applicable et reste libre du choix du contrat régissant sa diffusion dans les conditions définies à l'article 5.3.3. 0.9900233149528503\n",
      "16308  copyright symbol est autorisé à apporter toute modification au logiciel sous réserve de mentionner, de façon explicite, son nom en tant qu'auteur de cette modification et la date de création de celle-ci. 0.9933978319168091\n",
      "16309  copyright symbol apporte une contribution intégrée au logiciel, les conditions de distribution du logiciel modifié en résultant sont alors soumises à l'intégralité des dispositions du contrat. 0.9938083291053772\n",
      "16310  copyright symbol est autorisé à distribuer le logiciel modifié sous forme de code source ou de code objet, à condition que cette distribution respecte les dispositions du contrat dans leur totalité et soit accompagnée: 0.9859511256217957\n",
      "16311  copyright symbol est redistribué, le licencié permette un accès effectif à son code source complet pendant au moins toute la durée de sa distribution du logiciel modifié, étant entendu que le coût additionnel d'acquisition du code source ne devra pas excéder le simple coût de transfert des données. 0.968122661113739\n",
      "16312  copyright symbol crée un logiciel dérivé, ce logiciel dérivé peut être distribué sous un contrat de licence autre que le présent contrat à condition de respecter les obligations de mention des droits sur le logiciel telles que définies à l'article 6.4. dans le cas où la création du logiciel dérivé a 0.990628182888031\n",
      "16313  copyright symbol correspondant à cette modification soit régi par le présent contrat, 0.9986234307289124\n",
      "16314  copyright symbol de modifier et de réutiliser le logiciel régi par cette licence. 0.9908218383789062\n",
      "16315  copyright symbol intellectuelle et le fait qu'il est régi par le contrat soient indiqués dans un texte facilement accessible notamment depuis l'interface de tout logiciel dérivé. 0.996698260307312\n",
      "16316  copyright symbol intellectuelle sur les copies du logiciel modifié ou non; 0.9788541793823242\n",
      "16317  copyright symbol civile que du droit de la propriété intellectuelle et de la protection qu'il offre aux auteurs et titulaires des droits patrimoniaux sur un logiciel. les auteurs de la licence cecill-c1 sont: 0.968452513217926\n",
      "16318  copyright symbol qui a développé une contribution intégrée est titulaire sur celle-ci des droits de propriété intellectuelle dans les conditions définies par la législation applicable. 0.9919077754020691\n",
      "16375  copyright symbol ministerium für wissenschaft und forschung nordrhein-westfalen date  0.9180047512054443\n",
      "16489 copyright copyright symbol date - date miklos szeredi < email > 0.8675993084907532\n",
      "16700 copyright string auf stderr ausgeben 1: kurzusage auf stderr ausgeben und beenden 2: langusage auf stdout ausgeben und beenden 10: return license info string 11: name of program 12: optional name of package which includes this program. 13: version string 0.9177619814872742\n",
      "16927 copyright copyright symbol date - date verein zur foerderung der freien virtuellen maschine cacao 0.8541569113731384\n",
      "17761  copyright symbol microsoft a é aviséde l'éntualitée tels dommages. certains éts/juridictions ne permettent pas l'exclusion ou la limitation de responsabilitéelative aux dommages indirects ou consétifs, et la limitation ci-dessus peut ne pas s'appliquer àotre érd. 0.8644542098045349\n",
      "18095 copyrightfindingtodb($content, $pfile_fk) 0.8211694955825806\n",
      "18131  copyright symbol date orange author: bartłomiej dróżdż < email > author: piotr pszczoła < email > 0.8615836501121521\n",
      "18134  copyright symbol date orange author: bartłomiej dróżdż < email > 0.8754191994667053\n",
      "18337  copyright symbol que le présent contrat et tous les documents 0.9884124994277954\n",
      "18370  copyright symbol au québec, canada, certaines des clauses dans ce contrat sont fournies ci-dessous en français. 0.9900314807891846\n",
      "18371  copyright symbol stricte, de négligence ou d’une autre faute dans la limite autorisée par la loi en vigueur. elle s’applique également, même si microsoft connaissait ou devrait connaître l’éventualité d’un tel dommage. si votre pays n’autorise pas l’exclusion ou la limitation de responsabilité 0.9900432825088501\n",
      "18372  copyright symbol au logiciel, aux services ou au contenu (y compris le code) figurant sur des sites internet tiers ou dans des programmes tiers ; et 0.9445815682411194\n",
      "18373  copyright symbol par une licence est offert « tel quel ». toute utilisation de ce logiciel est à votre seule risque et péril. microsoft n’accorde aucune autre garantie expresse. vous pouvez bénéficier de droits additionnels en vertu du droit local sur la protection dues consommateurs, que ce contrat ne peu 0.9862505793571472\n",
      "19203  copyright symbol ministerium fuer wissenschaft und forschung nordrhein-westfalen date erstellt von axel metzger und till jaeger, institut fuer rechtsfragen der freien und open source software - ( http://www.ifross.de ). 0.8144859671592712\n",
      "19713 �� deixada sem nome na v2. o padr��o �� \" service/v2'.\" 0.8190386891365051\n",
      "19717 �� uma chave v��lida no diret��rio ser��\\n\" t\\tcolocada no configmap. qualquer entrada de diret��rio, exceto as com \" arquivos v��lidos ser��o ignorados (por exemplo: sub-diret��rios,\\n\" t\\tsymlinks, devices, pipes, etc).\" 0.9184010624885559\n",
      "19720 �� verdadeira \" quando\\n\" 0.8701797127723694\n",
      "19724 �� verdadeiro\" 0.8600549101829529\n",
      "19725 �� verdadeiro, esta tamb��m �� a \" porta utilizada pelo servi��o quando for criado.\" 0.978629469871521\n",
      "19726 �� criado, \" 0.9141135215759277\n",
      "19731 �� no formato yaml. pode ser utilizadoa op����o -o para mudar o formato de sa��da. cria um namespace com um nome especificado. cria uma role com uma ��nica regra. cria uma conta de servi��o com um nome especificado. remove a restri����o de execu����o de workloads no node. aplica a re 0.9913317561149597\n",
      "19734 �� trouv��e. \" msgstr[1] \"\" watch n'est compatible qu'avec les ressources individuelles et les \" 0.9430211782455444\n",
      "19736 �� du kubeconfigsupprimer le contexte sp��cifi�� du kubeconfigd��crire un ou plusieurs contextesafficher les cluster d��finis dans kubeconfigafficher les param��tres fusionn��s de kubeconfig ou d'un fichier kubeconfig sp��cifi��modifier des fichiers kubeconfigmettre �� jour les annotations d'un 0.9220069050788879\n",
      "19746 �� queste risorse spesso\\n\" t\\trappresentano entit�� del cluster, la cancellazione non pu�� essere \" presa in carico immediatamente. se il nodo\\n\" t\\tche ospita un pod �� spento o non raggiungibile da api server, \" termination pu�� richiedere molto pi�� tempo\\n\" t\\tdel grace pe 0.9764823913574219\n",
      "19747 �� questi pods verrebbero \" immediatamente sostituiti dal\\n\" t\\tdaemonset controller, che ignora le marcature unschedulable. se ci \" sono\\n\" 0.90143221616745\n",
      "20151 ��\tcc��c)��p)��8������h>����������\u0013��h:����+���� ��b��� 0.9824186563491821\n",
      "21712  copyright symbol ho používať ako samostatný nástroj na konverziu a filtrovanie súborov s prekladovými dátami. 0.9510136246681213\n",
      "21713  copyright symbol sú nasledujúce formáty: 0.9008045196533203\n",
      "21715  copyright symbol majú prednosť. 0.9608098268508911\n",
      "21716  copyright symbol použiť niekoľko krát na zlúčenie vstupných súborov. môže byť &apos;-&apos; (štandardný vstup) pre použitie v rúre(pipe). 0.9506358504295349\n",
      "21717  copyright symbol súbory. prednastavené je apos;latin1&apos; pre qm a &apos;utf-8&apos; pre po súbory. utf-8 sa vždy skúša tiež 0.875990629196167\n",
      "21719  copyright symbol extra značky pri zápise ts alebo xliff súborov. 0.8431300520896912\n",
      "21723  copyright symbol voľby tiež môžu byť zadané iba s jednou pomlčkou. 0.9196966290473938\n",
      "21724  copyright symbol ho používať ako samostatný nástroj na konverziu xml prekladových súborov vo formáte ts 0.9706267714500427\n",
      "21737  copyright symbol správy sú uložené v textových zdrojových súboroch prekladu 0.9786310791969299\n",
      "21738  copyright symbol a modifikované správy môžu byť zlúčené do existujúcich ts súborov. 0.9856743812561035\n",
      "21739  copyright symbol položky. extensions &lt;prípona&gt;[,&lt;prípona&gt;]... spracovať iba súbory so zadanými príponami. 0.8926593661308289\n",
      "21743  copyright symbol reťazce v nových súboroch. 0.9892755150794983\n",
      "21763  copyright symbol zdrojové súbory. štandardne budú zahrnuté všetky súbory v adresároch, ktoré vyhovujú filtru súborov.</translation> message> message> source>source file path</source> 0.8493421077728271\n"
     ]
    }
   ],
   "source": [
    "languages = np.array(list(range(len(X))), dtype=object)\n",
    "scores = np.array(list(range(len(X))), dtype=object)\n",
    "\n",
    "for index, sentence in enumerate(preprocess_function(X, replace_emails=True, remove_whitespaces=True,\n",
    "                                                        remove_endlines=True, lower=True,\n",
    "                                                        replace_dates=True, replace_copyright_symbol_v2=True)):\n",
    "    label, score = model.predict(sentence, k=1)\n",
    "    languages[index] = label[0].split('__label__')[1]\n",
    "    scores[index] = score[0]\n",
    "\n",
    "for index, sentence in enumerate(preprocess_function(X, replace_emails=True, remove_whitespaces=True,\n",
    "                                                        remove_endlines=True, lower=True,\n",
    "                                                        replace_dates=True, replace_copyright_symbol_v2=True)):\n",
    "    if languages[index] != 'en':\n",
    "        if scores[index] > 0.8:\n",
    "            print(index, sentence, scores[index])"
   ]
  },
  {
   "cell_type": "code",
   "execution_count": 223,
   "metadata": {},
   "outputs": [
    {
     "name": "stdout",
     "output_type": "stream",
     "text": [
      "79 copyright): new json hpp version 0.5109319090843201\n",
      "607 copyright date - date ion gaztanaga 0.5460236072540283\n",
      "628 copyright copyright symbol date louis dionne 0.5822166800498962\n",
      "687 copyright copyright symbol date - date louis dionne 0.5374045968055725\n",
      "730 copyright date - date ion gaztanaga 0.5460236072540283\n",
      "804 copyright date - date ion gaztanaga 0.5460236072540283\n",
      "811 copyright date - date ion gaztanaga 0.5460236072540283\n",
      "942 copyright date ion gaztanaga 0.6646783351898193\n",
      "1153 copyright date maarten keijzer 0.7063458561897278\n",
      "1357 copyright thijs van den berg date  0.7731266617774963\n",
      "1408 copyright date giel van schijndel 0.7564087510108948\n",
      "1418 copyright date maciej piechotka authors: maciej piechotka 0.6345721483230591\n",
      "1577 copyright date - date ion gaztanaga 0.5460236072540283\n",
      "1622 copyright copyright symbol date tor brede vekterli 0.6641188263893127\n",
      "1639 copyright date - date ion gaztanaga 0.5460236072540283\n",
      "1761 copyright louis dionne date  0.8385561108589172\n",
      "1763 copyright louis dionne date  0.8385561108589172\n",
      "2171 copyright copyright symbol date louis dionne 0.5822166800498962\n",
      "3191 copyright copyright symbol date louis dionne 0.5822166800498962\n",
      "3374 copyright date ion gaztanaga 0.6646783351898193\n",
      "3496 copyright date , a kaliforniai egyetem kormã¡nyzã³ja 0.8509538173675537\n",
      "3716 copyright louis dionne date - date  0.7782920598983765\n",
      "3731 copyright ion gaztanaga date - date  0.5460235476493835\n",
      "3816 copyright louis dionne date - date  0.7782920598983765\n",
      "3826 copyright date - date ion gaztanaga 0.5460236072540283\n",
      "4096 copyright date - reggenti dell&apos;universitã  della california 0.7205016016960144\n",
      "4192 copyright copyright symbol fsf. wszystkie prawa zastrzezone 0.8541680574417114\n",
      "4321 copyright copyright symbol date free software foundation, inc. michel robitaille &lt;robitail@iro.umontreal.ca&gt;, traducteur depuis/since date . 0.6308131814002991\n",
      "4604  copyright symbol copyright ion gaztanaga 0.6199292540550232\n",
      "4660 copyright louis dionne, date - date  0.80096834897995\n",
      "4768 copyright ion gaztanaga date  0.6646783351898193\n",
      "4771 copyright ion gaztanaga date  0.6646783351898193\n",
      "4787 copyright date - date ion gaztanaga 0.5460236072540283\n",
      "4809 copyright date - date ion gaztanaga 0.5460236072540283\n",
      "4854 copyright date - date ion gaztanaga 0.5460236072540283\n",
      "4976 copyright copyright symbol date louis dionne 0.5822166800498962\n",
      "5055 copyright louis dionne date - date  0.7782920598983765\n",
      "5057 copyright louis dionne date - date  0.7782920598983765\n",
      "5323 copyright date jonathan de halleux 0.5021113157272339\n",
      "5408 copyright date - date ion gaztanaga 0.5460236072540283\n",
      "5416  copyright symbol copyright date louis dionne 0.5822166800498962\n",
      "5479 copyright date ion gaztanaga 0.6646783351898193\n",
      "5487 copyright ion gaztanaga date - date  0.5460235476493835\n",
      "5567 copyright copyright symbol date piotr wyderski 0.525653064250946\n",
      "5581 copyright copyright symbol date giovanni bajo 0.6359466314315796\n",
      "5614 copyright louis dionne date  0.8385561108589172\n",
      "5615 copyright louis dionne date  0.8385561108589172\n",
      "5766 copyright copyright symbol date louis dionne 0.5822166800498962\n",
      "6574 copyright copyright symbol date free software foundation, inc അനൂപ്|anoop പി|p email , ലാലു|lalu കെആര്‍|kr email , സജീവ്|sajeev പിആര്‍|pr email  0.5779185891151428\n",
      "7201 copyright copyright symbol date , associazione culturale itpug 0.6888120770454407\n",
      "7299 copyright copyright symbol date - date gant red hat, inc. 0.5389774441719055\n",
      "7532 copyright copyright symbol date - date baptiste lepilleur 0.594802975654602\n",
      "7673  copyright symbol jonathan a. schweder &lt; email &gt; 0.5686200857162476\n",
      "7675 copyright date baptiste lepilleur 0.8360307216644287\n",
      "7676 copyright date - date baptiste lapilleur date - date christopher dunn 0.5254564881324768\n",
      "7678 copyright date baptiste lepilleur 0.8360307216644287\n",
      "7679 copyright date - date baptiste lepilleur 0.7884402275085449\n",
      "7680 copyright date - date baptiste lepilleur 0.7884402275085449\n",
      "7682 copyright date baptiste lepilleur 0.8360307216644287\n",
      "7687 copyright date baptiste lepilleur 0.8360307216644287\n",
      "7716 copyright copyright symbol date bundesamt für sicherheit in der informationstechnik 0.8937627673149109\n",
      "10796 copyright date free software foundation, inc.版权所有 date - date 自由软件基金会。 0.60892254114151\n",
      "11907  copyright symbol de jouir de l'œuvre tel que permis par la lal (liberté de copier, diffuser, modifier) implique pour chacun la responsabilité de ses propres faits. 0.939477801322937\n",
      "11908  copyright symbol posés par la lal. 0.9734050631523132\n",
      "11909  copyright symbol de modifier les copies des originaux (initiaux et conséquents) dans le respect des conditions suivantes : 0.9871823191642761\n",
      "11910  copyright symbol de copier cette œuvre pour vous, vos amis ou toute autre personne, quelle que soit la technique employée. 0.9715960025787354\n",
      "11911  copyright symbol d'usage, de copie, de diffusion, de transformation et interdiction d'appropriation exclusive. 0.6617558002471924\n",
      "11921  copyright symbol accordées par cette licence. ces autorisations n'entraînent pas un dessaisissement de vos droits intellectuels. 0.9863457679748535\n",
      "11924  copyright symbol souhaite distribuer un logiciel modifié combiné à un logiciel assujetti à une licence compatible, mais dont il ne serait pas possible d'en respecter les termes, le concédant offre, en plus de la présente concession, une concession selon les termes de cette licence compatible. 0.9849515557289124\n",
      "11954  copyright symbol distribue le logiciel ou un logiciel modifié, ce dernier doit assumer l'obligation d'en distribuer le code source, de la manière prévue au troisième alinéa de l'article 3. 0.9247632622718811\n",
      "11955  copyright symbol distribue le logiciel, le concédant offre au récipiendaire une concession sur le logiciel selon les termes de la présente licence. le licencié doit offrir une concession selon les termes de la présente licence pour tout logiciel modifié qu'il distribue. 0.9905542135238647\n",
      "11956  copyright symbol dont le titulaire du droit d'auteur précise qu'il est sujet aux termes de la licence libre du québec – réciprocité (liliq-r) (ci-après appelée la « licence »). 0.9852808713912964\n",
      "11967  copyright symbol est comparable ou supérieur à celui de la présente licence, sans toutefois être moindre, notamment : 0.9948850274085999\n",
      "11986  copyright symbol dans un délai de 30 jours de sa prise de connaissance par la personne en défaut, et qu'il s'agit du premier défaut, la licence est accordée de nouveau. 0.9946049451828003\n",
      "11987  copyright symbol ou par des tiers, pour quelque cause que ce soit en lien avec la licence et les droits qui y sont accordés. 0.99778813123703\n",
      "11988  copyright symbol est responsable de tout préjudice résultant de l'exercice des droits accordés par la licence. 0.9628780484199524\n",
      "11989  copyright symbol d'offrir ou d'exclure des garanties ou du support. 0.9062699675559998\n",
      "11990  copyright symbol est comparable à celui de la présente licence, sans toutefois être moindre, notamment: 0.9905332922935486\n",
      "11991  copyright symbol qui est titulaire exclusif du droit d'auteur sur le logiciel assujetti à une licence compatible ne peut pas se prévaloir de cette offre. il en est de même pour toute autre personne dûment autorisée à sous-licencier par le titulaire exclusif du droit d'auteur sur le logiciel assujetti à une 0.9961158037185669\n",
      "11992  copyright symbol souhaite distribuer un logiciel modifié ou dérivé combiné à un logiciel assujetti à une licence compatible, mais dont il ne serait pas possible d'en respecter les termes, le concédant offre, en plus de la présente concession, une concession selon les termes de cette licence compatible. 0.9867119789123535\n",
      "11993  copyright symbol distribue le logiciel, un logiciel modifié, ou un logiciel dérivé, ce dernier doit assumer l'obligation d'en distribuer le code source, de la manière prévue au troisième alinéa de l'article 3. 0.9392695426940918\n",
      "11994  copyright symbol distribue le logiciel, le concédant offre au récipiendaire une concession sur le logiciel selon les termes de la présente licence. le licencié doit offrir une concession selon les termes de la présente licence pour tout logiciel modifié ou dérivé qu'il distribue. 0.9913479685783386\n",
      "11995  copyright symbol concernant le logiciel ne doivent pas être modifiées ou supprimées, à moins que ces étiquettes ou mentions ne soient inapplicables à un logiciel modifié ou dérivé donné. 0.9878338575363159\n",
      "11996  copyright symbol modifié, le licencié doit en faire la mention, de préférence dans chacun des fichiers modifiés dont la nature permet une telle mention; 0.9889986515045166\n",
      "11997  copyright symbol d'un exemplaire de cette licence; 0.881206750869751\n",
      "11998  copyright symbol peut choisir sous quelle version la licence lui est accordée. 0.945519745349884\n",
      "12011  copyright symbol peut distribuer des copies du logiciel, d'un logiciel modifié ou dérivé, sous réserve de respecter les conditions suivantes : 0.9907199740409851\n",
      "12025  copyright symbol d'une offre de distribuer le code source du logiciel, sans frais supplémentaires, autres que ceux raisonnables afin de permettre la livraison du code source. cette offre doit être valide pendant une durée raisonnable. 0.9722380042076111\n",
      "12054  copyright symbol ou une partie importante. 0.9821821451187134\n",
      "12055  copyright symbol ou une partie importante en public; 0.9800986051559448\n",
      "12056  copyright symbol ou une partie importante; 0.9968729615211487\n",
      "12057  copyright symbol une licence non exclusive et libre de redevances lui permettant d'exercer les droits suivants sur le logiciel: 0.9470382332801819\n",
      "12058  copyright symbol de l'un des fichiers source du logiciel ou encore tout nouveau fichier source qui incorpore le logiciel ou une partie importante de ce dernier. 0.9807407259941101\n",
      "12059  copyright symbol par un licencié, autre que le logiciel ou un logiciel modifié, qui produit ou reproduit la totalité ou une partie importante du logiciel; 0.9926296472549438\n",
      "12060  copyright symbol qu'elle est sujette aux termes de la présente licence; 0.9875931739807129\n",
      "12061  copyright symbol dans le logiciel; 0.9927299618721008\n",
      "12062  copyright symbol comme un concédant en regard de sa contribution; 0.804960310459137\n",
      "12063  copyright symbol dont le titulaire du droit d'auteur précise qu'il est sujet aux termes de la licence libre du québec – réciprocité forte (liliq-r+) (ci-après appelée la « licence »). 0.982355535030365\n",
      "12108  copyright symbol de proposer de nouvelles versions de la licence ouverte. cependant, les « réutilisateurs » pourront continuer à réutiliser les informations qu'ils ont obtenues sous cette licence s'ils le souhaitent. </text> 0.9841352105140686\n",
      "12110  copyright symbol du premier ministre, d'ouvrir le plus grand nombre de données publiques des administrations de l'etat et de ses établissements publics. elle a réalisé la licence ouverte pour faciliter la réutilisation libre et gratuite de ces informations publiques, telles que définies par l'article l321-1 0.9784815907478333\n",
      "12111  copyright symbol produite ou reçue. 0.950576663017273\n",
      "12112  copyright symbol conçue pour être compatible avec toute licence libre qui exige au moins la mention de paternité et notamment avec la version antérieure de la présente licence ainsi qu'avec les licences : 0.9947773814201355\n",
      "12113  copyright symbol intellectuelle » cessibles sur l'« information », il les cède au « réutilisateur » de façon non exclusive, à titre gracieux, pour le monde entier, pour toute la durée des « droits de propriété intellectuelle », et le « réutilisateur » peut faire tout usage de l'« information » c 0.9927260279655457\n",
      "12114  copyright symbol intellectuelle » détenus par des tiers ou par le « concédant » sur l'« information » ne font pas obstacle aux droits accordés par la présente licence. 0.9909223318099976\n",
      "12115  copyright symbol ne confère aucun caractère officiel à la « réutilisation » de l'« information », et ne doit pas suggérer une quelconque reconnaissance ou caution par le « concédant », ou par toute autre entité publique, du « réutilisateur » ou de sa « réutilisation ». 0.9936085343360901\n",
      "12124  copyright symbol intellectuelle » : tous droits identifiés comme tels par le code de la propriété intellectuelle (notamment le droit d'auteur, droits voisins au droit d'auteur, droit sui generis des producteurs de bases de données…). 0.9708228707313538\n",
      "12152  copyright symbol communiquée ou alors, vous prévaloir des dispositions d'une des versions ultérieures. 0.9467450976371765\n",
      "12153  copyright symbol accordés par cette licence. 0.9653103947639465\n",
      "12155  copyright symbol de modifier les copies des originaux (originels et conséquents), qui peuvent être partielles ou non, dans le respect des conditions prévues à l'article 2.2 en cas de diffusion (ou représentation) de la copie modifiée. l'auteur de l'original pourra, s'il le souhaite, vous autoriser à modifie 0.9793179631233215\n",
      "12156  copyright symbol l'oeuvre à l'origine d'une arborescence de cette oeuvre modifiée. par cette licence, l'auteur détermine les conditions dans lesquelles ce travail se fait. 0.992088794708252\n",
      "12157  copyright symbol de l'oeuvre, de sa définition, de sa partition ou de son programme que l'auteur présente comme référence pour toutes actualisations, interprétations, copies ou reproductions ultérieures. 0.9527539610862732\n",
      "12158  copyright symbol expérimenté par nombre d'artistes contemporains. 0.9255930781364441\n",
      "12159  copyright symbol littéraire et artistique conduit à restreindre l'accès du public à l'oeuvre, la licence art libre a pour but de le favoriser. 0.9599931836128235\n",
      "12163  copyright symbol une licence non exclusive et libre de redevances lui permettant d'exercer les droits suivants sur le logiciel : 0.9722656607627869\n",
      "12164  copyright symbol dont le titulaire du droit d'auteur précise qu'il est sujet aux termes de la licence libre du québec – permissive (liliq-p) (ci-après appelée la « licence »). 0.9789775013923645\n",
      "12167  copyright symbol de copier cette oeuvre pour un usage personnel, pour vos amis, ou toute autre personne et quelque soit la technique employée. 0.9853510856628418\n",
      "12455  copyright symbol que le présent contrat et tous les documents connexes soient rédigés en anglais. 0.9810580015182495\n",
      "12951 copyright/agent/regexconfparser.cc 0.5782785415649414\n",
      "12953 copyright/agent/regexconfparser.hpp 0.5782785415649414\n",
      "13504  copyright symbol ministerium f\\u00fcr wissenschaft und forschung nordrhein-westfalen date \\n\\nerstellt von axel metzger und till jaeger, institut f\\u00fcr rechtsfragen der freien und open source software - (http:\\/\\/www.ifross.de).\\n\\npr\\u00e4ambel\\n\\nsoftware ist mehr als ein wirtschaftsgut. sie ist die technisc 0.9890285730361938\n",
      "14516 copyright: adam di carlo < email > license: gpl-2+ 0.595193088054657\n",
      "14520 copyright: adam di carlo < email ></s> license: gpl-2+ 0.5435184836387634\n",
      "14753 copyright::ui 0.5782212615013123\n",
      "15475 copyright\\>|\\<patent\\>|\\<trade(mark| ?dress)\\>|\\<licen[cs]e\\>|\\<terms\\>|\\<agreement\\>|\\<program\\>|\\<software\\>|\\<library\\>|\\<source\\>|\\<binary\\>|\\<document\\>|\\<manual\\>|\\<product\\>|\\<files?\\>|derivat|modification|change|representation)\" 0.6373577117919922\n",
      "15515 copyright|\\<c\\>[^+:]|&copy)\" 0.5000162720680237\n",
      "15841  copyright symbol and long \\377\\377\\377quot \\377\\377\\377\\377\\377\\377, \" test &copy \\377string \\377\\377con \\377\\377\\377\\377tains losts \\377of \\377\\377\\377\\377\\377\\377\\377\\377\\377\\377\" test \\377\\377nbsp \\377\\377\\377body \\377\\377\\377compli\\377\\377\\377cated \\377\\377\\377comment s \" 0.7342816591262817\n",
      "16244  copyright symbol des termes du contrat est réputée acquise du fait du premier des faits suivants: 0.9909029603004456\n",
      "16245  copyright symbol 25 rue leblanc, immeuble le ponant d, date 5 paris. 0.7511560916900635\n",
      "16248  copyright symbol au code source et les droits de copie, de modification et de redistribution qui découlent de ce contrat ont pour contrepartie de n'offrir aux utilisateurs qu'une garantie limitée et de ne faire peser sur l'auteur du logiciel, le titulaire des droits patrimoniaux et les concédants successifs qu' 0.9830247759819031\n",
      "16249  copyright symbol d'en observer, d'en étudier, ou d'en tester le fonctionnement afin de déterminer les idées et principes qui sont à la base de n'importe quel élément de ce logiciel; et ceci, lorsque le licencié effectue toute opération de chargement, d'affichage, d'exécution, de transmission ou de stockag 0.9758281111717224\n",
      "16250  copyright symbol telle que définie en 3.1. 0.8495256900787354\n",
      "16251  copyright symbol sa spécificité de logiciel libre, qui peut le rendre complexe à manipuler et qui le réserve donc à des développeurs ou des professionnels avertis possédant des connaissances informatiques approfondies. les utilisateurs sont donc invités à charger et tester l'adéquation du logiciel à leu 0.9888704419136047\n",
      "16252  copyright symbol mis à disposition du licencié préalablement à son acceptation telle que définie à l'article 3.1 ci dessus et le licencié reconnaît en avoir pris connaissance. 0.9677245020866394\n",
      "16253  copyright symbol est autorisé à distribuer des copies du logiciel, modifié ou non, à des tiers dans les conditions ci-après détaillées. 0.9940863847732544\n",
      "16255  copyright symbol et le concédant. 0.7988083362579346\n",
      "16256  copyright symbol d'une licence non exclusive, cessible et mondiale du logiciel telle que définie ci-après à l'article 5 pour toute la durée de protection des droits portant sur ce logiciel. 0.9778091311454773\n",
      "16257  copyright symbol de l'un quelconque des droits concédés par le contrat. 0.9003785848617554\n",
      "16258  copyright symbol est autorisé à distribuer des copies conformes du logiciel, sous forme de code source ou de code objet, à condition que cette distribution respecte les dispositions du contrat dans leur totalité et soit accompagnée: 0.9848525524139404\n",
      "16259  copyright symbol est autorisé à utiliser le logiciel, sans restriction quant aux domaines d'application, étant ci-après précisé que cela comporte: 0.9619770050048828\n",
      "16260  copyright symbol permette un accès effectif au code source complet du logiciel pendant au moins toute la durée de sa distribution du logiciel, étant entendu que le coût additionnel d'acquisition du code source ne devra pas excéder le simple coût de transfert des données. 0.9643083810806274\n",
      "16261  copyright symbol apporte une contribution au logiciel, le logiciel modifié peut être distribué sous un contrat de licence autre que le présent contrat sous réserve du respect des dispositions de l'article 5.3.4. 0.9901139736175537\n",
      "16262  copyright symbol est autorisé à apporter toute contribution au logiciel sous réserve de mentionner, de façon explicite, son nom en tant qu'auteur de cette contribution et la date de création de celle-ci. 0.9928486347198486\n",
      "16263  copyright symbol au logiciel de telle sorte qu'ils s'exécutent dans le même espace d'adressage. 0.9965429902076721\n",
      "16264  copyright symbol du logiciel, tel que ce module et le logiciel s'exécutent dans des espaces d'adressage différents, l'un appelant l'autre au moment de leur exécution. 0.969612717628479\n",
      "16265  copyright symbol auteur d'au moins une contribution. 0.9463464617729187\n",
      "16266  copyright symbol par au moins une contribution. 0.9958636164665222\n",
      "16267  copyright symbol est assorti d'une obligation forte de citation à la charge de ceux qui distribueraient un logiciel incorporant un logiciel régi par la présente licence afin d'assurer que les contributions de tous soient correctement identifiées et reconnues. 0.9498414397239685\n",
      "16268  copyright symbol de modification et de redistribution du logiciel régi par cette licence. 0.979702889919281\n",
      "16269  copyright symbol civile que du droit de la propriété intellectuelle et de la protection qu'il offre aux auteurs et titulaires des droits patrimoniaux sur un logiciel. les auteurs de la licence cecill-b1 sont: 0.968452513217926\n",
      "16270  copyright symbol sous une version donnée du contrat ne pourra faire l'objet d'une diffusion ultérieure que sous la même version du contrat ou une version postérieure. 0.9888994693756104\n",
      "16271  copyright symbol et ne peut être modifié que par les auteurs de la licence, lesquels se réservent le droit de publier périodiquement des mises à jour ou de nouvelles versions du contrat, qui posséderont chacune un numéro distinct. ces versions ultérieures seront susceptibles de prendre en compte de nouvell 0.9772170782089233\n",
      "16272  copyright symbol en langue française et en langue anglaise, ces deux versions faisant également foi. 0.9713568687438965\n",
      "16273  copyright symbol de l'ensemble du contrat. 0.5298289656639099\n",
      "16274  copyright symbol dont le contrat est résilié n'est plus autorisé à utiliser, modifier ou distribuer le logiciel. cependant, toutes les licences qu'il aura concédées antérieurement à la résiliation du contrat resteront valides sous réserve qu'elles aient été effectuées en conformité avec le contrat. 0.9970974326133728\n",
      "16275  copyright symbol aux obligations mises à sa charge par le contrat, le concédant pourra résilier de plein droit le contrat trente (30) jours après notification adressée au licencié et restée sans effet. 0.9552028775215149\n",
      "16276  copyright symbol intellectuelle d'un tiers portant sur un brevet, un logiciel ou sur tout autre droit de propriété. ainsi, le concédant exclut toute garantie au profit du licencié contre les actions en contrefaçon qui pourraient être diligentées au titre de l'utilisation, de la modification, et de la redist 0.9697990417480469\n",
      "16277  copyright symbol et sa configuration logicielle ni qu'il remplira les besoins du licencié. 0.9477460980415344\n",
      "16278  copyright symbol reconnaît que le logiciel est fourni \"en l'état\" par le concédant sans autre garantie, expresse ou tacite, que celle prévue à l'article 9.2 et notamment sans aucune garantie sur sa valeur commerciale, son caractère sécurisé, innovant ou pertinent. 0.9410368800163269\n",
      "16279  copyright symbol du licencié de contrôler, par tous moyens, l'adéquation du produit à ses besoins, son bon fonctionnement et de s'assurer qu'il ne causera pas de dommages aux personnes et aux biens. 0.997150719165802\n",
      "16280  copyright symbol du concédant est limitée aux engagements pris en application du contrat et ne saurait être engagée en raison notamment: (i) des dommages dus à l'inexécution, totale ou partielle, de ses obligations par le licencié, (ii) des dommages directs ou indirects découlant de l'utilisation ou des pe 0.9256158471107483\n",
      "16281  copyright symbol a la faculté, sous réserve de prouver la faute du concédant concerné, de solliciter la réparation du préjudice direct qu'il subirait du fait du logiciel et dont il apportera la preuve. 0.9877693057060242\n",
      "16282  copyright symbol et ce, dans les conditions qu'il souhaite. cette garantie et les modalités financières de son application feront l'objet d'un acte séparé entre le concédant et le licencié. 0.9746465682983398\n",
      "16283  copyright symbol du concédant qui les propose. 0.8488808274269104\n",
      "16284  copyright symbol s'engage à ne pas porter atteinte, directement ou indirectement, aux droits de propriété intellectuelle du titulaire et/ou des contributeurs sur le logiciel et à prendre, le cas échéant, à l'égard de son personnel toutes les mesures nécessaires pour assurer le respect des dits droits de p 0.9822302460670471\n",
      "16285  copyright symbol intellectuelle apposées sur le logiciel; 0.950491189956665\n",
      "16286  copyright symbol s'engage expressément: 0.7988232374191284\n",
      "16287  copyright symbol de modifier les conditions de diffusion de ce logiciel initial. 0.6972877383232117\n",
      "16288  copyright symbol du concédant telle que prévue aux articles 8 et 9, 0.9149664044380188\n",
      "16289  copyright symbol reconnaît que l'état actuel des connaissances scientifiques et techniques au moment de la mise en circulation du logiciel ne permet pas d'en tester et d'en vérifier toutes les utilisations ni de détecter l'existence d'éventuels défauts. l'attention du licencié a été attirée sur ce point 0.9714716672897339\n",
      "16290  copyright symbol qui distribue un logiciel modifié s'engage expressément: 0.9461440443992615\n",
      "16291  copyright symbol qui a développé un module externe est titulaire sur celui-ci des droits de propriété intellectuelle dans les conditions définies par la législation applicable et reste libre du choix du contrat régissant sa diffusion. 0.9787530899047852\n",
      "16292  copyright symbol peut être distribué sous le contrat de licence cecill-c. les stipulations prévues à l'article 5.3.4 sont alors facultatives. 0.9822113513946533\n",
      "16293  copyright symbol réalisé à partir du logiciel régi par le contrat, en reproduisant les mentions de propriété intellectuelle du logiciel, 0.9952536821365356\n",
      "16294  copyright symbol a développé un module externe les conditions du contrat ne s'appliquent pas à ce module externe, qui peut être distribué sous un contrat de licence différent. 0.9848742485046387\n",
      "16295  copyright symbol intellectuelle sur les copies du logiciel modifié ou non. 0.957396924495697\n",
      "16296  copyright symbol qui a développé une contribution est titulaire sur celle-ci des droits de propriété intellectuelle dans les conditions définies par la législation applicable. 0.9889774322509766\n",
      "16297  copyright symbol intellectuelle et le fait qu'il est régi par le contrat soient indiqués dans un texte facilement accessible depuis l'interface du logiciel modifié, 0.9973251819610596\n",
      "16298  copyright symbol ou non est distribué avec un module externe qui a été conçu pour l'utiliser, le licencié doit soumettre le dit module externe aux obligations précédentes. 0.9879432916641235\n",
      "16299  copyright symbol contient une contribution soumise au contrat de licence cecill, les stipulations prévues à l'article 5.3.4 sont facultatives. 0.9676483273506165\n",
      "16300  copyright symbol auteur d'au moins une contribution intégrée. 0.993626058101654\n",
      "16301  copyright symbol résulte soient clairement identifiées et documentées, 0.9909533262252808\n",
      "16302  copyright symbol permette un accès effectif au code source du logiciel modifié, pendant au moins toute la durée de la distribution du logiciel dérivé, de telle sorte que ces modifications puissent être reprises dans une version ultérieure du logiciel, étant entendu que le coût additionnel d'acquisition du 0.9821265339851379\n",
      "16303  copyright symbol contient une contribution intégrée soumise au contrat de licence cecill, ou lorsqu'un logiciel dérivé contient un module lié soumis au contrat de licence cecill, les stipulations prévues au troisième item de l'article 6.4 sont facultatives. 0.9808914661407471\n",
      "16304  copyright symbol par au moins une contribution intégrée. 0.9993935227394104\n",
      "16305  copyright symbol est assorti d'une obligation de remettre à la disposition de la communauté les modifications apportées au code source du logiciel afin de contribuer à son évolution. 0.9207140803337097\n",
      "16306  copyright symbol ou non, et d'un module lié. 0.9538953304290771\n",
      "16307  copyright symbol qui a développé un module lié est titulaire sur celui-ci des droits de propriété intellectuelle dans les conditions définies par la législation applicable et reste libre du choix du contrat régissant sa diffusion dans les conditions définies à l'article 5.3.3. 0.9900233149528503\n",
      "16308  copyright symbol est autorisé à apporter toute modification au logiciel sous réserve de mentionner, de façon explicite, son nom en tant qu'auteur de cette modification et la date de création de celle-ci. 0.9933978319168091\n",
      "16309  copyright symbol apporte une contribution intégrée au logiciel, les conditions de distribution du logiciel modifié en résultant sont alors soumises à l'intégralité des dispositions du contrat. 0.9938083291053772\n",
      "16310  copyright symbol est autorisé à distribuer le logiciel modifié sous forme de code source ou de code objet, à condition que cette distribution respecte les dispositions du contrat dans leur totalité et soit accompagnée: 0.9859511256217957\n",
      "16311  copyright symbol est redistribué, le licencié permette un accès effectif à son code source complet pendant au moins toute la durée de sa distribution du logiciel modifié, étant entendu que le coût additionnel d'acquisition du code source ne devra pas excéder le simple coût de transfert des données. 0.968122661113739\n",
      "16312  copyright symbol crée un logiciel dérivé, ce logiciel dérivé peut être distribué sous un contrat de licence autre que le présent contrat à condition de respecter les obligations de mention des droits sur le logiciel telles que définies à l'article 6.4. dans le cas où la création du logiciel dérivé a 0.990628182888031\n",
      "16313  copyright symbol correspondant à cette modification soit régi par le présent contrat, 0.9986234307289124\n",
      "16314  copyright symbol de modifier et de réutiliser le logiciel régi par cette licence. 0.9908218383789062\n",
      "16315  copyright symbol intellectuelle et le fait qu'il est régi par le contrat soient indiqués dans un texte facilement accessible notamment depuis l'interface de tout logiciel dérivé. 0.996698260307312\n",
      "16316  copyright symbol intellectuelle sur les copies du logiciel modifié ou non; 0.9788541793823242\n",
      "16317  copyright symbol civile que du droit de la propriété intellectuelle et de la protection qu'il offre aux auteurs et titulaires des droits patrimoniaux sur un logiciel. les auteurs de la licence cecill-c1 sont: 0.968452513217926\n",
      "16318  copyright symbol qui a développé une contribution intégrée est titulaire sur celle-ci des droits de propriété intellectuelle dans les conditions définies par la législation applicable. 0.9919077754020691\n",
      "16343  copyright symbol copyright date - date fraunhofer-gesellschaft zur förderung der angewandten forschung e.v. all rights reserved. 0.5252347588539124\n",
      "16375  copyright symbol ministerium für wissenschaft und forschung nordrhein-westfalen date  0.9180047512054443\n",
      "16489 copyright copyright symbol date - date miklos szeredi < email > 0.8675993084907532\n",
      "16700 copyright string auf stderr ausgeben 1: kurzusage auf stderr ausgeben und beenden 2: langusage auf stdout ausgeben und beenden 10: return license info string 11: name of program 12: optional name of package which includes this program. 13: version string 0.9177619814872742\n",
      "16927 copyright copyright symbol date - date verein zur foerderung der freien virtuellen maschine cacao 0.8541569113731384\n",
      "17246 copyright} 0.7577283382415771\n",
      "17761  copyright symbol microsoft a é aviséde l'éntualitée tels dommages. certains éts/juridictions ne permettent pas l'exclusion ou la limitation de responsabilitéelative aux dommages indirects ou consétifs, et la limitation ci-dessus peut ne pas s'appliquer àotre érd. 0.8644542098045349\n",
      "18095 copyrightfindingtodb($content, $pfile_fk) 0.8211694955825806\n",
      "18100 copyrightfindingtodb(trim($copyrightline), $entry['pfile_pk']); 0.6255438327789307\n",
      "18112 copyrighttextsforfile($propertyid)); 0.6361191272735596\n",
      "18131  copyright symbol date orange author: bartłomiej dróżdż < email > author: piotr pszczoła < email > 0.8615836501121521\n",
      "18134  copyright symbol date orange author: bartłomiej dróżdż < email > 0.8754191994667053\n",
      "18337  copyright symbol que le présent contrat et tous les documents 0.9884124994277954\n",
      "18370  copyright symbol au québec, canada, certaines des clauses dans ce contrat sont fournies ci-dessous en français. 0.9900314807891846\n",
      "18371  copyright symbol stricte, de négligence ou d’une autre faute dans la limite autorisée par la loi en vigueur. elle s’applique également, même si microsoft connaissait ou devrait connaître l’éventualité d’un tel dommage. si votre pays n’autorise pas l’exclusion ou la limitation de responsabilité 0.9900432825088501\n",
      "18372  copyright symbol au logiciel, aux services ou au contenu (y compris le code) figurant sur des sites internet tiers ou dans des programmes tiers ; et 0.9445815682411194\n",
      "18373  copyright symbol par une licence est offert « tel quel ». toute utilisation de ce logiciel est à votre seule risque et péril. microsoft n’accorde aucune autre garantie expresse. vous pouvez bénéficier de droits additionnels en vertu du droit local sur la protection dues consommateurs, que ce contrat ne peu 0.9862505793571472\n",
      "18556 copyright > 5) 0.5100103616714478\n",
      "18923 copyrightdao = $container->get('dao.copyright'); agentdao = $container->get('dao.agent'); 0.5904059410095215\n",
      "19203  copyright symbol ministerium fuer wissenschaft und forschung nordrhein-westfalen date erstellt von axel metzger und till jaeger, institut fuer rechtsfragen der freien und open source software - ( http://www.ifross.de ). 0.8144859671592712\n",
      "19688 copyright_file=$build_tag_file -source=azure_vmsets.go -destination=mockvmsets/azure_mock_vmsets.go -package=mockvmsets vmset package azure 0.5379615426063538\n",
      "19713 �� deixada sem nome na v2. o padr��o �� \" service/v2'.\" 0.8190386891365051\n",
      "19714 �� interrompido se os pods n��o s��o gerenciados \" por um replicationcontroller, replicaset, job, daemonset ou statefulset, \" e tem espera por 15 minutos.\\n\" t\\t$ kubectl drain foo ���grace-period=900\" 0.6828678250312805\n",
      "19717 �� uma chave v��lida no diret��rio ser��\\n\" t\\tcolocada no configmap. qualquer entrada de diret��rio, exceto as com \" arquivos v��lidos ser��o ignorados (por exemplo: sub-diret��rios,\\n\" t\\tsymlinks, devices, pipes, etc).\" 0.9184010624885559\n",
      "19718 �� opcional.\\n\" 0.7787862420082092\n",
      "19719 �� mut��vel.\" 0.5772298574447632\n",
      "19720 �� verdadeira \" quando\\n\" 0.8701797127723694\n",
      "19721 �� enviado para o servidor.\" 0.5714143514633179\n",
      "19724 �� verdadeiro\" 0.8600549101829529\n",
      "19725 �� verdadeiro, esta tamb��m �� a \" porta utilizada pelo servi��o quando for criado.\" 0.978629469871521\n",
      "19726 �� criado, \" 0.9141135215759277\n",
      "19727 �� criado, se configurado para \" 0.7557490468025208\n",
      "19728 �� criado. para os dois ��ltimos ���replicas deve ser 1. \" valor padr��o 'always', para cronjobs `never`.\" 0.7918572425842285\n",
      "19731 �� no formato yaml. pode ser utilizadoa op����o -o para mudar o formato de sa��da. cria um namespace com um nome especificado. cria uma role com uma ��nica regra. cria uma conta de servi��o com um nome especificado. remove a restri����o de execu����o de workloads no node. aplica a re 0.9913317561149597\n",
      "19732 �� que a porta de servi��o na v1 �� chamada de 'default', enquanto ela �� deixada sem nome na v2. o padr��o �� 'service/v2'.o protocolo de rede para o servi��o ser criado. padr��o �� 'tcp'.a porta para que o servi��o possa servir. copiado do recurso sendo exposto, se n��o especificadoo recurso req 0.653184175491333\n",
      "19734 �� trouv��e. \" msgstr[1] \"\" watch n'est compatible qu'avec les ressources individuelles et les \" 0.9430211782455444\n",
      "19736 �� du kubeconfigsupprimer le contexte sp��cifi�� du kubeconfigd��crire un ou plusieurs contextesafficher les cluster d��finis dans kubeconfigafficher les param��tres fusionn��s de kubeconfig ou d'un fichier kubeconfig sp��cifi��modifier des fichiers kubeconfigmettre �� jour les annotations d'un 0.9220069050788879\n",
      "19746 �� queste risorse spesso\\n\" t\\trappresentano entit�� del cluster, la cancellazione non pu�� essere \" presa in carico immediatamente. se il nodo\\n\" t\\tche ospita un pod �� spento o non raggiungibile da api server, \" termination pu�� richiedere molto pi�� tempo\\n\" t\\tdel grace pe 0.9764823913574219\n",
      "19747 �� questi pods verrebbero \" immediatamente sostituiti dal\\n\" t\\tdaemonset controller, che ignora le marcature unschedulable. se ci \" sono\\n\" 0.90143221616745\n",
      "19748 �� mirror pod n�� gestiti dal replicationcontroller,\\n\" t\\treplicaset, daemonset, statefulset o job, allora drain non canceller�� \" 0.7107354998588562\n",
      "20018 copyright date zbigniew mandziejewicz 0.6047763824462891\n",
      "20151 ��\tcc��c)��p)��8������h>����������\u0013��h:����+���� ��b��� 0.9824186563491821\n",
      "20197 copyright terms herein. 0.52729332447052\n",
      "20239 �� sa����le��t��/��t���� sa����l\u0003������i����@����l\u0003��\u00062 0.7083178758621216\n",
      "20331  copyright symbol date douglas christopher wilson mit licensed 0.6417252421379089\n",
      "20335  copyright symbol date tiancheng \"timothy\" gu mit licensed 0.5360725522041321\n",
      "20336  copyright symbol date douglas christopher wilson mit licensed 0.6417252421379089\n",
      "20339  copyright symbol date douglas christopher wilson mit licensed 0.6417252421379089\n",
      "20477 copyright copyright symbol date bartlomiej wolowiec 0.7415685057640076\n",
      "20516 copyright copyright symbol date bartlomiej wolowiec < email > 0.6646778583526611\n",
      "20715 copyright copyright symbol date szabolcs nagy 0.6041631102561951\n",
      "20721 copyright copyright symbol date - date baptiste lepilleur 0.594802975654602\n",
      "20923 copyright copyright symbol date kristian høgsberg 0.6156770586967468\n",
      "21380  copyright symbol \\ get_sse_inner(d) 0.7567869424819946\n",
      "21525 copyright terms herein. 0.52729332447052\n",
      "21623  copyright symbol piu¶ly=âfæñcj 0.7010290622711182\n",
      "21651  copyright symbol nájsť vhodný slovník.</translation> message> message> source>adding entry to phrasebook %1</source> translation>pridať položku do slovníku %1</translation> message> message> source>select phrase book to add to</source> 0.5890775918960571\n",
      "21656  copyright symbol správy 0.5336897373199463\n",
      "21682  copyright symbol otvoriť súbor s databázou: %1!</translation> message> message> source>cannot register namespace %1!</source> 0.7001063227653503\n",
      "21683  copyright symbol zaregistrovať menný priestor %1!</translation> message> message> source>insert custom filters...</source> 0.5581555962562561\n",
      "21698  copyright symbol otvoriť súbor so zbierkou: %1</translation> message> message> source>cannot create tables in file %1!</source> 0.5435096621513367\n",
      "21712  copyright symbol ho používať ako samostatný nástroj na konverziu a filtrovanie súborov s prekladovými dátami. 0.9510136246681213\n",
      "21713  copyright symbol sú nasledujúce formáty: 0.9008045196533203\n",
      "21715  copyright symbol majú prednosť. 0.9608098268508911\n",
      "21716  copyright symbol použiť niekoľko krát na zlúčenie vstupných súborov. môže byť &apos;-&apos; (štandardný vstup) pre použitie v rúre(pipe). 0.9506358504295349\n",
      "21717  copyright symbol súbory. prednastavené je apos;latin1&apos; pre qm a &apos;utf-8&apos; pre po súbory. utf-8 sa vždy skúša tiež 0.875990629196167\n",
      "21718  copyright symbol po súbory. prednastavené je &apos;utf-8&apos;. 0.7888925671577454\n",
      "21719  copyright symbol extra značky pri zápise ts alebo xliff súborov. 0.8431300520896912\n",
      "21721  copyright symbol odkazy na zdrojový kód v ts súboroch. 0.7525759935379028\n",
      "21723  copyright symbol voľby tiež môžu byť zadané iba s jednou pomlčkou. 0.9196966290473938\n",
      "21724  copyright symbol ho používať ako samostatný nástroj na konverziu xml prekladových súborov vo formáte ts 0.9706267714500427\n",
      "21737  copyright symbol správy sú uložené v textových zdrojových súboroch prekladu 0.9786310791969299\n",
      "21738  copyright symbol a modifikované správy môžu byť zlúčené do existujúcich ts súborov. 0.9856743812561035\n",
      "21739  copyright symbol položky. extensions &lt;prípona&gt;[,&lt;prípona&gt;]... spracovať iba súbory so zadanými príponami. 0.8926593661308289\n",
      "21741  copyright symbol je absolútne(absolute). no-ui-lines nezaznamenávať čísla riadkov v odkazoch na ui súbory. disable-heuristic {sametext|similartext|number} rovnaký text|podobný text|číslo} zakázať označenú heuristiku pri zlučovaní. 0.6595332622528076\n",
      "21742  copyright symbol opakovane. pro &lt;názov_súboru&gt; 0.7087648510932922\n",
      "21743  copyright symbol reťazce v nových súboroch. 0.9892755150794983\n",
      "21763  copyright symbol zdrojové súbory. štandardne budú zahrnuté všetky súbory v adresároch, ktoré vyhovujú filtru súborov.</translation> message> message> source>source file path</source> 0.8493421077728271\n"
     ]
    }
   ],
   "source": [
    "languages = np.array(list(range(len(X))), dtype=object)\n",
    "scores = np.array(list(range(len(X))), dtype=object)\n",
    "\n",
    "for index, sentence in enumerate(preprocess_function(X, replace_emails=True, remove_whitespaces=True,\n",
    "                                                        remove_endlines=True, lower=True,\n",
    "                                                        replace_dates=True, replace_copyright_symbol_v2=True)):\n",
    "    label, score = model.predict(sentence, k=1)\n",
    "    languages[index] = label[0].split('__label__')[1]\n",
    "    scores[index] = score[0]\n",
    "\n",
    "for index, sentence in enumerate(preprocess_function(X, replace_emails=True, remove_whitespaces=True,\n",
    "                                                        remove_endlines=True, lower=True,\n",
    "                                                        replace_dates=True, replace_copyright_symbol_v2=True)):\n",
    "    if languages[index] != 'en':\n",
    "        if scores[index] > 0.5:\n",
    "            print(index, sentence, scores[index])"
   ]
  },
  {
   "cell_type": "code",
   "execution_count": 224,
   "metadata": {},
   "outputs": [
    {
     "name": "stdout",
     "output_type": "stream",
     "text": [
      "2 copyright_list src/cli/fo_folder src/cli/fo_nomos_license_list src/cli/fo_wrapper.php src/cli/fossjobs src/cli/fossjobs.1 src/cli/fossjobs.html src/cli/fossjobs.txt src/cli/schema-export src/cli/tests/cli-xunit.xml src/cli/testupdate2.php src/cli/fo_import_licenses src/cli/fo_usergroup src/cli/fossu 0.24052397906780243\n",
      "14  copyright symbol date siemens ag 0.26797372102737427\n",
      "15  copyright symbol date siemens ag 0.26797372102737427\n",
      "27  copyright symbol date - date siemens ag 0.2198590785264969\n",
      "79 copyright): new json hpp version 0.5109319090843201\n",
      "80 copyright): enable recursion test 0.162434920668602\n",
      "145  copyright symbol date , date siemens ag 0.2198590785264969\n",
      "147 copyright/mod_deps ./src/copyright/ copy ./src/delagent/mod_deps ./src/delagent/ copy ./src/mimetype/mod_deps ./src/mimetype/ copy ./src/nomos/mod_deps ./src/nomos/ copy ./src/ojo/mod_deps ./src/ojo/ copy ./src/pkgagent/mod_deps ./src/pkgagent/ copy ./src/scancode/mod_deps ./src/scancode/ copy ./src 0.22633352875709534\n",
      "303 copyright copyright symbol date suse linux products gmbh. maciej warnecki < email >, date . wadim dziedzic < email > 0.27382639050483704\n",
      "304 copyright copyright symbol date suse linux products gmbh.</s> maciej warnecki < email >, date . wadim dziedzic < email > 0.2789253294467926\n",
      "311 copyright date siemens ag 0.2993927597999573\n",
      "313 copyright date siemens ag 0.2993927597999573\n",
      "317 copyright siemens ag date  0.2993927299976349\n",
      "318 copyright siemens ag date , date  0.25354301929473877\n",
      "319 copyright siemens ag date - date  0.25354301929473877\n",
      "320 copyright siemens ag date - date  0.25354301929473877\n",
      "321 copyright siemens ag date  0.2993927299976349\n",
      "322 copyright siemens ag date , email  0.27244096994400024\n",
      "323 copyright siemens ag date , email  0.27244096994400024\n",
      "324 copyright siemens ag date  0.2993927299976349\n",
      "325 copyright siemens ag date  0.2993927299976349\n",
      "326 copyright siemens ag date  0.2993927299976349\n",
      "328 copyright siemens ag date , email , email  0.24157802760601044\n",
      "329 copyright date siemens ag 0.2993927597999573\n",
      "330 copyright date siemens ag 0.2993927597999573\n",
      "341 copyright date - date siemens ag 0.25354301929473877\n",
      "342 copyright date - date , date siemens ag 0.21315979957580566\n",
      "343 copyright date - date , date siemens ag 0.21315979957580566\n",
      "344 copyright date - date siemens ag 0.25354301929473877\n",
      "345 copyright date - date siemens ag 0.25354301929473877\n",
      "346 copyright date - date , date siemens ag 0.21315979957580566\n",
      "347 copyright date - date siemens ag 0.25354301929473877\n",
      "348 copyright date siemens ag 0.2993927597999573\n",
      "349 copyright date , date , siemens ag 0.25354301929473877\n",
      "350 copyright date - date siemens ag 0.25354301929473877\n",
      "351 copyright date - date , date siemens ag 0.21315979957580566\n",
      "352 copyright siemens ag, date  0.2993927299976349\n",
      "353 copyright siemens ag, date - date  0.25354301929473877\n",
      "373 copyright copyright symbol aaron seigo <aseigo kde.org> 0.13480204343795776\n",
      "394 copyright siemens ag date , date  0.25354301929473877\n",
      "466 copyright copyright symbol 205 siemens ag 0.26212552189826965\n",
      "498 copyright vicente j. botet escriba date . 0.16375291347503662\n",
      "522 copyright copyright symbol date - date dan nuffer 0.3001672327518463\n",
      "554 copyright paul a. bristow date  0.1480041891336441\n",
      "586  copyright symbol copyright david abrahams date - date . copyright date - date ion gaztanaga 0.12395475804805756\n",
      "591 copyright date krzysztof czainski 0.4235644042491913\n",
      "592  copyright symbol copyright ion gaztanaga date - date  0.3846886157989502\n",
      "594  copyright symbol copyright ion gaztanaga date - date  0.3846886157989502\n",
      "595  copyright symbol copyright ion gaztanaga date - date  0.3846886157989502\n",
      "597  copyright symbol copyright ion gaztanaga date - date  0.3846886157989502\n",
      "598  copyright symbol copyright ion gaztanaga date - date  0.3846886157989502\n",
      "607 copyright date - date ion gaztanaga 0.5460236072540283\n",
      "618 copyright date - date guillaume melquiond, ens lyon 0.32511427998542786\n",
      "628 copyright copyright symbol date louis dionne 0.5822166800498962\n",
      "632 copyright date joel de guzman 0.2721147835254669\n",
      "664 copyright date - date guillaume melquiond 0.35198137164115906\n",
      "673 copyright date paul a. bristow 0.1480041891336441\n",
      "687 copyright copyright symbol date - date louis dionne 0.5374045968055725\n",
      "705 copyright beman dawes, date  0.2577133774757385\n",
      "706 copyright beman dawes, date  0.2577133774757385\n",
      "710 copyright beman dawes, date  0.2577133774757385\n",
      "712 copyright beman dawes, date  0.2577133774757385\n",
      "714 copyright beman dawes, date  0.2577133774757385\n",
      "721 copyright beman dawes, date  0.2577133774757385\n",
      "730 copyright date - date ion gaztanaga 0.5460236072540283\n",
      "732 copyright date artur shepilko 0.12281906604766846\n",
      "735 copyright vicente j. botet escriba date  0.1713174283504486\n",
      "736  copyright symbol copyright ion gaztanaga date - date  0.3846886157989502\n",
      "738 copyright vicente j. botet escriba date  0.1713174283504486\n",
      "739 copyright beman dawes, date  0.2577133774757385\n",
      "742 copyright copyright symbol date ion gaztanaga 0.4963145852088928\n",
      "747  copyright symbol copyright ion gaztanaga date - date  0.3846886157989502\n",
      "762 copyright date , date john maddock, paul a. bristow and m.a. (thijs) van den berg 0.23458437621593475\n",
      "767 copyright vicente j. botet escriba date  0.1713174283504486\n",
      "769  copyright symbol copyright ion gaztanaga date - date  0.3846886157989502\n",
      "771 copyright date - date joaquín m lópez muñoz 0.22274324297904968\n",
      "776  copyright symbol copyright ion gaztanaga date - date  0.3846886157989502\n",
      "789 copyright date peter breitenlohner 0.28987574577331543\n",
      "804 copyright date - date ion gaztanaga 0.5460236072540283\n",
      "811 copyright date - date ion gaztanaga 0.5460236072540283\n",
      "825 copyright vicente j. botet escriba date . 0.16375291347503662\n",
      "838 copyright date beman dawes 0.2577133774757385\n",
      "860 copyright date beman dawes 0.2577133774757385\n",
      "886  copyright symbol copyright ion gaztanaga date - date  0.3846886157989502\n",
      "888  copyright symbol copyright ion gaztanaga date - date  0.3846886157989502\n",
      "889  copyright symbol copyright ion gaztanaga date - date  0.3846886157989502\n",
      "894  copyright symbol copyright ion gaztanaga date - date  0.3846886157989502\n",
      "939 copyright vicente j. botet escriba date . 0.16375291347503662\n",
      "942 copyright date ion gaztanaga 0.6646783351898193\n",
      "949 copyright copyright symbol date jakub szuppe &lt; email &gt; 0.42312106490135193\n",
      "998 copyright beman dawes date  0.2577133774757385\n",
      "999 copyright beman dawes date  0.2577133774757385\n",
      "1021 copyright date , date , date joel de guzman, 0.28092947602272034\n",
      "1066 copyright date - date joaquín m lópez muñoz 0.22274324297904968\n",
      "1072 copyright date - date guillaume melquiond 0.35198137164115906\n",
      "1109 copyright date jeremy g. siek, andrew lumsdaine, lie-quan lee 0.0919702798128128\n",
      "1134 copyright jeff garland and beman dawes, date date - date louis dionne div&gt; 0.3991439640522003\n",
      "1153 copyright date maarten keijzer 0.7063458561897278\n",
      "1176  copyright symbol copyright vladimir prus, david abrahams, michael stevens, hartmut kaiser, ion gaztanaga date - date  0.19283849000930786\n",
      "1179 copyright copyright symbol date - date ion gaztanaga 0.3846886456012726\n",
      "1191 copyright date , date ion gaztañaga 0.22453556954860687\n",
      "1198 copyright copyright symbol date - date ion gaztanaga 0.3846886456012726\n",
      "1201 copyright date hartmut kaiser 0.21783477067947388\n",
      "1224 copyright date beman dawes 0.2577133774757385\n",
      "1226  copyright symbol copyright ion gaztanaga date - date  0.3846886157989502\n",
      "1227  copyright symbol copyright ion gaztanaga date - date  0.3846886157989502\n",
      "1229  copyright symbol copyright ion gaztanaga date - date  0.3846886157989502\n",
      "1239  copyright symbol copyright ion gaztanaga date - date  0.3846886157989502\n",
      "1243 copyright date - date joaquín m lópez muñoz 0.22274324297904968\n",
      "1257 copyright date - date joel de guzman 0.279779314994812\n",
      "1266  copyright symbol copyright ion gaztanaga date - date  0.3846886157989502\n",
      "1267  copyright symbol copyright ion gaztanaga date - date  0.3846886157989502\n",
      "1286 copyright copyright symbol date jakub szuppe &lt; email &gt; 0.42312106490135193\n",
      "1293  copyright symbol copyright guillaume melquiond date  0.1928853988647461\n",
      "1316 copyright paul a. bristow date . 0.1451648324728012\n",
      "1323 copyright date date date date joel de guzman, david abrahams 0.26554304361343384\n",
      "1324 copyright paul a. bristow date . 0.1451648324728012\n",
      "1357 copyright thijs van den berg date  0.7731266617774963\n",
      "1376 copyright date jaakko jarvi 0.3102464973926544\n",
      "1408 copyright date giel van schijndel 0.7564087510108948\n",
      "1418 copyright date maciej piechotka authors: maciej piechotka 0.6345721483230591\n",
      "1444  copyright symbol copyright ion gaztanaga date - date . 0.3352029323577881\n",
      "1446 copyright date michael van der westhuizen 0.3458262085914612\n",
      "1453 copyright date hartmut kaiser 0.21783477067947388\n",
      "1457 copyright samuel krempp date . 0.149658203125\n",
      "1469 copyright gennaro prota date  0.3605484366416931\n",
      "1486 copyright date - date joel de guzman 0.279779314994812\n",
      "1495  copyright symbol copyright ion gaztanaga date - date . 0.3352029323577881\n",
      "1507 copyright date - date hervé brönnimann 0.19018615782260895\n",
      "1516 copyright date hartmut kaiser 0.21783477067947388\n",
      "1537 copyright date jeremy g. siek, andrew lumsdaine, lie-quan lee 0.0919702798128128\n",
      "1556 copyright sascha ochsenknecht date  0.4431125521659851\n",
      "1569  copyright symbol copyright ion gaztanaga date - date . 0.3352029323577881\n",
      "1577 copyright date - date ion gaztanaga 0.5460236072540283\n",
      "1622 copyright copyright symbol date tor brede vekterli 0.6641188263893127\n",
      "1639 copyright date - date ion gaztanaga 0.5460236072540283\n",
      "1649  copyright symbol copyright ion gaztanaga date - date  0.3846886157989502\n",
      "1650  copyright symbol copyright ion gaztanaga date - date  0.3846886157989502\n",
      "1672 copyright beman dawes, date  0.2577133774757385\n",
      "1674 copyright beman dawes, date  0.2577133774757385\n",
      "1676 copyright beman dawes, date  0.2577133774757385\n",
      "1678 copyright beman dawes, date  0.2577133774757385\n",
      "1679 copyright beman dawes, date  0.2577133774757385\n",
      "1693 copyright date beman dawes 0.2577133774757385\n",
      "1700  copyright symbol copyright daniel k. o. date . 0.16724355518817902\n",
      "1701 copyright copyright symbol date sergey &quot;gooroo&quot; olendarenko 0.23351849615573883\n",
      "1740 copyright copyright symbol date - date samuel debionne, grenoble, france. 0.44405126571655273\n",
      "1742 copyright paul a. bristow date . 0.1451648324728012\n",
      "1753 copyright paul a. bristow date . 0.1451648324728012\n",
      "1761 copyright louis dionne date  0.8385561108589172\n",
      "1763 copyright louis dionne date  0.8385561108589172\n",
      "1785 copyright date - date joaquín m lópez muñoz 0.22274324297904968\n",
      "1789 copyright paul a. bristow date . 0.1451648324728012\n",
      "1822 copyright dezide aps date - date  0.1480993628501892\n",
      "1829 copyright date guillaume melquiond 0.31377744674682617\n",
      "1844 copyright date - date julio m. merino vidal, ilya sokolov, felipe tanus, jeff flinn, boris schaeling 0.1935092806816101\n",
      "1875 copyright paul a. britow date  0.16158559918403625\n",
      "1886  copyright symbol copyright david gleich date  0.2589591443538666\n",
      "1909  copyright symbol copyright david abrahams, vicente botet, ion gaztanaga date - date  0.23201218247413635\n",
      "1915 copyright paul a. bristow date . 0.1451648324728012\n",
      "1917 copyright date , date university of notre dame du lac 0.3742583990097046\n",
      "1944 copyright beman dawes date -99 0.2577133774757385\n",
      "1952  copyright symbol copyright ion gaztanaga date  0.4963146448135376\n",
      "1959 copyright david abrahams date , joel de guzman, date  0.25454169511795044\n",
      "1964 copyright date - date joaquín m lópez muñoz 0.22274324297904968\n",
      "1967 copyright leo goodstadt date  0.23557348549365997\n",
      "1999 copyright (3) ion gaztanaga date  0.4745176434516907\n",
      "2009  copyright symbol copyright ion gaztanaga date  0.4963146448135376\n",
      "2016 copyright date samuel krempp 0.1446561962366104\n",
      "2040 copyright date , date , date joel de guzman, eric niebler 0.17849501967430115\n",
      "2079  copyright symbol copyright ion gaztanaga date  0.4963146448135376\n",
      "2080  copyright symbol copyright ion gaztanaga date  0.4963146448135376\n",
      "2081  copyright symbol copyright ion gaztanaga date  0.4963146448135376\n",
      "2124 copyright date - date joel de guzman, hartmut kaiser 0.19396989047527313\n",
      "2127 copyright date vicente j. botet escriba 0.17131739854812622\n",
      "2148 copyright date - date joel de guzman 0.279779314994812\n",
      "2155 copyright date eric niebler, michael gauckler. 0.32023483514785767\n",
      "2171 copyright copyright symbol date louis dionne 0.5822166800498962\n",
      "2224 copyright date andreas huber dönni 0.12717832624912262\n",
      "2238 copyright date vicente j. botet escriba 0.17131739854812622\n",
      "2251 copyright date boris gubenko. 0.1028822734951973\n",
      "2253 copyright date alexander zaitsev 0.28194811940193176\n",
      "2260 copyright date vinnie falco 0.264320433139801\n",
      "2277 copyright date - date joaquín m lópez muñoz 0.22274324297904968\n",
      "2293 copyright digital mars date . 0.25941601395606995\n",
      "2341 copyright digital mars date - date . rainer schuetze 0.3473789691925049\n",
      "2397 copyright denis shelomovskij date - date  0.4289720058441162\n",
      "2405 copyright digital mars date . rainer schuetze 0.34490907192230225\n",
      "2458 copyright digital mars date . 0.25941601395606995\n",
      "2521 copyright jean-loup gailly osma ahvenlampi &lt;osma.a email &gt; amiga, sas/c 6.56 &amp; smake 0.14693914353847504\n",
      "2552  copyright symbol copyright ion gaztanaga date - date  0.3846886157989502\n",
      "2592 copyright digital mars date martin nowak 0.3075611889362335\n",
      "2599 copyright digital mars date . 0.25941601395606995\n",
      "2612 copyright date - date pkware inc. 0.26013311743736267\n",
      "2687 copyright sergey krivonos date  0.27422866225242615\n",
      "2692 copyright date - date joel de guzman 0.279779314994812\n",
      "2694 copyright date - date joaquín m lópez muñoz 0.22274324297904968\n",
      "2695 copyright copyright symbol date ion gaztanaga 0.4963145852088928\n",
      "2707 copyright copyright symbol date ion gaztanaga 0.4963145852088928\n",
      "2717 copyright paul a. bristow 0.1562059372663498\n",
      "2744  copyright symbol copyright david abrahams, vicente botet, ion gaztanaga date - date  0.23201218247413635\n",
      "2797 copyright copyright symbol date giovanni bajo http://spirit.sourceforge.net/ 0.3908554017543793\n",
      "2825 copyright copyright symbol date michael van der westhuizen 0.1140453889966011\n",
      "2852 copyright beman dawes date  0.2577133774757385\n",
      "2853 copyright date hervé brönnimann, guillaume melquiond, sylvain pion 0.3911399245262146\n",
      "2855 copyright beman dawes date  0.2577133774757385\n",
      "2857 copyright beman dawes date  0.2577133774757385\n",
      "2872 copyright beman dawes date  0.2577133774757385\n",
      "2874 copyright date - date joaquín m lópez muñoz. 0.2741488516330719\n",
      "2920 copyright date guillaume melquiond 0.31377744674682617\n",
      "2921 copyright beman dawes date  0.2577133774757385\n",
      "2922  copyright symbol copyright ion gaztanaga date - date  0.3846886157989502\n",
      "2923 copyright beman dawes date  0.2577133774757385\n",
      "2967 copyright beman dawes date  0.2577133774757385\n",
      "2970 copyright beman dawes date  0.2577133774757385\n",
      "2971 copyright beman dawes date  0.2577133774757385\n",
      "2972 copyright beman dawes date  0.2577133774757385\n",
      "2973 copyright beman dawes date  0.2577133774757385\n",
      "2975 copyright beman dawes date  0.2577133774757385\n",
      "2981  copyright symbol copyright ion gaztanaga date - date  0.3846886157989502\n",
      "2982 copyright beman dawes date  0.2577133774757385\n",
      "2983  copyright symbol copyright ion gaztanaga date - date  0.3846886157989502\n",
      "2985 copyright beman dawes date  0.2577133774757385\n",
      "3005 copyright beman dawes date  0.2577133774757385\n",
      "3007 copyright beman dawes date  0.2577133774757385\n",
      "3019  copyright symbol copyright ion gaztanaga date - date . 0.3352029323577881\n",
      "3032 copyright copyright symbol date ion gaztanaga 0.4963145852088928\n",
      "3036 copyright date beman dawes 0.2577133774757385\n",
      "3064 copyright date samuel krempp 0.1446561962366104\n",
      "3087  copyright symbol copyright ion gaztanaga date - date . 0.3352029323577881\n",
      "3091 copyright date jeremy siek, lie-quan lee, andrew lumsdaine 0.19617556035518646\n",
      "3094 copyright arnaud kapp, oliver kowalke date  0.1576116681098938\n",
      "3105  copyright symbol copyright date - date ion gaztanaga 0.3846886456012726\n",
      "3107  copyright symbol copyright ion gaztanaga date - date . 0.3352029323577881\n",
      "3126 copyright copyright symbol date jonathan de halleux ( email ) 0.19916337728500366\n",
      "3159 copyright date -17 vicente j. botet escriba 0.1621706485748291\n",
      "3175 copyright date - date joaquín m lópez muñoz 0.22274324297904968\n",
      "3187 copyright date bruce barr authors: andrew lumsdaine, lie-quan lee, jeremy g. siek 0.11158575117588043\n",
      "3191 copyright copyright symbol date louis dionne 0.5822166800498962\n",
      "3195 copyright copyright symbol date júlio hoffimann. 0.39028462767601013\n",
      "3227 copyright copyright symbol matyas egyhazy date  0.3007051348686218\n",
      "3235  copyright symbol copyright ion gaztanaga date - date  0.3846886157989502\n",
      "3252 copyright date -17 vicente j. botet escriba 0.1621706485748291\n",
      "3254 copyright date jaakko järvi 0.4186141788959503\n",
      "3286 copyright date - date joaquín m lópez muñoz 0.22274324297904968\n",
      "3301 copyright copyright symbol date - date jaakko järvi 0.33280059695243835\n",
      "3338 copyright copyright symbol date jakub szuppe &lt; email &gt; 0.42312106490135193\n",
      "3343 copyright date paul a. bristow 0.1480041891336441\n",
      "3359 copyright date date date joel de guzman, eric niebler 0.17849501967430115\n",
      "3367  copyright symbol copyright ion gaztanaga date - date  0.3846886157989502\n",
      "3370  copyright symbol copyright ion gaztanaga date - date  0.3846886157989502\n",
      "3371  copyright symbol copyright ion gaztanaga date - date  0.3846886157989502\n",
      "3374 copyright date ion gaztanaga 0.6646783351898193\n",
      "3477 copyright date è&#135;ªç&#148;±è½¯ä»¶å&#159;ºé&#135;&#145;ä¼&#154;ã&#128;&#130; 0.09818686544895172\n",
      "3482 copyright copyright symbol date l. peter deutsch 0.4064650237560272\n",
      "3496 copyright date , a kaliforniai egyetem kormã¡nyzã³ja 0.8509538173675537\n",
      "3571 copyright (ç&#137;&#136;æ&#157;&#131;æ&#137;&#128;æ&#156;&#137;) date è&#135;ªç&#148;±è½¯ä»¶å&#159;ºé&#135;&#145;ä¼&#154;ã&#128;&#130; 0.16930660605430603\n",
      "3651 copyright david abrahams, matthias troyer, michael gauckler date  0.39989539980888367\n",
      "3658 copyright date date date date date date date date date date date date date date date joel de guzman, hartmut kaiser 0.24288232624530792\n",
      "3666 copyright paul a. bristow date  0.1480041891336441\n",
      "3668 copyright paul a. bristow date  0.1480041891336441\n",
      "3672  copyright symbol copyright ion gaztanaga date - date  0.3846886157989502\n",
      "3680 copyright date guillaume melquiond 0.31377744674682617\n",
      "3687 copyright date beman dawes 0.2577133774757385\n",
      "3689 copyright copyright symbol date - date ion gaztanaga 0.3846886456012726\n",
      "3694  copyright symbol copyright ion gaztanaga date - date  0.3846886157989502\n",
      "3708 copyright date - date joel de guzman, hartmut kaiser 0.19396989047527313\n",
      "3711 copyright date dan marsden 0.3518444299697876\n",
      "3712 copyright date - date guillaume melquiond, sylvain pion 0.3496711254119873\n",
      "3716 copyright louis dionne date - date  0.7782920598983765\n",
      "3718 copyright paul a. bristow date  0.1480041891336441\n",
      "3731 copyright ion gaztanaga date - date  0.5460235476493835\n",
      "3742 copyright date - date renato tegon forti. 0.17563661932945251\n",
      "3743 copyright (arg) date - date joel de guzman 0.23747296631336212\n",
      "3799 copyright date - date joaquín m lópez muñoz 0.22274324297904968\n",
      "3809 copyright date vicente j. botet escriba 0.17131739854812622\n",
      "3812 copyright copyright symbol date carl barron. 0.2644277811050415\n",
      "3816 copyright louis dionne date - date  0.7782920598983765\n",
      "3826 copyright date - date ion gaztanaga 0.5460236072540283\n",
      "3841  copyright symbol copyright ion gaztanaga date - date  0.3846886157989502\n",
      "3846  copyright symbol copyright ion gaztanaga date - date  0.3846886157989502\n",
      "3848  copyright symbol copyright ion gaztanaga date - date  0.3846886157989502\n",
      "3863 copyright date guillaume melquiond, sylvain pion, herveacute; broumlnnimann, polytechnic university 0.3226415812969208\n",
      "3875 copyright copyright symbol date l. peter deutsch and jean-loup gailly 0.3046831786632538\n",
      "3912 copyright date daniel egloff, eric niebler. 0.1917194426059723\n",
      "3919  copyright symbol copyright ion gaztanaga date - date . 0.3352029323577881\n",
      "3934 copyright date olaf krzikalla copyright date - date ion gaztanaga 0.21648187935352325\n",
      "3944 copyright date dan marsden. 0.30367353558540344\n",
      "3966 copyright date guillaume melquiond, sylvain pion 0.31773167848587036\n",
      "3969 copyright date paul a. bristow 0.1480041891336441\n",
      "3973 copyright date - date joel de guzman, hartmut kaiser 0.19396989047527313\n",
      "3976 copyright joel de guzman date  0.2721147835254669\n",
      "3986  copyright symbol copyright ion gaztanaga date - date . 0.3352029323577881\n",
      "3987 copyright paul a. bristow date  0.1480041891336441\n",
      "3992 copyright paul a. bristow date  0.1480041891336441\n",
      "3994 copyright paul a. bristow date  0.1480041891336441\n",
      "3996 copyright paul a. bristow date  0.1480041891336441\n",
      "3997 copyright paul a. bristow date  0.1480041891336441\n",
      "3998 copyright paul a. bristow date  0.1480041891336441\n",
      "4000 copyright paul a. bristow date  0.1480041891336441\n",
      "4001 copyright paul a. bristow date -7. 0.2627689242362976\n",
      "4096 copyright date - reggenti dell&apos;universitã  della california 0.7205016016960144\n",
      "4192 copyright copyright symbol fsf. wszystkie prawa zastrzezone 0.8541680574417114\n",
      "4314 copyright jean-loup gailly osma ahvenlampi osma.a email  0.1793845146894455\n",
      "4321 copyright copyright symbol date free software foundation, inc. michel robitaille &lt;robitail@iro.umontreal.ca&gt;, traducteur depuis/since date . 0.6308131814002991\n",
      "4477 copyright date - date vicente j.botet escriba 0.20280052721500397\n",
      "4487 copyright date - date joaquín m lópez muñoz 0.22274324297904968\n",
      "4552 copyright date felix höfling, guillaume melquiond 0.17165055871009827\n",
      "4568 copyright date ion gaztañaga 0.29549849033355713\n",
      "4589 copyright date alexander zaitsev 0.28194811940193176\n",
      "4591 copyright copyright symbol date gennaro prota. 0.2353893667459488\n",
      "4600 copyright date vicente j. botet escriba 0.17131739854812622\n",
      "4604  copyright symbol copyright ion gaztanaga 0.6199292540550232\n",
      "4653 copyright date vicente j. botet escriba 0.17131739854812622\n",
      "4660 copyright louis dionne, date - date  0.80096834897995\n",
      "4663  copyright symbol copyright ion gaztanaga date - date . 0.3352029323577881\n",
      "4673 copyright date - date joel de guzman, david abrahams 0.2545417547225952\n",
      "4687 copyright date vicente j. botet escriba 0.17131739854812622\n",
      "4695 copyright date samuel krempp 0.1446561962366104\n",
      "4700 copyright copyright symbol date samaxes.com 0.18676112592220306\n",
      "4733 copyright date paul a. bristow 0.1480041891336441\n",
      "4768 copyright ion gaztanaga date  0.6646783351898193\n",
      "4769 copyright copyright symbol date samuel debionne, grenoble, france. 0.46921849250793457\n",
      "4771 copyright ion gaztanaga date  0.6646783351898193\n",
      "4787 copyright date - date ion gaztanaga 0.5460236072540283\n",
      "4809 copyright date - date ion gaztanaga 0.5460236072540283\n",
      "4820 copyright date guillaume melquiond, sylvain pion, hervé brönnimann, polytechnic university 0.27710407972335815\n",
      "4825  copyright symbol copyright date andreas kloeckner &lt;inform -at- tiker.net&gt; 0.21422921121120453\n",
      "4854 copyright date - date ion gaztanaga 0.5460236072540283\n",
      "4862 copyright date jaakko jarvi 0.3102464973926544\n",
      "4875 copyright date olaf krzikalla, date - date ion gaztanaga 0.23502184450626373\n",
      "4891 copyright date - date julio m. merino vidal, ilya sokolov 0.18553802371025085\n",
      "4901 copyright date date date date date date date date joel de guzman, dan marsden, tobias schwinger 0.1964726746082306\n",
      "4922 copyright daniel trebbien date  0.2680765390396118\n",
      "4956 copyright date - date joaquín m lópez muñoz 0.22274324297904968\n",
      "4966 copyright date - date , date &quot;http://gennaro-prota.50webs.com/&quot; gennaro prota 0.14498861134052277\n",
      "4976 copyright copyright symbol date louis dionne 0.5822166800498962\n",
      "4988 copyright thijs van den berg, date . 0.4875548779964447\n",
      "5023 copyright alexander nasonov &amp; paul a. bristow date . 0.12967337667942047\n",
      "5032  copyright symbol copyright ion gaztanaga date - date . 0.3352029323577881\n",
      "5048  copyright symbol copyright ion gaztanaga date - date . 0.3352029323577881\n",
      "5053  copyright symbol copyright guillaume melquiond date - date . 0.20068910717964172\n",
      "5055 copyright louis dionne date - date  0.7782920598983765\n",
      "5057 copyright louis dionne date - date  0.7782920598983765\n",
      "5072 copyright date - date joaquín m lópez muñoz 0.22274324297904968\n",
      "5076 copyright date author: matyas w egyhazy 0.2998834550380707\n",
      "5103 copyright date vinnie falco 0.264320433139801\n",
      "5117 copyright gennaro prota date . 0.2933084964752197\n",
      "5128 copyright copyright symbol date - date ion gaztanaga 0.3846886456012726\n",
      "5168 copyright copyright symbol date ion gaztanaga 0.4963145852088928\n",
      "5231 copyright toon knapen, david abrahams, roland richter, and jeremy siek date  0.16579189896583557\n",
      "5257 copyright david abrahams and gottfried ganssauge date  0.33333447575569153\n",
      "5260 copyright date joaquín m lópez muñoz 0.3085627257823944\n",
      "5269 copyright copyright symbol date jakub pola &lt; email &gt; 0.11086131632328033\n",
      "5294 copyright date - date vicente j.botet escriba 0.20280052721500397\n",
      "5309  copyright symbol copyright ion gaztanaga date - date  0.3846886157989502\n",
      "5310  copyright symbol copyright ion gaztanaga date - date  0.3846886157989502\n",
      "5311  copyright symbol copyright ion gaztanaga date - date  0.3846886157989502\n",
      "5316 copyright copyright symbol date n. musatti 0.33285969495773315\n",
      "5321 copyright joel de guzman date - date  0.279779314994812\n",
      "5323 copyright date jonathan de halleux 0.5021113157272339\n",
      "5333 copyright date - date hervé brönnimann, guillaume melquiond, sylvain pion 0.39524757862091064\n",
      "5380 copyright joel de guzman date - date  0.279779314994812\n",
      "5408 copyright date - date ion gaztanaga 0.5460236072540283\n",
      "5413 copyright date jeremy g. siek, andrew lumsdaine, lie-quan lee, 0.0919702798128128\n",
      "5415 copyright date abel sinkovics 0.29990363121032715\n",
      "5416  copyright symbol copyright date louis dionne 0.5822166800498962\n",
      "5423 copyright date date date date date date date date date date date joel de guzman, hartmut kaiser 0.24246235191822052\n",
      "5438 copyright date beman dawes 0.2577133774757385\n",
      "5442  copyright symbol copyright ion gaztanaga date - date . 0.3352029323577881\n",
      "5452 copyright copyright symbol date k. noel belcourt &lt;kbelco -at- sandia.gov&gt;. 0.1503557562828064\n",
      "5470  copyright symbol copyright ion gaztanaga date - date . 0.3352029323577881\n",
      "5479 copyright date ion gaztanaga 0.6646783351898193\n",
      "5487 copyright ion gaztanaga date - date  0.5460235476493835\n",
      "5491 copyright copyright symbol date - date ion gaztanaga 0.3846886456012726\n",
      "5512  copyright symbol copyright date douglas gregor &lt;doug.gregor -at- gmail.com&gt; andreas kloeckner &lt;inform -at- tiker.net&gt; 0.3266773521900177\n",
      "5523  copyright symbol copyright ion gaztanaga date - date . 0.3352029323577881\n",
      "5550  copyright symbol copyright david abrahams, vicente botet, ion gaztanaga date . 0.24873796105384827\n",
      "5551  copyright symbol copyright date douglas gregor &lt;doug.gregor -at- gmail.com&gt; andreas kloeckner &lt;inform -at- tiker.net&gt; 0.3266773521900177\n",
      "5554  copyright symbol copyright ion gaztanaga date - date . 0.3352029323577881\n",
      "5567 copyright copyright symbol date piotr wyderski 0.525653064250946\n",
      "5581 copyright copyright symbol date giovanni bajo 0.6359466314315796\n",
      "5614 copyright louis dionne date  0.8385561108589172\n",
      "5615 copyright louis dionne date  0.8385561108589172\n",
      "5616 copyright copyright symbol date jaakko järvi 0.3716824948787689\n",
      "5621 copyright joel de guzman date - date  0.279779314994812\n",
      "5645 copyright gennadiy rozental 0.3477570116519928\n",
      "5655 copyright date , date , date joel de guzman, eric niebler 0.17849501967430115\n",
      "5666 copyright date matyas egyhazy 0.4916538596153259\n",
      "5718 copyright pierre esterie &amp; joel falcou 0.23690077662467957\n",
      "5733 copyright date - date joaquín m lópez muñoz 0.22274324297904968\n",
      "5754 copyright date vicente j. botet escriba 0.17131739854812622\n",
      "5764 copyright date - date joaquín m lópez muñoz 0.22274324297904968\n",
      "5766 copyright copyright symbol date louis dionne 0.5822166800498962\n",
      "5773 copyright date - date guillaume melquiond, ens lyon 0.32511427998542786\n",
      "5775 copyright copyright symbol date vesa karvonen. 0.2039521336555481\n",
      "5811 copyright date abel sinkovics 0.29990363121032715\n",
      "5830 copyright date jeremy g. siek authors: jeremy g. siek 0.09896601736545563\n",
      "5856  copyright symbol copyright ion gaztanaga date - date  0.3846886157989502\n",
      "5858  copyright symbol copyright ion gaztanaga date - date  0.3846886157989502\n",
      "5860  copyright symbol copyright ion gaztanaga date - date  0.3846886157989502\n",
      "5876 copyright copyright symbol date , date julio m. merino vidal 0.16813567280769348\n",
      "5908 copyright date eric niebler, daniel egloff 0.27717098593711853\n",
      "5911 copyright timmo stange date  0.32259851694107056\n",
      "5933  copyright symbol copyright ion gaztanaga date - date  0.3846886157989502\n",
      "5934  copyright symbol copyright ion gaztanaga date - date  0.3846886157989502\n",
      "5937 copyright digital mars date - date . walter bright, sean kelly, martin nowak 0.2825140058994293\n",
      "6574 copyright copyright symbol date free software foundation, inc അനൂപ്|anoop പി|p email , ലാലു|lalu കെആര്‍|kr email , സജീവ്|sajeev പിആര്‍|pr email  0.5779185891151428\n",
      "6678  copyright symbol fabien potencier 0.2240845263004303\n",
      "6943 copyright copyright symbol date carlos leandro and rui salgueiro dep. matematica universidade de coimbra, portugal, europe 0.329428106546402\n",
      "7112  copyright symbol date fabien potencier 0.24762862920761108\n",
      "7120  copyright symbol date fabien potencier 0.24762862920761108\n",
      "7144  copyright symbol arnaud le blanc 0.30408403277397156\n",
      "7201 copyright copyright symbol date , associazione culturale itpug 0.6888120770454407\n",
      "7299 copyright copyright symbol date - date gant red hat, inc. 0.5389774441719055\n",
      "7323 copyright date per øyvind karlsen &lt; email &gt; 0.16135919094085693\n",
      "7532 copyright copyright symbol date - date baptiste lepilleur 0.594802975654602\n",
      "7652 copyright date jussi kivilinna email  0.31901007890701294\n",
      "7673  copyright symbol jonathan a. schweder &lt; email &gt; 0.5686200857162476\n",
      "7675 copyright date baptiste lepilleur 0.8360307216644287\n",
      "7676 copyright date - date baptiste lapilleur date - date christopher dunn 0.5254564881324768\n",
      "7678 copyright date baptiste lepilleur 0.8360307216644287\n",
      "7679 copyright date - date baptiste lepilleur 0.7884402275085449\n",
      "7680 copyright date - date baptiste lepilleur 0.7884402275085449\n",
      "7682 copyright date baptiste lepilleur 0.8360307216644287\n",
      "7687 copyright date baptiste lepilleur 0.8360307216644287\n",
      "7716 copyright copyright symbol date bundesamt für sicherheit in der informationstechnik 0.8937627673149109\n",
      "7834  copyright symbol email ralf fassel email ralf hildebrandt ralf.h email ralf schneider email ralph gillen email rami lehti rami.l email  0.2540247440338135\n",
      "7855 copyright copyright symbol date l. peter deutsch 0.4064650237560272\n",
      "7884 copyright copyright symbol date eric haszlakiewicz 0.25640639662742615\n",
      "7899  copyright symbol k.kosako date /08/05 0.15460455417633057\n",
      "7904 copyright date , date , date maurice szmurlo and johan van den brande. 0.16726845502853394\n",
      "7920 copyright date dan libby, epinions, inc. 0.34898456931114197\n",
      "7955 copyright copyright symbol date andrew gierth 0.4395611584186554\n",
      "7971 copyright date - date phpword h3><a class=\"top\" href=\"#releaseheader\">&# date ;</a></h3> pre> li> li id=\"pimple/pimple_3.2.3\" class=\"release\" title=\"pimple/pimple 3.2.3\"> div class=\"inset\"> h3 id=\"h3pimple/pimple_3.2 0.1358811855316162\n",
      "8003 copyright copyright symbol maurice szmurlo (maurice.s email ) 0.3599172532558441\n",
      "8028 copyright copyright symbol date sã copyright symbol rgio gonã§alves carvalho 0.4775543808937073\n",
      "8145  copyright symbol m.boerger 0.1811053603887558\n",
      "8200  copyright symbol date johan van den brande &lt; email &gt; 0.21224884688854218\n",
      "8221 copyright digital mars date - date . 0.2689141631126404\n",
      "8223 copyright digital mars date - date . walter bright 0.25754016637802124\n",
      "8225 copyright digital mars date - date . walter bright 0.25754016637802124\n",
      "8248 copyright digital mars date - date . 0.2689141631126404\n",
      "8317 copyright copyright symbol date charles s. wilson 0.10700507462024689\n",
      "8401 copyright digital mars date - date . 0.2689141631126404\n",
      "8403 copyright digital mars date - date . 0.2689141631126404\n",
      "8440 copyright digital mars date - date . walter bright 0.25754016637802124\n",
      "8448 copyright digital mars date - date . 0.2689141631126404\n",
      "8463 copyright digital mars date - date . 0.2689141631126404\n",
      "8573 copyright copyright symbol date edgar e. iglesias. 0.12850666046142578\n",
      "8596 copyright digital mars date - date . 0.2689141631126404\n",
      "8675 copyright digital mars date martin nowak 0.3075611889362335\n",
      "8713 copyright digital mars date - date . 0.2689141631126404\n",
      "8725 copyright digital mars date - date . 0.2689141631126404\n",
      "8894 copyright digital mars date - date . martin nowak 0.2800600826740265\n",
      "8948 copyright digital mars date - date . walter bright 0.25754016637802124\n",
      "8979 copyright robert burner schadek date http www.svs.informatik.uni-oldenburg.de/ date 5.html, robert burner schadek 0.2271851748228073\n",
      "8983 copyright digital mars date . kenji hara 0.2179931402206421\n",
      "8985 copyright digital mars date - date .http digitalmars.com, walter bright 0.16414448618888855\n",
      "8989 copyright copyright symbol date - date , artem b. bityuckiy 0.17083588242530823\n",
      "9015 copyright digital mars date - date walter bright, sean kelly, martin nowak 0.30083513259887695\n",
      "9063 copyright digital mars date - date . walter bright 0.25754016637802124\n",
      "9110 copyright digital mars date .jacob carlborg mar 16, date  0.12568652629852295\n",
      "9161 copyright digital mars date - date . martin nowak 0.2800600826740265\n",
      "9237 copyright digital mars date - date . 0.2689141631126404\n",
      "9270 copyright digital mars date . 0.25941601395606995\n",
      "9338  copyright symbol date smi 0.10432789474725723\n",
      "9401 copyright digital mars date - date . 0.2689141631126404\n",
      "9437 copyright digital mars date - date . walter bright, david friedman, sean kelly, leandro lucarella 0.2639770209789276\n",
      "9462 copyright digital mars date - date . rainer schuetze 0.3473789691925049\n",
      "9486 copyright digital mars date - date . walter bright, martin nowak 0.2704983949661255\n",
      "9517 copyright date , red hat inc. 0.3551625907421112\n",
      "9534 copyright digital mars date - date . walter bright 0.25754016637802124\n",
      "9568 copyright copyright symbol date - date luigi rizzo, universita` di pisa 0.39975494146347046\n",
      "9708 copyright digital mars date - date .walter bright, sean kelly, martin nowak 0.23061490058898926\n",
      "9803 copyright copyright symbol date - date free software foundation, inc. canqun yang email  0.18959888815879822\n",
      "9808 copyright digital mars date - date . 0.2689141631126404\n",
      "9832 copyright copyright symbol date eric pareja email , date . 0.24322167038917542\n",
      "9835 copyright copyright symbol date руслан ижбулатов 0.3611518442630768\n",
      "9851 copyright copyright symbol date , date free software foundation, inc. kemal yilmaz email , date . mətin əmirov email , date . 0.2792113423347473\n",
      "9855 copyright digital mars date - date . 0.2689141631126404\n",
      "9910 copyright digital mars date - date . 0.2689141631126404\n",
      "10060 copyright digital mars date . web digitalmars.com, walter bright 0.21945805847644806\n",
      "10132 copyright date ryan lortie 0.3256978392601013\n",
      "10266 copyright copyright symbol date руслан ижбулатов lrn date @gmail.com 0.32083699107170105\n",
      "10283 copyright copyright symbol date руслан ижбулатов lrn date @gmail.com 0.32083699107170105\n",
      "10292 copyright date руслан ижбулатов 0.42946091294288635\n",
      "10323  copyright symbol antonio salgueiro email , date . germã¡n poo caamaã email , date . francisco javier f. serrador email , date , date , date . 0.24681663513183594\n",
      "10357 copyright date remko tronçon 0.46181753277778625\n",
      "10379 copyright copyright symbol date gnome i18n project for vietnamese. t.m.thanh email , date . clytie siddall email , date - date . nguyễn thái ngọc duy email , date - date . trần ngọc quân 0.3634187579154968\n",
      "10390 copyright date руслан ижбулатов 0.42946091294288635\n",
      "10402 copyright copyright symbol date - date diego pettenò email  0.3852902352809906\n",
      "10406 copyright copyright symbol date tomasz miąsko 0.2481476217508316\n",
      "10430 copyright copyright symbol date remko tronçon 0.21275021135807037\n",
      "10447 copyright copyright symbol date chun-wei fan 0.4362539052963257\n",
      "10474 copyright copyright symbol date chun-wei fan 0.4362539052963257\n",
      "10604 copyright digital mars date - date . 0.2689141631126404\n",
      "10635 copyright digital mars date - date . 0.2689141631126404\n",
      "10638 copyright copyright symbol date free software foundation, inc. мирослав николић email , date — date . 0.498334676027298\n",
      "10718 copyright copyright symbol date - date vita nuova holdings limited www.vitanuova.com 0.4140063226222992\n",
      "10734 copyright jeremy siek 0.16149179637432098\n",
      "10750 copyright digital mars date  0.2823943793773651\n",
      "10764 copyright digital mars date  0.2823943793773651\n",
      "10782 copyright digital mars date - date . walter bright 0.25754016637802124\n",
      "10796 copyright date free software foundation, inc.版权所有 date - date 自由软件基金会。 0.60892254114151\n",
      "10829 copyright digital mars date - date . walter bright 0.25754016637802124\n",
      "10849 copyright copyright symbol date alexandre k. i. de mendonca email  0.13048355281352997\n",
      "10872 copyright denis shelomovskij date  0.48727673292160034\n",
      "10890 copyright digital mars date - date . 0.2689141631126404\n",
      "10921 copyright digital mars date walter bright, david friedman, sean kelly, martin nowak 0.30318543314933777\n",
      "10988 copyright digital mars date - date . 0.2689141631126404\n",
      "11113 copyright mikola lysenko date - date . mikola lysenko, martin nowak, kai nacke 0.20246973633766174\n",
      "11176 copyright digital mars date - date . 0.2689141631126404\n",
      "11280 copyright copyright symbol date siemens ag </text> 0.23647068440914154\n",
      "11282 copyright copyright symbol date siemens ag </text> 0.23647068440914154\n",
      "11300 copyright copyright symbol date siemens ag </text> 0.23647068440914154\n",
      "11329 copyright copyright symbol date siemens ag </text> 0.23647068440914154\n",
      "11357 copyright/vars.py spdxid: spdxref-item date 4 filechecksum: sha1: b442f16cff2f date date 6e date date 010eba date filechecksum: sha256: d61fefce date 86dddf date 5fbb46f0cf226aa date 3f79ad4cebe806efe50c94e filechecksum: md5: date f676e date bbe date 6b655bb734d3 licenseconcluded: noassertion licenseinfoinfile: noasser 0.2231036126613617\n",
      "11480 copyright/unidex.meta spdxid: spdxref-item date 9 filechecksum: sha1: e1bc3df date cd47f82e date 0b6e56e77c23cba5a filechecksum: sha256: 5e date 3d date 19e date d560efb2f1afa4a3ac82b date date cb7ae40d date 350c filechecksum: md5: 30eb date date date cfd date d711d5acc licenseconcluded: noassertion licenseinfoinfile: noa 0.28381219506263733\n",
      "11517 copyright/agent_tests/testdata/testdata131_raw spdxid: spdxref-item date 4 filechecksum: sha1: b51a9b2ee964e date cb859ec012ec7c date 434f7 filechecksum: sha256: date a4e date 9e date 421b date ec33e683f44e date bc56b070ab232d508f75cd4 filechecksum: md5: 44a2efb date 614a9c91c12f date bdb07 licenseconcluded: noasserti 0.1832861751317978\n",
      "11648 copyright/agent/keyword.conf spdxid: spdxref-item date 3 filechecksum: sha1: d8bcf2e date 877d25a4a82f0e date 6dea62a08a0 filechecksum: sha256: 5b2ec563a626f739b8b86a426ef90d date b9f6a date 4a6d417a02d date aa2e2c filechecksum: md5: b5a5e8d80a931a041f date f46efe05de licenseconcluded: licenseref-fsfap-cc79f51f0b 0.23422496020793915\n",
      "11649 copyright/makefile spdxid: spdxref-item date 6 filechecksum: sha1: 5bcd2faa7aee6bedff date c520caf date 9e4f8ba filechecksum: sha256: 69e date 8a24dde72eff628e75b date date d date 2f67e date fd480bcbd1e date b filechecksum: md5: 3c4e1fa date 0dff date 1d06ecd date 58 licenseconcluded: licenseref-fsfap-cc79f51f0b86e915ba8f 0.27384018898010254\n",
      "11726 copyright/free with copyright clause variant 11.meta spdxid: spdxref-item date 0 filechecksum: sha1: e1bc3df date cd47f82e date 0b6e56e77c23cba5a filechecksum: sha256: 5e date 3d date 19e date d560efb2f1afa4a3ac82b date date cb7ae40d date 350c filechecksum: md5: 30eb date date date cfd date d711d5acc licenseconcluded: noa 0.308979332447052\n",
      "11907  copyright symbol de jouir de l'œuvre tel que permis par la lal (liberté de copier, diffuser, modifier) implique pour chacun la responsabilité de ses propres faits. 0.939477801322937\n",
      "11908  copyright symbol posés par la lal. 0.9734050631523132\n",
      "11909  copyright symbol de modifier les copies des originaux (initiaux et conséquents) dans le respect des conditions suivantes : 0.9871823191642761\n",
      "11910  copyright symbol de copier cette œuvre pour vous, vos amis ou toute autre personne, quelle que soit la technique employée. 0.9715960025787354\n",
      "11911  copyright symbol d'usage, de copie, de diffusion, de transformation et interdiction d'appropriation exclusive. 0.6617558002471924\n",
      "11921  copyright symbol accordées par cette licence. ces autorisations n'entraînent pas un dessaisissement de vos droits intellectuels. 0.9863457679748535\n",
      "11924  copyright symbol souhaite distribuer un logiciel modifié combiné à un logiciel assujetti à une licence compatible, mais dont il ne serait pas possible d'en respecter les termes, le concédant offre, en plus de la présente concession, une concession selon les termes de cette licence compatible. 0.9849515557289124\n",
      "11954  copyright symbol distribue le logiciel ou un logiciel modifié, ce dernier doit assumer l'obligation d'en distribuer le code source, de la manière prévue au troisième alinéa de l'article 3. 0.9247632622718811\n",
      "11955  copyright symbol distribue le logiciel, le concédant offre au récipiendaire une concession sur le logiciel selon les termes de la présente licence. le licencié doit offrir une concession selon les termes de la présente licence pour tout logiciel modifié qu'il distribue. 0.9905542135238647\n",
      "11956  copyright symbol dont le titulaire du droit d'auteur précise qu'il est sujet aux termes de la licence libre du québec – réciprocité (liliq-r) (ci-après appelée la « licence »). 0.9852808713912964\n",
      "11967  copyright symbol est comparable ou supérieur à celui de la présente licence, sans toutefois être moindre, notamment : 0.9948850274085999\n",
      "11986  copyright symbol dans un délai de 30 jours de sa prise de connaissance par la personne en défaut, et qu'il s'agit du premier défaut, la licence est accordée de nouveau. 0.9946049451828003\n",
      "11987  copyright symbol ou par des tiers, pour quelque cause que ce soit en lien avec la licence et les droits qui y sont accordés. 0.99778813123703\n",
      "11988  copyright symbol est responsable de tout préjudice résultant de l'exercice des droits accordés par la licence. 0.9628780484199524\n",
      "11989  copyright symbol d'offrir ou d'exclure des garanties ou du support. 0.9062699675559998\n",
      "11990  copyright symbol est comparable à celui de la présente licence, sans toutefois être moindre, notamment: 0.9905332922935486\n",
      "11991  copyright symbol qui est titulaire exclusif du droit d'auteur sur le logiciel assujetti à une licence compatible ne peut pas se prévaloir de cette offre. il en est de même pour toute autre personne dûment autorisée à sous-licencier par le titulaire exclusif du droit d'auteur sur le logiciel assujetti à une 0.9961158037185669\n",
      "11992  copyright symbol souhaite distribuer un logiciel modifié ou dérivé combiné à un logiciel assujetti à une licence compatible, mais dont il ne serait pas possible d'en respecter les termes, le concédant offre, en plus de la présente concession, une concession selon les termes de cette licence compatible. 0.9867119789123535\n",
      "11993  copyright symbol distribue le logiciel, un logiciel modifié, ou un logiciel dérivé, ce dernier doit assumer l'obligation d'en distribuer le code source, de la manière prévue au troisième alinéa de l'article 3. 0.9392695426940918\n",
      "11994  copyright symbol distribue le logiciel, le concédant offre au récipiendaire une concession sur le logiciel selon les termes de la présente licence. le licencié doit offrir une concession selon les termes de la présente licence pour tout logiciel modifié ou dérivé qu'il distribue. 0.9913479685783386\n",
      "11995  copyright symbol concernant le logiciel ne doivent pas être modifiées ou supprimées, à moins que ces étiquettes ou mentions ne soient inapplicables à un logiciel modifié ou dérivé donné. 0.9878338575363159\n",
      "11996  copyright symbol modifié, le licencié doit en faire la mention, de préférence dans chacun des fichiers modifiés dont la nature permet une telle mention; 0.9889986515045166\n",
      "11997  copyright symbol d'un exemplaire de cette licence; 0.881206750869751\n",
      "11998  copyright symbol peut choisir sous quelle version la licence lui est accordée. 0.945519745349884\n",
      "12011  copyright symbol peut distribuer des copies du logiciel, d'un logiciel modifié ou dérivé, sous réserve de respecter les conditions suivantes : 0.9907199740409851\n",
      "12025  copyright symbol d'une offre de distribuer le code source du logiciel, sans frais supplémentaires, autres que ceux raisonnables afin de permettre la livraison du code source. cette offre doit être valide pendant une durée raisonnable. 0.9722380042076111\n",
      "12054  copyright symbol ou une partie importante. 0.9821821451187134\n",
      "12055  copyright symbol ou une partie importante en public; 0.9800986051559448\n",
      "12056  copyright symbol ou une partie importante; 0.9968729615211487\n",
      "12057  copyright symbol une licence non exclusive et libre de redevances lui permettant d'exercer les droits suivants sur le logiciel: 0.9470382332801819\n",
      "12058  copyright symbol de l'un des fichiers source du logiciel ou encore tout nouveau fichier source qui incorpore le logiciel ou une partie importante de ce dernier. 0.9807407259941101\n",
      "12059  copyright symbol par un licencié, autre que le logiciel ou un logiciel modifié, qui produit ou reproduit la totalité ou une partie importante du logiciel; 0.9926296472549438\n",
      "12060  copyright symbol qu'elle est sujette aux termes de la présente licence; 0.9875931739807129\n",
      "12061  copyright symbol dans le logiciel; 0.9927299618721008\n",
      "12062  copyright symbol comme un concédant en regard de sa contribution; 0.804960310459137\n",
      "12063  copyright symbol dont le titulaire du droit d'auteur précise qu'il est sujet aux termes de la licence libre du québec – réciprocité forte (liliq-r+) (ci-après appelée la « licence »). 0.982355535030365\n",
      "12106 copyright copyright symbol [year] w3c® (mit, ercim, keio, beihang).\" 0.2549615502357483\n",
      "12108  copyright symbol de proposer de nouvelles versions de la licence ouverte. cependant, les « réutilisateurs » pourront continuer à réutiliser les informations qu'ils ont obtenues sous cette licence s'ils le souhaitent. </text> 0.9841352105140686\n",
      "12110  copyright symbol du premier ministre, d'ouvrir le plus grand nombre de données publiques des administrations de l'etat et de ses établissements publics. elle a réalisé la licence ouverte pour faciliter la réutilisation libre et gratuite de ces informations publiques, telles que définies par l'article l321-1 0.9784815907478333\n",
      "12111  copyright symbol produite ou reçue. 0.950576663017273\n",
      "12112  copyright symbol conçue pour être compatible avec toute licence libre qui exige au moins la mention de paternité et notamment avec la version antérieure de la présente licence ainsi qu'avec les licences : 0.9947773814201355\n",
      "12113  copyright symbol intellectuelle » cessibles sur l'« information », il les cède au « réutilisateur » de façon non exclusive, à titre gracieux, pour le monde entier, pour toute la durée des « droits de propriété intellectuelle », et le « réutilisateur » peut faire tout usage de l'« information » c 0.9927260279655457\n",
      "12114  copyright symbol intellectuelle » détenus par des tiers ou par le « concédant » sur l'« information » ne font pas obstacle aux droits accordés par la présente licence. 0.9909223318099976\n",
      "12115  copyright symbol ne confère aucun caractère officiel à la « réutilisation » de l'« information », et ne doit pas suggérer une quelconque reconnaissance ou caution par le « concédant », ou par toute autre entité publique, du « réutilisateur » ou de sa « réutilisation ». 0.9936085343360901\n",
      "12124  copyright symbol intellectuelle » : tous droits identifiés comme tels par le code de la propriété intellectuelle (notamment le droit d'auteur, droits voisins au droit d'auteur, droit sui generis des producteurs de bases de données…). 0.9708228707313538\n",
      "12152  copyright symbol communiquée ou alors, vous prévaloir des dispositions d'une des versions ultérieures. 0.9467450976371765\n",
      "12153  copyright symbol accordés par cette licence. 0.9653103947639465\n",
      "12155  copyright symbol de modifier les copies des originaux (originels et conséquents), qui peuvent être partielles ou non, dans le respect des conditions prévues à l'article 2.2 en cas de diffusion (ou représentation) de la copie modifiée. l'auteur de l'original pourra, s'il le souhaite, vous autoriser à modifie 0.9793179631233215\n",
      "12156  copyright symbol l'oeuvre à l'origine d'une arborescence de cette oeuvre modifiée. par cette licence, l'auteur détermine les conditions dans lesquelles ce travail se fait. 0.992088794708252\n",
      "12157  copyright symbol de l'oeuvre, de sa définition, de sa partition ou de son programme que l'auteur présente comme référence pour toutes actualisations, interprétations, copies ou reproductions ultérieures. 0.9527539610862732\n",
      "12158  copyright symbol expérimenté par nombre d'artistes contemporains. 0.9255930781364441\n",
      "12159  copyright symbol littéraire et artistique conduit à restreindre l'accès du public à l'oeuvre, la licence art libre a pour but de le favoriser. 0.9599931836128235\n",
      "12163  copyright symbol une licence non exclusive et libre de redevances lui permettant d'exercer les droits suivants sur le logiciel : 0.9722656607627869\n",
      "12164  copyright symbol dont le titulaire du droit d'auteur précise qu'il est sujet aux termes de la licence libre du québec – permissive (liliq-p) (ci-après appelée la « licence »). 0.9789775013923645\n",
      "12167  copyright symbol de copier cette oeuvre pour un usage personnel, pour vos amis, ou toute autre personne et quelque soit la technique employée. 0.9853510856628418\n",
      "12182 copyright copyright symbol date , siemens ag </text> 0.23647068440914154\n",
      "12203 copyright copyright symbol date siemens ag </text> 0.23647068440914154\n",
      "12223 copyright/ecc.conf spdxid: spdxref-item date 8 filechecksum: sha1: 0a68b60d date d3c date 87c date 0de date 932dfda filechecksum: sha256: 1b11a date 288a6caff976f date f16d date date date 306ff8c date 797d704b901 filechecksum: md5: e423afbd date 5af7af82b6d1acb date b licenseconcluded: licenseref-fsfap-166e9e date date d date 6 0.25085705518722534\n",
      "12225 copyright/keyword.conf spdxid: spdxref-item date 3 filechecksum: sha1: 7d92b2e1b date b19a date e9a date 7ecfa7df607f filechecksum: sha256: 17edd64f3a7f date date b9de date 92ddf7f date e466d date 0feec date 468f6cf filechecksum: md5: date 383ddfca448c25a205eaaa49dfa3 licenseconcluded: licenseref-fsfap-166e9e date date d2 0.18174509704113007\n",
      "12240 copyright copyright symbol date siemens ag </text> 0.23647068440914154\n",
      "12332 copyright copyright symbol 205 siemens ag </text> 0.2958645224571228\n",
      "12352 copyright/ui/agent-keyword.php spdxid: spdxref-item date 2 filechecksum: sha1: 677b date b98d date 525cd date faa2d2cc50e9eb5 filechecksum: sha256: 9d607ca date b33bfb9c30ab0c date be6cccfea date 725efb4af4e2cf date 9e6f filechecksum: md5: date 772efa06f2aaeaa6c96ddb7c6a91 licenseconcluded: gpl-2.0 licenseinfoinfile 0.21701592206954956\n",
      "12359 copyright copyright symbol aaron seigo <aseigo kde.org> </text> 0.1126522347331047\n",
      "12372 copyright copyright symbol date siemens ag </text> 0.23647068440914154\n",
      "12420 copyright/mod_deps spdxid: spdxref-item date 7 filechecksum: sha1: date 93ce60fe73e date fb9f9da8dc784a6d72c37 filechecksum: sha256: fe45a506e date f56b3f34a9e18e780ffcfc date 5b2cb04c date date 9dab92d5a filechecksum: md5: be508bd4cc391da3c date 5ecf73b50c5 licenseconcluded: gpl-2.0 licenseinfoinfile: gpl-2.0 0.16567663848400116\n",
      "12436 copyright/agent/regexconfprovider.cc spdxid: spdxref-item date 8 filechecksum: sha1: b09fcc date cab date 5b63b6f327eb8eefc3d582e filechecksum: sha256: 7fb date 5e21f9eb1b02e339d date cb272cdc65b61cff44fa584d58b30f90d5f4 filechecksum: md5: 501e date 5b65d6aa0f181f20fb6d3aea licenseconcluded: gpl-2.0 licenseinfo 0.19883030652999878\n",
      "12438 copyright/agent/identity.hpp spdxid: spdxref-item date 7 filechecksum: sha1: e081ade994f3b2f1c637a73fd2d273cd1d date 08 filechecksum: sha256: d92ba89d date fa6a2b6dca date ef date date 3d2fc date 9ef645a date date 0a1f filechecksum: md5: date 2c date 353dab100e2c4d53af3b5b licenseconcluded: gpl-2.0 licenseinfoinfile: 0.14682228863239288\n",
      "12455  copyright symbol que le présent contrat et tous les documents connexes soient rédigés en anglais. 0.9810580015182495\n",
      "12501 copyrights or trademarks). 0.2621558606624603\n",
      "12570  copyright symbol date , date , siemens ag 0.2198590785264969\n",
      "12599 copyright/agent_tests/testdata/testdata78_raw 0.11171130836009979\n",
      "12604 copyright/agent_tests/testdata/testdata116 0.2902604341506958\n",
      "12605 copyright/agent_tests/testdata/testdata117 0.2902604341506958\n",
      "12606 copyright/agent_tests/testdata/testdata116_raw 0.2400016486644745\n",
      "12614 copyright/agent_tests/testdata/testdata64_raw 0.2400016486644745\n",
      "12617 copyright/agent_tests/testdata/testdata68 0.2902604341506958\n",
      "12621 copyright/agent_tests/testdata/testdata62 0.2902604341506958\n",
      "12626 copyright/agent_tests/testdata/testdata8 0.2902604341506958\n",
      "12632 copyright/agent_tests/testdata/testdata103_raw 0.2400016486644745\n",
      "12633 copyright/agent_tests/testdata/testdata103 0.2902604341506958\n",
      "12634 copyright/agent_tests/testdata/testdata97 0.2902604341506958\n",
      "12643 copyright/agent_tests/testdata/testdata9 0.2902604341506958\n",
      "12649 copyright/agent_tests/testdata/testdata66 0.2902604341506958\n",
      "12653 copyright/agent_tests/testdata/testdata54 0.2902604341506958\n",
      "12656 copyright/agent_tests/testdata/testdata80 0.2902604341506958\n",
      "12657 copyright/agent_tests/testdata/testdata139_raw 0.2400016486644745\n",
      "12659 copyright/agent_tests/testdata/testdata35 0.2902604341506958\n",
      "12661 copyright/agent_tests/testdata/testdata39 0.2902604341506958\n",
      "12662 copyright/agent_tests/testdata/testdata89 0.2902604341506958\n",
      "12664 copyright/agent_tests/testdata/testdata121_raw 0.2400016486644745\n",
      "12666 copyright/agent_tests/testdata/testdata122_raw 0.2400016486644745\n",
      "12670 copyright/agent_tests/testdata/testdata80_raw 0.11824402958154678\n",
      "12672 copyright/agent_tests/testdata/testdata79 0.2902604341506958\n",
      "12678 copyright/agent_tests/testdata/testdata50 0.2902604341506958\n",
      "12689 copyright/agent_tests/testdata/testdata120 0.2902604341506958\n",
      "12690 copyright/agent_tests/testdata/testdata22 0.2902604341506958\n",
      "12691 copyright/agent_tests/testdata/testdata122 0.2902604341506958\n",
      "12693 copyright/agent_tests/testdata/testdata36_raw 0.2400016486644745\n",
      "12695 copyright/agent_tests/testdata/testdata37 0.2902604341506958\n",
      "12697 copyright/agent_tests/testdata/testdata22_raw 0.2400016486644745\n",
      "12698 copyright/agent_tests/testdata/testdata37_raw 0.2400016486644745\n",
      "12701 copyright/agent_tests/testdata/testdata61 0.2902604341506958\n",
      "12702 copyright/agent_tests/testdata/testdata93_raw 0.0964086577296257\n",
      "12704 copyright/agent_tests/testdata/testdata85 0.2902604341506958\n",
      "12705 copyright/agent_tests/testdata/testdata90 0.2902604341506958\n",
      "12708 copyright/agent_tests/testdata/testdata131_raw 0.2400016486644745\n",
      "12710 copyright/agent_tests/testdata/testdata31 0.2902604341506958\n",
      "12712 copyright/agent_tests/testdata/testdata87 0.2902604341506958\n",
      "12713 copyright/agent_tests/testdata/testdata86_raw 0.2400016486644745\n",
      "12714 copyright/agent_tests/testdata/testdata86 0.1861075460910797\n",
      "12717 copyright/agent_tests/testdata/testdata138_raw 0.2400016486644745\n",
      "12724 copyright/agent_tests/testdata/testdata119_raw 0.2400016486644745\n",
      "12726 copyright/agent_tests/testdata/testdata72 0.2902604341506958\n",
      "12727 copyright/agent_tests/testdata/testdata115 0.2902604341506958\n",
      "12728 copyright/agent_tests/testdata/testdata115_raw 0.2400016486644745\n",
      "12729 copyright/agent_tests/testdata/testdata72_raw 0.2400016486644745\n",
      "12730 copyright/agent_tests/testdata/testdata114_raw 0.2400016486644745\n",
      "12732 copyright/agent_tests/testdata/testdata126_raw 0.2400016486644745\n",
      "12734 copyright/agent_tests/testdata/testdata17_raw 0.2400016486644745\n",
      "12736 copyright/agent_tests/testdata/testdata16 0.2902604341506958\n",
      "12738 copyright/agent_tests/testdata/testdata100 0.2902604341506958\n",
      "12740 copyright/agent_tests/testdata/testdata76 0.2902604341506958\n",
      "12744 copyright/agent_tests/testdata/testdata83 0.2902604341506958\n",
      "12747 copyright/agent_tests/testdata/testdata128_raw 0.2400016486644745\n",
      "12748 copyright/agent_tests/testdata/testdata118_raw 0.2400016486644745\n",
      "12749 copyright/agent_tests/testdata/testdata119 0.2902604341506958\n",
      "12750 copyright/agent_tests/testdata/testdata128 0.2902604341506958\n",
      "12752 copyright/agent_tests/testdata/testdata19_raw 0.2400016486644745\n",
      "12755 copyright/agent_tests/testdata/testdata102_raw 0.2400016486644745\n",
      "12758 copyright/agent_tests/testdata/testdata56_raw 0.2400016486644745\n",
      "12762 copyright/agent_tests/testdata/testdata75 0.2902604341506958\n",
      "12764 copyright/agent_tests/testdata/testdata77_raw 0.2400016486644745\n",
      "12767 copyright/agent_tests/testdata/testdata96 0.2902604341506958\n",
      "12768 copyright/agent_tests/testdata/testdata96_raw 0.2400016486644745\n",
      "12769 copyright/agent_tests/testdata/testdata95_raw 0.2400016486644745\n",
      "12770 copyright/agent_tests/testdata/testdata94_raw 0.2400016486644745\n",
      "12771 copyright/agent_tests/testdata/testdata94 0.2902604341506958\n",
      "12773 copyright/agent_tests/testdata/testdata133 0.2902604341506958\n",
      "12779 copyright/agent_tests/testdata/testdata104 0.2902604341506958\n",
      "12800 copyright/agent_tests/testdata/testdata14 0.2902604341506958\n",
      "12802 copyright/agent_tests/testdata/testdata4_raw 0.2400016486644745\n",
      "12841 copyright/agent_tests/testdata/testdata12 0.2902604341506958\n",
      "12853 copyright/agent_tests/testdata/testdata55_raw 0.2400016486644745\n",
      "12855 copyright/agent_tests/testdata/testdata99 0.2902604341506958\n",
      "12856 copyright/agent_tests/testdata/testdata111 0.2902604341506958\n",
      "12857 copyright/agent_tests/testdata/testdata111_raw 0.2400016486644745\n",
      "12858 copyright/agent_tests/testdata/testdata70 0.2902604341506958\n",
      "12859 copyright/agent_tests/testdata/testdata106_raw 0.2400016486644745\n",
      "12860 copyright/agent_tests/testdata/testdata110 0.2902604341506958\n",
      "12861 copyright/agent_tests/testdata/testdata110_raw 0.2400016486644745\n",
      "12864 copyright/agent_tests/testdata/testdata46_raw 0.2400016486644745\n",
      "12866 copyright/agent_tests/testdata/testdata48_raw 0.2400016486644745\n",
      "12867 copyright/agent_tests/testdata/testdata47_raw 0.2400016486644745\n",
      "12869 copyright/agent_tests/testdata/testdata92_raw 0.2400016486644745\n",
      "12870 copyright/agent_tests/testdata/testdata106 0.2902604341506958\n",
      "12873 copyright/agent_tests/testdata/testdata112_raw 0.2400016486644745\n",
      "12879 copyright/agent_tests/testdata/testdata40 0.2902604341506958\n",
      "12884 copyright/agent_tests/testdata/testdata107_raw 0.2400016486644745\n",
      "12885 copyright/agent_tests/testdata/testdata113_raw 0.12624314427375793\n",
      "12886 copyright/agent_tests/testdata/testdata71_raw 0.2400016486644745\n",
      "12887 copyright/agent_tests/testdata/testdata112 0.2902604341506958\n",
      "12888 copyright/agent_tests/testdata/testdata71 0.18895521759986877\n",
      "12889 copyright/agent_tests/testdata/testdata107 0.2902604341506958\n",
      "12895 copyright/agent_tests/testdata/testdata88_raw 0.2400016486644745\n",
      "12898 copyright/agent_tests/testdata/testdata137 0.2902604341506958\n",
      "12900 copyright/agent_tests/testdata/testdata59 0.2902604341506958\n",
      "12905 copyright/agent_tests/testdata/testdata88 0.2902604341506958\n",
      "12906 copyright/agent_tests/testdata/testdata129 0.2902604341506958\n",
      "12907 copyright/agent_tests/testdata/testdata44 0.2902604341506958\n",
      "12909 copyright/agent_tests/testdata/testdata18_raw 0.2400016486644745\n",
      "12921 copyright/agent_tests/testdata/testdata6_raw 0.2400016486644745\n",
      "12924 copyright/agent_tests/testdata/testdata99_raw 0.2400016486644745\n",
      "12931 copyright/agent_tests/testdata/testdata29 0.2902604341506958\n",
      "12932 copyright/agent_tests/unit/run_tests.cc 0.2246847152709961\n",
      "12944 copyright/agent/regexconfprovider.hpp 0.3125305473804474\n",
      "12951 copyright/agent/regexconfparser.cc 0.5782785415649414\n",
      "12952 copyright/agent/regscan.hpp 0.32995930314064026\n",
      "12953 copyright/agent/regexconfparser.hpp 0.5782785415649414\n",
      "12954 copyright/agent/regscan.cc 0.32995930314064026\n",
      "12958 copyright/agent/regexconfprovider.cc 0.3125305473804474\n",
      "13002 copyright/agent_tests/testdata/testdata125_raw 0.2400016486644745\n",
      "13007 copyright/agent_tests/testdata/testdata69_raw 0.2400016486644745\n",
      "13008 copyright/agent_tests/testdata/testdata124_raw 0.2400016486644745\n",
      "13010 copyright/agent_tests/testdata/testdata123 0.2902604341506958\n",
      "13011 copyright/agent_tests/testdata/testdata69 0.2902604341506958\n",
      "13024 copyright/agent_tests/testdata/testdata29_raw 0.2400016486644745\n",
      "13025 copyright/keyword.conf 0.4466569721698761\n",
      "13036 copyright-document.twig 0.37973523139953613\n",
      "13049 copyright: copyright date siemens ag 0.25498485565185547\n",
      "13054  copyright symbol openjs foundation and other contributors license: mit 0.25216999650001526\n",
      "13059  copyright symbol date siemens ag 0.26797372102737427\n",
      "13061  copyright symbol date siemens ag 0.26797372102737427\n",
      "13065 copyright\" => \"copyright_ars\", mimetype\" => \"mimetype_ars\", unpack\" => \"ununpack_ars\", ununpack\" => \"ununpack_ars\"); 0.28596818447113037\n",
      "13076  copyright symbol date siemens ag 0.26797372102737427\n",
      "13078 copyright\", \"agent_fk\", \"agent\", \"agent_pk\"], copyright_decision\", \"pfile_fk\", \"pfile\", \"pfile_pk\"], ecc\", \"agent_fk\", \"agent\", \"agent_pk\"], ecc\", \"pfile_fk\", \"pfile\", \"pfile_pk\"], ecc_decision\", \"pfile_fk\", \"pfile\", \"pfile_pk\"], highlight_keyword\", \"pfile_fk\" 0.13810104131698608\n",
      "13080 copyright_decision\", ecc_decision\", keyword_decision\" 0.20013436675071716\n",
      "13086 copyright\", author\", ecc\", keyword\" 0.17968995869159698\n",
      "13087 copyright\", author\", ecc\", keyword\", copyright_event\", author_event\", ecc_event\", keyword_event\" 0.21832971274852753\n",
      "13091  copyright symbol date siemens ag 0.26797372102737427\n",
      "13100  copyright symbol date siemens ag 0.26797372102737427\n",
      "13102 copyright\" => \"copyright_event\", author\" => \"author_event\", ecc\" => \"ecc_event\", keyword\" => \"keyword_event\" 0.1873144805431366\n",
      "13130 copyright.html\", rf_add_date\": null, rf_copyleft\": null, rf_osiapproved\": null, rf_fullname\": \"netcdf license\", rf_fsffree\": null, rf_gplv2compatible\": null, rf_gplv3compatible\": null, rf_notes\": null, rf_fedora\": null, 0.2994254231452942\n",
      "13140 copyright#l366\", rf_add_date\": null, rf_copyleft\": null, rf_osiapproved\": null, rf_fullname\": \"japan network information center license\", rf_fsffree\": null, rf_gplv2compatible\": null, rf_gplv3compatible\": null, rf_notes\": null, 0.2028808295726776\n",
      "13198 copyright\\/freebsd-doc-license\\/\", rf_add_date\": null, rf_copyleft\": null, rf_osiapproved\": null, rf_fullname\": \"freebsd documentation license\", rf_fsffree\": null, rf_gplv2compatible\": null, rf_gplv3compatible\": null, rf_notes\": 0.13575372099876404\n",
      "13204 copyright\", rf_add_date\": null, rf_copyleft\": null, rf_osiapproved\": null, rf_fullname\": \"bsd 4 clause shortened\", rf_fsffree\": null, rf_gplv2compatible\": null, rf_gplv3compatible\": null, rf_notes\": null, rf_fedora\": nu 0.25389647483825684\n",
      "13253 copyright\", rf_add_date\": null, rf_copyleft\": null, rf_osiapproved\": null, rf_fullname\": \"technische universitaet berlin license 1.0\", rf_fsffree\": null, rf_gplv2compatible\": null, rf_gplv3compatible\": null, rf_notes\": null, 0.14502452313899994\n",
      "13354 copyright.html\", rf_add_date\": null, rf_copyleft\": null, rf_osiapproved\": null, rf_fullname\": \"unicode terms of use\", rf_fsffree\": null, rf_gplv2compatible\": null, rf_gplv3compatible\": null, rf_notes\": null, rf_fedora\": 0.24166905879974365\n",
      "13383 copyright\\/freebsd-doc-license.html\", rf_add_date\": null, rf_copyleft\": null, rf_osiapproved\": null, rf_fullname\": \"freebsd documentation license\", rf_fsffree\": null, rf_gplv2compatible\": null, rf_gplv3compatible\": null, rf_note 0.14137686789035797\n",
      "13504  copyright symbol ministerium f\\u00fcr wissenschaft und forschung nordrhein-westfalen date \\n\\nerstellt von axel metzger und till jaeger, institut f\\u00fcr rechtsfragen der freien und open source software - (http:\\/\\/www.ifross.de).\\n\\npr\\u00e4ambel\\n\\nsoftware ist mehr als ein wirtschaftsgut. sie ist die technisc 0.9890285730361938\n",
      "13576 copyright,agent_keyword,agent_mimetype,agent_monk,agent_nomos,agent_ojo,agent_shagent\" conf_ext_auth_new_user_agent_list= 0.15561600029468536\n",
      "13577  copyright symbol date , date , siemens ag 0.2198590785264969\n",
      "13582  copyright symbol date - date , date siemens ag 0.1811516135931015\n",
      "13585 copyright_decisions.php\"); 0.2158018946647644\n",
      "13586 copyright-author.php\"); 0.44244372844696045\n",
      "13600 copyright defattr(-,root,root) 0.11144141107797623\n",
      "13612  copyright symbol date , date , date siemens ag 0.1811516135931015\n",
      "13625 copyrightlist($uploadtree_pk, $upload_pk, $exclude, $ignore) 0.11687923222780228\n",
      "13652 copyright_list_path $auth -u $upload_id -t $uploadtree_id --type email --container 1\"; exec(\"$command 2>&1\", $output, $return_value); 0.08022553473711014\n",
      "13660 copyright_list_path $auth -u $upload_id -t $uploadtree_id --type email --container 0\"; exec(\"$command 2>&1\", $output, $return_value); 0.08022553473711014\n",
      "13667 copyright_list_path $auth -u $upload_id -t $uploadtree_id --container 1\"; exec(\"$command 2>&1\", $output, $return_value); 0.08696815371513367\n",
      "13677 copyright_list.php</file> file></file> testsuite> testsuites> phpunit> 0.30361029505729675\n",
      "13688 copyright> endif %} endfor %} endif %} endfor %} 0.06130671873688698\n",
      "13716 copyright,agent_mimetype,agent_monk,agent_nomos,agent_pkgagent', 1, '', null, null, 1); 0.1614217907190323\n",
      "13802 copyrightdatabasehandler.rollback(); return false; 0.07806631177663803\n",
      "13803 copyrightdatabasehandler.insertindatabase(entry)) 0.08583417534828186\n",
      "13821 copyrightmatch> matchstringtoregexes(const std::string& content, std::vector<regexmatcher> matchers); 0.129837766289711\n",
      "13839 copyright) rx::regex_match(beginofline, endofline, regnonblank)) 0.15092305839061737\n",
      "13841 copyrightscanner::scanstring(const string& s, list<match>& out) const 0.08485748618841171\n",
      "13855 copyrightdatabasehandler::copyrightdatabasehandler(dbmanager manager) : agentdatabasehandler(manager) 0.0993872657418251\n",
      "13866 copyrightdatabasehandler::columndef 0.12125670909881592\n",
      "13869 copyrightdatabasehandler::getcolumncreationstring(const copyrightdatabasehandler::columndef in[], size_t size) const 0.14062966406345367\n",
      "13871 copyrightdatabasehandler::getcolumnliststring(const copyrightdatabasehandler::columndef in[], size_t size) const 0.1405104696750641\n",
      "13885  copyright symbol date , date siemens ag 0.2198590785264969\n",
      "13894 copyright/agent/copyright --regex '1@@<s>([^\\0]*?)</s>' -t 0 \"$1\" | sed -e '1d' 0.07276558130979538\n",
      "13896  copyright symbol date - date , date siemens ag 0.1811516135931015\n",
      "13897 copyright -t 0 --regex 'test[[:space:]]*o' \"$tmpfile\" ) 0.08895265311002731\n",
      "13898 copyright -t 0 --regex 'test@@test[[:space:]]*o' \"$tmpfile\" ) 0.08895265311002731\n",
      "13899 copyright -t 0 --regex 'test@@1@@t(es)t[[:space:]]*' \"$tmpfile\" ) 0.09903163462877274\n",
      "13904 copyright.conf\"); rmdir(\"$sysconf/mods-enabled/$agentname/agent/\"); rmdir(\"$sysconf/mods-enabled/$agentname\"); rmdir(\"$sysconf/mods-enabled\"); unlink($sysconf.\"/fossology.conf\"); 0.22377678751945496\n",
      "13905  copyright symbol date - date , date , siemens ag 0.1811516135931015\n",
      "13922 copyright_event')); this->testdb->createsequences(array('agent_agent_pk_seq','upload_upload_pk_seq','pfile_pfile_pk_seq','users_user_pk_seq','nomos_ars_ars_pk_seq')); this->testdb->createconstraints(array('agent_pkey','upload_pkey_idx','pfile_pkey','user_pkey')); this->testdb->alterta 0.06111845374107361\n",
      "13929  copyright symbol date - date siemens ag 0.2198590785264969\n",
      "13949  copyright symbol date -15, date siemens ag 0.2198590785264969\n",
      "14029 copyright(null)); 0.23557992279529572\n",
      "14086 copyrighted by mit under the usual x terms. 0.48987284302711487\n",
      "14127 copyright date e. i. du pont de nemours and company</s> 0.13026298582553864\n",
      "14186 copyright &copy; date <a href=\"trolltech.html\">trolltech</a></td> td width=\"40%\" align=\"center\"><a href=\"trademarks.html\">trademarks</a></td> td width=\"30%\" align=\"right\"><div align=\"right\">qt 4.2.1</div></td> tr></table></div></address></body> html> 0.13656629621982574\n",
      "14201 copyright &copy; date <a href=\"trolltech.html\">trolltech</a></s></td> td width=\"40%\" align=\"center\"><a href=\"trademarks.html\">trademarks</a></td> td width=\"30%\" align=\"right\"><div align=\"right\">qt 4.2.1</div></td> tr></table></div></address></body> html> 0.12957997620105743\n",
      "14425 copyright : 0.45350420475006104\n",
      "14443 copyright copyright symbol date david m. ihnat</s> 0.08236156404018402\n",
      "14512 copyright: marco d'itri <md@linux.it> license: gpl-2+ 0.25037682056427\n",
      "14516 copyright: adam di carlo < email > license: gpl-2+ 0.595193088054657\n",
      "14520 copyright: adam di carlo < email ></s> license: gpl-2+ 0.5435184836387634\n",
      "14527 copyright: marco d'itri <md@linux.it></s> license: gpl-2+ 0.236481174826622\n",
      "14535 copyright copyright symbol date landon curt noll & ronald s. karr 0.15569868683815002\n",
      "14538 copyright copyright symbol date ronald s. karr copyleft (gnu) date landon curt noll & ronald s. karr 0.15533657371997833\n",
      "14539 copyright copyright symbol date landon curt noll & ronald s. karr</s> 0.1202508807182312\n",
      "14542 copyright copyright symbol date ronald s. karr </s> copyleft<s> (gnu) date landon curt noll & ronald s. karr</s> 0.11989838629961014\n",
      "14618 copyright copyright symbol date - date juho vuori < email > 0.4879043698310852\n",
      "14634 copyright copyright symbol date - date juho vuori < email ></s> 0.44833624362945557\n",
      "14665 copyright copyright symbol date - date , kungliga tekniska högskolan 0.25573381781578064\n",
      "14683 copyright copyright symbol date - date , kungliga tekniska högskolan</s> 0.20550979673862457\n",
      "14696 copyright\\ui; 0.1912689357995987\n",
      "14703 copyright/email/url analysis\") 0.4069281220436096\n",
      "14711 copyright::ui::xpview::registermenus() 0.06779679656028748\n",
      "14740  copyright symbol date siemens ag 0.26797372102737427\n",
      "14741 copyright/email/url/author\"); 0.26063695549964905\n",
      "14753 copyright::ui 0.5782212615013123\n",
      "14758 copyright/email/url/author analysis\"); 0.3755004405975342\n",
      "14767 copyrightdao->updatetable($item, $hash, $content, auth::getuserid(), $cptable); 0.10712867230176926\n",
      "14780 copyrightdao = $container->get('dao.copyright'); 0.41529008746147156\n",
      "14800 copyright, $vscancode, $vtextfindings, $tablevars) = $this->gettablecontent( upload_pk, $uploadtree_pk, $filter, $agentid); 0.08951716870069504\n",
      "14807  copyright symbol date - date , date siemens ag 0.1811516135931015\n",
      "14810  copyright symbol date - date siemens ag 0.2198590785264969\n",
      "14818 copyright_count'] = 1; row['hash'] = md5($row['content']); if ($hash && ($row['hash'] != $hash)) { return true; 0.2048363834619522\n",
      "14850 copyright -c $tempfilename -c $sysconfdir\"; 0.31715285778045654\n",
      "14869 copyrightfindingstabs\" style=\"padding-bottom:2em\"> ul> li><a href=\"#copyrighttab\">fossology findings</a></li> li><a href=\"#scancodecopyrighttab\">scancode findings</a></li> li><a href=\"#textfindingstab\">user findings</a></li> ul> div id=\"copyrighttab\"> 0.13694269955158234\n",
      "14882 copyrightviewtabs\" style=\"padding-bottom:2em\"> ul> li><a href=\"#fosstab\">fossology</a></li> li><a href=\"#scantab\">scancode</a></li> ul> div id=\"fosstab\"> foss_content }} 0.07625763863325119\n",
      "14887  copyright symbol date - date siemens ag 0.2198590785264969\n",
      "14904  copyright symbol date - date siemens ag 0.2198590785264969\n",
      "14922  copyright symbol date - date siemens ag 0.2198590785264969\n",
      "14923 copyrightdao = null; m::close(); 0.3253278434276581\n",
      "14939  copyright symbol date - date , date siemens ag 0.1811516135931015\n",
      "14980 copyrighteventlist(): array 0.24600449204444885\n",
      "14981  copyright symbol date - date siemens ag 0.2198590785264969\n",
      "15024 copyright_ars alter column ars_starttime set default now(); 0.1788867712020874\n",
      "15041 copyright_ct_pk_seq', date , true); 0.18553993105888367\n",
      "15148 copyright\", copyrightfileid); add_string(\"abstract\", abstractfileid); add_string(\"bib\", bibfileid); prop = s; break; 0.1054694876074791\n",
      "15169  copyright symbol date - date siemens ag 0.2198590785264969\n",
      "15174 copyright/ui</file> file>decider</file> file>deciderjob</file> file>decisionexporter</file> file>decisionimporter</file> file>delagent/ui</file> file>lib/php</file> file>monk/ui</file> file>nomos/ui</file> file>ojo/ui</file> file>readmeoss</file> file>reso</file> 0.4813854992389679\n",
      "15177  copyright symbol date - date siemens ag 0.2198590785264969\n",
      "15178  copyright symbol date , date siemens ag 0.2198590785264969\n",
      "15179  copyright symbol date - date , date siemens ag 0.1811516135931015\n",
      "15184  copyright symbol date rohit pandey <rohit.pandey date @gmail.com> 0.24051065742969513\n",
      "15190 copyrightpfile + $eccpfile + $ippfile; 0.32122179865837097\n",
      "15218 copyright = array_column($rows, 'content'); 0.2711007595062256\n",
      "15239  copyright symbol date - date orange contributors: piotr pszczola, bartlomiej drozdz 0.49489641189575195\n",
      "15270 copyright', 1])->andreturn([['agent_id' => '8', 0.20726428925991058\n",
      "15273 copyright\"); rmdir(\"$sysconf/mods-enabled\"); unlink($sysconf.\"/fossology.conf\"); unlink($sysconf.\"/db.conf\"); rmdir($sysconf); 0.19714325666427612\n",
      "15305  copyright symbol date , date - date siemens ag 0.1811516135931015\n",
      "15307  copyright symbol date , date siemens ag authors: andreas würl, daniele fognini 0.15544170141220093\n",
      "15309  copyright symbol date - date siemens ag authors: andreas würl, daniele fognini 0.15544170141220093\n",
      "15310  copyright symbol date siemens ag 0.26797372102737427\n",
      "15317  copyright symbol date , date siemens ag 0.2198590785264969\n",
      "15327  copyright symbol date , date siemens ag 0.2198590785264969\n",
      "15334  copyright symbol date , date siemens ag 0.2198590785264969\n",
      "15362  copyright symbol date - date , date siemens ag 0.1811516135931015\n",
      "15376 copyrightlist($itemid, $uploadid) 0.13496382534503937\n",
      "15383 copyright = implode(', ', $copyrightarray); 0.160846546292305\n",
      "15404  copyright symbol date , date siemens ag 0.2198590785264969\n",
      "15407  copyright symbol date - date , date siemens ag 0.1811516135931015\n",
      "15411  copyright symbol date , date siemens ag 0.2198590785264969\n",
      "15413  copyright symbol date - date , date siemens ag 0.1811516135931015\n",
      "15414  copyright symbol date - date siemens ag 0.2198590785264969\n",
      "15416  copyright symbol date - date , date siemens ag 0.1811516135931015\n",
      "15418  copyright symbol date - date siemens ag 0.2198590785264969\n",
      "15453 copyright: */ void) memset(cp, invisible, 12); cp += 12; break; 0.16607584059238434\n",
      "15475 copyright\\>|\\<patent\\>|\\<trade(mark| ?dress)\\>|\\<licen[cs]e\\>|\\<terms\\>|\\<agreement\\>|\\<program\\>|\\<software\\>|\\<library\\>|\\<source\\>|\\<binary\\>|\\<document\\>|\\<manual\\>|\\<product\\>|\\<files?\\>|derivat|modification|change|representation)\" 0.6373577117919922\n",
      "15515 copyright|\\<c\\>[^+:]|&copy)\" 0.5000162720680237\n",
      "15598 copyright(-| )free\" 0.20608897507190704\n",
      "15609 copyright|\\<c\\>[^+:]|&copy)\" str% \".\" 0.3000083863735199\n",
      "15790 copyright\" alias% _zzgen_last_cpy 0.4783405363559723\n",
      "15819  copyright symbol date , date siemens ag 0.2198590785264969\n",
      "15821 copyright\" define\tls_tdmkonly\t\"trademark-ref\" define\tls_licronly\t\"license-ref\" define\tls_patronly\t\"patent-ref\" 0.22147035598754883\n",
      "15823 copyright*/ 0.22352290153503418\n",
      "15841  copyright symbol and long \\377\\377\\377quot \\377\\377\\377\\377\\377\\377, \" test &copy \\377string \\377\\377con \\377\\377\\377\\377tains losts \\377of \\377\\377\\377\\377\\377\\377\\377\\377\\377\\377\" test \\377\\377nbsp \\377\\377\\377body \\377\\377\\377compli\\377\\377\\377cated \\377\\377\\377comment s \" 0.7342816591262817\n",
      "15977 copyright copyright symbol date - date júlio vilmar gesser. 0.4431145191192627\n",
      "16042 copyright copyright symbol date - date , tomasz kłoczko 0.324396550655365\n",
      "16128 &copy; date - date jean-philippe lang div></div> div> div> div> 0.14304018020629883\n",
      "16144 copyright copyright symbol date - date , yann collet. reuse-ignorestart spdx-license-identifier: bsd-2-clause reuse-ignorestart 0.37287867069244385\n",
      "16195 copyright policy</h1> 0.1663641482591629\n",
      "16244  copyright symbol des termes du contrat est réputée acquise du fait du premier des faits suivants: 0.9909029603004456\n",
      "16245  copyright symbol 25 rue leblanc, immeuble le ponant d, date 5 paris. 0.7511560916900635\n",
      "16246  copyright symbol 3 rue michel-ange, date 4 paris cedex 16. 0.2544366717338562\n",
      "16247  copyright symbol domaine de voluceau, rocquencourt, bp 105, date 3 le chesnay cedex. 0.44340455532073975\n",
      "16248  copyright symbol au code source et les droits de copie, de modification et de redistribution qui découlent de ce contrat ont pour contrepartie de n'offrir aux utilisateurs qu'une garantie limitée et de ne faire peser sur l'auteur du logiciel, le titulaire des droits patrimoniaux et les concédants successifs qu' 0.9830247759819031\n",
      "16249  copyright symbol d'en observer, d'en étudier, ou d'en tester le fonctionnement afin de déterminer les idées et principes qui sont à la base de n'importe quel élément de ce logiciel; et ceci, lorsque le licencié effectue toute opération de chargement, d'affichage, d'exécution, de transmission ou de stockag 0.9758281111717224\n",
      "16250  copyright symbol telle que définie en 3.1. 0.8495256900787354\n",
      "16251  copyright symbol sa spécificité de logiciel libre, qui peut le rendre complexe à manipuler et qui le réserve donc à des développeurs ou des professionnels avertis possédant des connaissances informatiques approfondies. les utilisateurs sont donc invités à charger et tester l'adéquation du logiciel à leu 0.9888704419136047\n",
      "16252  copyright symbol mis à disposition du licencié préalablement à son acceptation telle que définie à l'article 3.1 ci dessus et le licencié reconnaît en avoir pris connaissance. 0.9677245020866394\n",
      "16253  copyright symbol est autorisé à distribuer des copies du logiciel, modifié ou non, à des tiers dans les conditions ci-après détaillées. 0.9940863847732544\n",
      "16254  copyright symbol le contrat. 0.14557728171348572\n",
      "16255  copyright symbol et le concédant. 0.7988083362579346\n",
      "16256  copyright symbol d'une licence non exclusive, cessible et mondiale du logiciel telle que définie ci-après à l'article 5 pour toute la durée de protection des droits portant sur ce logiciel. 0.9778091311454773\n",
      "16257  copyright symbol de l'un quelconque des droits concédés par le contrat. 0.9003785848617554\n",
      "16258  copyright symbol est autorisé à distribuer des copies conformes du logiciel, sous forme de code source ou de code objet, à condition que cette distribution respecte les dispositions du contrat dans leur totalité et soit accompagnée: 0.9848525524139404\n",
      "16259  copyright symbol est autorisé à utiliser le logiciel, sans restriction quant aux domaines d'application, étant ci-après précisé que cela comporte: 0.9619770050048828\n",
      "16260  copyright symbol permette un accès effectif au code source complet du logiciel pendant au moins toute la durée de sa distribution du logiciel, étant entendu que le coût additionnel d'acquisition du code source ne devra pas excéder le simple coût de transfert des données. 0.9643083810806274\n",
      "16261  copyright symbol apporte une contribution au logiciel, le logiciel modifié peut être distribué sous un contrat de licence autre que le présent contrat sous réserve du respect des dispositions de l'article 5.3.4. 0.9901139736175537\n",
      "16262  copyright symbol est autorisé à apporter toute contribution au logiciel sous réserve de mentionner, de façon explicite, son nom en tant qu'auteur de cette contribution et la date de création de celle-ci. 0.9928486347198486\n",
      "16263  copyright symbol au logiciel de telle sorte qu'ils s'exécutent dans le même espace d'adressage. 0.9965429902076721\n",
      "16264  copyright symbol du logiciel, tel que ce module et le logiciel s'exécutent dans des espaces d'adressage différents, l'un appelant l'autre au moment de leur exécution. 0.969612717628479\n",
      "16265  copyright symbol auteur d'au moins une contribution. 0.9463464617729187\n",
      "16266  copyright symbol par au moins une contribution. 0.9958636164665222\n",
      "16267  copyright symbol est assorti d'une obligation forte de citation à la charge de ceux qui distribueraient un logiciel incorporant un logiciel régi par la présente licence afin d'assurer que les contributions de tous soient correctement identifiées et reconnues. 0.9498414397239685\n",
      "16268  copyright symbol de modification et de redistribution du logiciel régi par cette licence. 0.979702889919281\n",
      "16269  copyright symbol civile que du droit de la propriété intellectuelle et de la protection qu'il offre aux auteurs et titulaires des droits patrimoniaux sur un logiciel. les auteurs de la licence cecill-b1 sont: 0.968452513217926\n",
      "16270  copyright symbol sous une version donnée du contrat ne pourra faire l'objet d'une diffusion ultérieure que sous la même version du contrat ou une version postérieure. 0.9888994693756104\n",
      "16271  copyright symbol et ne peut être modifié que par les auteurs de la licence, lesquels se réservent le droit de publier périodiquement des mises à jour ou de nouvelles versions du contrat, qui posséderont chacune un numéro distinct. ces versions ultérieures seront susceptibles de prendre en compte de nouvell 0.9772170782089233\n",
      "16272  copyright symbol en langue française et en langue anglaise, ces deux versions faisant également foi. 0.9713568687438965\n",
      "16273  copyright symbol de l'ensemble du contrat. 0.5298289656639099\n",
      "16274  copyright symbol dont le contrat est résilié n'est plus autorisé à utiliser, modifier ou distribuer le logiciel. cependant, toutes les licences qu'il aura concédées antérieurement à la résiliation du contrat resteront valides sous réserve qu'elles aient été effectuées en conformité avec le contrat. 0.9970974326133728\n",
      "16275  copyright symbol aux obligations mises à sa charge par le contrat, le concédant pourra résilier de plein droit le contrat trente (30) jours après notification adressée au licencié et restée sans effet. 0.9552028775215149\n",
      "16276  copyright symbol intellectuelle d'un tiers portant sur un brevet, un logiciel ou sur tout autre droit de propriété. ainsi, le concédant exclut toute garantie au profit du licencié contre les actions en contrefaçon qui pourraient être diligentées au titre de l'utilisation, de la modification, et de la redist 0.9697990417480469\n",
      "16277  copyright symbol et sa configuration logicielle ni qu'il remplira les besoins du licencié. 0.9477460980415344\n",
      "16278  copyright symbol reconnaît que le logiciel est fourni \"en l'état\" par le concédant sans autre garantie, expresse ou tacite, que celle prévue à l'article 9.2 et notamment sans aucune garantie sur sa valeur commerciale, son caractère sécurisé, innovant ou pertinent. 0.9410368800163269\n",
      "16279  copyright symbol du licencié de contrôler, par tous moyens, l'adéquation du produit à ses besoins, son bon fonctionnement et de s'assurer qu'il ne causera pas de dommages aux personnes et aux biens. 0.997150719165802\n",
      "16280  copyright symbol du concédant est limitée aux engagements pris en application du contrat et ne saurait être engagée en raison notamment: (i) des dommages dus à l'inexécution, totale ou partielle, de ses obligations par le licencié, (ii) des dommages directs ou indirects découlant de l'utilisation ou des pe 0.9256158471107483\n",
      "16281  copyright symbol a la faculté, sous réserve de prouver la faute du concédant concerné, de solliciter la réparation du préjudice direct qu'il subirait du fait du logiciel et dont il apportera la preuve. 0.9877693057060242\n",
      "16282  copyright symbol et ce, dans les conditions qu'il souhaite. cette garantie et les modalités financières de son application feront l'objet d'un acte séparé entre le concédant et le licencié. 0.9746465682983398\n",
      "16283  copyright symbol du concédant qui les propose. 0.8488808274269104\n",
      "16284  copyright symbol s'engage à ne pas porter atteinte, directement ou indirectement, aux droits de propriété intellectuelle du titulaire et/ou des contributeurs sur le logiciel et à prendre, le cas échéant, à l'égard de son personnel toutes les mesures nécessaires pour assurer le respect des dits droits de p 0.9822302460670471\n",
      "16285  copyright symbol intellectuelle apposées sur le logiciel; 0.950491189956665\n",
      "16286  copyright symbol s'engage expressément: 0.7988232374191284\n",
      "16287  copyright symbol de modifier les conditions de diffusion de ce logiciel initial. 0.6972877383232117\n",
      "16288  copyright symbol du concédant telle que prévue aux articles 8 et 9, 0.9149664044380188\n",
      "16289  copyright symbol reconnaît que l'état actuel des connaissances scientifiques et techniques au moment de la mise en circulation du logiciel ne permet pas d'en tester et d'en vérifier toutes les utilisations ni de détecter l'existence d'éventuels défauts. l'attention du licencié a été attirée sur ce point 0.9714716672897339\n",
      "16290  copyright symbol qui distribue un logiciel modifié s'engage expressément: 0.9461440443992615\n",
      "16291  copyright symbol qui a développé un module externe est titulaire sur celui-ci des droits de propriété intellectuelle dans les conditions définies par la législation applicable et reste libre du choix du contrat régissant sa diffusion. 0.9787530899047852\n",
      "16292  copyright symbol peut être distribué sous le contrat de licence cecill-c. les stipulations prévues à l'article 5.3.4 sont alors facultatives. 0.9822113513946533\n",
      "16293  copyright symbol réalisé à partir du logiciel régi par le contrat, en reproduisant les mentions de propriété intellectuelle du logiciel, 0.9952536821365356\n",
      "16294  copyright symbol a développé un module externe les conditions du contrat ne s'appliquent pas à ce module externe, qui peut être distribué sous un contrat de licence différent. 0.9848742485046387\n",
      "16295  copyright symbol intellectuelle sur les copies du logiciel modifié ou non. 0.957396924495697\n",
      "16296  copyright symbol qui a développé une contribution est titulaire sur celle-ci des droits de propriété intellectuelle dans les conditions définies par la législation applicable. 0.9889774322509766\n",
      "16297  copyright symbol intellectuelle et le fait qu'il est régi par le contrat soient indiqués dans un texte facilement accessible depuis l'interface du logiciel modifié, 0.9973251819610596\n",
      "16298  copyright symbol ou non est distribué avec un module externe qui a été conçu pour l'utiliser, le licencié doit soumettre le dit module externe aux obligations précédentes. 0.9879432916641235\n",
      "16299  copyright symbol contient une contribution soumise au contrat de licence cecill, les stipulations prévues à l'article 5.3.4 sont facultatives. 0.9676483273506165\n",
      "16300  copyright symbol auteur d'au moins une contribution intégrée. 0.993626058101654\n",
      "16301  copyright symbol résulte soient clairement identifiées et documentées, 0.9909533262252808\n",
      "16302  copyright symbol permette un accès effectif au code source du logiciel modifié, pendant au moins toute la durée de la distribution du logiciel dérivé, de telle sorte que ces modifications puissent être reprises dans une version ultérieure du logiciel, étant entendu que le coût additionnel d'acquisition du 0.9821265339851379\n",
      "16303  copyright symbol contient une contribution intégrée soumise au contrat de licence cecill, ou lorsqu'un logiciel dérivé contient un module lié soumis au contrat de licence cecill, les stipulations prévues au troisième item de l'article 6.4 sont facultatives. 0.9808914661407471\n",
      "16304  copyright symbol par au moins une contribution intégrée. 0.9993935227394104\n",
      "16305  copyright symbol est assorti d'une obligation de remettre à la disposition de la communauté les modifications apportées au code source du logiciel afin de contribuer à son évolution. 0.9207140803337097\n",
      "16306  copyright symbol ou non, et d'un module lié. 0.9538953304290771\n",
      "16307  copyright symbol qui a développé un module lié est titulaire sur celui-ci des droits de propriété intellectuelle dans les conditions définies par la législation applicable et reste libre du choix du contrat régissant sa diffusion dans les conditions définies à l'article 5.3.3. 0.9900233149528503\n",
      "16308  copyright symbol est autorisé à apporter toute modification au logiciel sous réserve de mentionner, de façon explicite, son nom en tant qu'auteur de cette modification et la date de création de celle-ci. 0.9933978319168091\n",
      "16309  copyright symbol apporte une contribution intégrée au logiciel, les conditions de distribution du logiciel modifié en résultant sont alors soumises à l'intégralité des dispositions du contrat. 0.9938083291053772\n",
      "16310  copyright symbol est autorisé à distribuer le logiciel modifié sous forme de code source ou de code objet, à condition que cette distribution respecte les dispositions du contrat dans leur totalité et soit accompagnée: 0.9859511256217957\n",
      "16311  copyright symbol est redistribué, le licencié permette un accès effectif à son code source complet pendant au moins toute la durée de sa distribution du logiciel modifié, étant entendu que le coût additionnel d'acquisition du code source ne devra pas excéder le simple coût de transfert des données. 0.968122661113739\n",
      "16312  copyright symbol crée un logiciel dérivé, ce logiciel dérivé peut être distribué sous un contrat de licence autre que le présent contrat à condition de respecter les obligations de mention des droits sur le logiciel telles que définies à l'article 6.4. dans le cas où la création du logiciel dérivé a 0.990628182888031\n",
      "16313  copyright symbol correspondant à cette modification soit régi par le présent contrat, 0.9986234307289124\n",
      "16314  copyright symbol de modifier et de réutiliser le logiciel régi par cette licence. 0.9908218383789062\n",
      "16315  copyright symbol intellectuelle et le fait qu'il est régi par le contrat soient indiqués dans un texte facilement accessible notamment depuis l'interface de tout logiciel dérivé. 0.996698260307312\n",
      "16316  copyright symbol intellectuelle sur les copies du logiciel modifié ou non; 0.9788541793823242\n",
      "16317  copyright symbol civile que du droit de la propriété intellectuelle et de la protection qu'il offre aux auteurs et titulaires des droits patrimoniaux sur un logiciel. les auteurs de la licence cecill-c1 sont: 0.968452513217926\n",
      "16318  copyright symbol qui a développé une contribution intégrée est titulaire sur celle-ci des droits de propriété intellectuelle dans les conditions définies par la législation applicable. 0.9919077754020691\n",
      "16343  copyright symbol copyright date - date fraunhofer-gesellschaft zur förderung der angewandten forschung e.v. all rights reserved. 0.5252347588539124\n",
      "16375  copyright symbol ministerium für wissenschaft und forschung nordrhein-westfalen date  0.9180047512054443\n",
      "16474 copyright-holder= --msgid-bugs-address= /dev/null >/dev/null 2>&1 && 0.24037326872348785\n",
      "16480 copyright-holder= --msgid-bugs-address= /dev/null 2>&1 >/dev/null | grep usage >/dev/null; then exit 1; else exit 0; fi); then 0.11141170561313629\n",
      "16481 copyright-holder= --msgid-bugs-address= /dev/null 2>&1 >/dev/null | grep usage >/dev/null; then exit 1; else exit 0; fi)], 0.12839286029338837\n",
      "16489 copyright copyright symbol date - date miklos szeredi < email > 0.8675993084907532\n",
      "16490 copyright copyright symbol date - date miklos szeredi. all rights reserved. 0.35001635551452637\n",
      "16663 copyright date johannes berg < email > 0.31301799416542053\n",
      "16683 copyright copyright symbol date - date markus oberhumer & laszlo molnar http://wildsau.idv.uni-linz.ac.at/mfx/upx.html http://www.nexus.hu/upx http://upx.tsx.org 0.2636313736438751\n",
      "16692 copyright copyright symbol date daniel svärd < email > * 0.24644532799720764\n",
      "16700 copyright string auf stderr ausgeben 1: kurzusage auf stderr ausgeben und beenden 2: langusage auf stdout ausgeben und beenden 10: return license info string 11: name of program 12: optional name of package which includes this program. 13: version string 0.9177619814872742\n",
      "16705  copyright symbol date red hat < email > 0.27221256494522095\n",
      "16706  copyright symbol date red hat < email > 0.27221256494522095\n",
      "16707  copyright symbol date krzysztof g. baranowski 0.14884153008460999\n",
      "16713 copyright date - date \tjohannes berg < email > 0.17050965130329132\n",
      "16733 copyright-holder= /dev/null 2>&1 >/dev/null | grep usage >/dev/null; then exit 1; else exit 0; fi); then 0.16388143599033356\n",
      "16734 copyright-holder= /dev/null >/dev/null 2>&1 && 0.4162105917930603\n",
      "16735 copyright-holder= /dev/null 2>&1 >/dev/null | grep usage >/dev/null; then exit 1; else exit 0; fi)], 0.1850527673959732\n",
      "16762 copyright copyright symbol : date by garrecht ingenieurgesellschaft 0.27767473459243774\n",
      "16803 copyrightbegin#### 0.4353240132331848\n",
      "16805 copyrightend#### bsdcopyrightbegin#### 0.41807445883750916\n",
      "16807 copyrightend#### 0.36320364475250244\n",
      "16927 copyright copyright symbol date - date verein zur foerderung der freien virtuellen maschine cacao 0.8541569113731384\n",
      "16940 copyright copyright symbol date - date , date , date r. grafl, a. krall, c. kruegel, c. oates, r. obermaisser, m. platter, m. probst, s. ring, e. steiner, c. thalinger, d. thuernbeck, p. tomsich, c. ullrich, j. wenninger, institut f. computersprachen - tu wien 0.09292848408222198\n",
      "17075 copyright copyright symbol date -- date eitan m. gurari % 0.1669679433107376\n",
      "17148 copyright law. par par a \"contribution\" is the original software, or any additions or changes to the software. par par a \"contributor\" is any person that distributes its contribution under this license. par par \"licensed patents\" are a contributor's patent claims that read directly on 0.413301020860672\n",
      "17176 copyright date m. stephenson) 0.24318698048591614\n",
      "17178 copyright date richard m. stallman) 0.2779882848262787\n",
      "17246 copyright} 0.7577283382415771\n",
      "17255  copyright symbol herein. 0.3117165267467499\n",
      "17418 copyright copyright symbol tuomo valkonen date - date . 0.40687334537506104\n",
      "17423 copyright copyright symbol date - date red hat, inc., peter zijlstra < email > 0.296444833278656\n",
      "17454  copyright symbol the license term, and (d) the licensed units. 0.4775041937828064\n",
      "17520 copyright copyright symbol date - date julian smart, robert roebling et al 0.18007752299308777\n",
      "17569 copyrightend#### */ 0.3548680245876312\n",
      "17572 copyrightbegin#### */ 0.404449462890625\n",
      "17581 copyright[0]!=' ') return null; 0.11712577193975449\n",
      "17592  copyright symbol date , date siemens ag 0.2198590785264969\n",
      "17605 copyright analysis. database said: \"%s\".\\n\\tsql=%s' % (error, sql)) 0.21986718475818634\n",
      "17607 copyright', '1.0 source_hash(%s) model_hash(%s)' % (hex(hash(open(sys.argv[0]).read())), hex(hash(str(model)))), 'copyright agent') 0.17748355865478516\n",
      "17645 copyright %s| agent=licinspect %s| %s/mimetypeagent=mimetype %s| %s/specagentagent=specagent %s| %s/filter_clean -sagent=filter_clean %s| %s/delagent -sagent=delagent %s| %s/sqlagentagent=sqlagent %s| %s/sqlagent -a sqlagent=sqlagenthost %s| %s/pkgmetagettaagent=pkgmetagetta %s| %s/p 0.32551494240760803\n",
      "17761  copyright symbol microsoft a é aviséde l'éntualitée tels dommages. certains éts/juridictions ne permettent pas l'exclusion ou la limitation de responsabilitéelative aux dommages indirects ou consétifs, et la limitation ci-dessus peut ne pas s'appliquer àotre érd. 0.8644542098045349\n",
      "17906 copyrighted 0.11441498249769211\n",
      "17922 copyright.php alias: isc 0.21751542389392853\n",
      "17975 copyright/oneshot.php'); 0.23574645817279816\n",
      "18052 copyright clause\"][\"license\"][5]=\"free/freewithcopyright/free with copyright clause variant 5\"; 0.49041232466697693\n",
      "18058 copyright clause\"][\"license\"][7]=\"free/freewithcopyright/free with copyright clause variant 9\"; 0.4156237542629242\n",
      "18059 copyright clause\"][\"license\"][6]=\"free/freewithcopyright/free with copyright clause variant 8\"; 0.4038950204849243\n",
      "18062 copyright clause\"][\"license\"][4]=\"free/freewithcopyright/free with copyright clause variant 4\"; 0.49041232466697693\n",
      "18063 copyright clause\"][\"license\"][0]=\"free/freewithcopyright/free with copyright clause variant 1\"; 0.49041232466697693\n",
      "18064 copyright clause\"][\"license\"][1]=\"free/freewithcopyright/free with copyright clause variant 10\"; 0.49041232466697693\n",
      "18065 copyright clause\"][\"license\"][2]=\"free/freewithcopyright/free with copyright clause variant 11\"; 0.40315908193588257\n",
      "18066 copyright clause\"][\"license\"][3]=\"free/freewithcopyright/free with copyright clause variant 3\"; 0.49041232466697693\n",
      "18077  copyright symbol date - date siemens ag 0.2198590785264969\n",
      "18095 copyrightfindingtodb($content, $pfile_fk) 0.8211694955825806\n",
      "18100 copyrightfindingtodb(trim($copyrightline), $entry['pfile_pk']); 0.6255438327789307\n",
      "18112 copyrighttextsforfile($propertyid)); 0.6361191272735596\n",
      "18113 copyrighttext\")) , array($this, \"isnotnoassertion\")); 0.29586318135261536\n",
      "18121  copyright symbol date - date siemens ag 0.2198590785264969\n",
      "18127 copyrightfindings($linkedfiles,$uploadid) 0.10882605612277985\n",
      "18130 copyrightfindings($linkedfiles,$uploadid); 0.06566287577152252\n",
      "18131  copyright symbol date orange author: bartłomiej dróżdż < email > author: piotr pszczoła < email > 0.8615836501121521\n",
      "18134  copyright symbol date orange author: bartłomiej dróżdż < email > 0.8754191994667053\n",
      "18138 copyright['hash']; 0.49337828159332275\n",
      "18145 copyright) { this->reusecopyrights($uploadid, $reuseduploadid); 0.12654519081115723\n",
      "18147 copyrights($uploadid, $reuseduploadid) 0.19334976375102997\n",
      "18156 copyrightdao = null; 0.3713149428367615\n",
      "18245 copyright content'| trans }}\", \"sclass\": \"left\"}, stitle\": \"\", \"sclass\": \"center read_only\", \"swidth\": \"10%\", \"bsortable\": false } 0.14077851176261902\n",
      "18269  copyright symbol date - date siemens ag 0.2198590785264969\n",
      "18337  copyright symbol que le présent contrat et tous les documents 0.9884124994277954\n",
      "18368 copyrighted materials, 0.11441498249769211\n",
      "18370  copyright symbol au québec, canada, certaines des clauses dans ce contrat sont fournies ci-dessous en français. 0.9900314807891846\n",
      "18371  copyright symbol stricte, de négligence ou d’une autre faute dans la limite autorisée par la loi en vigueur. elle s’applique également, même si microsoft connaissait ou devrait connaître l’éventualité d’un tel dommage. si votre pays n’autorise pas l’exclusion ou la limitation de responsabilité 0.9900432825088501\n",
      "18372  copyright symbol au logiciel, aux services ou au contenu (y compris le code) figurant sur des sites internet tiers ou dans des programmes tiers ; et 0.9445815682411194\n",
      "18373  copyright symbol par une licence est offert « tel quel ». toute utilisation de ce logiciel est à votre seule risque et péril. microsoft n’accorde aucune autre garantie expresse. vous pouvez bénéficier de droits additionnels en vertu du droit local sur la protection dues consommateurs, que ce contrat ne peu 0.9862505793571472\n",
      "18398 copyright date martin f. krafft < email > 0.10823044180870056\n",
      "18431 copyright copyright symbol date json.org 0.28708070516586304\n",
      "18432 copyright copyright symbol date json.org 0.28708070516586304\n",
      "18503 copyright copyright symbol date gisle aas. 0.3097870349884033\n",
      "18552 copyright++; newline=0; 0.49368369579315186\n",
      "18556 copyright > 5) 0.5100103616714478\n",
      "18562 copyright=0; 0.49368369579315186\n",
      "18564 copyright\", damages\", derivative\", disclaimer\", distribute\", distributed\", distribution\", distributions\", gpl\", gfdl\", legal\", liability\", licencable\", licence\", licenced\", licencee\", licencor\", licencing\", licensable\", license\", licensed\", 0.247096449136734\n",
      "18589 copyright'=>array('copyright','ecc')); if ( array_key_exists($src_dir,$splitmoduls) ) { foreach($splitmoduls[$src_dir] as $agent){ mkdir(\"$mods_enabled_dir/$agent\"); symlink(\"$full_src_dir/agent\", \"$mods_enabled_dir/$agent/agent\"); symlink(\"$full_src_dir/ui\", \"$mods 0.11013548821210861\n",
      "18609 copyright_analysis/model.dat'; last = exec(\"rm $modelpath 2>&1\", $output, $rtn); last = exec(\"rm -f $modelpath \", $output, $rtn); 0.23672695457935333\n",
      "18626 copyright', null); 0.1330363005399704\n",
      "18632  copyright symbol date - date siemens ag 0.2198590785264969\n",
      "18757 copyright2.html#3', null, null, null, 'x11 license', null, null, null, '', null, false, false, false, ' date 71e9b64ff548ba date 0d5fabe180', 1, null); 0.16137807071208954\n",
      "18888 copyright($pfileid); 0.07955943048000336\n",
      "18898 copyrights = \"false\"; if (array_key_exists(\"addnewlicensesas\", $reqbody) && reqbody[\"addnewlicensesas\"] === \"license\") { addnewlicensesas = \"license\"; 0.2565993666648865\n",
      "18910 copyrightlist($id); return $response->withjson($licenselist, 200); 0.06722991913557053\n",
      "18912  copyright symbol date , date siemens ag 0.2198590785264969\n",
      "18923 copyrightdao = $container->get('dao.copyright'); agentdao = $container->get('dao.agent'); 0.5904059410095215\n",
      "18941 copyright param boolean $ecc param boolean $keyword param boolean $mime param boolean $monk param boolean $nomos param boolean $ojo param boolean $reso param boolean $package 0.17865832149982452\n",
      "18954 copyright = null; 0.3713149428367615\n",
      "18964 copyright\", $reuserarray)) { this->setreusecopyright($reuserarray[\"reuse_copyright\"]); 0.2941960096359253\n",
      "18971 copyright\", $scancodearray)) { 0.1116190105676651\n",
      "19005  copyright symbol date - date siemens ag 0.2198590785264969\n",
      "19008  copyright symbol date - date , date siemens ag 0.1811516135931015\n",
      "19011 copyright/email/url\"); 0.26063695549964905\n",
      "19013  copyright symbol date , date siemens ag 0.2198590785264969\n",
      "19016  copyright symbol date - date , date siemens ag 0.1811516135931015\n",
      "19017  copyright symbol date - date , date siemens ag 0.1811516135931015\n",
      "19018  copyright symbol date - date , date siemens ag 0.1811516135931015\n",
      "19021 copyright\"][\"pfile_fk\"][\"alter\"] = \"alter table \\\"copyright\\\" alter column \\\"pfile_fk\\\" set not null\"; 0.3609694242477417\n",
      "19023 copyright\"][\"agent_fk\"][\"alter\"] = \"alter table \\\"copyright\\\" alter column \\\"agent_fk\\\" set not null\"; 0.3069104850292206\n",
      "19028 copyright\"][\"content\"][\"alter\"] = \"alter table \\\"copyright\\\" alter column \\\"content\\\" drop not null\"; 0.4599732756614685\n",
      "19032 copyright\"][\"hash\"][\"alter\"] = \"alter table \\\"copyright\\\" alter column \\\"hash\\\" drop not null\"; 0.46256232261657715\n",
      "19072 copyright\"][\"is_enabled\"][\"alter\"] = \"alter table \\\"copyright\\\" alter column \\\"is_enabled\\\" drop not null, alter column \\\"is_enabled\\\" set default true\"; 0.3420296013355255\n",
      "19075 copyright\"][\"copy_endbyte\"][\"alter\"] = \"alter table \\\"copyright\\\" alter column \\\"copy_endbyte\\\" drop not null\"; 0.3086726665496826\n",
      "19079 copyright\"][\"copy_startbyte\"][\"alter\"] = \"alter table \\\"copyright\\\" alter column \\\"copy_startbyte\\\" drop not null\"; 0.3086726665496826\n",
      "19084 copyright\"][\"type\"][\"alter\"] = \"alter table \\\"copyright\\\" alter column \\\"type\\\" drop not null\"; 0.4164201319217682\n",
      "19090  copyright symbol date - date brent ely spdx-license-identifier: mit 0.43608736991882324\n",
      "19097  copyright symbol date - date , date siemens ag 0.1811516135931015\n",
      "19099  copyright symbol date , date siemens ag 0.2198590785264969\n",
      "19116  copyright symbol date - date siemens ag 0.2198590785264969\n",
      "19173 copyright copyright symbol date - date world wide web consortium, (massachusetts institute of technology, institut national de recherche en informatique et en automatique, keio university). all rights reserved. 0.28769007325172424\n",
      "19203  copyright symbol ministerium fuer wissenschaft und forschung nordrhein-westfalen date erstellt von axel metzger und till jaeger, institut fuer rechtsfragen der freien und open source software - ( http://www.ifross.de ). 0.8144859671592712\n",
      "19238 copyright date m. stephenson 0.24667388200759888\n",
      "19249 copyright jquery foundation and other contributors; licensed mit 0.3894128203392029\n",
      "19270 copyright date - date , date siemens ag 0.21315979957580566\n",
      "19272 copyright date klaus hartl released under the mit license 0.3635874390602112\n",
      "19299 copyright date - date siemens ag 0.25354301929473877\n",
      "19321  copyright symbol date - date siemens ag 0.2198590785264969\n",
      "19342 copyright date richard m. stallman 0.2830992043018341\n",
      "19350  copyright symbol date - date , date siemens ag 0.1811516135931015\n",
      "19354  copyright symbol date - date , date siemens ag 0.1811516135931015\n",
      "19362 copyright'|trans }}:</label></b> div class=\"col-sm-10\"> 0.1942061483860016\n",
      "19437 copyright;ojo\" \\ s. -b./build -g ninja \\ 0.17665815353393555\n",
      "19625 copyright) find_names=(-iname 'notice*' -o -iname 'readme*') find_maxdepth=3 0.13107629120349884\n",
      "19688 copyright_file=$build_tag_file -source=azure_vmsets.go -destination=mockvmsets/azure_mock_vmsets.go -package=mockvmsets vmset package azure 0.5379615426063538\n",
      "19709 �� especificada ou \\n\" 0.3982321321964264\n",
      "19710 �� suportada, converte para a ��ltima vers�� dispon��vel.\\n\" 0.40765783190727234\n",
      "19711 �� no formato yaml. pode ser utilizadoa op����o -o\\n\" t\\tpara mudar o formato de sa��da.\" 0.4324089288711548\n",
      "19712 �� que a porta de servi��o na v1 �� \" 0.425212562084198\n",
      "19713 �� deixada sem nome na v2. o padr��o �� \" service/v2'.\" 0.8190386891365051\n",
      "19714 �� interrompido se os pods n��o s��o gerenciados \" por um replicationcontroller, replicaset, job, daemonset ou statefulset, \" e tem espera por 15 minutos.\\n\" t\\t$ kubectl drain foo ���grace-period=900\" 0.6828678250312805\n",
      "19716 �� o estado corrente. veja https://issues.k8s.\" io/ date 4.\" 0.457198828458786\n",
      "19717 �� uma chave v��lida no diret��rio ser��\\n\" t\\tcolocada no configmap. qualquer entrada de diret��rio, exceto as com \" arquivos v��lidos ser��o ignorados (por exemplo: sub-diret��rios,\\n\" t\\tsymlinks, devices, pipes, etc).\" 0.9184010624885559\n",
      "19718 �� opcional.\\n\" 0.7787862420082092\n",
      "19719 �� mut��vel.\" 0.5772298574447632\n",
      "19720 �� verdadeira \" quando\\n\" 0.8701797127723694\n",
      "19721 �� enviado para o servidor.\" 0.5714143514633179\n",
      "19722 �� configurada v��rias vezes, apenas o ��ltimo \" valor ser�� utilizado\\n\" kubectl annotate pods foo description='my frontend'\\n\" 0.47584328055381775\n",
      "19723 �� especificado, �� \" ignorado caso contr��rio\" 0.4322183132171631\n",
      "19724 �� verdadeiro\" 0.8600549101829529\n",
      "19725 �� verdadeiro, esta tamb��m �� a \" porta utilizada pelo servi��o quando for criado.\" 0.978629469871521\n",
      "19726 �� criado, \" 0.9141135215759277\n",
      "19727 �� criado, se configurado para \" 0.7557490468025208\n",
      "19728 �� criado. para os dois ��ltimos ���replicas deve ser 1. \" valor padr��o 'always', para cronjobs `never`.\" 0.7918572425842285\n",
      "19729 �� especificada ou 0.3982321321964264\n",
      "19730 �� suportada, converte para a ��ltima vers�� dispon��vel. 0.3962641954421997\n",
      "19731 �� no formato yaml. pode ser utilizadoa op����o -o para mudar o formato de sa��da. cria um namespace com um nome especificado. cria uma role com uma ��nica regra. cria uma conta de servi��o com um nome especificado. remove a restri����o de execu����o de workloads no node. aplica a re 0.9913317561149597\n",
      "19732 �� que a porta de servi��o na v1 �� chamada de 'default', enquanto ela �� deixada sem nome na v2. o padr��o �� 'service/v2'.o protocolo de rede para o servi��o ser criado. padr��o �� 'tcp'.a porta para que o servi��o possa servir. copiado do recurso sendo exposto, se n��o especificadoo recurso req 0.653184175491333\n",
      "19733 �� du kubeconfig\" 0.4981559216976166\n",
      "19734 �� trouv��e. \" msgstr[1] \"\" watch n'est compatible qu'avec les ressources individuelles et les \" 0.9430211782455444\n",
      "19736 �� du kubeconfigsupprimer le contexte sp��cifi�� du kubeconfigd��crire un ou plusieurs contextesafficher les cluster d��finis dans kubeconfigafficher les param��tres fusionn��s de kubeconfig ou d'un fichier kubeconfig sp��cifi��modifier des fichiers kubeconfigmettre �� jour les annotations d'un 0.9220069050788879\n",
      "19745 �� i nomi dei file su disco\\n\" t\\t kubectl create configmap my-config --from-file=key1=/path/to/bar/\" file1.txt --from-file=key2=/path/to/bar/file2.txt\\n\" 0.20623567700386047\n",
      "19746 �� queste risorse spesso\\n\" t\\trappresentano entit�� del cluster, la cancellazione non pu�� essere \" presa in carico immediatamente. se il nodo\\n\" t\\tche ospita un pod �� spento o non raggiungibile da api server, \" termination pu�� richiedere molto pi�� tempo\\n\" t\\tdel grace pe 0.9764823913574219\n",
      "19747 �� questi pods verrebbero \" immediatamente sostituiti dal\\n\" t\\tdaemonset controller, che ignora le marcature unschedulable. se ci \" sono\\n\" 0.90143221616745\n",
      "19748 �� mirror pod n�� gestiti dal replicationcontroller,\\n\" t\\treplicaset, daemonset, statefulset o job, allora drain non canceller�� \" 0.7107354998588562\n",
      "19756 �� y == y case y.typ == nil: 0.46516990661621094\n",
      "19778 copyright date matt t. proud 0.15124407410621643\n",
      "19845 �� eth: 0x623a3c3a date 6a date c79b18ac1ed36e1c71a8a6* go������������qq���: date date 14* 0.30554813146591187\n",
      "19880  copyright symbol date - date , http://ernestmicklei.com. mit license 0.25948596000671387\n",
      "20018 copyright date zbigniew mandziejewicz 0.6047763824462891\n",
      "20061 copyright); blankline(); codeline(machine_generated); blankline(); 0.10475997626781464\n",
      "20074 copyright\", \"credits\", \"delattr\", \"dict\", \"dir\", \"divmod\", enumerate\", \"eval\", \"execfile\", \"exit\", \"file\", \"filter\", \"float\", format\", \"frozenset\", \"getattr\", \"globals\", \"hasattr\", \"hash\", \"help\", hex\", \"id\", \"input\", \"int\", \"intern\", \"isinstance\", \"issubclass\", iter\" 0.26059848070144653\n",
      "20140 �� j��t����r7��t\u0006o��������jvow\u001er e��m��ha\u0004d��������i��t��/����\f����tt|��p\u0007��������d\u0005v��#��\u0007������p����gm��4b����\u0003��yd���� ����i��v\u0019st����me����������\u0013��s��q\u001co��gm[qn��mz����q+������eq+|\u0012.����5��\u0019��8[\u00160������z��l��w��%���ll<\u001af\u001d��\u0019rbf��\u001br��b&9������z[v��', ����>6��b0f��[f����a���� ������\u00148����jr(g����tg��o����d/������[n/h��\u0001v��)����knvf����f����g\u001fv������,\u000b=������ed��\\h����y����}��>qb\\��\u0014=����`q\u0016k������\u0014������\u0003_�� 0.14856262505054474\n",
      "20141 �� o��\u0012oh��2����fv}wy\u001d_xe_�����x��������s����������\u0004?u!xy����-��\u000e3��k��\u0013p��5p��\u001a��1:����:��hc]p\u0005}����k��a���� ��p��:������ ��p\u000f��h\u000e5��b\u001a��i����aj����[��k�� ��) 0.4855153262615204\n",
      "20148 ��\tuox.!2�� ����\"��'\\'����wf������k��h����4z��$��tnr��$\u00189#��,mfxk��h2�� ��nm2��et��s��rk������������������������*��2��f��\u0004=y����f��mrv��m(��&��������������d����f��������&����\tf��x\u00077��������y������yu��t��\f������c��$��phi���\u001a����g\u001ew������4?-[3����\u0014����\u001e����p]re����qa��1��\u0016��f7������o\u0010��[{i\u0017&��z%8�� (��y-������>/ic��_m>����jh\"\u0003t\f��!��rqq������\u0014��������x+\u0018c��\u0019��������\u000b_sj��\u0007����������q������i��������\u000ek(��1�������� 0.10975050926208496\n",
      "20149 ��\tq��c=��r����j����pa������z��n��\u0001������w����b\u000fx ��kw[=��`w����\u0019sn��\u001c��'o{����n������<��&w������n������\u001c��z������\u0007��w��#>����_<��\u001b������c>����������p��c>��^��<\"����y��}��j��'����)��������\u001d����7����e��\u001f����k����������a������������g=��{������\u0003?����\u001f>����o��|h��>����/������������������i{������7��������;����������^������>����o������������\u0017�� o~������������>����o������?������?����^}��3��������\u0012` ��\u0001��\u000b\" ��\u0019��\u0002������\u0015������_����������_��m`��a��\u0006r��\u0006v`\u0006b�������� 0.33197298645973206\n",
      "20150 �� 2q��r*��vj����q������������-*�����yn����u��y������\u00163}��zy������\u0018#x��&��������\u00127 0.33104389905929565\n",
      "20151 ��\tcc��c)��p)��8������h>����������\u0013��h:����+���� ��b��� 0.9824186563491821\n",
      "20174  copyright symbol // 4 e = f32[2,4] negate(d) // 5 f = f32[2,4] negate(e) // 6 g = f32[2,4] negate(f) // 7 h = f32[2,4] negate(g) // 8 i = f32[2,4] negate(h) // 9 j = f32[2,4] negate(i) // 10 k = f32[2,4] negate(j) 0.07191000133752823\n",
      "20185 ��\to*fb@��mox����t ������g*k����{����+��rr������b&-��,\u0003x����\u0002q��������/*��\u0011��s��d%\"��k?��\u001b����h ����\u0005��s��82p��p������\u0013��u\"6��il��e)a��:������y3��f\u001c��i\u000b`��\u001d��7��vq����,��\u0014'@\u001e+��r|\u001a��i��������������#q��\u0011��53��s����fy����i2����!��4��t ��z9��f��x_3)es2��\u0001����z�� ����tx7����\u0018e:��li!x��ba^��l��b\u0007��\u0016������������g\fo����x\u001f����`\u00185=$������\u001c����kq����n������h��\u00149����\u0019)����\u0004����dsl����>��;\u0018����*g����=����y����u����8 �� 0.19789865612983704\n",
      "20188 ��\t6*t��2q��-6\u0011��5~u!6����4������4��1��5m��'3������5����}6����5c��t3����h6}����5��\u00176������4����5��?\u001e6��t\u001b6����\u00074\u0007����5���69��e63��\u00126\u001e����5w����5k��x5>��[6\u00052��5~u#6��w��6������6b\t��4!����5����\u001d+z\u0005��5{����5��j��4��f\\6��\u001ds6*��16&��]6\u0015��5q����5����\u001d6������5#��\u00186��n��4��t��5q��\u00075��b5��n��5dd\u001e6��e\u00106 6������5������5��/m5������5��5\u0013n��3��ng6����i6$��5����\u00186����<6\u0003��4����s5������5��a6h_��5\u000ek��5r\u0018��5����26 0.1551339477300644\n",
      "20197 copyright terms herein. 0.52729332447052\n",
      "20210 ��\tnu��!nep��g��[\u001fl��pj\u00043k��y����\u0012y+ 4����y%��3k��y����\u0012f��0����y%��vw{\u0012��,af\t3k��y��\u0012����0������\u0014af����5 ��\u0019��9��������4v} ����\u001e��&����jc��r=\u001a��>7p 0.33650732040405273\n",
      "20211 �� t��tf��mw��u����o����\u001b��=����\u0001��-\u001e����m9 ����au��xs����*��x��/&+>)������6i[����\u0006��uu ����|��pc��9k\u0010����fq��\u001fi\u000eg��y������#capp��. 0.10647294670343399\n",
      "20212 ��\tm��fla9\u000e$����;`����i\u0012����`eg3��(\u0017|��nx$����;��l��74 3��d{-%����c\u001b-��\u0012]����\u0004m��������������\u0001��8����b\u0013a����?���q��3������rn\f��a\u001b��\u0016g��\u001b����\u001d����y��\u001c����fkf������\u001c��y%k\u0018����rq\u0016������\u0012/+����0�� dg @�� ������f%dcm3��hg-��z��\u0002x��g��f��\u0004��n~\u001d����m����g��7����\u0007��<������\f@����q��2g\u0003~:\u001f</������ptfx��:��q ��\u001b��������������j\u0004��l������x��o��:��&��\f, ����d\u000b��dr��je$��������b-������l������&3��)��s��\u0010��\u00048\u0004������\\\u0003 0.17929673194885254\n",
      "20213 ��\thy����daz��1 ��1����m��z����l������������l)������em��5��<\u0014����i>\u0003������w��������w���������i��}����\u0005����7\u0018`����v����d��>h}.������\u001b��^����t������������py\u001d������\u001bx��4\u0005d������pn7\u000e��;in!����us'����y��������������g��f}#����f7x��\u0007����l����y=)����c\u001c������������(3��e������\u0010��6j\u0012�����h\u0001ez��r��xj*��������j����g��;m������ ����\u0016��\u001eknk\u0006a��f0������p\"\f�� x����o��o������\u0007g������~w}��\u001e>��]������cl����ol����\\c��]\fs\u0011t��������g��1'������lc��h\u0014��7���� 0.28793078660964966\n",
      "20214 �� l\u0006q7��0@\u0013b��\u0012����m41����!l\u000eaz d�� �� &�� l\u001ca���g��>�� &��0������4\u0012&�����\u0019����$l(ab\ts��+l+ab\tsk��\\����\u0012c��h\u00034����>,��e����q>,��%����$\u001f����c����e����(\u001f6��%����$\u001f������|l������( ����f����$\u001f������|x������v ����|��(\u001f������|��m����\u0019������\u0017^�� ��.t\u0003<����������l4��d������6\u0006h��i����d��i��\u0019����e����1>,����%���� ������\u0012|l������ 6��%���� ������\u0012|x��ot��\u0017@<��t��3��������%������-��j��vl.����\\\u001e\\\u001f����>����00 0.2436462640762329\n",
      "20237 ��\tn��s\u0012ru��q����������>��������4��u����y.l����\u0015���������<��d\u0003��k:\u0001u��{��9q����\" 0.34989452362060547\n",
      "20239 �� sa����le��t��/��t���� sa����l\u0003������i����@����l\u0003��\u00062 0.7083178758621216\n",
      "20241 ��\tlj��im`r\u0013����\u0004&5��im`r\u0013����\u0004&5����&0��\tlj\u0002��������\u0006��������3����]������\u001b��\u001d# h,\" ����xv��[��i 0��\u0001&��k���4 m��$:���t\u0004: ����@g����\u001b`r\u0003lj��i 0��\u0001&5����\u0006����\u0012lj��i 0��\u0001&��������l ;��k@eb����*\u0002+\u0002+\u0002+ ��!��!��q�� �� �� �� �� ��m!��#��s��\u001d��\u001d��\u001d��h����\u0002��\u000e��q7����\u0006������\u001a`r\u0003lj��i 0��%������\u001a`r\u0003lj��i 0��\u0001&5������`r\u0003lj��i 0��\u0001&5����\u0006������z��i 0��\u0001&5����\u0006������\u001a`r\u0003lj\t&}������\u0019r����me����f��|���� 0.3179008364677429\n",
      "20242 �� lj��im`r\u0013����\u0004&5��im`r\u0013����\u0004&5����&0�� lj\u0002��������&0�� lj\u0002��\u001a`r\u0013����\u0004&5��im`r\u0013����\u0004&5��i 0.470363050699234\n",
      "20243 ��\tun��<l\u000b\"pp<\u0014����������|��ik��<��;��g)w��g�� ��\u0018gzj2nz������ r����������n a����s_��������jyj`��r\fel��{p��\u000e����y��\u0010��0������\u0017������]?��������v��1!����xv�� ����s+��\u000fi��z_������4rj��wl������o����x��������� ��*b��g������q��s pb������d\f%����u��yz����#\u0005��!\u0016��8������{\u001f��k��g\u0004y��b��;��\u0011&_g��b����\u0005e������v����s������l\u0010��mb$��,3����l��\"��&j�����-��c������c\u0013��o\u0014����x7��f����0j-?����@\u0019������k����}����\u001a������b~�������� ��\u0004sp�� 0.2666531503200531\n",
      "20244 ��\taa��mx\u0003��gp��������p����|us)\u001bd.����\u000f)��h����&������\u0018$d��2����������o��\"\fa��y��������*��f����v��\u0003�� ��g=18��6�� ��\u0003���� l\u0005��\u001d����w��f��\u001dz@����������e/&����\u0014u����\u0012��������1&��\u0012��\u0019o$b��}4 >��r\u000ez\u0013��\u001da��g~����qs9~��!��9y8����.��2�� x��\u0003{+��1��������\\4*��-u������)qn\fw��\u0004s������\u000be��i��\f��u��w������\u001dq\\!2��{��.��\u0006��@��\u0019��v=��e����@\u0014����������#m�� ���� �� q��,����r\u0012����`\u0011j\u0011'��������d2~��\u0013��la+?��4��\u0018x\u001d����l��[um��rb 0.1516045778989792\n",
      "20245 ��\tg��hi\u0004j#$u��;����8��\u0012��@��\u0004z��\f��@��\u0004j$p\"�� ��\fw\u001d����e����j��u����kc��\u0004��������f����sik����i��������\u00147��dq\\o��\u0010����b��a��')��\u0012(��@i��\u000f��}����d��\u000fy��a��b>jt��7\u0015d ����j�� b��\u0016a#q.\u000e��aw j!x��\u001e��������p��ca��]����$��te4 5%����p������pz������\u0007y��������:7��iw@g��\u00024����iul\u000b, ����������k����f����k��i��a6����h���������a��0��@������\u0007k��m��3un��[lu]\u0017u\u0014����\u001e]����r~t������t����m__/��gxv/y����e]1m6n/��������\u0014a9����&��zw-j�� 0.15574567019939423\n",
      "20327  copyright symbol date jonathan ong mit licensed 0.49496209621429443\n",
      "20331  copyright symbol date douglas christopher wilson mit licensed 0.6417252421379089\n",
      "20335  copyright symbol date tiancheng \"timothy\" gu mit licensed 0.5360725522041321\n",
      "20336  copyright symbol date douglas christopher wilson mit licensed 0.6417252421379089\n",
      "20339  copyright symbol date douglas christopher wilson mit licensed 0.6417252421379089\n",
      "20354  copyright symbol date - date douglas christopher wilson mit licensed 0.4774729907512665\n",
      "20365 yoyodyne, inc ,james hacker. 0.43201708793640137\n",
      "20477 copyright copyright symbol date bartlomiej wolowiec 0.7415685057640076\n",
      "20516 copyright copyright symbol date bartlomiej wolowiec < email > 0.6646778583526611\n",
      "20528 copyright copyright symbol date alex beregszaszi 0.42196038365364075\n",
      "20539 copyright copyright symbol date ronald s. bultje 0.13649490475654602\n",
      "20614 copyright copyright symbol date agawa koji 0.27746811509132385\n",
      "20715 copyright copyright symbol date szabolcs nagy 0.6041631102561951\n",
      "20721 copyright copyright symbol date - date baptiste lepilleur 0.594802975654602\n",
      "20730 copyright copyright symbol date klarälvdalens datakonsult ab. 0.16569611430168152\n",
      "20771 copyright copyright symbol date karaszi istván 0.3193907141685486\n",
      "20828 copyright copyright symbol date klaralvdalens datakonsult ab (kdab) 0.06278211623430252\n",
      "20832 copyright copyright symbol date klaralvdalens datakonsult ab (kdab) 0.06278211623430252\n",
      "20839  copyright symbol dáta pre sekciu filtrov (%1 of %2)…</translation> message> message> source>documentation successfully generated.</source> translation>dokumentácia bolo úspešne vygenerovaná.</translation> message> message> source>some tables already exist!</source> 0.22397661209106445\n",
      "20902 copyright copyright symbol date niklas von hertzen 0.3140058219432831\n",
      "20923 copyright copyright symbol date kristian høgsberg 0.6156770586967468\n",
      "20924 copyright copyright symbol date - date kristian høgsberg 0.4848930835723877\n",
      "20983 copyright copyright symbol date désiré nuentsa-wakam < email > 0.4529029428958893\n",
      "21066 copyright copyright symbol date vojta jína. 0.28450697660446167\n",
      "21283  copyright symbol sindre sorhus 0.18702282011508942\n",
      "21309 copyrighted 0.11441498249769211\n",
      "21380  copyright symbol \\ get_sse_inner(d) 0.7567869424819946\n",
      "21442  copyright symbol date anonymous, alex beregszaszi, michael niedermayer 0.2726479768753052\n",
      "21448 copyright: lgpl 0.2509517967700958\n",
      "21451 copyright copyright symbol date ronald s. bultje 0.13649490475654602\n",
      "21490 copyright copyright symbol date ronald s. bultje 0.13649490475654602\n",
      "21525 copyright terms herein. 0.52729332447052\n",
      "21536 copyright z_deflate_copyright define get_crc_table z_get_crc_table ifndef z_solo define gz_error z_gz_error define gz_intmax z_gz_intmax define gz_strwinerror z_gz_strwinerror define gzbuffer z_gzbuffer define gz 0.0703268051147461\n",
      "21619  copyright symbol es3nwh\u000fd\u0013/þó\u0005l¡;t\u0016.\\}û?ļëfaíú 0.15164655447006226\n",
      "21623  copyright symbol piu¶ly=âfæñcj 0.7010290622711182\n",
      "21624  copyright symbol cµxeee}}]\u001eâ\\è0\u001béjߒ\u0010i,uémb»w§é\u001aì9\u0005º«òï÷y\f0pfk\u001azb?×;´gaºáàÿoý ×æɔòíِy|ë¨â\u000f~mֵz̻ᘩ#ç\u001eäce½pgǰchõa9ãh´ôbl*\u000fƣú\u0004b'|ók²®õbîá\u001d¬رơ\u0007]ãè]qt¿¨ϙõly½ȣúsoaa] «ö¿\u001fÿ@îâ¨\"ø ¿¢%ªè]nð[ãðn²æ{\u000eö8êö8jx\u001cbú²ö(ôjԝyuuµ×ëé<gv¾«ûï­êr¶¹¹é\u0007®\u001a9e¤¦?¬p&ªt\u0006¡á}g[\u0015b&7!í^smv³ç 0.15202829241752625\n",
      "21649  copyright symbol ignoré</numerusform> 0.08637956529855728\n",
      "21651  copyright symbol nájsť vhodný slovník.</translation> message> message> source>adding entry to phrasebook %1</source> translation>pridať položku do slovníku %1</translation> message> message> source>select phrase book to add to</source> 0.5890775918960571\n",
      "21652  copyright symbol dáta pomocníka!</translation> message> message> source>no output file name specified!</source> 0.245317280292511\n",
      "21655  copyright symbol dynamique &apos;%1&apos; de %n objet</numerusform> 0.460061252117157\n",
      "21656  copyright symbol správy 0.5336897373199463\n",
      "21659  copyright symbol 9 ;s!iìu'6(\t²\u0016đh'aßl&\u0018éæühdc,º¾>`v ä\u001b5m\u001cnepü ùxâ<\fæͼ ]ô£ʉãkfí 7ýl\t 0.19917966425418854\n",
      "21663  copyright symbol ia copyright symbol 6,;znôhà\u000e\u0017h\u0004%ä\u001bàށþ܂\\%/3­`\u0002¯\u001cðñgó ó<½=÷ìۃqì˱sá§\u000e¸ yó&dû\u0005緍meø\u0007peha4ýa[iòî+´å¥\u0001,ó+õê\u0019iò$újh{ñv4¶ò$új´&ñv4¶ҥi´&ñv4¶ҥi´&m¢­4¶ҥi´&ñv¢­4¶ҥé\u0011ú^xõ\u0002;áhíҥýs«k¨ëéëh+í>d[xbãbù昜,m&s*7/7-=m19m[æդôetfmis¡h+í>d[¨\u000fâ#ã\u0013\u0013óòj¤mo9 ðhdäd/¢2gççsæìüüet欼<ö'¥%i´vß 0.2159094214439392\n",
      "21665 copyright copyright symbol date klaralvdalens datakonsult ab (kdab) 0.06278211623430252\n",
      "21667  copyright symbol kê\u0004di·1¶×råúá\u0006dz¦¤pp\u0006éej%$0îõ(¨\u0018ðp\f¸·e0bdƒ\u001fd8<2²{÷®sçæν\u001b۳{\u0017c¸g÷.ù»ü1\u001c?76<<\u001c¿ê{âÿ_qÿ\u001aÿäû¹xä\u001eägçõ¯n¾nìl2gípïî]ñ\u001bâ\u0003»]dý bãîøqêe²$¥ülj 䍖é÷\u000br\" â\u0006y\u001d¹c*ñv\u0017oóµbww\\c>rãu?pæm\fë/ǧij s#á×6îèwn»±ãmâ\u001ci´bù\u0001@¹«>·xp{#úwoüºޙ$' ãù#r\u0010õõ£ãrf\u0019ܦ\u00049画m9\u001ec&p§úwfá³r^1µz* 0.11887559294700623\n",
      "21668  copyright symbol \ttb-eãcqóèk§þ;öà)t·°ið\u0015âٰ¸±âpm\u000f¦il\u001a<ÿ|\u0001öúùüqã7¸ôôó±y\u000fï|&l¡áûf­§yu+x³å'ì\f½e¹ùnã0yûí8ýýy«\u001bùô%×rwå'êe45ìp¢ád÷áã.\u0005b'b'3þlí޽d\"aee _|1 et)såóùðx<tvv²uëvb¡ф¯ëíí%\u0016á÷ûy¹r%^¯t*e2,l)×ôǔlædӧ8£aúz>yáyѷøðu\"ɹҝõ4øúxußzzc{''iâaj%ï?u\u0015ahvd6zàpö!qû)\fõá\u0011ë¼új¾¾,sëçð/þg>pê¹eg 0.06441598385572433\n",
      "21669  copyright symbol \t3jy)b\u001c5²húԣq3ǐm)< copyright symbol :ÿ iáé±.]füv\" ¥ìêfùzx\f)­æm¦ïä\u0011gá\u0013v/\u001aïëmoݤ¹ý {îò¥ 0.18423107266426086\n",
      "21670  copyright symbol \tzr(\u0014f£q­v[­vfãq<\u001ca\u0001ۯüèqþßú·ëꪣ)z-§r(zþó @âb(,¢)g\u001an\\:@kú\u001csek-j/6kótnár*v¥`8\u0005£\u0018çnû\u0006p\f&l;!goè idatôõò]r?¬ @m0ôч  ¸cîp# 0.14657670259475708\n",
      "21675  copyright symbol aáaçxad pî--çǝ+¶]䟌z\tx\u0014u¶tu;k'4ihh,!²¨\u0001uvôy8¢,\"(< f\u001dìç<uô9.¸\u000bà2 \u001f*¢( hhb ûòmö^ꮽߩê\u0010xã«twnõ=uνçüg¹·$õ^o«¢ĝ,ià¦l¤étñü\u0001i¥.öþñávs$ôֽ\u001f¼jølv)¡\u0010\u0014aõ(n u«éàóó»'ë\u0002\u0007ß>sýj'hcaóޫz÷ï\u0018¿ϙkebéhpñà _ªm(\u0002¦ $'9qñ좚ì@ ą [trtø%ámè&#\u00059\u001a(\u0011¦x\u0006\\i ô p`yõfê䒒´ô 0.15848536789417267\n",
      "21679  copyright symbol \tnoáo4þ\u001c4%¢úb\u001eîdt ǚ·\u0019{¾#·eðy!\u0010î±uè¥ô[·û!k44\u000fúå°\u0007´ðèx)_;b\u0002ºn$¶¶é\u0007ápºðw±ðéå !¤côꐶà-õ#ђۅf\u0003vm xäsùföõâu\u0010à>\u000eofûmocfw\u0015[7/]ñ - copyright symbol \u001f]'u¸ði«²ñ`ð\u001cd¨ óȋúe°\u0005£×ȧ\u001emá\\\u001aw0(mõ8ȩè x u\"ìérlð,\u0014¿¿c͋úòçñ æt¬ó\u0015:¬9û\u0010ê:;´¤§û ݵyª æ<m ìqqèڮ;ps ñk ² ã\u0017tmwh å\u0006ép÷¨\u0010ռh¤l\u0012ãa¢fn\u0011 0.1585342288017273\n",
      "21681  copyright symbol prepísať!</translation> message> message> source>building up file structure...</source> translation>vytváranie súborovej štruktúry…</translation> message> message> source>cannot open data base file %1!</source> 0.32583409547805786\n",
      "21682  copyright symbol otvoriť súbor s databázou: %1!</translation> message> message> source>cannot register namespace %1!</source> 0.7001063227653503\n",
      "21683  copyright symbol zaregistrovať menný priestor %1!</translation> message> message> source>insert custom filters...</source> 0.5581555962562561\n",
      "21685  copyright symbol tabuľky už existujú!</translation> message> message> source>cannot create tables!</source> 0.30333131551742554\n",
      "21686  copyright symbol vytvoriť tabuľky!</translation> message> message> source>cannot register virtual folder!</source> 0.291268914937973\n",
      "21687  copyright symbol otvoriť súbor %1! preskakuje sa.</translation> message> message> source>the filter %1 is already registered!</source> translation>filter %1 už existuje!</translation> message> message> source>cannot register filter %1!</source> 0.46326276659965515\n",
      "21688  copyright symbol vložiť obsahy!</translation> message> message> source>cannot register contents!</source> 0.40505704283714294\n",
      "21689  copyright symbol registrovať obsahy!</translation> message> message> source>file &apos;%1&apos; does not exist.</source> translation>súbor &apos;%1&apos; neexistuje.</translation> message> message> source>file &apos;%1&apos; cannot be opened.</source> 0.2102738469839096\n",
      "21691  copyright symbol odkazy na súbor &apos;%2&apos;</translation> message> message> source>invalid links in html files.</source> 0.4146935045719147\n",
      "21695  copyright symbol hľadanie</translation> message> message> source>words &lt;b&gt;similar&lt;/b&gt; to:</source> 0.23931802809238434\n",
      "21698  copyright symbol otvoriť súbor so zbierkou: %1</translation> message> message> source>cannot create tables in file %1!</source> 0.5435096621513367\n",
      "21699  copyright symbol vytvoriť priečinok: %1</translation> message> message> source>cannot copy collection file: %1</source> 0.4764402210712433\n",
      "21700  copyright symbol skopírovať súbor so zbierkou: %1</translation> message> message> source>unknown filter &apos;%1&apos;!</source> translation>neznámy filter &apos;%1&apos;!</translation> message> message> source>cannot register filter %1!</source> 0.3862292766571045\n",
      "21701  copyright symbol zaregistrovať filter %1!</translation> message> message> source>cannot open documentation file %1!</source> 0.19568079710006714\n",
      "21702  copyright symbol zaregistrovať menný priestor &apos;%1&apos;!</translation> message> message> source>cannot open database &apos;%1&apos; to optimize!</source> 0.41013848781585693\n",
      "21703  copyright symbol otvoriť databázu &apos;%1&apos; &apos;%2&apos;: %3</translation> message> context> context> name>qhelpenginecore</name> message> source>cannot open documentation file %1: %2!</source> 0.14628754556179047\n",
      "21709  copyright symbol comme une liste de lecture</translation> message> context> context> name>qgstreamerrecordercontrol</name> message> source>service has not been started</source> 0.483239084482193\n",
      "21710  copyright symbol položky budú označené ako nedokončené, ak nebude zaškrtnutá voľba &apos;označiť preložené položky ako dokončené&apos;</translation> message> message> source>translate also finished entries</source> 0.4541577398777008\n",
      "21712  copyright symbol ho používať ako samostatný nástroj na konverziu a filtrovanie súborov s prekladovými dátami. 0.9510136246681213\n",
      "21713  copyright symbol sú nasledujúce formáty: 0.9008045196533203\n",
      "21714  copyright symbol s prekladmi 0.31911757588386536\n",
      "21715  copyright symbol majú prednosť. 0.9608098268508911\n",
      "21716  copyright symbol použiť niekoľko krát na zlúčenie vstupných súborov. môže byť &apos;-&apos; (štandardný vstup) pre použitie v rúre(pipe). 0.9506358504295349\n",
      "21717  copyright symbol súbory. prednastavené je apos;latin1&apos; pre qm a &apos;utf-8&apos; pre po súbory. utf-8 sa vždy skúša tiež 0.875990629196167\n",
      "21718  copyright symbol po súbory. prednastavené je &apos;utf-8&apos;. 0.7888925671577454\n",
      "21719  copyright symbol extra značky pri zápise ts alebo xliff súborov. 0.8431300520896912\n",
      "21721  copyright symbol odkazy na zdrojový kód v ts súboroch. 0.7525759935379028\n",
      "21722  copyright symbol je absolútne(absolute). 0.13559676706790924\n",
      "21723  copyright symbol voľby tiež môžu byť zadané iba s jednou pomlčkou. 0.9196966290473938\n",
      "21724  copyright symbol ho používať ako samostatný nástroj na konverziu xml prekladových súborov vo formáte ts 0.9706267714500427\n",
      "21725  copyright symbol vytvoriť &apos;%1&apos;: %2 translation> message> message> source>lrelease error: cannot save &apos;%1&apos;: %2</source> 0.24604801833629608\n",
      "21727  copyright symbol spracovať projektový súbor &apos;%1&apos;. translation> message> message> source>lrelease warning: met no &apos;translations&apos; entry in project file &apos;%1&apos; source> 0.41152364015579224\n",
      "21730  copyright symbol použiť tr() takto</translation> message> message> source>discarding unconsumed meta data source> 0.3075450658798218\n",
      "21732  copyright symbol otváracie zložené zátvorky v c++ kóde (alebo nesprávne použitie c++ preprocesora) translation> message> message> source>unbalanced opening parenthesis in c++ code (or abuse of the c++ preprocessor) source> 0.2613636553287506\n",
      "21733  copyright symbol otváracie zátvorky v c++ kóde (alebo nesprávne použitie c++ preprocesora) translation> message> message> source>unbalanced opening bracket in c++ code (or abuse of the c++ preprocessor) source> 0.23989306390285492\n",
      "21734  copyright symbol otváracie hranaté zátvorky v c++ kóde (alebo nesprávne použitie c++ preprocesora) translation> message> message> source>cannot open %1: %2</source> 0.34306320548057556\n",
      "21737  copyright symbol správy sú uložené v textových zdrojových súboroch prekladu 0.9786310791969299\n",
      "21738  copyright symbol a modifikované správy môžu byť zlúčené do existujúcich ts súborov. 0.9856743812561035\n",
      "21739  copyright symbol položky. extensions &lt;prípona&gt;[,&lt;prípona&gt;]... spracovať iba súbory so zadanými príponami. 0.8926593661308289\n",
      "21740  copyright symbol opakovane. locations {absolute|relative|none} absolútne|relatívne|žiadne} 0.2828899919986725\n",
      "21741  copyright symbol je absolútne(absolute). no-ui-lines nezaznamenávať čísla riadkov v odkazoch na ui súbory. disable-heuristic {sametext|similartext|number} rovnaký text|podobný text|číslo} zakázať označenú heuristiku pri zlučovaní. 0.6595332622528076\n",
      "21742  copyright symbol opakovane. pro &lt;názov_súboru&gt; 0.7087648510932922\n",
      "21743  copyright symbol reťazce v nových súboroch. 0.9892755150794983\n",
      "21750  copyright symbol súbory gnu gettext</translation> message> message> source>gnu gettext localization template files</source> translation>súbory s prekladovými šablónami gnu gettext</translation> message> message> source>compiled qt translations</source> 0.4641006290912628\n",
      "21754  copyright symbol súbory (najnovší formát)</translation> message> message> source>xliff localization files</source> 0.4080837666988373\n",
      "21760  copyright symbol súbory pomocníka qt zo starého súboru adp.</translation> message> context> context> name>fontpanel</name> message> source>font</source> translation>písmo</translation> message> message> source>&amp;writing system</source> 0.45932215452194214\n",
      "21762  copyright symbol názvy súborov</translation> message> message> source>specify the file names for the output files.</source> 0.29904788732528687\n",
      "21763  copyright symbol zdrojové súbory. štandardne budú zahrnuté všetky súbory v adresároch, ktoré vyhovujú filtru súborov.</translation> message> message> source>source file path</source> 0.8493421077728271\n",
      "21765  copyright symbol odkazy v súboroch html.</translation> message> message> source>missing output file name.</source> 0.3138277530670166\n",
      "21766  copyright symbol karty</translation> message> message> source>add bookmark for this page...</source> translation>pridať záložku pre túto stránku…</translation> message> context> context> name>topicchooser</name> message> source>choose topic</source> 0.2843465209007263\n",
      "21769  copyright symbol ukončenie číslom</translation> message> message> source>illegal number</source> 0.24959126114845276\n"
     ]
    }
   ],
   "source": [
    "languages = np.array(list(range(len(X))), dtype=object)\n",
    "scores = np.array(list(range(len(X))), dtype=object)\n",
    "\n",
    "for index, sentence in enumerate(preprocess_function(X, replace_emails=True, remove_whitespaces=True,\n",
    "                                                        remove_endlines=True, lower=True,\n",
    "                                                        replace_dates=True, replace_copyright_symbol_v2=True)):\n",
    "    label, score = model.predict(sentence, k=1)\n",
    "    languages[index] = label[0].split('__label__')[1]\n",
    "    scores[index] = score[0]\n",
    "\n",
    "for index, sentence in enumerate(preprocess_function(X, replace_emails=True, remove_whitespaces=True,\n",
    "                                                        remove_endlines=True, lower=True,\n",
    "                                                        replace_dates=True, replace_copyright_symbol_v2=True)):\n",
    "    if languages[index] != 'en':\n",
    "        print(index, sentence, scores[index])"
   ]
  },
  {
   "cell_type": "code",
   "execution_count": 225,
   "metadata": {},
   "outputs": [
    {
     "name": "stdout",
     "output_type": "stream",
     "text": [
      "14  copyright symbol date siemens ag 0.26797372102737427\n",
      "15  copyright symbol date siemens ag 0.26797372102737427\n",
      "27  copyright symbol date date siemens ag 0.2198590785264969\n",
      "28 copyright json output date 55f feat monk json output 2a397af feat nomos json output date 978 feat obligations extend datamodel and obligation management 0.20161619782447815\n",
      "79 copyright new json hpp version 0.5036030411720276\n",
      "145  copyright symbol date date siemens ag 0.2198590785264969\n",
      "174 copyright copyright symbol date date world wide web consortium massachusetts institute of technology institut national de recherche en informatique et en automatique keio university all rights reserved http www w3 org consortium legal  0.27273884415626526\n",
      "303 copyright copyright symbol date suse linux products gmbh maciej warnecki email date wadim dziedzic email  0.30346471071243286\n",
      "304 copyright copyright symbol date suse linux products gmbh s maciej warnecki email date wadim dziedzic email  0.30346471071243286\n",
      "311 copyright date siemens ag 0.2993927597999573\n",
      "313 copyright date siemens ag 0.2993927597999573\n",
      "317 copyright siemens ag date  0.2993927299976349\n",
      "318 copyright siemens ag date date  0.25354301929473877\n",
      "319 copyright siemens ag date date  0.25354301929473877\n",
      "320 copyright siemens ag date date  0.25354301929473877\n",
      "321 copyright siemens ag date  0.2993927299976349\n",
      "322 copyright siemens ag date email  0.27244096994400024\n",
      "323 copyright siemens ag date email  0.27244096994400024\n",
      "324 copyright siemens ag date  0.2993927299976349\n",
      "325 copyright siemens ag date  0.2993927299976349\n",
      "326 copyright siemens ag date  0.2993927299976349\n",
      "328 copyright siemens ag date email email  0.24157802760601044\n",
      "329 copyright date siemens ag 0.2993927597999573\n",
      "330 copyright date siemens ag 0.2993927597999573\n",
      "341 copyright date date siemens ag 0.25354301929473877\n",
      "342 copyright date date date siemens ag 0.21315979957580566\n",
      "343 copyright date date date siemens ag 0.21315979957580566\n",
      "344 copyright date date siemens ag 0.25354301929473877\n",
      "345 copyright date date siemens ag 0.25354301929473877\n",
      "346 copyright date date date siemens ag 0.21315979957580566\n",
      "347 copyright date date siemens ag 0.25354301929473877\n",
      "348 copyright date siemens ag 0.2993927597999573\n",
      "349 copyright date date siemens ag 0.25354301929473877\n",
      "350 copyright date date siemens ag 0.25354301929473877\n",
      "351 copyright date date date siemens ag 0.21315979957580566\n",
      "352 copyright siemens ag date  0.2993927299976349\n",
      "353 copyright siemens ag date date  0.25354301929473877\n",
      "373 copyright copyright symbol aaron seigo aseigo kde org  0.0945572480559349\n",
      "394 copyright siemens ag date date  0.25354301929473877\n",
      "453 copyright copyright symbol date orange author drozdz bartlomiej email  0.3213002681732178\n",
      "466 copyright copyright symbol 205 siemens ag 0.26212552189826965\n",
      "481 copyright copyright symbol date date w3c mit inria keio all rights reserved  0.35749417543411255\n",
      "498 copyright vicente j botet escriba date  0.24215808510780334\n",
      "502 copyright date date vicente j botet escriba 0.20280052721500397\n",
      "522 copyright copyright symbol date date dan nuffer 0.3001672327518463\n",
      "545 copyright date date vicente j botet escriba 0.20280052721500397\n",
      "586  copyright symbol copyright david abrahams date date copyright date date ion gaztanaga 0.13921985030174255\n",
      "591 copyright date krzysztof czainski 0.4235644042491913\n",
      "592  copyright symbol copyright ion gaztanaga date date  0.3846886157989502\n",
      "594  copyright symbol copyright ion gaztanaga date date  0.3846886157989502\n",
      "595  copyright symbol copyright ion gaztanaga date date  0.3846886157989502\n",
      "597  copyright symbol copyright ion gaztanaga date date  0.3846886157989502\n",
      "598  copyright symbol copyright ion gaztanaga date date  0.3846886157989502\n",
      "607 copyright date date ion gaztanaga 0.5460236072540283\n",
      "611 copyright copyright symbol date jeremy siek lt jsiek cs indiana edu gt  0.12042655795812607\n",
      "618 copyright date date guillaume melquiond ens lyon 0.32511427998542786\n",
      "628 copyright copyright symbol date louis dionne 0.5822166800498962\n",
      "632 copyright date joel de guzman 0.2721147835254669\n",
      "664 copyright date date guillaume melquiond 0.35198137164115906\n",
      "687 copyright copyright symbol date date louis dionne 0.5374045968055725\n",
      "705 copyright beman dawes date  0.2577133774757385\n",
      "706 copyright beman dawes date  0.2577133774757385\n",
      "710 copyright beman dawes date  0.2577133774757385\n",
      "712 copyright beman dawes date  0.2577133774757385\n",
      "714 copyright beman dawes date  0.2577133774757385\n",
      "721 copyright beman dawes date  0.2577133774757385\n",
      "730 copyright date date ion gaztanaga 0.5460236072540283\n",
      "732 copyright date artur shepilko 0.12281906604766846\n",
      "735 copyright vicente j botet escriba date  0.24215808510780334\n",
      "736  copyright symbol copyright ion gaztanaga date date  0.3846886157989502\n",
      "738 copyright vicente j botet escriba date  0.24215808510780334\n",
      "739 copyright beman dawes date  0.2577133774757385\n",
      "742 copyright copyright symbol date ion gaztanaga 0.4963145852088928\n",
      "747  copyright symbol copyright ion gaztanaga date date  0.3846886157989502\n",
      "762 copyright date date john maddock paul a bristow and m a thijs van den berg 0.41618770360946655\n",
      "767 copyright vicente j botet escriba date  0.24215808510780334\n",
      "769  copyright symbol copyright ion gaztanaga date date  0.3846886157989502\n",
      "771 copyright date date joaquín m lópez muñoz 0.22274324297904968\n",
      "776  copyright symbol copyright ion gaztanaga date date  0.3846886157989502\n",
      "789 copyright date peter breitenlohner 0.28987574577331543\n",
      "804 copyright date date ion gaztanaga 0.5460236072540283\n",
      "811 copyright date date ion gaztanaga 0.5460236072540283\n",
      "825 copyright vicente j botet escriba date  0.24215808510780334\n",
      "838 copyright date beman dawes 0.2577133774757385\n",
      "860 copyright date beman dawes 0.2577133774757385\n",
      "881 copyright date date university of notre dame du lac  0.3742583990097046\n",
      "886  copyright symbol copyright ion gaztanaga date date  0.3846886157989502\n",
      "888  copyright symbol copyright ion gaztanaga date date  0.3846886157989502\n",
      "889  copyright symbol copyright ion gaztanaga date date  0.3846886157989502\n",
      "894  copyright symbol copyright ion gaztanaga date date  0.3846886157989502\n",
      "920 copyright date niels dekker  0.20829643309116364\n",
      "939 copyright vicente j botet escriba date  0.24215808510780334\n",
      "942 copyright date ion gaztanaga 0.6646783351898193\n",
      "949 copyright copyright symbol date jakub szuppe lt email gt  0.27314648032188416\n",
      "986 copyright date maciej piechotka mailto email  0.29421040415763855\n",
      "998 copyright beman dawes date  0.2577133774757385\n",
      "999 copyright beman dawes date  0.2577133774757385\n",
      "1021 copyright date date date joel de guzman  0.28092947602272034\n",
      "1066 copyright date date joaquín m lópez muñoz 0.22274324297904968\n",
      "1072 copyright date date guillaume melquiond 0.35198137164115906\n",
      "1109 copyright date jeremy g siek andrew lumsdaine lie quan lee 0.12344565987586975\n",
      "1134 copyright jeff garland and beman dawes date date date louis dionne div gt  0.40959829092025757\n",
      "1153 copyright date maarten keijzer 0.7063458561897278\n",
      "1176  copyright symbol copyright vladimir prus david abrahams michael stevens hartmut kaiser ion gaztanaga date date  0.19283849000930786\n",
      "1179 copyright copyright symbol date date ion gaztanaga 0.3846886456012726\n",
      "1191 copyright date date ion gaztañaga 0.22453556954860687\n",
      "1198 copyright copyright symbol date date ion gaztanaga 0.3846886456012726\n",
      "1201 copyright date hartmut kaiser 0.21783477067947388\n",
      "1206 copyright date date vicente j botet escriba 0.20280052721500397\n",
      "1224 copyright date beman dawes 0.2577133774757385\n",
      "1225 copyright date thomas claveirole authors andrew lumsdaine lie quan lee jeremy g siek thomas claveirole 0.1456826627254486\n",
      "1226  copyright symbol copyright ion gaztanaga date date  0.3846886157989502\n",
      "1227  copyright symbol copyright ion gaztanaga date date  0.3846886157989502\n",
      "1229  copyright symbol copyright ion gaztanaga date date  0.3846886157989502\n",
      "1239  copyright symbol copyright ion gaztanaga date date  0.3846886157989502\n",
      "1243 copyright date date joaquín m lópez muñoz 0.22274324297904968\n",
      "1245 copyright vicente j botet escriba date date  0.20280052721500397\n",
      "1257 copyright date date joel de guzman 0.279779314994812\n",
      "1266  copyright symbol copyright ion gaztanaga date date  0.3846886157989502\n",
      "1267  copyright symbol copyright ion gaztanaga date date  0.3846886157989502\n",
      "1286 copyright copyright symbol date jakub szuppe lt email gt  0.27314648032188416\n",
      "1293  copyright symbol copyright guillaume melquiond date  0.1928853988647461\n",
      "1323 copyright date date date date joel de guzman david abrahams 0.26554304361343384\n",
      "1357 copyright thijs van den berg date  0.7731266617774963\n",
      "1376 copyright date jaakko jarvi 0.3102464973926544\n",
      "1408 copyright date giel van schijndel 0.7564087510108948\n",
      "1418 copyright date maciej piechotka authors maciej piechotka 0.7009591460227966\n",
      "1444  copyright symbol copyright ion gaztanaga date date  0.3846886157989502\n",
      "1446 copyright date michael van der westhuizen 0.3458262085914612\n",
      "1453 copyright date hartmut kaiser 0.21783477067947388\n",
      "1457 copyright samuel krempp date  0.14465616643428802\n",
      "1469 copyright gennaro prota date  0.3605484366416931\n",
      "1484 copyright vicente j botet escriba date date  0.20280052721500397\n",
      "1486 copyright date date joel de guzman 0.279779314994812\n",
      "1495  copyright symbol copyright ion gaztanaga date date  0.3846886157989502\n",
      "1507 copyright date date hervé brönnimann 0.19018615782260895\n",
      "1516 copyright date hartmut kaiser 0.21783477067947388\n",
      "1537 copyright date jeremy g siek andrew lumsdaine lie quan lee 0.12344565987586975\n",
      "1556 copyright sascha ochsenknecht date  0.4431125521659851\n",
      "1569  copyright symbol copyright ion gaztanaga date date  0.3846886157989502\n",
      "1577 copyright date date ion gaztanaga 0.5460236072540283\n",
      "1607 copyright ralf w grosse kunstleve date  0.302495539188385\n",
      "1613 copyright ralf w grosse kunstleve date  0.302495539188385\n",
      "1615 copyright ralf w grosse kunstleve date  0.302495539188385\n",
      "1622 copyright copyright symbol date tor brede vekterli 0.6641188263893127\n",
      "1639 copyright date date ion gaztanaga 0.5460236072540283\n",
      "1649  copyright symbol copyright ion gaztanaga date date  0.3846886157989502\n",
      "1650  copyright symbol copyright ion gaztanaga date date  0.3846886157989502\n",
      "1672 copyright beman dawes date  0.2577133774757385\n",
      "1674 copyright beman dawes date  0.2577133774757385\n",
      "1676 copyright beman dawes date  0.2577133774757385\n",
      "1678 copyright beman dawes date  0.2577133774757385\n",
      "1679 copyright beman dawes date  0.2577133774757385\n",
      "1693 copyright date beman dawes 0.2577133774757385\n",
      "1740 copyright copyright symbol date date samuel debionne grenoble france  0.5044553279876709\n",
      "1761 copyright louis dionne date  0.8385561108589172\n",
      "1763 copyright louis dionne date  0.8385561108589172\n",
      "1785 copyright date date joaquín m lópez muñoz 0.22274324297904968\n",
      "1821 copyright date jeremy siek authors lie quan lee jeremy siek and douglas gregor 0.1280471235513687\n",
      "1822 copyright dezide aps date date  0.1480993628501892\n",
      "1829 copyright date guillaume melquiond 0.31377744674682617\n",
      "1886  copyright symbol copyright david gleich date  0.2589591443538666\n",
      "1909  copyright symbol copyright david abrahams vicente botet ion gaztanaga date date  0.22477437555789948\n",
      "1917 copyright date date university of notre dame du lac 0.3742583990097046\n",
      "1952  copyright symbol copyright ion gaztanaga date  0.4963146448135376\n",
      "1959 copyright david abrahams date joel de guzman date  0.25454169511795044\n",
      "1964 copyright date date joaquín m lópez muñoz 0.22274324297904968\n",
      "1967 copyright leo goodstadt date  0.23557348549365997\n",
      "1999 copyright 3 ion gaztanaga date  0.6646783351898193\n",
      "2009  copyright symbol copyright ion gaztanaga date  0.4963146448135376\n",
      "2016 copyright date samuel krempp 0.1446561962366104\n",
      "2040 copyright date date date joel de guzman eric niebler 0.17849501967430115\n",
      "2079  copyright symbol copyright ion gaztanaga date  0.4963146448135376\n",
      "2080  copyright symbol copyright ion gaztanaga date  0.4963146448135376\n",
      "2081  copyright symbol copyright ion gaztanaga date  0.4963146448135376\n",
      "2124 copyright date date joel de guzman hartmut kaiser 0.19396989047527313\n",
      "2127 copyright date vicente j botet escriba 0.24215808510780334\n",
      "2148 copyright date date joel de guzman 0.279779314994812\n",
      "2155 copyright date eric niebler michael gauckler  0.3565877079963684\n",
      "2171 copyright copyright symbol date louis dionne 0.5822166800498962\n",
      "2224 copyright date andreas huber dönni 0.12717832624912262\n",
      "2238 copyright date vicente j botet escriba 0.24215808510780334\n",
      "2253 copyright date alexander zaitsev 0.28194811940193176\n",
      "2260 copyright date vinnie falco 0.264320433139801\n",
      "2277 copyright date date joaquín m lópez muñoz 0.22274324297904968\n",
      "2293 copyright digital mars date  0.2823943793773651\n",
      "2341 copyright digital mars date date rainer schuetze 0.377142071723938\n",
      "2377 copyright alex rønne petersen date alex rønne petersen 0.408023864030838\n",
      "2397 copyright denis shelomovskij date date  0.4289720058441162\n",
      "2405 copyright digital mars date rainer schuetze 0.378228098154068\n",
      "2458 copyright digital mars date  0.2823943793773651\n",
      "2552  copyright symbol copyright ion gaztanaga date date  0.3846886157989502\n",
      "2592 copyright digital mars date martin nowak 0.3075611889362335\n",
      "2599 copyright digital mars date  0.2823943793773651\n",
      "2612 copyright date date pkware inc  0.356095552444458\n",
      "2687 copyright sergey krivonos date  0.27422866225242615\n",
      "2692 copyright date date joel de guzman 0.279779314994812\n",
      "2694 copyright date date joaquín m lópez muñoz 0.22274324297904968\n",
      "2695 copyright copyright symbol date ion gaztanaga 0.4963145852088928\n",
      "2707 copyright copyright symbol date ion gaztanaga 0.4963145852088928\n",
      "2744  copyright symbol copyright david abrahams vicente botet ion gaztanaga date date  0.22477437555789948\n",
      "2797 copyright copyright symbol date giovanni bajo http spirit sourceforge net  0.4504759609699249\n",
      "2825 copyright copyright symbol date michael van der westhuizen 0.1140453889966011\n",
      "2852 copyright beman dawes date  0.2577133774757385\n",
      "2853 copyright date hervé brönnimann guillaume melquiond sylvain pion 0.3911399245262146\n",
      "2855 copyright beman dawes date  0.2577133774757385\n",
      "2857 copyright beman dawes date  0.2577133774757385\n",
      "2868 copyright troy d straszheim date  0.32697704434394836\n",
      "2872 copyright beman dawes date  0.2577133774757385\n",
      "2874 copyright date date joaquín m lópez muñoz  0.22274324297904968\n",
      "2886 copyright date twitter inc  0.2851339280605316\n",
      "2920 copyright date guillaume melquiond 0.31377744674682617\n",
      "2921 copyright beman dawes date  0.2577133774757385\n",
      "2922  copyright symbol copyright ion gaztanaga date date  0.3846886157989502\n",
      "2923 copyright beman dawes date  0.2577133774757385\n",
      "2967 copyright beman dawes date  0.2577133774757385\n",
      "2970 copyright beman dawes date  0.2577133774757385\n",
      "2971 copyright beman dawes date  0.2577133774757385\n",
      "2972 copyright beman dawes date  0.2577133774757385\n",
      "2973 copyright beman dawes date  0.2577133774757385\n",
      "2975 copyright beman dawes date  0.2577133774757385\n",
      "2981  copyright symbol copyright ion gaztanaga date date  0.3846886157989502\n",
      "2982 copyright beman dawes date  0.2577133774757385\n",
      "2983  copyright symbol copyright ion gaztanaga date date  0.3846886157989502\n",
      "2985 copyright beman dawes date  0.2577133774757385\n",
      "3005 copyright beman dawes date  0.2577133774757385\n",
      "3007 copyright beman dawes date  0.2577133774757385\n",
      "3019  copyright symbol copyright ion gaztanaga date date  0.3846886157989502\n",
      "3032 copyright copyright symbol date ion gaztanaga 0.4963145852088928\n",
      "3036 copyright date beman dawes 0.2577133774757385\n",
      "3064 copyright date samuel krempp 0.1446561962366104\n",
      "3087  copyright symbol copyright ion gaztanaga date date  0.3846886157989502\n",
      "3091 copyright date jeremy siek lie quan lee andrew lumsdaine 0.12344565987586975\n",
      "3094 copyright arnaud kapp oliver kowalke date  0.1576116681098938\n",
      "3105  copyright symbol copyright date date ion gaztanaga 0.3846886456012726\n",
      "3107  copyright symbol copyright ion gaztanaga date date  0.3846886157989502\n",
      "3126 copyright copyright symbol date jonathan de halleux email  0.2276090830564499\n",
      "3159 copyright date 17 vicente j botet escriba 0.24215808510780334\n",
      "3175 copyright date date joaquín m lópez muñoz 0.22274324297904968\n",
      "3187 copyright date bruce barr authors andrew lumsdaine lie quan lee jeremy g siek 0.15276366472244263\n",
      "3191 copyright copyright symbol date louis dionne 0.5822166800498962\n",
      "3195 copyright copyright symbol date júlio hoffimann  0.43881648778915405\n",
      "3227 copyright copyright symbol matyas egyhazy date  0.3007051348686218\n",
      "3235  copyright symbol copyright ion gaztanaga date date  0.3846886157989502\n",
      "3252 copyright date 17 vicente j botet escriba 0.24215808510780334\n",
      "3254 copyright date jaakko järvi 0.4186141788959503\n",
      "3270 copyright date date vicente j botet escriba 0.20280052721500397\n",
      "3286 copyright date date joaquín m lópez muñoz 0.22274324297904968\n",
      "3301 copyright copyright symbol date date jaakko järvi 0.33280059695243835\n",
      "3338 copyright copyright symbol date jakub szuppe lt email gt  0.27314648032188416\n",
      "3359 copyright date date date joel de guzman eric niebler 0.17849501967430115\n",
      "3367  copyright symbol copyright ion gaztanaga date date  0.3846886157989502\n",
      "3370  copyright symbol copyright ion gaztanaga date date  0.3846886157989502\n",
      "3371  copyright symbol copyright ion gaztanaga date date  0.3846886157989502\n",
      "3374 copyright date ion gaztanaga 0.6646783351898193\n",
      "3477 copyright date è 135 ªç 148 è½ ä å 159 ºé 135 145 ä¼ 154 ã 128 130  0.8107887506484985\n",
      "3482 copyright copyright symbol date l peter deutsch 0.4714370369911194\n",
      "3496 copyright date a kaliforniai egyetem kormã nyzã³ja 0.8289307951927185\n",
      "3571 copyright ç 137 136 æ 157 131 æ 137 128 æ 156 137 date è 135 ªç 148 è½ ä å 159 ºé 135 145 ä¼ 154 ã 128 130  0.7639455795288086\n",
      "3651 copyright david abrahams matthias troyer michael gauckler date  0.39989539980888367\n",
      "3658 copyright date date date date date date date date date date date date date date date joel de guzman hartmut kaiser 0.24288232624530792\n",
      "3672  copyright symbol copyright ion gaztanaga date date  0.3846886157989502\n",
      "3680 copyright date guillaume melquiond 0.31377744674682617\n",
      "3686 copyright sergue e leontiev date  0.23843024671077728\n",
      "3687 copyright date beman dawes 0.2577133774757385\n",
      "3689 copyright copyright symbol date date ion gaztanaga 0.3846886456012726\n",
      "3694  copyright symbol copyright ion gaztanaga date date  0.3846886157989502\n",
      "3708 copyright date date joel de guzman hartmut kaiser 0.19396989047527313\n",
      "3711 copyright date dan marsden 0.3518444299697876\n",
      "3712 copyright date date guillaume melquiond sylvain pion 0.3496711254119873\n",
      "3716 copyright louis dionne date date  0.7782920598983765\n",
      "3731 copyright ion gaztanaga date date  0.5460235476493835\n",
      "3743 copyright arg date date joel de guzman 0.279779314994812\n",
      "3799 copyright date date joaquín m lópez muñoz 0.22274324297904968\n",
      "3809 copyright date vicente j botet escriba 0.24215808510780334\n",
      "3816 copyright louis dionne date date  0.7782920598983765\n",
      "3826 copyright date date ion gaztanaga 0.5460236072540283\n",
      "3841  copyright symbol copyright ion gaztanaga date date  0.3846886157989502\n",
      "3846  copyright symbol copyright ion gaztanaga date date  0.3846886157989502\n",
      "3848  copyright symbol copyright ion gaztanaga date date  0.3846886157989502\n",
      "3863 copyright date guillaume melquiond sylvain pion herveacute broumlnnimann polytechnic university 0.34199875593185425\n",
      "3875 copyright copyright symbol date l peter deutsch and jean loup gailly 0.3310983180999756\n",
      "3912 copyright date daniel egloff eric niebler  0.27717098593711853\n",
      "3919  copyright symbol copyright ion gaztanaga date date  0.3846886157989502\n",
      "3934 copyright date olaf krzikalla copyright date date ion gaztanaga 0.21648187935352325\n",
      "3935 copyright date date vicente j botet escriba 0.20280052721500397\n",
      "3944 copyright date dan marsden  0.3518444299697876\n",
      "3966 copyright date guillaume melquiond sylvain pion 0.31773167848587036\n",
      "3973 copyright date date joel de guzman hartmut kaiser 0.19396989047527313\n",
      "3974 copyright beman dawes date  0.2577133774757385\n",
      "3976 copyright joel de guzman date  0.2721147835254669\n",
      "3986  copyright symbol copyright ion gaztanaga date date  0.3846886157989502\n",
      "4096 copyright date reggenti dell apos universitã  della california 0.8224239349365234\n",
      "4192 copyright copyright symbol fsf wszystkie prawa zastrzezone 0.8792700171470642\n",
      "4321 copyright copyright symbol date free software foundation inc michel robitaille lt robitail iro umontreal ca gt traducteur depuis since date  0.6148607730865479\n",
      "4477 copyright date date vicente j botet escriba 0.20280052721500397\n",
      "4487 copyright date date joaquín m lópez muñoz 0.22274324297904968\n",
      "4539 copyright 2 beman dawes date  0.2577133774757385\n",
      "4552 copyright date felix höfling guillaume melquiond 0.16142071783542633\n",
      "4554 copyright ralf w grosse kunstleve amp david abrahams date  0.2286931276321411\n",
      "4568 copyright date ion gaztañaga 0.29549849033355713\n",
      "4589 copyright date alexander zaitsev 0.28194811940193176\n",
      "4600 copyright date vicente j botet escriba 0.24215808510780334\n",
      "4604  copyright symbol copyright ion gaztanaga 0.6199292540550232\n",
      "4653 copyright date vicente j botet escriba 0.24215808510780334\n",
      "4660 copyright louis dionne date date  0.7782920598983765\n",
      "4663  copyright symbol copyright ion gaztanaga date date  0.3846886157989502\n",
      "4673 copyright date date joel de guzman david abrahams 0.2545417547225952\n",
      "4687 copyright date vicente j botet escriba 0.24215808510780334\n",
      "4695 copyright date samuel krempp 0.1446561962366104\n",
      "4700 copyright copyright symbol date samaxes com 0.19681498408317566\n",
      "4768 copyright ion gaztanaga date  0.6646783351898193\n",
      "4769 copyright copyright symbol date samuel debionne grenoble france  0.5463598370552063\n",
      "4771 copyright ion gaztanaga date  0.6646783351898193\n",
      "4787 copyright date date ion gaztanaga 0.5460236072540283\n",
      "4809 copyright date date ion gaztanaga 0.5460236072540283\n",
      "4820 copyright date guillaume melquiond sylvain pion hervé brönnimann polytechnic university 0.2832520604133606\n",
      "4854 copyright date date ion gaztanaga 0.5460236072540283\n",
      "4862 copyright date jaakko jarvi 0.3102464973926544\n",
      "4875 copyright date olaf krzikalla date date ion gaztanaga 0.2683320939540863\n",
      "4881 copyright beman dawes date  0.2577133774757385\n",
      "4891 copyright date date julio m merino vidal ilya sokolov 0.2097472846508026\n",
      "4901 copyright date date date date date date date date joel de guzman dan marsden tobias schwinger 0.1964726746082306\n",
      "4909 copyright beman dawes date  0.2577133774757385\n",
      "4922 copyright daniel trebbien date  0.2680765390396118\n",
      "4956 copyright date date joaquín m lópez muñoz 0.22274324297904968\n",
      "4975 copyright beman dawes date  0.2577133774757385\n",
      "4976 copyright copyright symbol date louis dionne 0.5822166800498962\n",
      "4988 copyright thijs van den berg date  0.7731266617774963\n",
      "4990 copyright date date vicente j botet escriba 0.20280052721500397\n",
      "4999 copyright date date vicente j botet escriba 0.20280052721500397\n",
      "5032  copyright symbol copyright ion gaztanaga date date  0.3846886157989502\n",
      "5048  copyright symbol copyright ion gaztanaga date date  0.3846886157989502\n",
      "5053  copyright symbol copyright guillaume melquiond date date  0.21719752252101898\n",
      "5055 copyright louis dionne date date  0.7782920598983765\n",
      "5057 copyright louis dionne date date  0.7782920598983765\n",
      "5072 copyright date date joaquín m lópez muñoz 0.22274324297904968\n",
      "5076 copyright date author matyas w egyhazy 0.34123238921165466\n",
      "5103 copyright date vinnie falco 0.264320433139801\n",
      "5117 copyright gennaro prota date  0.3605484366416931\n",
      "5128 copyright copyright symbol date date ion gaztanaga 0.3846886456012726\n",
      "5168 copyright copyright symbol date ion gaztanaga 0.4963145852088928\n",
      "5231 copyright toon knapen david abrahams roland richter and jeremy siek date  0.16579189896583557\n",
      "5257 copyright david abrahams and gottfried ganssauge date  0.33333447575569153\n",
      "5260 copyright date joaquín m lópez muñoz 0.3085627257823944\n",
      "5269 copyright copyright symbol date jakub pola lt email gt  0.10290753841400146\n",
      "5294 copyright date date vicente j botet escriba 0.20280052721500397\n",
      "5309  copyright symbol copyright ion gaztanaga date date  0.3846886157989502\n",
      "5310  copyright symbol copyright ion gaztanaga date date  0.3846886157989502\n",
      "5311  copyright symbol copyright ion gaztanaga date date  0.3846886157989502\n",
      "5321 copyright joel de guzman date date  0.279779314994812\n",
      "5323 copyright date jonathan de halleux 0.5021113157272339\n",
      "5333 copyright date date hervé brönnimann guillaume melquiond sylvain pion 0.39524757862091064\n",
      "5380 copyright joel de guzman date date  0.279779314994812\n",
      "5408 copyright date date ion gaztanaga 0.5460236072540283\n",
      "5413 copyright date jeremy g siek andrew lumsdaine lie quan lee  0.12344565987586975\n",
      "5415 copyright date abel sinkovics 0.29990363121032715\n",
      "5416  copyright symbol copyright date louis dionne 0.5822166800498962\n",
      "5423 copyright date date date date date date date date date date date joel de guzman hartmut kaiser 0.24246235191822052\n",
      "5433 copyright date date vicente j botet escriba 0.20280052721500397\n",
      "5438 copyright date beman dawes 0.2577133774757385\n",
      "5442  copyright symbol copyright ion gaztanaga date date  0.3846886157989502\n",
      "5470  copyright symbol copyright ion gaztanaga date date  0.3846886157989502\n",
      "5479 copyright date ion gaztanaga 0.6646783351898193\n",
      "5487 copyright ion gaztanaga date date  0.5460235476493835\n",
      "5491 copyright copyright symbol date date ion gaztanaga 0.3846886456012726\n",
      "5523  copyright symbol copyright ion gaztanaga date date  0.3846886157989502\n",
      "5550  copyright symbol copyright david abrahams vicente botet ion gaztanaga date  0.26734524965286255\n",
      "5554  copyright symbol copyright ion gaztanaga date date  0.3846886157989502\n",
      "5567 copyright copyright symbol date piotr wyderski 0.525653064250946\n",
      "5575 copyright date joel de guzman  0.2721147835254669\n",
      "5581 copyright copyright symbol date giovanni bajo 0.6359466314315796\n",
      "5614 copyright louis dionne date  0.8385561108589172\n",
      "5615 copyright louis dionne date  0.8385561108589172\n",
      "5616 copyright copyright symbol date jaakko järvi 0.3716824948787689\n",
      "5621 copyright joel de guzman date date  0.279779314994812\n",
      "5645 copyright gennadiy rozental 0.3477570116519928\n",
      "5655 copyright date date date joel de guzman eric niebler 0.17849501967430115\n",
      "5666 copyright date matyas egyhazy 0.4916538596153259\n",
      "5718 copyright pierre esterie amp joel falcou 0.23690077662467957\n",
      "5733 copyright date date joaquín m lópez muñoz 0.22274324297904968\n",
      "5754 copyright date vicente j botet escriba 0.24215808510780334\n",
      "5764 copyright date date joaquín m lópez muñoz 0.22274324297904968\n",
      "5766 copyright copyright symbol date louis dionne 0.5822166800498962\n",
      "5773 copyright date date guillaume melquiond ens lyon 0.32511427998542786\n",
      "5811 copyright date abel sinkovics 0.29990363121032715\n",
      "5830 copyright date jeremy g siek authors jeremy g siek 0.17056840658187866\n",
      "5856  copyright symbol copyright ion gaztanaga date date  0.3846886157989502\n",
      "5858  copyright symbol copyright ion gaztanaga date date  0.3846886157989502\n",
      "5860  copyright symbol copyright ion gaztanaga date date  0.3846886157989502\n",
      "5908 copyright date eric niebler daniel egloff 0.27717098593711853\n",
      "5911 copyright timmo stange date  0.32259851694107056\n",
      "5916 copyright toon knapen david abrahams roland richter and jeremy siek date  0.16579189896583557\n",
      "5933  copyright symbol copyright ion gaztanaga date date  0.3846886157989502\n",
      "5934  copyright symbol copyright ion gaztanaga date date  0.3846886157989502\n",
      "6574 copyright copyright symbol date free software foundation inc അന പ anoop പ p email ല ല lalu ക ആര kr email സജ വ sajeev പ ആര pr email  0.6175183653831482\n",
      "6678  copyright symbol fabien potencier 0.2240845263004303\n",
      "6943 copyright copyright symbol date carlos leandro and rui salgueiro dep matematica universidade de coimbra portugal europe 0.40248990058898926\n",
      "7112  copyright symbol date fabien potencier 0.24762862920761108\n",
      "7120  copyright symbol date fabien potencier 0.24762862920761108\n",
      "7144  copyright symbol arnaud le blanc 0.30408403277397156\n",
      "7201 copyright copyright symbol date associazione culturale itpug 0.6888120770454407\n",
      "7299 copyright copyright symbol date date gant red hat inc  0.44772639870643616\n",
      "7532 copyright copyright symbol date date baptiste lepilleur 0.594802975654602\n",
      "7652 copyright date jussi kivilinna email  0.31901007890701294\n",
      "7673  copyright symbol jonathan a schweder lt email gt  0.5143176913261414\n",
      "7675 copyright date baptiste lepilleur 0.8360307216644287\n",
      "7676 copyright date date baptiste lapilleur date date christopher dunn 0.5254564881324768\n",
      "7678 copyright date baptiste lepilleur 0.8360307216644287\n",
      "7679 copyright date date baptiste lepilleur 0.7884402275085449\n",
      "7680 copyright date date baptiste lepilleur 0.7884402275085449\n",
      "7682 copyright date baptiste lepilleur 0.8360307216644287\n",
      "7687 copyright date baptiste lepilleur 0.8360307216644287\n",
      "7716 copyright copyright symbol date bundesamt für sicherheit in der informationstechnik 0.8937627673149109\n",
      "7734 copyright date simon josefsson and niels möller  0.21806062757968903\n",
      "7831 copyright date date date date werner koch dd9jn  0.14509183168411255\n",
      "7834  copyright symbol email ralf fassel email ralf hildebrandt ralf h email ralf schneider email ralph gillen email rami lehti rami l email  0.281036376953125\n",
      "7855 copyright copyright symbol date l peter deutsch 0.4714370369911194\n",
      "7884 copyright copyright symbol date eric haszlakiewicz 0.25640639662742615\n",
      "7904 copyright date date date maurice szmurlo and johan van den brande  0.1793663501739502\n",
      "7920 copyright date dan libby epinions inc  0.355716347694397\n",
      "7955 copyright copyright symbol date andrew gierth 0.4395611584186554\n",
      "8003 copyright copyright symbol maurice szmurlo maurice s email  0.5038565993309021\n",
      "8028 copyright copyright symbol date sã copyright symbol rgio gonã alves carvalho 0.5548625588417053\n",
      "8221 copyright digital mars date date  0.2913288474082947\n",
      "8223 copyright digital mars date date walter bright 0.27629783749580383\n",
      "8225 copyright digital mars date date walter bright 0.27629783749580383\n",
      "8248 copyright digital mars date date  0.2913288474082947\n",
      "8305 copyright date loren p meissner 0.29549935460090637\n",
      "8401 copyright digital mars date date  0.2913288474082947\n",
      "8403 copyright digital mars date date  0.2913288474082947\n",
      "8440 copyright digital mars date date walter bright 0.27629783749580383\n",
      "8448 copyright digital mars date date  0.2913288474082947\n",
      "8463 copyright digital mars date date  0.2913288474082947\n",
      "8596 copyright digital mars date date  0.2913288474082947\n",
      "8675 copyright digital mars date martin nowak 0.3075611889362335\n",
      "8713 copyright digital mars date date  0.2913288474082947\n",
      "8725 copyright digital mars date date  0.2913288474082947\n",
      "8780 copyright digital mars date date yazan dabain 0.17406055331230164\n",
      "8794 copyright copyright symbol date date daniel stenberg email et al  0.24651390314102173\n",
      "8843 copyright copyright symbol date date daniel stenberg email et al  0.24651390314102173\n",
      "8894 copyright digital mars date date martin nowak 0.30382239818573\n",
      "8948 copyright digital mars date date walter bright 0.27629783749580383\n",
      "8983 copyright digital mars date kenji hara 0.23386211693286896\n",
      "8989 copyright copyright symbol date date artem b bityuckiy 0.27551761269569397\n",
      "9063 copyright digital mars date date walter bright 0.27629783749580383\n",
      "9110 copyright digital mars date jacob carlborg mar 16 date  0.2695082426071167\n",
      "9161 copyright digital mars date date martin nowak 0.30382239818573\n",
      "9237 copyright digital mars date date  0.2913288474082947\n",
      "9270 copyright digital mars date  0.2823943793773651\n",
      "9338  copyright symbol date smi 0.10432789474725723\n",
      "9401 copyright digital mars date date  0.2913288474082947\n",
      "9462 copyright digital mars date date rainer schuetze 0.377142071723938\n",
      "9486 copyright digital mars date date walter bright martin nowak 0.29073286056518555\n",
      "9517 copyright date red hat inc  0.39126330614089966\n",
      "9534 copyright digital mars date date walter bright 0.27629783749580383\n",
      "9568 copyright copyright symbol date date luigi rizzo universita di pisa 0.39975494146347046\n",
      "9803 copyright copyright symbol date date free software foundation inc canqun yang email  0.1956123411655426\n",
      "9808 copyright digital mars date date  0.2913288474082947\n",
      "9832 copyright copyright symbol date eric pareja email date  0.24668429791927338\n",
      "9835 copyright copyright symbol date руслан ижбулатов 0.3611518442630768\n",
      "9843 copyright date red hat inc  0.39126330614089966\n",
      "9851 copyright copyright symbol date date free software foundation inc kemal yilmaz email date mətin əmirov email date  0.32991132140159607\n",
      "9855 copyright digital mars date date  0.2913288474082947\n",
      "9910 copyright digital mars date date  0.2913288474082947\n",
      "10046 copyright copyright symbol date free software foundation inc nicola pero 0.13414360582828522\n",
      "10060 copyright digital mars date web digitalmars com walter bright 0.1887577474117279\n",
      "10106 copyright date red hat inc  0.39126330614089966\n",
      "10132 copyright date ryan lortie 0.3256978392601013\n",
      "10143 copyright date red hat inc  0.39126330614089966\n",
      "10171 copyright date red hat inc  0.39126330614089966\n",
      "10201 copyright date red hat inc  0.39126330614089966\n",
      "10209 copyright date red hat inc 0.39126330614089966\n",
      "10216 copyright date red hat inc  0.39126330614089966\n",
      "10251 copyright date red hat inc  0.39126330614089966\n",
      "10264 copyright date red hat inc 0.39126330614089966\n",
      "10266 copyright copyright symbol date руслан ижбулатов lrn date gmail com 0.3206145167350769\n",
      "10275 copyright date red hat inc  0.39126330614089966\n",
      "10283 copyright copyright symbol date руслан ижбулатов lrn date gmail com 0.3206145167350769\n",
      "10292 copyright date руслан ижбулатов 0.42946091294288635\n",
      "10309 copyright copyright symbol date kenan hadžiavdić email date  0.13700012862682343\n",
      "10357 copyright date remko tronçon 0.46181753277778625\n",
      "10379 copyright copyright symbol date gnome i18n project for vietnamese t m thanh email date clytie siddall email date date nguyễn thái ngọc duy email date date trần ngọc quân 0.44384291768074036\n",
      "10390 copyright date руслан ижбулатов 0.42946091294288635\n",
      "10402 copyright copyright symbol date date diego pettenò email  0.3852902352809906\n",
      "10406 copyright copyright symbol date tomasz miąsko 0.2481476217508316\n",
      "10424 copyright date red hat inc  0.39126330614089966\n",
      "10430 copyright copyright symbol date remko tronçon 0.21275021135807037\n",
      "10438 copyright date red hat inc  0.39126330614089966\n",
      "10459 copyright copyright symbol date date the glib authors zbigniew chyla email date date artur flinta email date date tomasz kłoczko email date wadim dziedzic email date date tomasz dominikowski email date date piotr d 0.1527021825313568\n",
      "10604 copyright digital mars date date  0.2913288474082947\n",
      "10606 copyright date red hat inc  0.39126330614089966\n",
      "10635 copyright digital mars date date  0.2913288474082947\n",
      "10638 copyright copyright symbol date free software foundation inc мирослав николић email date date  0.5418860912322998\n",
      "10688 copyright copyright symbol date date rich felker et al  0.2398945540189743\n",
      "10718 copyright copyright symbol date date vita nuova holdings limited www vitanuova com 0.3801807463169098\n",
      "10734 copyright jeremy siek 0.16149179637432098\n",
      "10750 copyright digital mars date  0.2823943793773651\n",
      "10764 copyright digital mars date  0.2823943793773651\n",
      "10782 copyright digital mars date date walter bright 0.27629783749580383\n",
      "10790 copyright copyright symbol date date free software foundation inc nicola pero 0.10802466422319412\n",
      "10796 copyright date free software foundation inc 版权所有 date date 自由软件基金会  0.676144540309906\n",
      "10829 copyright digital mars date date walter bright 0.27629783749580383\n",
      "10872 copyright denis shelomovskij date  0.48727673292160034\n",
      "10890 copyright digital mars date date  0.2913288474082947\n",
      "10988 copyright digital mars date date  0.2913288474082947\n",
      "11113 copyright mikola lysenko date date mikola lysenko martin nowak kai nacke 0.17719267308712006\n",
      "11176 copyright digital mars date date  0.2913288474082947\n",
      "11243 copyright copyright symbol date date free software foundation inc nicola pero 0.10802466422319412\n",
      "11356 copyright agent_tests testdata testdata62 spdxid spdxref item date 1 filechecksum sha1 bf807cc670c1d2beef date d54fc910a9a date ee3 filechecksum sha256 0ff date de date date 4deb4d2d85f190a286e12db0c915ecbeafd287f94e date f filechecksum md5 abc date 32eab0a2a076fe9c date 33f76 licenseconcluded noassertion li 0.15390193462371826\n",
      "11357 copyright vars py spdxid spdxref item date 4 filechecksum sha1 b442f16cff2f date date 6e date date 010eba date filechecksum sha256 d61fefce date 86dddf date 5fbb46f0cf226aa date 3f79ad4cebe806efe50c94e filechecksum md5 date f676e date bbe date 6b655bb734d3 licenseconcluded noassertion licenseinfoinfile noasser 0.29933348298072815\n",
      "11405 copyright agent_tests testdata testdata113 spdxid spdxref item date 5 filechecksum sha1 f date 3e024af date 128ab date 8c863bba38af080 filechecksum sha256 c7c date date cb date bb6fb date ca3a7a470df65ed6a02abd3f date ebfaf9e615 filechecksum md5 e998d5b0e0ecd635c6e5c6bb date 7e3a licenseconcluded noassertion l 0.16273121535778046\n",
      "11421 copyright agent_tests testdata testdata128_raw spdxid spdxref item date 9 filechecksum sha1 8b date 14abec35c37ffe date ceb3dc729a49ad56 filechecksum sha256 dd date date e0b date date 06eeebeaa8aedf0b6e date 015a26ed date e483e8da6 filechecksum md5 b3bcacc17a81c date ab date date a30fe licenseconcluded noasserti 0.19881552457809448\n",
      "11428 copyright agent_tests testdata testdata22 spdxid spdxref item date 8 filechecksum sha1 2a5f5e542fb date a69bf61cc2ee61dd07b02d516 filechecksum sha256 5e2acbd46b70f8fd99ee139f date 9e8d date date date ea56ca1a95d date 766c2 filechecksum md5 733e4e75a9db69f3c6ea52b1ba date a1 licenseconcluded noassertion li 0.12704946100711823\n",
      "11436 copyright agent_tests testdata testdata109_raw spdxid spdxref item date 3 filechecksum sha1 4ddb702da4a9fa5a23db7c4f2f8d0b2ae387b840 filechecksum sha256 383a158bbfbbbec5a42d69a date 9a date f50ecd1b9e4cf911f date date 6e date filechecksum md5 742a45a4a5a4ab3f59ee6dcb date 43e5 licenseconcluded noasserti 0.10378643870353699\n",
      "11459 copyright agent_tests testdata testdata34 spdxid spdxref item date 5 filechecksum sha1 ca34c0bd date f39f89ed5e1ecf0f6f date a3b780 filechecksum sha256 f date af2e1d date 221c10f356daac551c02da5f3e6b9d5a79bf64eec750ca73e filechecksum md5 9c date d4d77e6f446aaefc6f date date licenseconcluded noassertion li 0.16167457401752472\n",
      "11461 copyright agent_tests testdata testdata8 spdxid spdxref item date 6 filechecksum sha1 0b47e747e date 399e14aefcb7a date be6e53af7b filechecksum sha256 22b8a12f8df date 819d29dc9ebc008e3c3ded59b4c245ac date 85d date 7a5d7b filechecksum md5 14c7a72e4ee3bbaa02ba734a5a date c9 licenseconcluded noassertion lic 0.11119270324707031\n",
      "11480 copyright unidex meta spdxid spdxref item date 9 filechecksum sha1 e1bc3df date cd47f82e date 0b6e56e77c23cba5a filechecksum sha256 5e date 3d date 19e date d560efb2f1afa4a3ac82b date date cb7ae40d date 350c filechecksum md5 30eb date date date cfd date d711d5acc licenseconcluded noassertion licenseinfoinfile noa 0.3650517761707306\n",
      "11487 copyright agent_tests testdata testdata135_raw spdxid spdxref item date 8 filechecksum sha1 date c212f47bedf205d30dddca26f2c94d9c8cee filechecksum sha256 aac date 884e0a5adc69c8d85c8d28a1e7f1b date date d96a3eb date a5bf0fce7 filechecksum md5 fdd918e75cda83bc date 31ee9daa9dd9 licenseconcluded noasserti 0.19219495356082916\n",
      "11506 copyright agent_tests testdata testdata115 spdxid spdxref item date 2 filechecksum sha1 f date 776fd68f date b7e5e0ee date 9e7d797ce04 filechecksum sha256 a2f363e112e3af67d6a87b9c7ed date 217dbeb9c date 6ed date a59c1c5bafc67 filechecksum md5 date 4c02fce3d date 1c32e2e796d941e licenseconcluded noassertion l 0.13554173707962036\n",
      "11511 copyright agent_tests testdata testdata62_raw spdxid spdxref item date 3 filechecksum sha1 bf807cc670c1d2beef date d54fc910a9a date ee3 filechecksum sha256 0ff date de date date 4deb4d2d85f190a286e12db0c915ecbeafd287f94e date f filechecksum md5 abc date 32eab0a2a076fe9c date 33f76 licenseconcluded noassertio 0.14576686918735504\n",
      "11513 copyright agent_tests testdata testdata64_raw spdxid spdxref item date 4 filechecksum sha1 bf807cc670c1d2beef date d54fc910a9a date ee3 filechecksum sha256 0ff date de date date 4deb4d2d85f190a286e12db0c915ecbeafd287f94e date f filechecksum md5 abc date 32eab0a2a076fe9c date 33f76 licenseconcluded noassertio 0.14576686918735504\n",
      "11517 copyright agent_tests testdata testdata131_raw spdxid spdxref item date 4 filechecksum sha1 b51a9b2ee964e date cb859ec012ec7c date 434f7 filechecksum sha256 date a4e date 9e date 421b date ec33e683f44e date bc56b070ab232d508f75cd4 filechecksum md5 44a2efb date 614a9c91c12f date bdb07 licenseconcluded noasserti 0.25219205021858215\n",
      "11525 copyright clause meta spdxid spdxref item date 5 filechecksum sha1 d75d0a27a21f40afaea85ad198bf82f1cd276a86 filechecksum sha256 7cc70d93c447bf4ce9b57e3ca40ade1dea76c3ee64d153df9d8b338d685f date filechecksum md5 c93d0d2b0bf8c date ec date b date date licenseconcluded noassertion licenseinfoinfile noa 0.1882767677307129\n",
      "11526 copyright agent_tests testdata testdata45_raw spdxid spdxref item date 4 filechecksum sha1 4b0e02a18e68cbb44d7fa date date 6b date 61fcb filechecksum sha256 ab2b9f58f1f date 5ea1a4da9d9b date 1b84df32e date 242abf date 5b date 29b9 filechecksum md5 8b62fe date date b2f7f3b5d6e94e435f licenseconcluded noassertio 0.11964298784732819\n",
      "11533 copyright agent_tests testdata testdata138 spdxid spdxref item date 8 filechecksum sha1 e58f1e64be4e date 04d3e date a58e7bd date db2e filechecksum sha256 ec49cfa75dcca7e date 544dbb67a79a7ca8b3a3eb date 80ce56e3ecf4acb date filechecksum md5 8af0bffff357b496b8f4eec99aa date d licenseconcluded noassertion l 0.2068961262702942\n",
      "11535 copyright agent php spdxid spdxref item date 2 filechecksum sha1 7d date 7a date 3fb825aa9a893b29c6b date c18e3 filechecksum sha256 4e date a83cd2c date a date 21f339c14c1eff59f56ac date f date 98d date 6bfd6 filechecksum md5 dcd4cc7b6fd77eff12f95c68bcbe416b licenseconcluded noassertion licenseinfoinfile gpl 2 0.15392950177192688\n",
      "11546 copyright agent_tests testdata testdata57_raw spdxid spdxref item date 1 filechecksum sha1 6a9eb0a date 91d577d0fa74a2dcf975a53ceb6ff filechecksum sha256 ca7e427c10a198c6ab107e date date ea7d57fbc7dcc date 3e7e1eaff64ff date filechecksum md5 405bb8c88d2e date date 50dbd date 5f1 licenseconcluded noassertio 0.1933787316083908\n",
      "11550 copyright agent_tests testdata testdata64 spdxid spdxref item date 7 filechecksum sha1 bf807cc670c1d2beef date d54fc910a9a date ee3 filechecksum sha256 0ff date de date date 4deb4d2d85f190a286e12db0c915ecbeafd287f94e date f filechecksum md5 abc date 32eab0a2a076fe9c date 33f76 licenseconcluded noassertion li 0.15390193462371826\n",
      "11569 copyright copyright_e txt spdxid spdxref item date 0 filechecksum sha1 ece69e38a date dc date 6e date f6d4d date 6bdd42 filechecksum sha256 0d6b583f6fe50ddea1dfefbd7afc2f6d33cc2d17e69e7b3fa4a93b date 996f7e filechecksum md5 ea680b4e date 706a date 7fe28a date 95 licenseconcluded noassertion licenseinfoinfile  0.27594536542892456\n",
      "11570 copyright clause spdxid spdxref item date 3 filechecksum sha1 date f476b5fcbc2be808f3ad648b44b845d date d filechecksum sha256 5f90d date c date date 66b287e44ec date ad date date 2ed29f date a date bca88c filechecksum md5 a1cb197a date 0f date a206ab26fa6a71 licenseconcluded noassertion licenseinfoinfile mit file 0.09778066724538803\n",
      "11617 copyright agent_tests testdata testdata107 spdxid spdxref item date 3 filechecksum sha1 f date 3e024af date 128ab date 8c863bba38af080 filechecksum sha256 c7c date date cb date bb6fb date ca3a7a470df65ed6a02abd3f date ebfaf9e615 filechecksum md5 e998d5b0e0ecd635c6e5c6bb date 7e3a licenseconcluded noassertion l 0.16273121535778046\n",
      "11619 copyright agent_tests testdata testdata14 spdxid spdxref item date 4 filechecksum sha1 2a5f37f9ad4b date 83b date d073a date 26f date 1 filechecksum sha256 585e date date d95b8e582ebb date 84c757a86c7e1ad6a945b date 0fb676cabe9 filechecksum md5 06b69b15b00acf5ebbb23c date 7de34a licenseconcluded noassertion li 0.12939153611660004\n",
      "11649 copyright makefile spdxid spdxref item date 6 filechecksum sha1 5bcd2faa7aee6bedff date c520caf date 9e4f8ba filechecksum sha256 69e date 8a24dde72eff628e75b date date d date 2f67e date fd480bcbd1e date b filechecksum md5 3c4e1fa date 0dff date 1d06ecd date 58 licenseconcluded licenseref fsfap cc79f51f0b86e915ba8f 0.2506030201911926\n",
      "11668 copyright agent_tests testdata testdata17_raw spdxid spdxref item date 3 filechecksum sha1 5e date f6b date 426e47b089ce date ba1de2fd81a filechecksum sha256 date e3ffcb69baf4d7a40ab date 6d347d828c41be02ebe date 22eee3e date c90 filechecksum md5 86ba3b21d26c date 5f73e260e date fd0 licenseconcluded noassertio 0.1604359894990921\n",
      "11675 copyright agent_tests testdata testdata63_raw spdxid spdxref item date 8 filechecksum sha1 bf807cc670c1d2beef date d54fc910a9a date ee3 filechecksum sha256 0ff date de date date 4deb4d2d85f190a286e12db0c915ecbeafd287f94e date f filechecksum md5 abc date 32eab0a2a076fe9c date 33f76 licenseconcluded noassertio 0.14576686918735504\n",
      "11698 copyright agent_tests testdata testdata119_raw spdxid spdxref item date 0 filechecksum sha1 ce6f date a3ea9ac date 67f18ffc1e5c04c date 3e filechecksum sha256 055a date 1b2e date 84bd3f096ef6b2c date 64ed6bbffeaa34ab6a8e7e5f62b78 filechecksum md5 b date a date c40afff9fa211fc093f2fe licenseconcluded noasserti 0.170959010720253\n",
      "11704 copyright view php spdxid spdxref item date 8 filechecksum sha1 date date date a020d date dcd date 2e8f662b4a84 filechecksum sha256 affeef date dd date 23ae098f5e date e9fef990dd761a50d31ba date 3d1a date 7 filechecksum md5 e6b253f date 9a date 60ae7a2bb date b4 licenseconcluded noassertion licenseinfoinfile gpl 2  0.23938266932964325\n",
      "11718 copyright agent_tests testdata testdata121_raw spdxid spdxref item date 4 filechecksum sha1 eb6d23d date bea27fa date c4f55ecca0e19a date filechecksum sha256 6cacf date e date e date d1c0a0f date f24bb date f88f date e7e date 79a74d5c3d filechecksum md5 date 92f7e0cbbfc164b55ce66ebf1edf licenseconcluded noasserti 0.15575481951236725\n",
      "11724 copyright spdxid spdxref item date 7 filechecksum sha1 3ed1b7bf449eb date date a date bcf date d date c4 filechecksum sha256 0d0b1f5ecb date f8e date fcd6e9d6bb967d9e05a date d date a3b date 2ad59ac0 filechecksum md5 date 594deeda6c89f9c71f83aacde5be licenseconcluded noassertion licenseinfoinfile gpl 2 0 licens 0.26289501786231995\n",
      "11725 copyright agent_tests testdata testdata122_raw spdxid spdxref item date 5 filechecksum sha1 eb6d23d date bea27fa date c4f55ecca0e19a date filechecksum sha256 6cacf date e date e date d1c0a0f date f24bb date f88f date e7e date 79a74d5c3d filechecksum md5 date 92f7e0cbbfc164b55ce66ebf1edf licenseconcluded noasserti 0.15575481951236725\n",
      "11726 copyright free with copyright clause variant 11 meta spdxid spdxref item date 0 filechecksum sha1 e1bc3df date cd47f82e date 0b6e56e77c23cba5a filechecksum sha256 5e date 3d date 19e date d560efb2f1afa4a3ac82b date date cb7ae40d date 350c filechecksum md5 30eb date date date cfd date d711d5acc licenseconcluded noa 0.2631303668022156\n",
      "11748 copyright agent_tests testdata testdata112 spdxid spdxref item date 4 filechecksum sha1 f date 3e024af date 128ab date 8c863bba38af080 filechecksum sha256 c7c date date cb date bb6fb date ca3a7a470df65ed6a02abd3f date ebfaf9e615 filechecksum md5 e998d5b0e0ecd635c6e5c6bb date 7e3a licenseconcluded noassertion l 0.16273121535778046\n",
      "11752 copyright agent_tests testdata testdata120_raw spdxid spdxref item date 4 filechecksum sha1 eb6d23d date bea27fa date c4f55ecca0e19a date filechecksum sha256 6cacf date e date e date d1c0a0f date f24bb date f88f date e7e date 79a74d5c3d filechecksum md5 date 92f7e0cbbfc164b55ce66ebf1edf licenseconcluded noasserti 0.15575481951236725\n",
      "11767 copyright agent_tests testdata testdata63 spdxid spdxref item date 1 filechecksum sha1 bf807cc670c1d2beef date d54fc910a9a date ee3 filechecksum sha256 0ff date de date date 4deb4d2d85f190a286e12db0c915ecbeafd287f94e date f filechecksum md5 abc date 32eab0a2a076fe9c date 33f76 licenseconcluded noassertion li 0.15390193462371826\n",
      "11768 copyright agent_tests testdata testdata72 spdxid spdxref item date 6 filechecksum sha1 f date 776fd68f date b7e5e0ee date 9e7d797ce04 filechecksum sha256 a2f363e112e3af67d6a87b9c7ed date 217dbeb9c date 6ed date a59c1c5bafc67 filechecksum md5 date 4c02fce3d date 1c32e2e796d941e licenseconcluded noassertion li 0.12697669863700867\n",
      "11907  copyright symbol de jouir de l œuvre tel que permis par la lal liberté de copier diffuser modifier implique pour chacun la responsabilité de ses propres faits  0.9542797207832336\n",
      "11908  copyright symbol posés par la lal  0.9774305820465088\n",
      "11909  copyright symbol de modifier les copies des originaux initiaux et conséquents dans le respect des conditions suivantes   0.9826835989952087\n",
      "11910  copyright symbol de copier cette œuvre pour vous vos amis ou toute autre personne quelle que soit la technique employée  0.980431318283081\n",
      "11911  copyright symbol d usage de copie de diffusion de transformation et interdiction d appropriation exclusive  0.5801585912704468\n",
      "11921  copyright symbol accordées par cette licence ces autorisations n entraînent pas un dessaisissement de vos droits intellectuels  0.9909537434577942\n",
      "11924  copyright symbol souhaite distribuer un logiciel modifié combiné à un logiciel assujetti à une licence compatible mais dont il ne serait pas possible d en respecter les termes le concédant offre en plus de la présente concession une concession selon les termes de cette licence compatible  0.988636314868927\n",
      "11954  copyright symbol distribue le logiciel ou un logiciel modifié ce dernier doit assumer l obligation d en distribuer le code source de la manière prévue au troisième alinéa de l article 3  0.9323525428771973\n",
      "11955  copyright symbol distribue le logiciel le concédant offre au récipiendaire une concession sur le logiciel selon les termes de la présente licence le licencié doit offrir une concession selon les termes de la présente licence pour tout logiciel modifié qu il distribue  0.9874567985534668\n",
      "11956  copyright symbol dont le titulaire du droit d auteur précise qu il est sujet aux termes de la licence libre du québec réciprocité liliq r ci après appelée la  licence   0.9663742780685425\n",
      "11967  copyright symbol est comparable ou supérieur à celui de la présente licence sans toutefois être moindre notamment   0.9917071461677551\n",
      "11986  copyright symbol dans un délai de 30 jours de sa prise de connaissance par la personne en défaut et qu il s agit du premier défaut la licence est accordée de nouveau  0.9882360696792603\n",
      "11987  copyright symbol ou par des tiers pour quelque cause que ce soit en lien avec la licence et les droits qui y sont accordés  0.9980490803718567\n",
      "11988  copyright symbol est responsable de tout préjudice résultant de l exercice des droits accordés par la licence  0.9764597415924072\n",
      "11989  copyright symbol d offrir ou d exclure des garanties ou du support  0.7449210286140442\n",
      "11990  copyright symbol est comparable à celui de la présente licence sans toutefois être moindre notamment  0.9935712218284607\n",
      "11991  copyright symbol qui est titulaire exclusif du droit d auteur sur le logiciel assujetti à une licence compatible ne peut pas se prévaloir de cette offre il en est de même pour toute autre personne dûment autorisée à sous licencier par le titulaire exclusif du droit d auteur sur le logiciel assujetti à une 0.9960691928863525\n",
      "11992  copyright symbol souhaite distribuer un logiciel modifié ou dérivé combiné à un logiciel assujetti à une licence compatible mais dont il ne serait pas possible d en respecter les termes le concédant offre en plus de la présente concession une concession selon les termes de cette licence compatible  0.9898357391357422\n",
      "11993  copyright symbol distribue le logiciel un logiciel modifié ou un logiciel dérivé ce dernier doit assumer l obligation d en distribuer le code source de la manière prévue au troisième alinéa de l article 3  0.9423905611038208\n",
      "11994  copyright symbol distribue le logiciel le concédant offre au récipiendaire une concession sur le logiciel selon les termes de la présente licence le licencié doit offrir une concession selon les termes de la présente licence pour tout logiciel modifié ou dérivé qu il distribue  0.9888083934783936\n",
      "11995  copyright symbol concernant le logiciel ne doivent pas être modifiées ou supprimées à moins que ces étiquettes ou mentions ne soient inapplicables à un logiciel modifié ou dérivé donné  0.9891552925109863\n",
      "11996  copyright symbol modifié le licencié doit en faire la mention de préférence dans chacun des fichiers modifiés dont la nature permet une telle mention  0.9900464415550232\n",
      "11997  copyright symbol d un exemplaire de cette licence  0.8287365436553955\n",
      "11998  copyright symbol peut choisir sous quelle version la licence lui est accordée  0.9324508905410767\n",
      "12011  copyright symbol peut distribuer des copies du logiciel d un logiciel modifié ou dérivé sous réserve de respecter les conditions suivantes  0.9912092685699463\n",
      "12025  copyright symbol d une offre de distribuer le code source du logiciel sans frais supplémentaires autres que ceux raisonnables afin de permettre la livraison du code source cette offre doit être valide pendant une durée raisonnable  0.9875050783157349\n",
      "12049 copyright agent_tests testdata testdata114 spdxid spdxref item date 3 filechecksum sha1 f date 776fd68f date b7e5e0ee date 9e7d797ce04 filechecksum sha256 a2f363e112e3af67d6a87b9c7ed date 217dbeb9c date 6ed date a59c1c5bafc67 filechecksum md5 date 4c02fce3d date 1c32e2e796d941e licenseconcluded noassertion l 0.13554173707962036\n",
      "12054  copyright symbol ou une partie importante  0.9951761960983276\n",
      "12055  copyright symbol ou une partie importante en public  0.9798181056976318\n",
      "12056  copyright symbol ou une partie importante  0.9951761960983276\n",
      "12057  copyright symbol une licence non exclusive et libre de redevances lui permettant d exercer les droits suivants sur le logiciel  0.950969398021698\n",
      "12058  copyright symbol de l un des fichiers source du logiciel ou encore tout nouveau fichier source qui incorpore le logiciel ou une partie importante de ce dernier  0.9854971170425415\n",
      "12059  copyright symbol par un licencié autre que le logiciel ou un logiciel modifié qui produit ou reproduit la totalité ou une partie importante du logiciel  0.9926722645759583\n",
      "12060  copyright symbol qu elle est sujette aux termes de la présente licence  0.9888246059417725\n",
      "12061  copyright symbol dans le logiciel  0.9927299618721008\n",
      "12062  copyright symbol comme un concédant en regard de sa contribution  0.804960310459137\n",
      "12063  copyright symbol dont le titulaire du droit d auteur précise qu il est sujet aux termes de la licence libre du québec réciprocité forte liliq r ci après appelée la  licence   0.964455783367157\n",
      "12106 copyright copyright symbol year w3c mit ercim keio beihang  0.6242349743843079\n",
      "12107 copyrighted  0.11441498249769211\n",
      "12108  copyright symbol de proposer de nouvelles versions de la licence ouverte cependant les réutilisateurs pourront continuer à réutiliser les informations qu ils ont obtenues sous cette licence s ils le souhaitent text  0.984626293182373\n",
      "12110  copyright symbol du premier ministre d ouvrir le plus grand nombre de données publiques des administrations de l etat et de ses établissements publics elle a réalisé la licence ouverte pour faciliter la réutilisation libre et gratuite de ces informations publiques telles que définies par l article l321 1 0.9842254519462585\n",
      "12111  copyright symbol produite ou reçue  0.9779108762741089\n",
      "12112  copyright symbol conçue pour être compatible avec toute licence libre qui exige au moins la mention de paternité et notamment avec la version antérieure de la présente licence ainsi qu avec les licences  0.995775043964386\n",
      "12113  copyright symbol intellectuelle cessibles sur l information il les cède au réutilisateur de façon non exclusive à titre gracieux pour le monde entier pour toute la durée des droits de propriété intellectuelle et le réutilisateur peut faire tout usage de l information c 0.9915323853492737\n",
      "12114  copyright symbol intellectuelle détenus par des tiers ou par le concédant sur l information ne font pas obstacle aux droits accordés par la présente licence  0.9934571981430054\n",
      "12115  copyright symbol ne confère aucun caractère officiel à la réutilisation de l information et ne doit pas suggérer une quelconque reconnaissance ou caution par le concédant ou par toute autre entité publique du réutilisateur ou de sa réutilisation  0.9907186031341553\n",
      "12124  copyright symbol intellectuelle tous droits identifiés comme tels par le code de la propriété intellectuelle notamment le droit d auteur droits voisins au droit d auteur droit sui generis des producteurs de bases de données  0.9752416014671326\n",
      "12152  copyright symbol communiquée ou alors vous prévaloir des dispositions d une des versions ultérieures  0.9841627478599548\n",
      "12153  copyright symbol accordés par cette licence  0.9845002293586731\n",
      "12155  copyright symbol de modifier les copies des originaux originels et conséquents qui peuvent être partielles ou non dans le respect des conditions prévues à l article 2 2 en cas de diffusion ou représentation de la copie modifiée l auteur de l original pourra s il le souhaite vous autoriser à modifie 0.9866993427276611\n",
      "12156  copyright symbol l oeuvre à l origine d une arborescence de cette oeuvre modifiée par cette licence l auteur détermine les conditions dans lesquelles ce travail se fait  0.9979262351989746\n",
      "12157  copyright symbol de l oeuvre de sa définition de sa partition ou de son programme que l auteur présente comme référence pour toutes actualisations interprétations copies ou reproductions ultérieures  0.9526607990264893\n",
      "12158  copyright symbol expérimenté par nombre d artistes contemporains  0.9435388445854187\n",
      "12159  copyright symbol littéraire et artistique conduit à restreindre l accès du public à l oeuvre la licence art libre a pour but de le favoriser  0.9700583815574646\n",
      "12163  copyright symbol une licence non exclusive et libre de redevances lui permettant d exercer les droits suivants sur le logiciel   0.9480895400047302\n",
      "12164  copyright symbol dont le titulaire du droit d auteur précise qu il est sujet aux termes de la licence libre du québec permissive liliq p ci après appelée la  licence   0.946746289730072\n",
      "12167  copyright symbol de copier cette oeuvre pour un usage personnel pour vos amis ou toute autre personne et quelque soit la technique employée  0.9812178611755371\n",
      "12174 copyright event php spdxid spdxref item date 0 filechecksum sha1 date 4b9b date 7e80d date 8b date a date 92bc3ad1 filechecksum sha256 1ce72f5eb9a48e6c62db79d950b date date 09a17fa date ae87d24d86c1ba date filechecksum md5 date 92dea95b date 504cc7e date 97a7a licenseconcluded gpl 2 0 licenseinfoinfile gpl 2 0 0.20242023468017578\n",
      "12212 copyrightdao php spdxid spdxref item date 0 filechecksum sha1 b date e1e0dcba date 6dab590f77b7a14c date b60 filechecksum sha256 87a0a5d6b3f925cdba date date 2b95cf date 594f3ea date date 4afce date date filechecksum md5 9ec1e96cc0d03e4fd date ea472a date a licenseconcluded gpl 2 0 licenseinfoinfile gpl 2 0 0.2548266649246216\n",
      "12223 copyright ecc conf spdxid spdxref item date 8 filechecksum sha1 0a68b60d date d3c date 87c date 0de date 932dfda filechecksum sha256 1b11a date 288a6caff976f date f16d date date date 306ff8c date 797d704b901 filechecksum md5 e423afbd date 5af7af82b6d1acb date b licenseconcluded licenseref fsfap 166e9e date date d date 6 0.20937833189964294\n",
      "12225 copyright keyword conf spdxid spdxref item date 3 filechecksum sha1 7d92b2e1b date b19a date e9a date 7ecfa7df607f filechecksum sha256 17edd64f3a7f date date b9de date 92ddf7f date e466d date 0feec date 468f6cf filechecksum md5 date 383ddfca448c25a205eaaa49dfa3 licenseconcluded licenseref fsfap 166e9e date date d2 0.18034158647060394\n",
      "12237 copyrightlister php spdxid spdxref item date 8 filechecksum sha1 c1bd41aa date d2cfcdf date 02b61f20c9f date 7e filechecksum sha256 53d8b date date 21df4daad date 0abd7a0e435b9b712bf date f403e748e49afa4 filechecksum md5 2d6cbe2c1fcfeca6d date 189f07a7d2a licenseconcluded lgpl 2 1 licenseinfoinfile lgpl 2 1 0.21551279723644257\n",
      "12279 copyright hist php spdxid spdxref item date 8 filechecksum sha1 fb0dc9a41fd33ec2e3b269ab2cce date 727ae501 filechecksum sha256 date faf164bb336b date 5b date be6d0f0a31fccd305c date 9ee2dbe9f date f04 filechecksum md5 495d5adad662d7fa65d592d5c493e932 licenseconcluded gpl 2 0 licenseinfoinfile gpl 2 0 0.2124599665403366\n",
      "12297 copyright spdxid spdxref item date 9 filechecksum sha1 de date 42c4a28ca3f0a7d3bca71f69b0b717f160 filechecksum sha256 737cbd826e date 77d73f date 74f date cb50ef date a589daf0d1c64ad1f0e date filechecksum md5 date ec131dbd date 18b64fb843d date 8 licenseconcluded gpl 2 0 licenseinfoinfile gpl 2 0 0.2262793332338333\n",
      "12341 copyright ui eccview php spdxid spdxref item date 6 filechecksum sha1 035cc0f660f383fd937c5c77e796c1fe date 948a filechecksum sha256 a date 8c date f8a632f31ddec6d date b date 9e date date db78fb367e date acf96 filechecksum md5 e7d89fa924f81e8fe date feb91a date b licenseconcluded gpl 2 0 licenseinfoinfile gpl  0.21515080332756042\n",
      "12352 copyright ui agent keyword php spdxid spdxref item date 2 filechecksum sha1 677b date b98d date 525cd date faa2d2cc50e9eb5 filechecksum sha256 9d607ca date b33bfb9c30ab0c date be6cccfea date 725efb4af4e2cf date 9e6f filechecksum md5 date 772efa06f2aaeaa6c96ddb7c6a91 licenseconcluded gpl 2 0 licenseinfoinfile 0.22332516312599182\n",
      "12357 copyright ui xpview php spdxid spdxref item date 7 filechecksum sha1 1e3b1e2d861bc818c59c687c2ab88dbe47f9b45d filechecksum sha256 9ee81be date 9def5b date e0d2fd3dc date 4d633c1d date date 5bf9c date 812fa filechecksum md5 c94c5ae3fb616d date date 95a126b7c2 licenseconcluded gpl 2 0 licenseinfoinfile gpl 2 0.17689645290374756\n",
      "12358 copyright ui textfindingsajax php spdxid spdxref item date 6 filechecksum sha1 cd35e date 025e1ed47d18b426acce32b60c8a97e filechecksum sha256 ca date b32e48c314e2bad1a3d58d3edb65cd01fec date d367cad6b67da date c0 filechecksum md5 093ff4db date 4c265d4d1bb date bee43 licenseconcluded gpl 2 0 licenseinfoinf 0.15407532453536987\n",
      "12359 copyright copyright symbol aaron seigo aseigo kde org text  0.09133054316043854\n",
      "12361 copyright ui keyword hist php spdxid spdxref item date 4 filechecksum sha1 e69cbad date c date d468e5bd80beffc8d date d42 filechecksum sha256 62aa86ca38e date 81c9e8b date 08d6b1ef47f date 6c103d26e1a029c59c date b filechecksum md5 31fec768eb15f8a date 4a date 5cc5b2e licenseconcluded gpl 2 0 licenseinfoinfile  0.2268391251564026\n",
      "12368 copyright ui makefile spdxid spdxref item date 0 filechecksum sha1 0e9e27f date 77a2e59f9d42dd65cef date 93a6a4 filechecksum sha256 21fd date a43ab161a21a4d5e255b25ef585fa date date date ac843ab date 0eef filechecksum md5 bf42fc3ed date 986d9ce43ed69e80d8c licenseconcluded gpl 2 0 licenseinfoinfile gpl 2 0 0.2232780009508133\n",
      "12420 copyright mod_deps spdxid spdxref item date 7 filechecksum sha1 date 93ce60fe73e date fb9f9da8dc784a6d72c37 filechecksum sha256 fe45a506e date f56b3f34a9e18e780ffcfc date 5b2cb04c date date 9dab92d5a filechecksum md5 be508bd4cc391da3c date 5ecf73b50c5 licenseconcluded gpl 2 0 licenseinfoinfile gpl 2 0 0.21455276012420654\n",
      "12431 copyright agent copyright hpp spdxid spdxref item date 1 filechecksum sha1 9f7e675ad2e9c0c71bba95bff74ad06e33bad004 filechecksum sha256 3ba date f date d1f date date 9b82ec32c2f20fc2efc date date 623dfc0a644edd filechecksum md5 11c29f2b846fd57f4b67c791e7f75cac licenseconcluded gpl 2 0 licenseinfoinfile  0.15619570016860962\n",
      "12435 copyright agent copyrightstate hpp spdxid spdxref item date 9 filechecksum sha1 date 4b5fadb027e772e6e691fb9a55fd47c3b3bd filechecksum sha256 date fe date 5fb96cd date 3b date d059a0e98ad51af3eef6b5ac7cd6c2f173c21 filechecksum md5 48b date 4abda6e304dc791de2ecda2b9 licenseconcluded gpl 2 0 licenseinfoin 0.18627645075321198\n",
      "12436 copyright agent regexconfprovider cc spdxid spdxref item date 8 filechecksum sha1 b09fcc date cab date 5b63b6f327eb8eefc3d582e filechecksum sha256 7fb date 5e21f9eb1b02e339d date cb272cdc65b61cff44fa584d58b30f90d5f4 filechecksum md5 501e date 5b65d6aa0f181f20fb6d3aea licenseconcluded gpl 2 0 licenseinfo 0.2449454367160797\n",
      "12438 copyright agent identity hpp spdxid spdxref item date 7 filechecksum sha1 e081ade994f3b2f1c637a73fd2d273cd1d date 08 filechecksum sha256 d92ba89d date fa6a2b6dca date ef date date 3d2fc date 9ef645a date date 0a1f filechecksum md5 date 2c date 353dab100e2c4d53af3b5b licenseconcluded gpl 2 0 licenseinfoinfile  0.17378869652748108\n",
      "12441 copyright agent scanners hpp spdxid spdxref item date 5 filechecksum sha1 d84b9e3abaf date 9d6a date 0dde889a03be date 6 filechecksum sha256 date 40becbe date 2a9cf420d6cc240fc1cdce date abdc837c0ac834c36b745c8 filechecksum md5 610fb0fcced3c date date date a3d date licenseconcluded gpl 2 0 licenseinfoinfile  0.2091248482465744\n",
      "12445 copyright agent copyrightstate cc spdxid spdxref item date 0 filechecksum sha1 date 06b78af74a30d527dfbee54ed913c74b9e29 filechecksum sha256 f450c07a1ae8e4c date date 5ea35ca06d date 114ca8ebadf348ecf6e062dfb2e filechecksum md5 901fdf9bca5a date date bc07ccbb8cda licenseconcluded gpl 2 0 licenseinfoinf 0.1481408327817917\n",
      "12448 copyright agent regexconfprovider hpp spdxid spdxref item date 7 filechecksum sha1 5e date 6b5b598fe699a0cd date debbcae date 116 filechecksum sha256 c date 928ea218c0ffe date ac4aa2f543aad0b date d07da date date e date date a filechecksum md5 e9a date bd370cb0d939aea28c date db1 licenseconcluded gpl 2 0 licenseinf 0.24708037078380585\n",
      "12451 copyright agent database hpp spdxid spdxref item date 5 filechecksum sha1 fc date date 66f date f619dc date eaf5e date e33c filechecksum sha256 b0bbf1d01fb1dac32d date 451a11cbbce date 7f268f379f date date 1e8fd6c67 filechecksum md5 aa date b8a date 7af4dd date 58f date d4 licenseconcluded gpl 2 0 licenseinfoinfile  0.2636241316795349\n",
      "12455  copyright symbol que le présent contrat et tous les documents connexes soient rédigés en anglais  0.9869806170463562\n",
      "12570  copyright symbol date date siemens ag 0.2198590785264969\n",
      "12599 copyright agent_tests testdata testdata78_raw 0.11217206716537476\n",
      "12663 copyright free with copyright clause variant 4 fossology master zip fossology master src nomos agent_tests testdata nomostestfiles mit mit style_a txt fossology master zip fossology master src pkgagent agent_tests testdata fossology 1 2 0 1 el5 i386 rpm usr share fossology agents licen 0.29772183299064636\n",
      "12667 copyright clause fossology master zip fossology master src nomos agent_tests testdata nomostestfiles mit mit ref_j txt fossology master zip fossology master src nomos agent_tests testdata nomostestfiles mit khronosmit fossology master zip fossology master src nomos agent_tests t 0.40675631165504456\n",
      "12670 copyright agent_tests testdata testdata80_raw 0.14127865433692932\n",
      "12673 copyright agent_tests testdata testdata24_raw fossology master zip fossology master src nomos agent_tests testdata nomostestfiles mit imaginationmit fossology master zip fossology master src nomos agent_tests testdata nomostestfiles mit ge_console h 0.22967460751533508\n",
      "12675 copyright agent_tests testdata testdata24 fossology master zip fossology master src nomos agent_tests testdata nomostestfiles mit mit ref_k txt fossology master zip fossology master src nomos agent_tests testdata nomostestfiles mit string ts fossology master zip fossology master 0.395609050989151\n",
      "12702 copyright agent_tests testdata testdata93_raw 0.106316938996315\n",
      "12714 copyright agent_tests testdata testdata86 0.07364359498023987\n",
      "12761 copyright license nolicenseconcluded comment scanners found apache 2 0 and mit style 0.25374865531921387\n",
      "12868 copyright agent_tests testdata testdata48 fossology master zip fossology master src nomos agent_tests testdata nomostestfiles mit broadcommit 0.17608968913555145\n",
      "12874 copyright agent_tests testdata testdata104_raw fossology master zip fossology master src testing datafiles testdata archives eddydata tar bz2 eddydata tar mit mit_style_h txt fossology master zip fossology master src nomos agent_tests testdata nomostestfiles cmu mit cmu style_b txt 0.16362233459949493\n",
      "12951 copyright agent regexconfparser cc 0.2489100694656372\n",
      "12953 copyright agent regexconfparser hpp 0.25128981471061707\n",
      "12982 copyright ui textfindingsajax php 0.16095323860645294\n",
      "13049 copyright copyright date siemens ag 0.25498485565185547\n",
      "13054  copyright symbol openjs foundation and other contributors license mit 0.24486570060253143\n",
      "13059  copyright symbol date siemens ag 0.26797372102737427\n",
      "13061  copyright symbol date siemens ag 0.26797372102737427\n",
      "13065 copyright copyright_ars mimetype mimetype_ars unpack ununpack_ars ununpack ununpack_ars  0.3038068413734436\n",
      "13076  copyright symbol date siemens ag 0.26797372102737427\n",
      "13091  copyright symbol date siemens ag 0.26797372102737427\n",
      "13100  copyright symbol date siemens ag 0.26797372102737427\n",
      "13130 copyright html rf_add_date null rf_copyleft null rf_osiapproved null rf_fullname netcdf license rf_fsffree null rf_gplv2compatible null rf_gplv3compatible null rf_notes null rf_fedora null  0.2950538396835327\n",
      "13140 copyright l366 rf_add_date null rf_copyleft null rf_osiapproved null rf_fullname japan network information center license rf_fsffree null rf_gplv2compatible null rf_gplv3compatible null rf_notes null  0.2549481987953186\n",
      "13198 copyright freebsd doc license rf_add_date null rf_copyleft null rf_osiapproved null rf_fullname freebsd documentation license rf_fsffree null rf_gplv2compatible null rf_gplv3compatible null rf_notes  0.18317967653274536\n",
      "13204 copyright rf_add_date null rf_copyleft null rf_osiapproved null rf_fullname bsd 4 clause shortened rf_fsffree null rf_gplv2compatible null rf_gplv3compatible null rf_notes null rf_fedora nu 0.31634655594825745\n",
      "13253 copyright rf_add_date null rf_copyleft null rf_osiapproved null rf_fullname technische universitaet berlin license 1 0 rf_fsffree null rf_gplv2compatible null rf_gplv3compatible null rf_notes null  0.20664146542549133\n",
      "13354 copyright html rf_add_date null rf_copyleft null rf_osiapproved null rf_fullname unicode terms of use rf_fsffree null rf_gplv2compatible null rf_gplv3compatible null rf_notes null rf_fedora  0.283309668302536\n",
      "13383 copyright freebsd doc license html rf_add_date null rf_copyleft null rf_osiapproved null rf_fullname freebsd documentation license rf_fsffree null rf_gplv2compatible null rf_gplv3compatible null rf_note 0.1580343097448349\n",
      "13452 copyright freebsd license html rf_add_date null rf_copyleft null rf_osiapproved null rf_fullname bsd 2 clause freebsd license rf_fsffree null rf_gplv2compatible null rf_gplv3compatible null rf_notes  0.1879008412361145\n",
      "13504  copyright symbol ministerium f u00fcr wissenschaft und forschung nordrhein westfalen date n nerstellt von axel metzger und till jaeger institut f u00fcr rechtsfragen der freien und open source software http www ifross de n npr u00e4ambel n nsoftware ist mehr als ein wirtschaftsgut sie ist die technisc 0.9896014332771301\n",
      "13576 copyright agent_keyword agent_mimetype agent_monk agent_nomos agent_ojo agent_shagent conf_ext_auth_new_user_agent_list  0.16091850399971008\n",
      "13577  copyright symbol date date siemens ag 0.2198590785264969\n",
      "13582  copyright symbol date date date siemens ag 0.1811516135931015\n",
      "13598 copyright sysconfdir pbproj mods enabled ecc 0.3724600672721863\n",
      "13612  copyright symbol date date date siemens ag 0.1811516135931015\n",
      "13716 copyright agent_mimetype agent_monk agent_nomos agent_pkgagent 1 null null 1  0.12445414066314697\n",
      "13731 copyright siemens ag date date  0.25354301929473877\n",
      "13839 copyright rx regex_match beginofline endofline regnonblank  0.17108269035816193\n",
      "13863 copyrightdatabasehandler createtableagentfindings const 0.2267083078622818\n",
      "13868 copyrightdatabasehandler createtableagentfindings  0.2267083078622818\n",
      "13873  copyright symbol date siemens ag author daniele fognini 0.18124806880950928\n",
      "13885  copyright symbol date date siemens ag 0.2198590785264969\n",
      "13896  copyright symbol date date date siemens ag 0.1811516135931015\n",
      "13899 copyright t 0 regex test 1 t es t space tmpfile  0.27832385897636414\n",
      "13900 copyright t 0 regex test 0 t es t space o tmpfile  0.27832385897636414\n",
      "13904 copyright conf rmdir sysconf mods enabled agentname agent rmdir sysconf mods enabled agentname rmdir sysconf mods enabled unlink sysconf fossology conf  0.29128551483154297\n",
      "13905  copyright symbol date date date siemens ag 0.1811516135931015\n",
      "13929  copyright symbol date date siemens ag 0.2198590785264969\n",
      "13949  copyright symbol date 15 date siemens ag 0.2198590785264969\n",
      "14029 copyright null  0.2532081604003906\n",
      "14086 copyrighted by mit under the usual x terms  0.629775881767273\n",
      "14088 copyrighted by mit s under the usual x terms  0.629775881767273\n",
      "14165 copyright copyright symbol date bill bumgarner email license mit see below  0.49427416920661926\n",
      "14176 copyright copyright symbol date bill bumgarner email s license mit see below  0.49427416920661926\n",
      "14186 copyright copy date a href trolltech html trolltech a td td width 40 align center a href trademarks html trademarks a td td width 30 align right div align right qt 4 2 1 div td tr table div address body html  0.3265618681907654\n",
      "14201 copyright copy date a href trolltech html trolltech a s td td width 40 align center a href trademarks html trademarks a td td width 30 align right div align right qt 4 2 1 div td tr table div address body html  0.3265618681907654\n",
      "14203 copyright date the apache software foundation br licensed under the a href http www apache org licenses license 2 0 apache license version 2 0 a p p class menu a href mod モジュール a a href mod directives html ディレクティブ a a href faq faq a  0.41923126578330994\n",
      "14204 copyright date the apache software foundation s br licensed under the a href http www apache org licenses license 2 0 apache license version 2 0 a p p class menu a href mod モジュール a a href mod directives html ディレクティブ a a href faq faq 0.41923126578330994\n",
      "14516 copyright adam di carlo email license gpl 2  0.5868988633155823\n",
      "14520 copyright adam di carlo email s license gpl 2  0.5868988633155823\n",
      "14618 copyright copyright symbol date date juho vuori email  0.4879043698310852\n",
      "14634 copyright copyright symbol date date juho vuori email s  0.4879043698310852\n",
      "14665 copyright copyright symbol date date kungliga tekniska högskolan 0.25573381781578064\n",
      "14683 copyright copyright symbol date date kungliga tekniska högskolan s  0.25573381781578064\n",
      "14705 copyright vscancode output vars array tables tablevars foss_content vcopyright n scan_content vscancode n script this createscriptblock return vars  0.061820220202207565\n",
      "14740  copyright symbol date siemens ag 0.26797372102737427\n",
      "14807  copyright symbol date date date siemens ag 0.1811516135931015\n",
      "14810  copyright symbol date date siemens ag 0.2198590785264969\n",
      "14882 copyrightviewtabs style padding bottom 2em ul li a href fosstab fossology a li li a href scantab scancode a li ul div id fosstab foss_content  0.09301701933145523\n",
      "14887  copyright symbol date date siemens ag 0.2198590785264969\n",
      "14904  copyright symbol date date siemens ag 0.2198590785264969\n",
      "14922  copyright symbol date date siemens ag 0.2198590785264969\n",
      "14939  copyright symbol date date date siemens ag 0.1811516135931015\n",
      "14964 copyrightlist data copyright insertcopyrightdecisionlist data copyright_decision insertcopyrighteventlist data copyright_event insertecclist data ecc inserteccdecisionlist data ecc_decision insertecceventlist data ecc_event  0.2109355479478836\n",
      "14980 copyrighteventlist array 0.22553864121437073\n",
      "14981  copyright symbol date date siemens ag 0.2198590785264969\n",
      "15024 copyright_ars alter column ars_starttime set default now  0.1865050047636032\n",
      "15169  copyright symbol date date siemens ag 0.2198590785264969\n",
      "15177  copyright symbol date date siemens ag 0.2198590785264969\n",
      "15178  copyright symbol date date siemens ag 0.2198590785264969\n",
      "15179  copyright symbol date date date siemens ag 0.1811516135931015\n",
      "15212  copyright symbol date siemens ag authors daniele fognini steffen weber andreas würl 0.1541784107685089\n",
      "15218 copyright array_column rows content  0.05793232470750809\n",
      "15239  copyright symbol date date orange contributors piotr pszczola bartlomiej drozdz 0.6145246624946594\n",
      "15270 copyright 1 andreturn agent_id 8  0.23477581143379211\n",
      "15273 copyright rmdir sysconf mods enabled unlink sysconf fossology conf unlink sysconf db conf rmdir sysconf  0.2662958800792694\n",
      "15305  copyright symbol date date date siemens ag 0.1811516135931015\n",
      "15307  copyright symbol date date siemens ag authors andreas würl daniele fognini 0.18890535831451416\n",
      "15309  copyright symbol date date siemens ag authors andreas würl daniele fognini 0.18890535831451416\n",
      "15310  copyright symbol date siemens ag 0.26797372102737427\n",
      "15317  copyright symbol date date siemens ag 0.2198590785264969\n",
      "15327  copyright symbol date date siemens ag 0.2198590785264969\n",
      "15334  copyright symbol date date siemens ag 0.2198590785264969\n",
      "15362  copyright symbol date date date siemens ag 0.1811516135931015\n",
      "15404  copyright symbol date date siemens ag 0.2198590785264969\n",
      "15407  copyright symbol date date date siemens ag 0.1811516135931015\n",
      "15411  copyright symbol date date siemens ag 0.2198590785264969\n",
      "15413  copyright symbol date date date siemens ag 0.1811516135931015\n",
      "15414  copyright symbol date date siemens ag 0.2198590785264969\n",
      "15416  copyright symbol date date date siemens ag 0.1811516135931015\n",
      "15418  copyright symbol date date siemens ag 0.2198590785264969\n",
      "15451 copyright simpleonlykeepcopyright mpl mit dual mpl mit dual1 mpl mit dual2 orgplv2 orlgplv2 1 altern gplv2orlgplv2 1ver2 mploptionnotgplver0 mploptionifnotdelete3licsver0 mitoldwithoutsell mitpernosell mitnorep mitasis mitoldwithoutsellcmuvariant mitpermnosell x11cmuasis x11cmuliability x11cmure 0.5643826723098755\n",
      "15453 copyright void memset cp invisible 12 cp 12 break  0.3158443868160248\n",
      "15495 copyright acr par  0.9999070763587952\n",
      "15633 copyright c copy str mit gplv2 lic  0.9755648374557495\n",
      "15748 copyright c copy year some groupe bull  0.5236538052558899\n",
      "15819  copyright symbol date date siemens ag 0.2198590785264969\n",
      "15859 copyright contains license s apache 2 0 mit style file nomostestfiles mit edit c contains license s miros file nomostestfiles mit ge_console h contains license s mit file nomostestfiles mit imaginationmit contains license s mit file nomostestfiles mit khronosmit contains license s mit file nomo 0.8039455413818359\n",
      "15977 copyright copyright symbol date date júlio vilmar gesser  0.4942415952682495\n",
      "16042 copyright copyright symbol date date tomasz kłoczko 0.324396550655365\n",
      "16105 copyright date red hat inc  0.39126330614089966\n",
      "16128  copy date date jean philippe lang div div div div div  0.25571247935295105\n",
      "16244  copyright symbol des termes du contrat est réputée acquise du fait du premier des faits suivants  0.9963945150375366\n",
      "16245  copyright symbol 25 rue leblanc immeuble le ponant d date 5 paris  0.7710562348365784\n",
      "16246  copyright symbol 3 rue michel ange date 4 paris cedex 16  0.44316983222961426\n",
      "16247  copyright symbol domaine de voluceau rocquencourt bp 105 date 3 le chesnay cedex  0.5129791498184204\n",
      "16248  copyright symbol au code source et les droits de copie de modification et de redistribution qui découlent de ce contrat ont pour contrepartie de n offrir aux utilisateurs qu une garantie limitée et de ne faire peser sur l auteur du logiciel le titulaire des droits patrimoniaux et les concédants successifs qu  0.9688557982444763\n",
      "16249  copyright symbol d en observer d en étudier ou d en tester le fonctionnement afin de déterminer les idées et principes qui sont à la base de n importe quel élément de ce logiciel et ceci lorsque le licencié effectue toute opération de chargement d affichage d exécution de transmission ou de stockag 0.9721260666847229\n",
      "16250  copyright symbol telle que définie en 3 1  0.8577345609664917\n",
      "16251  copyright symbol sa spécificité de logiciel libre qui peut le rendre complexe à manipuler et qui le réserve donc à des développeurs ou des professionnels avertis possédant des connaissances informatiques approfondies les utilisateurs sont donc invités à charger et tester l adéquation du logiciel à leu 0.9899827241897583\n",
      "16252  copyright symbol mis à disposition du licencié préalablement à son acceptation telle que définie à l article 3 1 ci dessus et le licencié reconnaît en avoir pris connaissance  0.9752787351608276\n",
      "16253  copyright symbol est autorisé à distribuer des copies du logiciel modifié ou non à des tiers dans les conditions ci après détaillées  0.9935250282287598\n",
      "16254  copyright symbol le contrat  0.30408403277397156\n",
      "16255  copyright symbol et le concédant  0.8758553862571716\n",
      "16256  copyright symbol d une licence non exclusive cessible et mondiale du logiciel telle que définie ci après à l article 5 pour toute la durée de protection des droits portant sur ce logiciel  0.9866926670074463\n",
      "16257  copyright symbol de l un quelconque des droits concédés par le contrat  0.9584465622901917\n",
      "16258  copyright symbol est autorisé à distribuer des copies conformes du logiciel sous forme de code source ou de code objet à condition que cette distribution respecte les dispositions du contrat dans leur totalité et soit accompagnée  0.9872666001319885\n",
      "16259  copyright symbol est autorisé à utiliser le logiciel sans restriction quant aux domaines d application étant ci après précisé que cela comporte  0.9657382965087891\n",
      "16260  copyright symbol permette un accès effectif au code source complet du logiciel pendant au moins toute la durée de sa distribution du logiciel étant entendu que le coût additionnel d acquisition du code source ne devra pas excéder le simple coût de transfert des données  0.9698368310928345\n",
      "16261  copyright symbol apporte une contribution au logiciel le logiciel modifié peut être distribué sous un contrat de licence autre que le présent contrat sous réserve du respect des dispositions de l article 5 3 4  0.9919924736022949\n",
      "16262  copyright symbol est autorisé à apporter toute contribution au logiciel sous réserve de mentionner de façon explicite son nom en tant qu auteur de cette contribution et la date de création de celle ci  0.9860727190971375\n",
      "16263  copyright symbol au logiciel de telle sorte qu ils s exécutent dans le même espace d adressage  0.9942386150360107\n",
      "16264  copyright symbol du logiciel tel que ce module et le logiciel s exécutent dans des espaces d adressage différents l un appelant l autre au moment de leur exécution  0.9729777574539185\n",
      "16265  copyright symbol auteur d au moins une contribution  0.9912694692611694\n",
      "16266  copyright symbol par au moins une contribution  0.9995196461677551\n",
      "16267  copyright symbol est assorti d une obligation forte de citation à la charge de ceux qui distribueraient un logiciel incorporant un logiciel régi par la présente licence afin d assurer que les contributions de tous soient correctement identifiées et reconnues  0.9653730392456055\n",
      "16268  copyright symbol de modification et de redistribution du logiciel régi par cette licence  0.9869235754013062\n",
      "16269  copyright symbol civile que du droit de la propriété intellectuelle et de la protection qu il offre aux auteurs et titulaires des droits patrimoniaux sur un logiciel les auteurs de la licence cecill b1 sont  0.9596853852272034\n",
      "16270  copyright symbol sous une version donnée du contrat ne pourra faire l objet d une diffusion ultérieure que sous la même version du contrat ou une version postérieure  0.9958285093307495\n",
      "16271  copyright symbol et ne peut être modifié que par les auteurs de la licence lesquels se réservent le droit de publier périodiquement des mises à jour ou de nouvelles versions du contrat qui posséderont chacune un numéro distinct ces versions ultérieures seront susceptibles de prendre en compte de nouvell 0.9782681465148926\n",
      "16272  copyright symbol en langue française et en langue anglaise ces deux versions faisant également foi  0.946982204914093\n",
      "16273  copyright symbol de l ensemble du contrat  0.4848034083843231\n",
      "16274  copyright symbol dont le contrat est résilié n est plus autorisé à utiliser modifier ou distribuer le logiciel cependant toutes les licences qu il aura concédées antérieurement à la résiliation du contrat resteront valides sous réserve qu elles aient été effectuées en conformité avec le contrat  0.9956853985786438\n",
      "16275  copyright symbol aux obligations mises à sa charge par le contrat le concédant pourra résilier de plein droit le contrat trente 30 jours après notification adressée au licencié et restée sans effet  0.96771240234375\n",
      "16276  copyright symbol intellectuelle d un tiers portant sur un brevet un logiciel ou sur tout autre droit de propriété ainsi le concédant exclut toute garantie au profit du licencié contre les actions en contrefaçon qui pourraient être diligentées au titre de l utilisation de la modification et de la redist 0.9748082160949707\n",
      "16277  copyright symbol et sa configuration logicielle ni qu il remplira les besoins du licencié  0.796241283416748\n",
      "16278  copyright symbol reconnaît que le logiciel est fourni en l état par le concédant sans autre garantie expresse ou tacite que celle prévue à l article 9 2 et notamment sans aucune garantie sur sa valeur commerciale son caractère sécurisé innovant ou pertinent  0.9659188985824585\n",
      "16279  copyright symbol du licencié de contrôler par tous moyens l adéquation du produit à ses besoins son bon fonctionnement et de s assurer qu il ne causera pas de dommages aux personnes et aux biens  0.9945623874664307\n",
      "16280  copyright symbol du concédant est limitée aux engagements pris en application du contrat et ne saurait être engagée en raison notamment i des dommages dus à l inexécution totale ou partielle de ses obligations par le licencié ii des dommages directs ou indirects découlant de l utilisation ou des pe 0.9455955624580383\n",
      "16281  copyright symbol a la faculté sous réserve de prouver la faute du concédant concerné de solliciter la réparation du préjudice direct qu il subirait du fait du logiciel et dont il apportera la preuve  0.980430543422699\n",
      "16282  copyright symbol et ce dans les conditions qu il souhaite cette garantie et les modalités financières de son application feront l objet d un acte séparé entre le concédant et le licencié  0.9622327089309692\n",
      "16283  copyright symbol du concédant qui les propose  0.8945402503013611\n",
      "16284  copyright symbol s engage à ne pas porter atteinte directement ou indirectement aux droits de propriété intellectuelle du titulaire et ou des contributeurs sur le logiciel et à prendre le cas échéant à l égard de son personnel toutes les mesures nécessaires pour assurer le respect des dits droits de p 0.9787836074829102\n",
      "16285  copyright symbol intellectuelle apposées sur le logiciel  0.950491189956665\n",
      "16287  copyright symbol de modifier les conditions de diffusion de ce logiciel initial  0.7123770713806152\n",
      "16288  copyright symbol du concédant telle que prévue aux articles 8 et 9  0.9149664044380188\n",
      "16289  copyright symbol reconnaît que l état actuel des connaissances scientifiques et techniques au moment de la mise en circulation du logiciel ne permet pas d en tester et d en vérifier toutes les utilisations ni de détecter l existence d éventuels défauts l attention du licencié a été attirée sur ce point 0.9783970713615417\n",
      "16290  copyright symbol qui distribue un logiciel modifié s engage expressément  0.8801173567771912\n",
      "16291  copyright symbol qui a développé un module externe est titulaire sur celui ci des droits de propriété intellectuelle dans les conditions définies par la législation applicable et reste libre du choix du contrat régissant sa diffusion  0.9799584746360779\n",
      "16292  copyright symbol peut être distribué sous le contrat de licence cecill c les stipulations prévues à l article 5 3 4 sont alors facultatives  0.9905704855918884\n",
      "16293  copyright symbol réalisé à partir du logiciel régi par le contrat en reproduisant les mentions de propriété intellectuelle du logiciel  0.9952536821365356\n",
      "16294  copyright symbol a développé un module externe les conditions du contrat ne s appliquent pas à ce module externe qui peut être distribué sous un contrat de licence différent  0.9828119874000549\n",
      "16295  copyright symbol intellectuelle sur les copies du logiciel modifié ou non  0.9722817540168762\n",
      "16296  copyright symbol qui a développé une contribution est titulaire sur celle ci des droits de propriété intellectuelle dans les conditions définies par la législation applicable  0.9891101121902466\n",
      "16297  copyright symbol intellectuelle et le fait qu il est régi par le contrat soient indiqués dans un texte facilement accessible depuis l interface du logiciel modifié  0.9955767393112183\n",
      "16298  copyright symbol ou non est distribué avec un module externe qui a été conçu pour l utiliser le licencié doit soumettre le dit module externe aux obligations précédentes  0.9913609027862549\n",
      "16299  copyright symbol contient une contribution soumise au contrat de licence cecill les stipulations prévues à l article 5 3 4 sont facultatives  0.9779486060142517\n",
      "16300  copyright symbol auteur d au moins une contribution intégrée  0.9969214797019958\n",
      "16301  copyright symbol résulte soient clairement identifiées et documentées  0.9909533262252808\n",
      "16302  copyright symbol permette un accès effectif au code source du logiciel modifié pendant au moins toute la durée de la distribution du logiciel dérivé de telle sorte que ces modifications puissent être reprises dans une version ultérieure du logiciel étant entendu que le coût additionnel d acquisition du 0.9837339520454407\n",
      "16303  copyright symbol contient une contribution intégrée soumise au contrat de licence cecill ou lorsqu un logiciel dérivé contient un module lié soumis au contrat de licence cecill les stipulations prévues au troisième item de l article 6 4 sont facultatives  0.979061484336853\n",
      "16304  copyright symbol par au moins une contribution intégrée  0.9997037649154663\n",
      "16305  copyright symbol est assorti d une obligation de remettre à la disposition de la communauté les modifications apportées au code source du logiciel afin de contribuer à son évolution  0.9566730260848999\n",
      "16306  copyright symbol ou non et d un module lié  0.8334341645240784\n",
      "16307  copyright symbol qui a développé un module lié est titulaire sur celui ci des droits de propriété intellectuelle dans les conditions définies par la législation applicable et reste libre du choix du contrat régissant sa diffusion dans les conditions définies à l article 5 3 3  0.9888854026794434\n",
      "16308  copyright symbol est autorisé à apporter toute modification au logiciel sous réserve de mentionner de façon explicite son nom en tant qu auteur de cette modification et la date de création de celle ci  0.9869726896286011\n",
      "16309  copyright symbol apporte une contribution intégrée au logiciel les conditions de distribution du logiciel modifié en résultant sont alors soumises à l intégralité des dispositions du contrat  0.9962546229362488\n",
      "16310  copyright symbol est autorisé à distribuer le logiciel modifié sous forme de code source ou de code objet à condition que cette distribution respecte les dispositions du contrat dans leur totalité et soit accompagnée  0.9881243109703064\n",
      "16311  copyright symbol est redistribué le licencié permette un accès effectif à son code source complet pendant au moins toute la durée de sa distribution du logiciel modifié étant entendu que le coût additionnel d acquisition du code source ne devra pas excéder le simple coût de transfert des données  0.9731316566467285\n",
      "16312  copyright symbol crée un logiciel dérivé ce logiciel dérivé peut être distribué sous un contrat de licence autre que le présent contrat à condition de respecter les obligations de mention des droits sur le logiciel telles que définies à l article 6 4 dans le cas où la création du logiciel dérivé a 0.9918515086174011\n",
      "16313  copyright symbol correspondant à cette modification soit régi par le présent contrat  0.9986234307289124\n",
      "16314  copyright symbol de modifier et de réutiliser le logiciel régi par cette licence  0.9943989515304565\n",
      "16315  copyright symbol intellectuelle et le fait qu il est régi par le contrat soient indiqués dans un texte facilement accessible notamment depuis l interface de tout logiciel dérivé  0.9954959154129028\n",
      "16316  copyright symbol intellectuelle sur les copies du logiciel modifié ou non  0.9722817540168762\n",
      "16317  copyright symbol civile que du droit de la propriété intellectuelle et de la protection qu il offre aux auteurs et titulaires des droits patrimoniaux sur un logiciel les auteurs de la licence cecill c1 sont  0.9596853852272034\n",
      "16318  copyright symbol qui a développé une contribution intégrée est titulaire sur celle ci des droits de propriété intellectuelle dans les conditions définies par la législation applicable  0.9919971227645874\n",
      "16343  copyright symbol copyright date date fraunhofer gesellschaft zur förderung der angewandten forschung e v all rights reserved  0.6219478845596313\n",
      "16375  copyright symbol ministerium für wissenschaft und forschung nordrhein westfalen date  0.9180047512054443\n",
      "16474 copyright holder msgid bugs address dev null dev null 2 1  0.29225751757621765\n",
      "16480 copyright holder msgid bugs address dev null 2 1 dev null grep usage dev null then exit 1 else exit 0 fi then 0.13090161979198456\n",
      "16481 copyright holder msgid bugs address dev null 2 1 dev null grep usage dev null then exit 1 else exit 0 fi  0.161778524518013\n",
      "16489 copyright copyright symbol date date miklos szeredi email  0.8675993084907532\n",
      "16490 copyright copyright symbol date date miklos szeredi all rights reserved  0.7461086511611938\n",
      "16516  copyright symbol scott jehl mit gplv2 lic j mp respondjs  0.3876931965351105\n",
      "16663 copyright date johannes berg email  0.31301799416542053\n",
      "16692 copyright copyright symbol date daniel svärd email  0.24644532799720764\n",
      "16700 copyright string auf stderr ausgeben 1 kurzusage auf stderr ausgeben und beenden 2 langusage auf stdout ausgeben und beenden 10 return license info string 11 name of program 12 optional name of package which includes this program 13 version string 0.9322524666786194\n",
      "16705  copyright symbol date red hat email  0.27221256494522095\n",
      "16706  copyright symbol date red hat email  0.27221256494522095\n",
      "16713 copyright date date \tjohannes berg email  0.17050965130329132\n",
      "16733 copyright holder dev null 2 1 dev null grep usage dev null then exit 1 else exit 0 fi then 0.10846815258264542\n",
      "16734 copyright holder dev null dev null 2 1  0.251478374004364\n",
      "16735 copyright holder dev null 2 1 dev null grep usage dev null then exit 1 else exit 0 fi  0.13663974404335022\n",
      "16762 copyright copyright symbol date by garrecht ingenieurgesellschaft 0.2915162146091461\n",
      "16780 copyright date kan ru chen license gpl 3  0.08226192742586136\n",
      "16921 copyright copyright symbol date red hat inc par all rights reserved par par this library is free software you can redistribute it and or par modify it under the terms of the gnu lesser general public par license as published by the free software foundation version par 2 1 of the license par 0.7261916399002075\n",
      "16927 copyright copyright symbol date date verein zur foerderung der freien virtuellen maschine cacao 0.8541569113731384\n",
      "17096 copyright date jquery foundation and other contributors licensed mit  0.3046032190322876\n",
      "17148 copyright law par par a contribution is the original software or any additions or changes to the software par par a contributor is any person that distributes its contribution under this license par par licensed patents are a contributor s patent claims that read directly on 0.4790686070919037\n",
      "17255  copyright symbol herein  0.4304547607898712\n",
      "17378  copyright symbol date date w3c mit inria keio university 0.5410632491111755\n",
      "17418 copyright copyright symbol tuomo valkonen date date  0.4251933693885803\n",
      "17423 copyright copyright symbol date date red hat inc peter zijlstra email  0.23682956397533417\n",
      "17520 copyright copyright symbol date date julian smart robert roebling et al 0.18007752299308777\n",
      "17561 copyright copyright symbol date date daniel stenberg email et al  0.24651390314102173\n",
      "17592  copyright symbol date date siemens ag 0.2198590785264969\n",
      "17600 copyright limit 1 if db access sql 1 error db errmsg  0.13990898430347443\n",
      "17614 copyright cascade result db access sql if result 0 error db errmsg  0.15267910063266754\n",
      "17645 copyright s agent licinspect s s mimetypeagent mimetype s s specagentagent specagent s s filter_clean sagent filter_clean s s delagent sagent delagent s s sqlagentagent sqlagent s s sqlagent a sqlagent sqlagenthost s s pkgmetagettaagent pkgmetagetta s s p 0.33282071352005005\n",
      "17761  copyright symbol microsoft a é aviséde l éntualitée tels dommages certains éts juridictions ne permettent pas l exclusion ou la limitation de responsabilitéelative aux dommages indirects ou consétifs et la limitation ci dessus peut ne pas s appliquer àotre érd  0.855567216873169\n",
      "17833 copyright copyright symbol date date daniel stenberg email et al  0.24651390314102173\n",
      "17850 copyright copyright symbol date date world wide web consortium massachusetts institute of technology institut national de recherche en informatique et en automatique keio university all rights reserved http www w3 org consortium legal  0.27273884415626526\n",
      "17906 copyrighted 0.11441498249769211\n",
      "17922 copyright php alias isc 0.3044354319572449\n",
      "17997 copyright td td valign top vf td tr n  0.6568930149078369\n",
      "18014 copyrighturl n vurl tr th width 10 count th vurl th width 10 files th vurl th url th tr n  0.2238924354314804\n",
      "18054 copyright clause license 0 mit mit free with copyright clause canonical name 150 term mit hp dec desc term mit hp dec license 0 mit mit hp dec variant canonical name 151 term mit mlton desc term mit mlton license 0 mit mit 0.9906063079833984\n",
      "18077  copyright symbol date date siemens ag 0.2198590785264969\n",
      "18095 copyrightfindingtodb content pfile_fk  0.8789407014846802\n",
      "18100 copyrightfindingtodb trim copyrightline entry pfile_pk  0.7743493318557739\n",
      "18121  copyright symbol date date siemens ag 0.2198590785264969\n",
      "18131  copyright symbol date orange author bartłomiej dróżdż email author piotr pszczoła email  0.9521234035491943\n",
      "18134  copyright symbol date orange author bartłomiej dróżdż email  0.9433959126472473\n",
      "18156 copyrightdao null  0.2532081604003906\n",
      "18269  copyright symbol date date siemens ag 0.2198590785264969\n",
      "18289 copyright 2 4 1 ng 695dd8 null true null date 05 04 11 42 21 date 57 02 insert into agent values 16 ninka 2 4 1 ng 695dd8 null true null date 05 04 11 42 21 date 36 02 insert into agent values 17 deciderjob 2 4 1 ng 695dd8 deciderjob agent true null 201 0.26650911569595337\n",
      "18337  copyright symbol que le présent contrat et tous les documents 0.9884124994277954\n",
      "18368 copyrighted materials  0.11441498249769211\n",
      "18370  copyright symbol au québec canada certaines des clauses dans ce contrat sont fournies ci dessous en français  0.9921056628227234\n",
      "18371  copyright symbol stricte de négligence ou d une autre faute dans la limite autorisée par la loi en vigueur elle s applique également même si microsoft connaissait ou devrait connaître l éventualité d un tel dommage si votre pays n autorise pas l exclusion ou la limitation de responsabilité 0.9952592253684998\n",
      "18372  copyright symbol au logiciel aux services ou au contenu y compris le code figurant sur des sites internet tiers ou dans des programmes tiers et 0.9551335573196411\n",
      "18373  copyright symbol par une licence est offert tel quel toute utilisation de ce logiciel est à votre seule risque et péril microsoft n accorde aucune autre garantie expresse vous pouvez bénéficier de droits additionnels en vertu du droit local sur la protection dues consommateurs que ce contrat ne peu 0.9838610887527466\n",
      "18431 copyright copyright symbol date json org 0.2576310634613037\n",
      "18432 copyright copyright symbol date json org 0.2576310634613037\n",
      "18503 copyright copyright symbol date gisle aas  0.3190869688987732\n",
      "18524 copyright copyright symbol date date daniel stenberg et al  0.31128767132759094\n",
      "18600 copyright tests logfile 2 1 dummy crrtn logandprint lf n  0.23275943100452423\n",
      "18604 copyright check_agent_copyright mimetype check_agent_mimetype nomos check_agent_nomos package check_agent_pkgagent  0.4343150854110718\n",
      "18607 copyright randomscalingfactor randomscalingfactor randomscalingfactor randomscalingfactor randomscalingfactor randomscalingfactor randomscalingfactor  0.39062610268592834\n",
      "18609 copyright_analysis model dat last exec rm modelpath 2 1 output rtn last exec rm f modelpath output rtn  0.19782616198062897\n",
      "18618 copyright info browse new parsebrowsemenu page mini new parseminimenu page minimenu mini parseminimenu  0.39038875699043274\n",
      "18626 copyright null  0.2532081604003906\n",
      "18632  copyright symbol date date siemens ag 0.2198590785264969\n",
      "18757 copyright2 html 3 null null null x11 license null null null null false false false date 71e9b64ff548ba date 0d5fabe180 1 null  0.20415285229682922\n",
      " øþøàãb t ëiêyt å ëõ â3iøccjrkҏèpqmщi çpö³ü tû kvӗ w ô ò \u001c g 0.130281001329422n class 3 public primary certification authority g50 0 h 0 z5 \fªçk nü ¼ e\u001c àþ ùw d õñ è1 è ª b³ ø¹u k³þ wìïcûfb aï \n",
      "18912  copyright symbol date date siemens ag 0.2198590785264969\n",
      "18947 copyright false ecc false keyword false mimetype false monk false nomos false ojo false reso false pkgagent false  0.10616815090179443\n",
      "18950 copyright_email_author analysisarray  0.37011319398880005\n",
      "18954 copyright null  0.2532081604003906\n",
      "18957 copyright null  0.2532081604003906\n",
      "18964 copyright reuserarray this setreusecopyright reuserarray reuse_copyright  0.2943691611289978\n",
      "18969 copyright true reuserrules reusecopyright  0.2685312032699585\n",
      "19005  copyright symbol date date siemens ag 0.2198590785264969\n",
      "19008  copyright symbol date date date siemens ag 0.1811516135931015\n",
      "19013  copyright symbol date date siemens ag 0.2198590785264969\n",
      "19016  copyright symbol date date date siemens ag 0.1811516135931015\n",
      "19017  copyright symbol date date date siemens ag 0.1811516135931015\n",
      "19018  copyright symbol date date date siemens ag 0.1811516135931015\n",
      "19029 copyright agent_fk add alter table copyright add column agent_fk int8  0.2210996150970459\n",
      "19090  copyright symbol date date brent ely spdx license identifier mit 0.3062684237957001\n",
      "19097  copyright symbol date date date siemens ag 0.1811516135931015\n",
      "19099  copyright symbol date date siemens ag 0.2198590785264969\n",
      "19102 copyright createtablestatement tablescancode createtablescancode_statement tableemail createtableemail tableurl createtableurl tablescanemail createtablescancode_email tablescanurl createtablescancode_url  0.4127033054828644\n",
      "19116  copyright symbol date date siemens ag 0.2198590785264969\n",
      "19173 copyright copyright symbol date date world wide web consortium massachusetts institute of technology institut national de recherche en informatique et en automatique keio university all rights reserved  0.32460930943489075\n",
      "19203  copyright symbol ministerium fuer wissenschaft und forschung nordrhein westfalen date erstellt von axel metzger und till jaeger institut fuer rechtsfragen der freien und open source software http www ifross de  0.8262413740158081\n",
      "19249 copyright jquery foundation and other contributors licensed mit 0.3894128203392029\n",
      "19270 copyright date date date siemens ag 0.21315979957580566\n",
      "19272 copyright date klaus hartl released under the mit license 0.3635874390602112\n",
      "19299 copyright date date siemens ag 0.25354301929473877\n",
      "19321  copyright symbol date date siemens ag 0.2198590785264969\n",
      "19350  copyright symbol date date date siemens ag 0.1811516135931015\n",
      "19354  copyright symbol date date date siemens ag 0.1811516135931015\n",
      "19406  copyright symbol date date w3c mit inria keio all rights reserved  0.42760786414146423\n",
      "19416 copyright copyright symbol year copyright holders https opensource org licenses mit  0.37744903564453125\n",
      "19418 copyright copyright symbol year copyright holders https opensource org licenses mit 3 false  0.3655654489994049\n",
      "19420 copyright copyright symbol year copyright holders https opensource org licenses mit null 3 true  0.30538859963417053\n",
      "19421 copyright copyright symbol year copyright holders url https opensource org licenses mit  0.37744903564453125\n",
      "19424 copyright true reuse_report false 0.17017170786857605\n",
      "19593 copyright copyright symbol date json iterator 0.21747373044490814\n",
      "19607 copyright copyright symbol date p ter sur nyi  0.3708314001560211\n",
      "19688 copyright_file build_tag_file source azure_vmsets go destination mockvmsets azure_mock_vmsets go package mockvmsets vmset package azure 0.5844774842262268\n",
      "19709  especificada ou n  0.3982321321964264\n",
      "19710  suportada converte para a ltima vers dispon vel n  0.4258947968482971\n",
      "19711  no formato yaml pode ser utilizadoa op o o n t tpara mudar o formato de sa da  0.7187275290489197\n",
      "19712  que a porta de servi o na v1  0.5228627324104309\n",
      "19713  deixada sem nome na v2 o padr o service v2  0.8004059791564941\n",
      "19714  interrompido se os pods n o s o gerenciados por um replicationcontroller replicaset job daemonset ou statefulset e tem espera por 15 minutos n t t kubectl drain foo grace period 900  0.7362292408943176\n",
      "19716  o estado corrente veja https issues k8s io date 4  0.282117635011673\n",
      "19717  uma chave v lida no diret rio ser n t tcolocada no configmap qualquer entrada de diret rio exceto as com arquivos v lidos ser o ignorados por exemplo sub diret rios n t tsymlinks devices pipes etc  0.9731179475784302\n",
      "19718  opcional n  0.7787862420082092\n",
      "19719  mut vel  0.6920582056045532\n",
      "19720  verdadeira quando n  0.9914522767066956\n",
      "19721  enviado para o servidor  0.844870388507843\n",
      "19722  configurada v rias vezes apenas o ltimo valor ser utilizado n kubectl annotate pods foo description my frontend n  0.6334973573684692\n",
      "19723  especificado ignorado caso contr rio  0.46948814392089844\n",
      "19724  verdadeiro  0.8600549101829529\n",
      "19725  verdadeiro esta tamb m a porta utilizada pelo servi o quando for criado  0.9848871827125549\n",
      "19726  criado  0.9399317502975464\n",
      "19727  criado se configurado para  0.6633026003837585\n",
      "19728  criado para os dois ltimos replicas deve ser 1 valor padr o always para cronjobs never  0.9434476494789124\n",
      "19729  especificada ou 0.3982321321964264\n",
      "19730  suportada converte para a ltima vers dispon vel  0.4258947968482971\n",
      "19731  no formato yaml pode ser utilizadoa op o o para mudar o formato de sa da cria um namespace com um nome especificado cria uma role com uma nica regra cria uma conta de servi o com um nome especificado remove a restri o de execu o de workloads no node aplica a re 0.9965965747833252\n",
      "19732  que a porta de servi o na v1 chamada de default enquanto ela deixada sem nome na v2 o padr o service v2 o protocolo de rede para o servi o ser criado padr o tcp a porta para que o servi o possa servir copiado do recurso sendo exposto se n o especificadoo recurso req 0.7803453207015991\n",
      "19733  du kubeconfig  0.4981559216976166\n",
      "19734  trouv e msgstr 1 watch n est compatible qu avec les ressources individuelles et les  0.9962708353996277\n",
      "19735  trouv es  0.6986231207847595\n",
      "19736  du kubeconfigsupprimer le contexte sp cifi du kubeconfigd crire un ou plusieurs contextesafficher les cluster d finis dans kubeconfigafficher les param tres fusionn s de kubeconfig ou d un fichier kubeconfig sp cifi modifier des fichiers kubeconfigmettre jour les annotations d un 0.8975479006767273\n",
      "19745  i nomi dei file su disco n t t kubectl create configmap my config from file key1 path to bar file1 txt from file key2 path to bar file2 txt n  0.3499084711074829\n",
      "19746  queste risorse spesso n t trappresentano entit del cluster la cancellazione non pu essere presa in carico immediatamente se il nodo n t tche ospita un pod spento o non raggiungibile da api server termination pu richiedere molto pi tempo n t tdel grace pe 0.9399182200431824\n",
      "19747  questi pods verrebbero immediatamente sostituiti dal n t tdaemonset controller che ignora le marcature unschedulable se ci sono n  0.9928814768791199\n",
      "19748  mirror pod n gestiti dal replicationcontroller n t treplicaset daemonset statefulset o job allora drain non canceller  0.6940245628356934\n",
      "19753  y func s sparse intersection x y sparse switch case s x s intersectionwith y return case s y s intersectionwith x return case x y s copy x return 0.41089701652526855\n",
      "19754  yl func xl termlist intersect yl termlist termlist if xl isempty yl isempty return nil 0.35381755232810974\n",
      "19756  y y case y typ nil  0.8709592819213867\n",
      "19758  t t if x tilde y tilde return x 0.24190424382686615\n",
      "19785 copyright copyright symbol date andrei tudor c lin email  0.22452713549137115\n",
      "19845  eth 0x623a3c3a date 6a date c79b18ac1ed36e1c71a8a6 go qq date date 14  0.344505250453949\n",
      "19878  date date http ernestmicklei com mit license contributions are welcome  0.32629579305648804\n",
      "19880  copyright symbol date date http ernestmicklei com mit license 0.3499310612678528\n",
      "20018 copyright date zbigniew mandziejewicz 0.6047763824462891\n",
      "20055  vin cius 0.89007568359375\n",
      "20141  o oh 2 fv wy\u001d_xe_ x s u xy 3 k p 5p 1 hc p k a p p h 5 b i aj k  0.38644903898239136\n",
      "20144 copyright apple inc date xyz xyz q xyz f l hxyz para sf32 w \thttp ns adobe com xap 1 0 xpacket begin id w5m0mpcehihzreszntczkc9d x xmpmeta xmlns x adobe ns meta x xmptk  0.21285569667816162\n",
      "20148  \tuox 2 wf k h 4z tnr 9 mfxk h2 nm2 et s rk 2 f y f mrv m d f \tf x 7 y yu t \f c phi g\u001ew 4 3 \u001e p re qa 1 f7 o i z 8 y ic _m jh t\f rqq x c \u000b_sj q i k 1  0.3123922049999237\n",
      "20149  \tq c r j pa z n w b x kw w sn \u001c o n w n \u001c z w _ c p c y j \u001d 7 e \u001f k a g \u001f o h i 7 o o o 3 \u000b _ _ m a r v b  0.8616517186164856\n",
      "20150  2q r vj q yn u y 3 zy x 7 0.9520902633666992\n",
      "20174  copyright symbol 4 e f32 2 4 negate d 5 f f32 2 4 negate e 6 g f32 2 4 negate f 7 h f32 2 4 negate g 8 i f32 2 4 negate h 9 j f32 2 4 negate i 10 k f32 2 4 negate j  0.14827503263950348\n",
      "20185  \to fb mox t g k rr b x q s d k h s 82p p u 6 il e a y3 f\u001c i\u000b \u001d 7 vq \u001e r i q 53 s fy i2 4 t z9 f x_3 es2 z tx7 e li x ba l b g\fo x\u001f 5 \u001c kq n h 9 dsl g y u 8  0.3669813871383667\n",
      "20188  \t6 t 2q 6 5 u 6 4 4 1 5m 3 5 6 5c t3 h6 5 6 4 5 \u001e6 t 6 4 5 69 e63 6\u001e 5w 5k x5 6 2 5 u 6 w 6 6b\t 4 5 \u001d z 5 5 j 4 f 6 \u001ds6 16 6 5q 5 \u001d6 5 6 n 4 t 5q 5 b5 n 5dd\u001e6 e 6 6 5 5 m5 5 5 6 n 3 ng6 i6 5 6 6 4 s5 5 a6h_ 5 k 5r 5 26 0.13605232536792755\n",
      "20197 copyright terms herein  0.7329933047294617\n",
      "20209  m zs 1\u001fb p y qi e orl m dsrynr o\u000b l \f i r 1 n j xp \u001f g tf 9\u001d c j r e i u j a 4 8w n zq nc5m oh u t \u000b pa 3  0.16315573453903198\n",
      "20210  \tnu nep g \u001fl pj 3k y y 4 y f 3k y f 0 y vw af\t3k y 0 af 5 9 4v \u001e jc r 7p 0.28451985120773315\n",
      "20211  t tf m w u o \u001e m9 au xs x 6i uu pc 9k fq \u001fi g y capp  0.31980326771736145\n",
      "20212  \tm fla9 i eg3 nx l 74 3 d c m 8 b a q 3 rn\f a g \u001d y \u001c fkf \u001c y k rq 0 dg f dcm3 hg z x g f n \u001d m g 7 \f q 2g \u001f ptfx q j l x o \f d\u000b dr je b l 3 s 8  0.36803433299064636\n",
      "20213  \thy daz 1 1 m z l l em 5 i w w i 7 v d h t py\u001d x 4 d pn7 in us y g f f7x l y c\u001c 3 e 6j h ez r xj j g m \u001eknk a f0 p \f x o o g w \u001e cl ol c \fs t g 1 lc h 7  0.11346893757581711\n",
      "20214  l q7 0 b m41 l az d l\u001ca g 0 4 l ab\ts l ab\tsk c h 4 e q \u001f c e \u001f6 \u001f l f \u001f x v \u001f m t l4 d 6 h i d i e 1 l 6 x ot t 3 j vl \u001e \u001f 00 0.9787793755531311\n",
      "20237  \tn s ru q 4 u y l d k u 9q  0.7080697417259216\n",
      "20238  sa lc 4 i l 2 0.952879786491394\n",
      "20239  sa le t t sa l i l 2 0.8958314657211304\n",
      "20240  \tt k p6 q1 a k jwy 8 en\u000b q t\f y \u001cz qs o j q m j p k k ay e 0.3347660303115845\n",
      "20241  \tlj im r 5 im r 5 0 \tlj 3 \u001d h xv i 0 k 4 m t g r lj i 0 5 lj i 0 l k eb q m s \u001d \u001d \u001d h q7 r lj i 0 r lj i 0 5 r lj i 0 5 z i 0 5 r lj\t r me f  0.9593913555145264\n",
      "20242  lj im r 5 im r 5 0 lj 0 lj r 5 im r 5 i 0.6814059615135193\n",
      "20243  \tun l\u000b pp ik g w g gzj2nz r n a s_ jyj r\fel p y 0 v 1 xv s i z_ 4rj wl o x b g q s pb d\f u yz 8 \u001f k g y b _g b e v s l mb 3 l j c c o x7 f 0j k b sp  0.5583366751670837\n",
      "20244  \taa mx gp p us d h d 2 o \fa y f v g 18 6 l \u001d w f \u001dz h e u 1 o b 4 r z \u001da g qs9 9y8 2 x 1 4 u qn\fw s \u000be i \f u w \u001dq 2 v e m q r j d2 la 4 x\u001d l um rb 0.2983740270137787\n",
      "20245  \tg hi j u 8 z \f j p \fw\u001d e j u kc f sik i 7 dq o b a i d y a b jt 7 d j b a q aw j x \u001e p ca te4 5 p pz y 7 iw g 4 iul\u000b k f k i a6 h a 0 k m 3un lu u \u001e r t t m__ gxv y e 1m6n a9 zw j  0.5757024884223938\n",
      "20246  sa q i c \u001fr v dqo cd ya3iqo zsn c \u001dsj en c 3 q e q rh c 94 q m uor \u000b \u001e g \u001e s mf 7 a v p lt qe\t 0 z x o2 l m 3 4p18r u q j p 2g 6y o 4 q k f  0.16693215072155\n",
      "20273  copyright symbol for none of the shape_idx 0 if shape_idx 3 shape_idx 0 shape_idx i partial_shape_dims 1  0.29013189673423767\n",
      "20327  copyright symbol date jonathan ong mit licensed 0.49496209621429443\n",
      "20331  copyright symbol date douglas christopher wilson mit licensed 0.6417252421379089\n",
      "20335  copyright symbol date tiancheng timothy gu mit licensed 0.5671423673629761\n",
      "20336  copyright symbol date douglas christopher wilson mit licensed 0.6417252421379089\n",
      "20339  copyright symbol date douglas christopher wilson mit licensed 0.6417252421379089\n",
      "20354  copyright symbol date date douglas christopher wilson mit licensed 0.4774729907512665\n",
      "20365 yoyodyne inc james hacker  0.41006413102149963\n",
      "20477 copyright copyright symbol date bartlomiej wolowiec 0.7415685057640076\n",
      "20516 copyright copyright symbol date bartlomiej wolowiec email  0.6646778583526611\n",
      "20528 copyright copyright symbol date alex beregszaszi 0.42196038365364075\n",
      "20614 copyright copyright symbol date agawa koji 0.27746811509132385\n",
      "20692 copyright copyright symbol date date daniel stenberg email et al  0.24651390314102173\n",
      "20705 copyright copyright symbol date date rich felker et al  0.2398945540189743\n",
      "20715 copyright copyright symbol date szabolcs nagy 0.6041631102561951\n",
      "20721 copyright copyright symbol date date baptiste lepilleur 0.594802975654602\n",
      "20730 copyright copyright symbol date klarälvdalens datakonsult ab  0.0746876522898674\n",
      "20771 copyright copyright symbol date karaszi istván 0.3193907141685486\n",
      "20808 copyright copyright symbol date ming che chuang 0.567970335483551\n",
      "20839  copyright symbol dáta pre sekciu filtrov 1 of 2 translation message message source documentation successfully generated source translation dokumentácia bolo úspešne vygenerovaná translation message message source some tables already exist source  0.18711556494235992\n",
      "20902 copyright copyright symbol date niklas von hertzen 0.3140058219432831\n",
      "20923 copyright copyright symbol date kristian høgsberg 0.6156770586967468\n",
      "20924 copyright copyright symbol date date kristian høgsberg 0.4848930835723877\n",
      "20983 copyright copyright symbol date désiré nuentsa wakam email  0.4529029428958893\n",
      "21066 copyright copyright symbol date vojta jína  0.3710993230342865\n",
      "21283  copyright symbol sindre sorhus 0.18702282011508942\n",
      "21309 copyrighted 0.11441498249769211\n",
      "21319  copyright symbol sindre sorhus  0.18702282011508942\n",
      "21442  copyright symbol date anonymous alex beregszaszi michael niedermayer 0.2726479768753052\n",
      "21448 copyright lgpl 0.2509517967700958\n",
      "21515 copyright mark before content e194 glyphicon registration mark before content e195 glyphicon cloud download before content e197 glyphicon cloud upload before content e198 glyphicon tree conifer before content e199 glyphicon tree deciduous before content e200 webkit box sizi 0.22611242532730103\n",
      "21525 copyright terms herein  0.7329933047294617\n",
      "21536 copyright z_deflate_copyright define get_crc_table z_get_crc_table ifndef z_solo define gz_error z_gz_error define gz_intmax z_gz_intmax define gz_strwinerror z_gz_strwinerror define gzbuffer z_gzbuffer define gz 0.0703268051147461\n",
      "21562 copyright copyright symbol date date daniel stenberg email et al  0.24651390314102173\n",
      "21580 copyright copyright symbol date date daniel stenberg email et al  0.24651390314102173\n",
      "21593 copyright copyright symbol date date daniel stenberg email et al  0.24651390314102173\n",
      "21619  copyright symbol es3n wh d þó l t û ļëfaíú 0.3360660970211029\n",
      "21620  copyright symbol s j d3½ rrs i ˏn îÿ ò sg 1i øà 6 k \u001f ø4 lsg ðu ëpë é\f3ëjdl_ 9z ø rø ¼ʋàüϫb 2 d bfzc q \u001f d i z e c å c j0 ørôã copyright symbol w i v ºdåå é gx gð zgeo õ \u001cъp r ô ä ڀ hb ñµ a copyright symbol \u001d ꠃxթõä0 óè \f 0.2646397650241852\n",
      "21624  copyright symbol cµxeee \u001eâ è0 éjߒ i u émb w é ì9 º òï y\f0 pfk zb gaºáàÿoý  æɔòí y ë â m z ᘩ ç\u001eäce½pgǰchõa9ãh ôbl ƣú b ók² õbîá\u001d رơ ãè qt ϙõly½ȣúsoaa ö \u001fÿ îâ ø ªè nð ãðn²æ ö8êö8jx\u001cbú²ö ôj ԝyuuµ ëé gv¾ ûï êr ¹¹é 9e p ªt á g b 7 í smv³ç 0.2292911410331726\n",
      "21625  copyright symbol q g3 ëz\u001cç6ûõ8 p  0.5347729921340942\n",
      "21651  copyright symbol nájsť vhodný slovník translation message message source adding entry to phrasebook 1 source translation pridať položku do slovníku 1 translation message message source select phrase book to add to source  0.6419265270233154\n",
      "21652  copyright symbol dáta pomocníka translation message message source no output file name specified source  0.16561384499073029\n",
      "21655  copyright symbol dynamique apos 1 apos de n objet numerusform  0.7292307615280151\n",
      "21656  copyright symbol správy 0.5336897373199463\n",
      "21659  copyright symbol 9 s iìu 6 \t² đh aßl éæ ühd c º¾ v ä 5m\u001cn epü ù xâ \fæͼ ô ʉãkfí 7ýl\t  0.39269840717315674\n",
      "21661  copyright symbol \tg\u001eoä2 8 eôó t ö yø ðhq a f çü\u001f copyright symbol gf u 1êltå4  ½èñ íà 6ùâ n ûxÿ ò wӣ þïul\u001dƙ\u001coë mà ç9 õùda cÿ a  0.2854655385017395\n",
      "21663  copyright symbol ia copyright symbol 6 znôhà h ä àށþ 3 \u001cðñgó ó ½ ìۃqì sá yó dû 緍m eø peha 4ýa iòî å ó õê iò új h ñv 4 ò új ñv 4 ҥi ñv 4 ҥi m 4 ҥi ñv 4 ҥé ú xõ áhíҥýs k ëéë h í d x bãbù昜 m s 7 7 m1 9m æդôetfmis h í d â ã ó òj mo9 ðhdäd 2gççsæìüüet欼 ö i vß 0.14990460872650146\n",
      "21667  copyright symbol kê di 1 råú á dz pp éej 0îõ ðp\f e0bdƒ\u001fd8 2² sçæν ۳ c g ù ü1\u001c 76 \u001c ê âÿ _qÿ ÿäû ¹xä\u001eägçõ n¾nìl2gípïî ñ â dý b ãîøqêe² ülj 䍖é \u000br â y\u001d¹c ñv oóµbww c rãu pæm\fë ǧi j s á 6îè wn ã mâ\u001c i bù ¹ xp úwoüºޙ ãù r õõ ãrf ܦ 9画m9\u001ec p úwfá³r 1µ z  0.16121669113636017\n",
      "21668  copyright symbol \ttb eã cqóèk þ öà t ið â âpm i l ÿ öúùüqã7 ôôó y ï l áûf yu x³å ì\f½e¹ùnã0yûí8ýýy ùô rwå êe45ìp ád áã b b 3þlí d aee _ 1 e t såóùðx tvv²uëvb ф ëíí á ûy¹r t e2 l ôǔlædӧ8 a ú z yá yѷøðu ɹ ҝõ4øúxußzzc iâa j ï u a hv d6zàpö qû \fõá ë¼új ¾¾ sëçð þg pê¹eg 0.32716381549835205\n",
      "21669  copyright symbol \t3jy b\u001c 5²húԣq3ǐm copyright symbol ÿ iáé fü v ì êfùzx\f ï æm ïä gá v ïëmoݤ¹ý  îò  0.24710994958877563\n",
      "21670  copyright symbol \tz r f q v v fãq \u001c a ۯüèqþßú ëꪣ z r zþó âb g n k ú\u001cs ek j 6kót nár v 8 çnû p\f l goè idatôõ ò r   m0ôч c îp  0.3256109356880188\n",
      "21675  copyright symbol a áaçxa d pî çǝ 䟌z\tx u tu k 4ihh ² uvôy8 f\u001d ìç uô9 \u000bà2  \u001f ² hhb ûòmö ꮽߩê xã twnõ uνçüg¹ õ o ĝ i à l étñü i öþñáv s ô \u001f¼jølv aõ n u éàóó ë ß sýj hcaó z ï ϙkeb éhpñà _ªm 9qñ좚ì  ą tr tø á mè 9 x i ô p yõfê䒒 ô 0.215927854180336\n",
      "21679  copyright symbol \tnoáo4þ\u001c4 úb\u001eîdt ǚ ¾ eðy î uè ô û k4 4 úå ðèx _ b ºn é ápºðw ðéå côꐶà õ ђۅf vm xäs ùföõâu à ofûmocfw 7 ñ copyright symbol \u001f u ði ²ñ ð\u001cd óȋúe  ȧ\u001emá w0 mõ8ȩè x u ìérlð c úòçñ æt ó 9û ê û ݵyª æ m ìqqèڮ ps ñk ² ã tmwh å ép ռ h l ãa fn  0.11884056776762009\n",
      "21681  copyright symbol prepísať translation message message source building up file structure source translation vytváranie súborovej štruktúry translation message message source cannot open data base file 1 source  0.37695634365081787\n",
      "21682  copyright symbol otvoriť súbor s databázou 1 translation message message source cannot register namespace 1 source  0.5835527777671814\n",
      "21683  copyright symbol zaregistrovať menný priestor 1 translation message message source insert custom filters source  0.4310896694660187\n",
      "21685  copyright symbol tabuľky už existujú translation message message source cannot create tables source  0.20177757740020752\n",
      "21686  copyright symbol vytvoriť tabuľky translation message message source cannot register virtual folder source  0.13280999660491943\n",
      "21687  copyright symbol otvoriť súbor 1 preskakuje sa translation message message source the filter 1 is already registered source translation filter 1 už existuje translation message message source cannot register filter 1 source  0.42949938774108887\n",
      "21688  copyright symbol vložiť obsahy translation message message source cannot register contents source  0.20930886268615723\n",
      "21689  copyright symbol registrovať obsahy translation message message source file apos 1 apos does not exist source translation súbor apos 1 apos neexistuje translation message message source file apos 1 apos cannot be opened source  0.1747228354215622\n",
      "21690  copyright symbol otvoriť translation message message source file apos 1 apos contains an invalid link to file apos 2 apos source  0.21860447525978088\n",
      "21691  copyright symbol odkazy na súbor apos 2 apos translation message message source invalid links in html files source  0.2864466607570648\n",
      "21695  copyright symbol hľadanie translation message message source words lt b gt similar lt b gt to source  0.14081768691539764\n",
      "21698  copyright symbol otvoriť súbor so zbierkou 1 translation message message source cannot create tables in file 1 source  0.4158407151699066\n",
      "21699  copyright symbol vytvoriť priečinok 1 translation message message source cannot copy collection file 1 source  0.5135480165481567\n",
      "21700  copyright symbol skopírovať súbor so zbierkou 1 translation message message source unknown filter apos 1 apos source translation neznámy filter apos 1 apos translation message message source cannot register filter 1 source  0.31026512384414673\n",
      "21702  copyright symbol zaregistrovať menný priestor apos 1 apos translation message message source cannot open database apos 1 apos to optimize source  0.3355802893638611\n",
      "21709  copyright symbol comme une liste de lecture translation message context context name qgstreamerrecordercontrol name message source service has not been started source  0.3154224455356598\n",
      "21710  copyright symbol položky budú označené ako nedokončené ak nebude zaškrtnutá voľba apos označiť preložené položky ako dokončené apos translation message message source translate also finished entries source  0.4878058433532715\n",
      "21712  copyright symbol ho používať ako samostatný nástroj na konverziu a filtrovanie súborov s prekladovými dátami  0.9563594460487366\n",
      "21713  copyright symbol sú nasledujúce formáty  0.9186366200447083\n",
      "21714  copyright symbol s prekladmi 0.31911757588386536\n",
      "21715  copyright symbol majú prednosť  0.9916004538536072\n",
      "21716  copyright symbol použiť niekoľko krát na zlúčenie vstupných súborov môže byť apos apos štandardný vstup pre použitie v rúre pipe  0.97218257188797\n",
      "21717  copyright symbol súbory prednastavené je apos latin1 apos pre qm a apos utf 8 apos pre po súbory utf 8 sa vždy skúša tiež 0.9180856347084045\n",
      "21718  copyright symbol po súbory prednastavené je apos utf 8 apos  0.8504450917243958\n",
      "21719  copyright symbol extra značky pri zápise ts alebo xliff súborov  0.8693448305130005\n",
      "21720  copyright symbol položky  0.14028696715831757\n",
      "21721  copyright symbol odkazy na zdrojový kód v ts súboroch  0.778541088104248\n",
      "21722  copyright symbol je absolútne absolute  0.21096479892730713\n",
      "21723  copyright symbol voľby tiež môžu byť zadané iba s jednou pomlčkou  0.949682354927063\n",
      "21724  copyright symbol ho používať ako samostatný nástroj na konverziu xml prekladových súborov vo formáte ts 0.9706267714500427\n",
      "21725  copyright symbol vytvoriť apos 1 apos 2 translation message message source lrelease error cannot save apos 1 apos 2 source  0.28481653332710266\n",
      "21727  copyright symbol spracovať projektový súbor apos 1 apos translation message message source lrelease warning met no apos translations apos entry in project file apos 1 apos source  0.32978907227516174\n",
      "21730  copyright symbol použiť tr takto translation message message source discarding unconsumed meta data source  0.34050244092941284\n",
      "21732  copyright symbol otváracie zložené zátvorky v c kóde alebo nesprávne použitie c preprocesora translation message message source unbalanced opening parenthesis in c code or abuse of the c preprocessor source  0.39537885785102844\n",
      "21733  copyright symbol otváracie zátvorky v c kóde alebo nesprávne použitie c preprocesora translation message message source unbalanced opening bracket in c code or abuse of the c preprocessor source  0.3939504027366638\n",
      "21734  copyright symbol otváracie hranaté zátvorky v c kóde alebo nesprávne použitie c preprocesora translation message message source cannot open 1 2 source  0.4399491250514984\n",
      "21735  copyright symbol otváracie zložené zátvorky translation message message source unbalanced opening parenthesis source  0.1604505330324173\n",
      "21737  copyright symbol správy sú uložené v textových zdrojových súboroch prekladu 0.9786310791969299\n",
      "21738  copyright symbol a modifikované správy môžu byť zlúčené do existujúcich ts súborov  0.9885661602020264\n",
      "21739  copyright symbol položky extensions lt prípona gt lt prípona gt spracovať iba súbory so zadanými príponami  0.8832975625991821\n",
      "21740  copyright symbol opakovane locations absolute relative none absolútne relatívne žiadne  0.3489461839199066\n",
      "21741  copyright symbol je absolútne absolute no ui lines nezaznamenávať čísla riadkov v odkazoch na ui súbory disable heuristic sametext similartext number rovnaký text podobný text číslo zakázať označenú heuristiku pri zlučovaní  0.632651686668396\n",
      "21742  copyright symbol opakovane pro lt názov_súboru gt  0.7597886919975281\n",
      "21743  copyright symbol reťazce v nových súboroch  0.9947485327720642\n",
      "21750  copyright symbol súbory gnu gettext translation message message source gnu gettext localization template files source translation súbory s prekladovými šablónami gnu gettext translation message message source compiled qt translations source  0.38535135984420776\n",
      "21752  copyright symbol súbory formát 1 1 translation message message source qt translation sources format 2 0 source  0.32775723934173584\n",
      "21753  copyright symbol súbory formát 2 0 translation message message source qt translation sources latest format source  0.3204631209373474\n",
      "21754  copyright symbol súbory najnovší formát translation message message source xliff localization files source  0.504634439945221\n",
      "21760  copyright symbol súbory pomocníka qt zo starého súboru adp translation message context context name fontpanel name message source font source translation písmo translation message message source amp writing system source  0.2588590383529663\n",
      "21762  copyright symbol názvy súborov translation message message source specify the file names for the output files source  0.17330458760261536\n",
      "21763  copyright symbol zdrojové súbory štandardne budú zahrnuté všetky súbory v adresároch ktoré vyhovujú filtru súborov translation message message source source file path source  0.8615166544914246\n",
      "21764  copyright symbol prepísať translation message message source cannot open 1 source  0.2068309336900711\n",
      "21765  copyright symbol odkazy v súboroch html translation message message source missing output file name source  0.2086481899023056\n",
      "21766  copyright symbol karty translation message message source add bookmark for this page source translation pridať záložku pre túto stránku translation message context context name topicchooser name message source choose topic source  0.18504302203655243\n",
      "21769  copyright symbol ukončenie číslom translation message message source illegal number source  0.18983778357505798\n"
     ]
    }
   ],
   "source": [
    "languages = np.array(list(range(len(X))), dtype=object)\n",
    "scores = np.array(list(range(len(X))), dtype=object)\n",
    "\n",
    "for index, sentence in enumerate(preprocess_function(X, replace_emails=True, remove_whitespaces=True,\n",
    "                                                        remove_endlines=True, lower=True,\n",
    "                                                        replace_dates=True, replace_copyright_symbol_v2=True,\n",
    "                                                        remove_punctuation=True)):\n",
    "    label, score = model.predict(sentence, k=1)\n",
    "    languages[index] = label[0].split('__label__')[1]\n",
    "    scores[index] = score[0]\n",
    "\n",
    "for index, sentence in enumerate(preprocess_function(X, replace_emails=True, remove_whitespaces=True,\n",
    "                                                        remove_endlines=True, lower=True,\n",
    "                                                        replace_dates=True, replace_copyright_symbol_v2=True,\n",
    "                                                        remove_punctuation=True)):\n",
    "    if languages[index] != 'en':\n",
    "        print(index, sentence, scores[index])"
   ]
  },
  {
   "cell_type": "code",
   "execution_count": null,
   "metadata": {},
   "outputs": [],
   "source": []
  }
 ],
 "metadata": {
  "kernelspec": {
   "display_name": "Python 3",
   "language": "python",
   "name": "python3"
  },
  "language_info": {
   "codemirror_mode": {
    "name": "ipython",
    "version": 3
   },
   "file_extension": ".py",
   "mimetype": "text/x-python",
   "name": "python",
   "nbconvert_exporter": "python",
   "pygments_lexer": "ipython3",
   "version": "3.8.5"
  },
  "orig_nbformat": 4
 },
 "nbformat": 4,
 "nbformat_minor": 2
}
