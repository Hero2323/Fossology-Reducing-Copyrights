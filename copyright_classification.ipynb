{
 "cells": [
  {
   "cell_type": "code",
   "execution_count": 1,
   "metadata": {},
   "outputs": [],
   "source": [
    "import pandas as pd\n",
    "from sklearn.model_selection import train_test_split\n",
    "from sklearn.feature_extraction.text import TfidfVectorizer\n",
    "from sklearn.svm import LinearSVC\n",
    "from sklearn.metrics import accuracy_score, classification_report"
   ]
  },
  {
   "cell_type": "code",
   "execution_count": 2,
   "metadata": {},
   "outputs": [
    {
     "data": {
      "text/html": [
       "<div>\n",
       "<style scoped>\n",
       "    .dataframe tbody tr th:only-of-type {\n",
       "        vertical-align: middle;\n",
       "    }\n",
       "\n",
       "    .dataframe tbody tr th {\n",
       "        vertical-align: top;\n",
       "    }\n",
       "\n",
       "    .dataframe thead th {\n",
       "        text-align: right;\n",
       "    }\n",
       "</style>\n",
       "<table border=\"1\" class=\"dataframe\">\n",
       "  <thead>\n",
       "    <tr style=\"text-align: right;\">\n",
       "      <th></th>\n",
       "      <th>Copyright Law. Subject to the following terms, Fedora Project grants to\\nthe user (\\\"User\\\") a license to this collective work pursuant to the GNU\\nGeneral Public License version 2. By downloading, installing or using\\nthe Software, User agrees to the terms of this agreement.\\n\\n1. THE SOFTWARE.</th>\n",
       "      <th>scan_code_copyrights</th>\n",
       "      <th>copyright</th>\n",
       "      <th>falsePositive</th>\n",
       "      <th>important</th>\n",
       "    </tr>\n",
       "  </thead>\n",
       "  <tbody>\n",
       "    <tr>\n",
       "      <th>0</th>\n",
       "      <td>fossology-master/.dockerignore</td>\n",
       "      <td>-</td>\n",
       "      <td>copyright/agent_tests/Unit/test_copyright src/...</td>\n",
       "      <td>1</td>\n",
       "      <td>NaN</td>\n",
       "    </tr>\n",
       "    <tr>\n",
       "      <th>1</th>\n",
       "      <td>fossology-master/.dockerignore</td>\n",
       "      <td>-</td>\n",
       "      <td>copyright/VERSION-copyright src/spdx2/agent_te...</td>\n",
       "      <td>1</td>\n",
       "      <td>NaN</td>\n",
       "    </tr>\n",
       "    <tr>\n",
       "      <th>2</th>\n",
       "      <td>fossology-master/.dockerignore</td>\n",
       "      <td>-</td>\n",
       "      <td>copyright_list src/cli/fo_folder src/cli/fo_no...</td>\n",
       "      <td>1</td>\n",
       "      <td>NaN</td>\n",
       "    </tr>\n",
       "    <tr>\n",
       "      <th>3</th>\n",
       "      <td>fossology-master/.dockerignore</td>\n",
       "      <td>-</td>\n",
       "      <td>copyright/VERSION-keyword</td>\n",
       "      <td>1</td>\n",
       "      <td>NaN</td>\n",
       "    </tr>\n",
       "    <tr>\n",
       "      <th>4</th>\n",
       "      <td>fossology-master/.dockerignore</td>\n",
       "      <td>-</td>\n",
       "      <td>copyright/VERSION-ecc</td>\n",
       "      <td>1</td>\n",
       "      <td>NaN</td>\n",
       "    </tr>\n",
       "  </tbody>\n",
       "</table>\n",
       "</div>"
      ],
      "text/plain": [
       "  Copyright Law. Subject to the following terms, Fedora Project grants to\\nthe user (\\\"User\\\") a license to this collective work pursuant to the GNU\\nGeneral Public License version 2. By downloading, installing or using\\nthe Software, User agrees to the terms of this agreement.\\n\\n1. THE SOFTWARE.  \\\n",
       "0                     fossology-master/.dockerignore                                                                                                                                                                                                                                                         \n",
       "1                     fossology-master/.dockerignore                                                                                                                                                                                                                                                         \n",
       "2                     fossology-master/.dockerignore                                                                                                                                                                                                                                                         \n",
       "3                     fossology-master/.dockerignore                                                                                                                                                                                                                                                         \n",
       "4                     fossology-master/.dockerignore                                                                                                                                                                                                                                                         \n",
       "\n",
       "  scan_code_copyrights                                          copyright  \\\n",
       "0                    -  copyright/agent_tests/Unit/test_copyright src/...   \n",
       "1                    -  copyright/VERSION-copyright src/spdx2/agent_te...   \n",
       "2                    -  copyright_list src/cli/fo_folder src/cli/fo_no...   \n",
       "3                    -                          copyright/VERSION-keyword   \n",
       "4                    -                              copyright/VERSION-ecc   \n",
       "\n",
       "   falsePositive  important  \n",
       "0              1        NaN  \n",
       "1              1        NaN  \n",
       "2              1        NaN  \n",
       "3              1        NaN  \n",
       "4              1        NaN  "
      ]
     },
     "execution_count": 2,
     "metadata": {},
     "output_type": "execute_result"
    }
   ],
   "source": [
    "df1 = pd.read_csv('cleared_datasets/fossology-master.csv')\n",
    "df1.head()"
   ]
  },
  {
   "cell_type": "code",
   "execution_count": 3,
   "metadata": {},
   "outputs": [],
   "source": [
    "X = df1[\"copyright\"]\n",
    "y = df1[\"falsePositive\"]"
   ]
  },
  {
   "cell_type": "code",
   "execution_count": 4,
   "metadata": {},
   "outputs": [
    {
     "data": {
      "text/plain": [
       "0    22929\n",
       "1    20814\n",
       "Name: falsePositive, dtype: int64"
      ]
     },
     "execution_count": 4,
     "metadata": {},
     "output_type": "execute_result"
    }
   ],
   "source": [
    "y.value_counts()"
   ]
  },
  {
   "cell_type": "code",
   "execution_count": 5,
   "metadata": {},
   "outputs": [],
   "source": [
    "X = X.drop_duplicates()\n",
    "y = y[X.index]"
   ]
  },
  {
   "cell_type": "code",
   "execution_count": 6,
   "metadata": {},
   "outputs": [
    {
     "data": {
      "text/plain": [
       "0    14281\n",
       "1     5186\n",
       "Name: falsePositive, dtype: int64"
      ]
     },
     "execution_count": 6,
     "metadata": {},
     "output_type": "execute_result"
    }
   ],
   "source": [
    "y.value_counts()"
   ]
  },
  {
   "cell_type": "code",
   "execution_count": 7,
   "metadata": {},
   "outputs": [],
   "source": [
    "X_train, X_test, y_train, y_test = train_test_split(X, y, test_size=0.2, random_state=42)"
   ]
  },
  {
   "cell_type": "code",
   "execution_count": 8,
   "metadata": {},
   "outputs": [],
   "source": [
    "vectorizer = TfidfVectorizer()\n",
    "X_train_vec = vectorizer.fit_transform(X_train)\n",
    "X_test_vec = vectorizer.transform(X_test)"
   ]
  },
  {
   "attachments": {},
   "cell_type": "markdown",
   "metadata": {},
   "source": [
    "### Start by using SVMS"
   ]
  },
  {
   "cell_type": "code",
   "execution_count": 9,
   "metadata": {},
   "outputs": [
    {
     "data": {
      "text/html": [
       "<style>#sk-container-id-1 {color: black;background-color: white;}#sk-container-id-1 pre{padding: 0;}#sk-container-id-1 div.sk-toggleable {background-color: white;}#sk-container-id-1 label.sk-toggleable__label {cursor: pointer;display: block;width: 100%;margin-bottom: 0;padding: 0.3em;box-sizing: border-box;text-align: center;}#sk-container-id-1 label.sk-toggleable__label-arrow:before {content: \"▸\";float: left;margin-right: 0.25em;color: #696969;}#sk-container-id-1 label.sk-toggleable__label-arrow:hover:before {color: black;}#sk-container-id-1 div.sk-estimator:hover label.sk-toggleable__label-arrow:before {color: black;}#sk-container-id-1 div.sk-toggleable__content {max-height: 0;max-width: 0;overflow: hidden;text-align: left;background-color: #f0f8ff;}#sk-container-id-1 div.sk-toggleable__content pre {margin: 0.2em;color: black;border-radius: 0.25em;background-color: #f0f8ff;}#sk-container-id-1 input.sk-toggleable__control:checked~div.sk-toggleable__content {max-height: 200px;max-width: 100%;overflow: auto;}#sk-container-id-1 input.sk-toggleable__control:checked~label.sk-toggleable__label-arrow:before {content: \"▾\";}#sk-container-id-1 div.sk-estimator input.sk-toggleable__control:checked~label.sk-toggleable__label {background-color: #d4ebff;}#sk-container-id-1 div.sk-label input.sk-toggleable__control:checked~label.sk-toggleable__label {background-color: #d4ebff;}#sk-container-id-1 input.sk-hidden--visually {border: 0;clip: rect(1px 1px 1px 1px);clip: rect(1px, 1px, 1px, 1px);height: 1px;margin: -1px;overflow: hidden;padding: 0;position: absolute;width: 1px;}#sk-container-id-1 div.sk-estimator {font-family: monospace;background-color: #f0f8ff;border: 1px dotted black;border-radius: 0.25em;box-sizing: border-box;margin-bottom: 0.5em;}#sk-container-id-1 div.sk-estimator:hover {background-color: #d4ebff;}#sk-container-id-1 div.sk-parallel-item::after {content: \"\";width: 100%;border-bottom: 1px solid gray;flex-grow: 1;}#sk-container-id-1 div.sk-label:hover label.sk-toggleable__label {background-color: #d4ebff;}#sk-container-id-1 div.sk-serial::before {content: \"\";position: absolute;border-left: 1px solid gray;box-sizing: border-box;top: 0;bottom: 0;left: 50%;z-index: 0;}#sk-container-id-1 div.sk-serial {display: flex;flex-direction: column;align-items: center;background-color: white;padding-right: 0.2em;padding-left: 0.2em;position: relative;}#sk-container-id-1 div.sk-item {position: relative;z-index: 1;}#sk-container-id-1 div.sk-parallel {display: flex;align-items: stretch;justify-content: center;background-color: white;position: relative;}#sk-container-id-1 div.sk-item::before, #sk-container-id-1 div.sk-parallel-item::before {content: \"\";position: absolute;border-left: 1px solid gray;box-sizing: border-box;top: 0;bottom: 0;left: 50%;z-index: -1;}#sk-container-id-1 div.sk-parallel-item {display: flex;flex-direction: column;z-index: 1;position: relative;background-color: white;}#sk-container-id-1 div.sk-parallel-item:first-child::after {align-self: flex-end;width: 50%;}#sk-container-id-1 div.sk-parallel-item:last-child::after {align-self: flex-start;width: 50%;}#sk-container-id-1 div.sk-parallel-item:only-child::after {width: 0;}#sk-container-id-1 div.sk-dashed-wrapped {border: 1px dashed gray;margin: 0 0.4em 0.5em 0.4em;box-sizing: border-box;padding-bottom: 0.4em;background-color: white;}#sk-container-id-1 div.sk-label label {font-family: monospace;font-weight: bold;display: inline-block;line-height: 1.2em;}#sk-container-id-1 div.sk-label-container {text-align: center;}#sk-container-id-1 div.sk-container {/* jupyter's `normalize.less` sets `[hidden] { display: none; }` but bootstrap.min.css set `[hidden] { display: none !important; }` so we also need the `!important` here to be able to override the default hidden behavior on the sphinx rendered scikit-learn.org. See: https://github.com/scikit-learn/scikit-learn/issues/21755 */display: inline-block !important;position: relative;}#sk-container-id-1 div.sk-text-repr-fallback {display: none;}</style><div id=\"sk-container-id-1\" class=\"sk-top-container\"><div class=\"sk-text-repr-fallback\"><pre>LinearSVC()</pre><b>In a Jupyter environment, please rerun this cell to show the HTML representation or trust the notebook. <br />On GitHub, the HTML representation is unable to render, please try loading this page with nbviewer.org.</b></div><div class=\"sk-container\" hidden><div class=\"sk-item\"><div class=\"sk-estimator sk-toggleable\"><input class=\"sk-toggleable__control sk-hidden--visually\" id=\"sk-estimator-id-1\" type=\"checkbox\" checked><label for=\"sk-estimator-id-1\" class=\"sk-toggleable__label sk-toggleable__label-arrow\">LinearSVC</label><div class=\"sk-toggleable__content\"><pre>LinearSVC()</pre></div></div></div></div></div>"
      ],
      "text/plain": [
       "LinearSVC()"
      ]
     },
     "execution_count": 9,
     "metadata": {},
     "output_type": "execute_result"
    }
   ],
   "source": [
    "svm = LinearSVC()\n",
    "svm.fit(X_train_vec, y_train)"
   ]
  },
  {
   "cell_type": "code",
   "execution_count": 10,
   "metadata": {},
   "outputs": [],
   "source": [
    "y_pred = svm.predict(X_test_vec)"
   ]
  },
  {
   "cell_type": "code",
   "execution_count": 11,
   "metadata": {},
   "outputs": [
    {
     "name": "stdout",
     "output_type": "stream",
     "text": [
      "              precision    recall  f1-score   support\n",
      "\n",
      "           0       0.99      0.99      0.99      2870\n",
      "           1       0.97      0.98      0.97      1024\n",
      "\n",
      "    accuracy                           0.99      3894\n",
      "   macro avg       0.98      0.98      0.98      3894\n",
      "weighted avg       0.99      0.99      0.99      3894\n",
      "\n"
     ]
    }
   ],
   "source": [
    "report = classification_report(y_test, y_pred)\n",
    "print(report)"
   ]
  },
  {
   "cell_type": "code",
   "execution_count": 12,
   "metadata": {},
   "outputs": [
    {
     "data": {
      "text/plain": [
       "55"
      ]
     },
     "execution_count": 12,
     "metadata": {},
     "output_type": "execute_result"
    }
   ],
   "source": [
    "misclassified = X_test.loc[y_test != y_pred]\n",
    "len(misclassified)"
   ]
  },
  {
   "cell_type": "code",
   "execution_count": 13,
   "metadata": {},
   "outputs": [
    {
     "name": "stdout",
     "output_type": "stream",
     "text": [
      "2939         Copyright (c) 199\\tAdobe Multiple Master font\n",
      "36520    copyright-software-19980720\">previous version<...\n",
      "16332    (C) CHARGE ANY FEE IN CONNECTION WITH THE SOFT...\n",
      "35107    copyrighted software distributed under the ter...\n",
      "16426    © d'usage, de copie, de diffusion, de transfor...\n",
      "16355                   Copyright Act of 1998 (\"DMCA\") is:\n",
      "9137     Copyright (C) &lt;year&gt; &lt;name of author&...\n",
      "7590                                  (c) Representations.\n",
      "34423    Copyright (C) Universite de Strasbourg Distrib...\n",
      "27436    COPYRIGHTS. Title to all copies of the\\nFirmwa...\n",
      "28295    copyright\",1); scannerTest(sc, testContent, \"e...\n",
      "33405                     Copyright Notre Dame, some don't\n",
      "35328    Copyright: X License Group: System Environment...\n",
      "16684    copyrights held by third parties, and the soft...\n",
      "32273    copyright (copyright_pk, agent_fk, pfile_fk, c...\n",
      "27416    Copyright 1988,1990,1993 by Paul Vixie\\n\\nAll ...\n",
      "27504    (c) the European Community 2007\\n\\nThis Europe...\n",
      "28580    CopyrightFormat Original-Source: http://www.ke...\n",
      "35345    Copyright ?<FONT color=#ff0000> </FONT><FONT c...\n",
      "27486    Copyright (c) 2002 by AUTHOR PROFESSIONAL IDEN...\n",
      "2786                                    Copyright (c) 2006\n",
      "28371    Copyright (C) YEAR YOUR NAME. Permission is gr...\n",
      "37136    Copyright in this document and the software ac...\n",
      "35416    copyright to each Linux Documentation Project ...\n",
      "25943    copyrighted under U.S. and international laws....\n",
      "32659    Copyright:SimpleOnlyKeepCopyright MPL-MIT-dual...\n",
      "27250    Copyright (c) 2006, 2010 Micah Cowan\\n#\\n# Red...\n",
      "30658    Copyright (c) {{year}}, {{copyright holder}}\\r...\n",
      "33700    copyright-format/1.0/ Upstream-Name: Jetty Ups...\n",
      "39272    COPYRIGHT2.html#3 http://creativecommons.org/l...\n",
      "13420    copyrights, patents, trade secrets or any othe...\n",
      "35350    Copyright (c) 4-digit year, Company or Person'...\n",
      "11380                         Copyright 2011Jesse Phillips\n",
      "10497    COPYRIGHT HOLDERS BE LIABLE FOR ANY CLAIM, DAM...\n",
      "10529    copyright notice and this permission notice in...\n",
      "32268    copyright (copyright_pk, agent_fk, pfile_fk, c...\n",
      "35547    Copyright © 1998-2002 by Peter Norvig. Permiss...\n",
      "41625    Copyright (c) 2002 by AUTHOR PROFESSIONAL IDEN...\n",
      "33902    copyright= --- by default, =uglifyjs= will kee...\n",
      "34251    CopyrightPolicyTheWhiteHouse_files/widget110.c...\n",
      "2922                             Copyright Eberhard Mattes\n",
      "30069    Copyright (*) All rights reserved(*)\\\" will ma...\n",
      "28979    copyright by the University of Cambridge, Engl...\n",
      "36257    Copyright in any portions created by third par...\n",
      "37083    copyrighted by HP or its third party suppliers...\n",
      "27192    COPYRIGHT NOTICE\\n\\nThese patterns and the gen...\n",
      "13640    Copyright Act, 17 U.S.C. 101 et seq., the equi...\n",
      "41488    Copyright 2006 by Bull SAS All Rights Reserved...\n",
      "34018    Copyright Treaty of 1996, the WIPO Performance...\n",
      "35164    copyrights can be found in the LICENSE and COP...\n",
      "16239    CopyrightText: <text> copyrighted under U.S. a...\n",
      "32280    copyright (copyright_pk, agent_fk, pfile_fk, c...\n",
      "27218    copyrighted.\\n\\nWarranty Exclusion\\n----------...\n",
      "16638                            (c) TCK Use Restrictions.\n",
      "34715    copyright-format/1.0/ Upstream-Name: PostgreSQ...\n",
      "Name: copyright, dtype: object\n"
     ]
    }
   ],
   "source": [
    "print(misclassified)"
   ]
  },
  {
   "attachments": {},
   "cell_type": "markdown",
   "metadata": {},
   "source": [
    "### test the svm on a new dataframe kubernetes-master"
   ]
  },
  {
   "cell_type": "code",
   "execution_count": 14,
   "metadata": {},
   "outputs": [
    {
     "data": {
      "text/html": [
       "<div>\n",
       "<style scoped>\n",
       "    .dataframe tbody tr th:only-of-type {\n",
       "        vertical-align: middle;\n",
       "    }\n",
       "\n",
       "    .dataframe tbody tr th {\n",
       "        vertical-align: top;\n",
       "    }\n",
       "\n",
       "    .dataframe thead th {\n",
       "        text-align: right;\n",
       "    }\n",
       "</style>\n",
       "<table border=\"1\" class=\"dataframe\">\n",
       "  <thead>\n",
       "    <tr style=\"text-align: right;\">\n",
       "      <th></th>\n",
       "      <th>file_path</th>\n",
       "      <th>copyright</th>\n",
       "      <th>falsePositive</th>\n",
       "    </tr>\n",
       "  </thead>\n",
       "  <tbody>\n",
       "    <tr>\n",
       "      <th>0</th>\n",
       "      <td>kubernetes-master/LICENSE</td>\n",
       "      <td>copyright owner or by an individual or Legal E...</td>\n",
       "      <td>1</td>\n",
       "    </tr>\n",
       "    <tr>\n",
       "      <th>1</th>\n",
       "      <td>kubernetes-master/staging/src/k8s.io/apiextens...</td>\n",
       "      <td>copyright owner or by an individual or Legal E...</td>\n",
       "      <td>1</td>\n",
       "    </tr>\n",
       "    <tr>\n",
       "      <th>2</th>\n",
       "      <td>kubernetes-master/staging/src/k8s.io/apimachin...</td>\n",
       "      <td>copyright owner or by an individual or Legal E...</td>\n",
       "      <td>1</td>\n",
       "    </tr>\n",
       "    <tr>\n",
       "      <th>3</th>\n",
       "      <td>kubernetes-master/staging/src/k8s.io/kube-sche...</td>\n",
       "      <td>copyright owner or by an individual or Legal E...</td>\n",
       "      <td>1</td>\n",
       "    </tr>\n",
       "    <tr>\n",
       "      <th>4</th>\n",
       "      <td>kubernetes-master/staging/src/k8s.io/cluster-b...</td>\n",
       "      <td>copyright owner or by an individual or Legal E...</td>\n",
       "      <td>1</td>\n",
       "    </tr>\n",
       "  </tbody>\n",
       "</table>\n",
       "</div>"
      ],
      "text/plain": [
       "                                           file_path  \\\n",
       "0                          kubernetes-master/LICENSE   \n",
       "1  kubernetes-master/staging/src/k8s.io/apiextens...   \n",
       "2  kubernetes-master/staging/src/k8s.io/apimachin...   \n",
       "3  kubernetes-master/staging/src/k8s.io/kube-sche...   \n",
       "4  kubernetes-master/staging/src/k8s.io/cluster-b...   \n",
       "\n",
       "                                           copyright  falsePositive  \n",
       "0  copyright owner or by an individual or Legal E...              1  \n",
       "1  copyright owner or by an individual or Legal E...              1  \n",
       "2  copyright owner or by an individual or Legal E...              1  \n",
       "3  copyright owner or by an individual or Legal E...              1  \n",
       "4  copyright owner or by an individual or Legal E...              1  "
      ]
     },
     "execution_count": 14,
     "metadata": {},
     "output_type": "execute_result"
    }
   ],
   "source": [
    "df2 = pd.read_csv('cleared_datasets/kubernetes-master.csv')\n",
    "df2.head()"
   ]
  },
  {
   "cell_type": "code",
   "execution_count": 15,
   "metadata": {},
   "outputs": [],
   "source": [
    "X_test_1 = df2['copyright']\n",
    "y_test_1 = df2['falsePositive']"
   ]
  },
  {
   "cell_type": "code",
   "execution_count": 16,
   "metadata": {},
   "outputs": [
    {
     "data": {
      "text/plain": [
       "0    14865\n",
       "1     1632\n",
       "Name: falsePositive, dtype: int64"
      ]
     },
     "execution_count": 16,
     "metadata": {},
     "output_type": "execute_result"
    }
   ],
   "source": [
    "y_test_1.value_counts()"
   ]
  },
  {
   "cell_type": "code",
   "execution_count": 17,
   "metadata": {},
   "outputs": [],
   "source": [
    "X_test_1 = X_test_1.drop_duplicates()\n",
    "y_test_1 = y_test_1[X_test_1.index]"
   ]
  },
  {
   "cell_type": "code",
   "execution_count": 18,
   "metadata": {},
   "outputs": [
    {
     "data": {
      "text/plain": [
       "0    445\n",
       "1    132\n",
       "Name: falsePositive, dtype: int64"
      ]
     },
     "execution_count": 18,
     "metadata": {},
     "output_type": "execute_result"
    }
   ],
   "source": [
    "y_test_1.value_counts()"
   ]
  },
  {
   "cell_type": "code",
   "execution_count": 19,
   "metadata": {},
   "outputs": [],
   "source": [
    "X_test_1_vec = vectorizer.transform(X_test_1)"
   ]
  },
  {
   "cell_type": "code",
   "execution_count": 20,
   "metadata": {},
   "outputs": [],
   "source": [
    "y_pred_1 = svm.predict(X_test_1_vec)"
   ]
  },
  {
   "cell_type": "code",
   "execution_count": 21,
   "metadata": {},
   "outputs": [
    {
     "name": "stdout",
     "output_type": "stream",
     "text": [
      "              precision    recall  f1-score   support\n",
      "\n",
      "           0       0.98      0.90      0.94       445\n",
      "           1       0.73      0.92      0.82       132\n",
      "\n",
      "    accuracy                           0.91       577\n",
      "   macro avg       0.86      0.91      0.88       577\n",
      "weighted avg       0.92      0.91      0.91       577\n",
      "\n"
     ]
    }
   ],
   "source": [
    "report = classification_report(y_test_1, y_pred_1)\n",
    "print(report)"
   ]
  },
  {
   "cell_type": "code",
   "execution_count": 22,
   "metadata": {},
   "outputs": [
    {
     "data": {
      "text/plain": [
       "54"
      ]
     },
     "execution_count": 22,
     "metadata": {},
     "output_type": "execute_result"
    }
   ],
   "source": [
    "misclassified_1 = X_test_1.loc[y_test_1 != y_pred_1]\n",
    "len(misclassified_1)"
   ]
  },
  {
   "cell_type": "code",
   "execution_count": 23,
   "metadata": {},
   "outputs": [
    {
     "name": "stdout",
     "output_type": "stream",
     "text": [
      "12056    Copyright YEAR The Kubernetes sample-apiserver...\n",
      "12557    copyright notice, this list of conditions and ...\n",
      "12823               Copyright YEAR The Kubernetes Authors.\n",
      "14284    Copyright YEAR The Kubernetes sample-controlle...\n",
      "14314                               �� especificada ou \\n\"\n",
      "14315    �� suportada, converte para a ��ltima vers�� d...\n",
      "14316    �� no formato YAML. Pode ser utilizadoa op����...\n",
      "14319    �� interrompido se os pods n��o s��o gerenciad...\n",
      "14324                                      �� opcional.\\n\"\n",
      "14325                                        �� mut��vel.\"\n",
      "14327                            �� verdadeira \" quando\\n\"\n",
      "14328                         �� enviado para o servidor.\"\n",
      "14329    �� configurada v��rias vezes, apenas o ��ltimo...\n",
      "14330      �� especificado, �� \" ignorado caso contr��rio\"\n",
      "14331                                       �� verdadeiro\"\n",
      "14332    �� verdadeiro, esta tamb��m �� a \" porta utili...\n",
      "14333                                         �� criado, \"\n",
      "14334                     �� criado, se configurado para \"\n",
      "14335    �� criado. Para os dois ��ltimos ���replicas d...\n",
      "14336                                   �� especificada ou\n",
      "14337    �� suportada, converte para a ��ltima vers�� d...\n",
      "14339    �� que a porta de servi��o na v1 �� chamada de...\n",
      "14340                                    �� du kubeconfig\"\n",
      "14342    �� trouv��e. \" msgstr[1] \"\" watch n'est compat...\n",
      "14343                                      �� trouv��es. \"\n",
      "14344    �� du kubeconfigSupprimer le contexte sp��cifi...\n",
      "14346    �� deployment \\\"foo\\\", pods ������������ 2 ���...\n",
      "14347    �� replication controller \\\"foo\\\", pods ������...\n",
      "14350    Copyright (C) YEAR THE PACKAGE'S COPYRIGHT HOL...\n",
      "14439    copyright purposes. The master list of authors...\n",
      "14443                                  copyright purposes.\n",
      "14452    copyright purposes. This file is distinct from...\n",
      "14465    copyright purposes. The master list of authors...\n",
      "14927    Copyright 2022 Google LLC. Licensed under the ...\n",
      "14931                          �� and Expect are identical\n",
      "14939    copyright for 2019 (@nathany #309) CI: Drop go...\n",
      "14978    �� ETH: 0x623A3C3a72186A6336C79b18Ac1eD36e1c71...\n",
      "15000    copyright--then that use is not regulated by t...\n",
      "15057    copyright purposes. This file is distinct from...\n",
      "15199    copyright ([#723](https://github.com/vmware/go...\n",
      "15688    Copyright 2013 The Prometheus Authors Licensed...\n",
      "15714    Copyright 2015 The Prometheus Authors Licensed...\n",
      "15724    Copyright 2020 The Prometheus Authors Licensed...\n",
      "15746    Copyright 2019 The Prometheus Authors Licensed...\n",
      "15770    Copyright 2018 The Prometheus Authors Licensed...\n",
      "15797    Copyright 2022 The Prometheus Authors Licensed...\n",
      "15809    Copyright 2021 The Prometheus Authors Licensed...\n",
      "15829    Copyright 2017 Prometheus Team Licensed under ...\n",
      "15830    Copyright 2023 The Prometheus Authors Licensed...\n",
      "15835    Copyright 2016 The Prometheus Authors Licensed...\n",
      "16025    (c) Audiences are explicitly provided by users...\n",
      "16061    Copyright 2018 The Kubernetes Authors. License...\n",
      "16063    Copyright 2019 The Kubernetes Authors. License...\n",
      "16433    Copyright The OpenTelemetry Authors|generated|...\n",
      "Name: copyright, dtype: object\n"
     ]
    }
   ],
   "source": [
    "print(misclassified_1)"
   ]
  },
  {
   "attachments": {},
   "cell_type": "markdown",
   "metadata": {},
   "source": [
    "### test the svm on a new dataframe tensorflow-master"
   ]
  },
  {
   "cell_type": "code",
   "execution_count": 24,
   "metadata": {},
   "outputs": [
    {
     "data": {
      "text/html": [
       "<div>\n",
       "<style scoped>\n",
       "    .dataframe tbody tr th:only-of-type {\n",
       "        vertical-align: middle;\n",
       "    }\n",
       "\n",
       "    .dataframe tbody tr th {\n",
       "        vertical-align: top;\n",
       "    }\n",
       "\n",
       "    .dataframe thead th {\n",
       "        text-align: right;\n",
       "    }\n",
       "</style>\n",
       "<table border=\"1\" class=\"dataframe\">\n",
       "  <thead>\n",
       "    <tr style=\"text-align: right;\">\n",
       "      <th></th>\n",
       "      <th>file_path</th>\n",
       "      <th>copyright</th>\n",
       "      <th>falsePositive</th>\n",
       "    </tr>\n",
       "  </thead>\n",
       "  <tbody>\n",
       "    <tr>\n",
       "      <th>0</th>\n",
       "      <td>tensorflow-master/third_party/py/ml_dtypes/LIC...</td>\n",
       "      <td>copyright owner or by an individual or Legal E...</td>\n",
       "      <td>1</td>\n",
       "    </tr>\n",
       "    <tr>\n",
       "      <th>1</th>\n",
       "      <td>tensorflow-master/tensorflow/tsl/mkl/LICENSE</td>\n",
       "      <td>copyright owner or by an individual or Legal E...</td>\n",
       "      <td>1</td>\n",
       "    </tr>\n",
       "    <tr>\n",
       "      <th>2</th>\n",
       "      <td>tensorflow-master/tensorflow/tsl/mkl/MKL_LICENSE</td>\n",
       "      <td>copyright owner or by an individual or Legal E...</td>\n",
       "      <td>1</td>\n",
       "    </tr>\n",
       "    <tr>\n",
       "      <th>3</th>\n",
       "      <td>tensorflow-master/LICENSE</td>\n",
       "      <td>copyright owner or by an individual or Legal E...</td>\n",
       "      <td>1</td>\n",
       "    </tr>\n",
       "    <tr>\n",
       "      <th>4</th>\n",
       "      <td>tensorflow-master/third_party/gpus/cuda/LICENSE</td>\n",
       "      <td>copyright owner or by an individual or Legal E...</td>\n",
       "      <td>1</td>\n",
       "    </tr>\n",
       "  </tbody>\n",
       "</table>\n",
       "</div>"
      ],
      "text/plain": [
       "                                           file_path  \\\n",
       "0  tensorflow-master/third_party/py/ml_dtypes/LIC...   \n",
       "1       tensorflow-master/tensorflow/tsl/mkl/LICENSE   \n",
       "2   tensorflow-master/tensorflow/tsl/mkl/MKL_LICENSE   \n",
       "3                          tensorflow-master/LICENSE   \n",
       "4    tensorflow-master/third_party/gpus/cuda/LICENSE   \n",
       "\n",
       "                                           copyright  falsePositive  \n",
       "0  copyright owner or by an individual or Legal E...              1  \n",
       "1  copyright owner or by an individual or Legal E...              1  \n",
       "2  copyright owner or by an individual or Legal E...              1  \n",
       "3  copyright owner or by an individual or Legal E...              1  \n",
       "4  copyright owner or by an individual or Legal E...              1  "
      ]
     },
     "execution_count": 24,
     "metadata": {},
     "output_type": "execute_result"
    }
   ],
   "source": [
    "df3 = pd.read_csv('cleared_datasets/tensorflow-master.csv')\n",
    "df3.head()"
   ]
  },
  {
   "cell_type": "code",
   "execution_count": 25,
   "metadata": {},
   "outputs": [],
   "source": [
    "X_test_2 = df3['copyright']\n",
    "y_test_2 = df3['falsePositive']"
   ]
  },
  {
   "cell_type": "code",
   "execution_count": 26,
   "metadata": {},
   "outputs": [
    {
     "data": {
      "text/plain": [
       "0    25786\n",
       "1      156\n",
       "Name: falsePositive, dtype: int64"
      ]
     },
     "execution_count": 26,
     "metadata": {},
     "output_type": "execute_result"
    }
   ],
   "source": [
    "y_test_2.value_counts()"
   ]
  },
  {
   "cell_type": "code",
   "execution_count": 27,
   "metadata": {},
   "outputs": [],
   "source": [
    "X_test_2 = X_test_2.drop_duplicates()\n",
    "y_test_2 = y_test_2[X_test_2.index]"
   ]
  },
  {
   "cell_type": "code",
   "execution_count": 28,
   "metadata": {},
   "outputs": [
    {
     "data": {
      "text/plain": [
       "0    134\n",
       "1    115\n",
       "Name: falsePositive, dtype: int64"
      ]
     },
     "execution_count": 28,
     "metadata": {},
     "output_type": "execute_result"
    }
   ],
   "source": [
    "y_test_2.value_counts()"
   ]
  },
  {
   "cell_type": "code",
   "execution_count": 29,
   "metadata": {},
   "outputs": [
    {
     "name": "stdout",
     "output_type": "stream",
     "text": [
      "              precision    recall  f1-score   support\n",
      "\n",
      "           0       0.92      0.89      0.90       134\n",
      "           1       0.87      0.90      0.89       115\n",
      "\n",
      "    accuracy                           0.90       249\n",
      "   macro avg       0.89      0.90      0.90       249\n",
      "weighted avg       0.90      0.90      0.90       249\n",
      "\n"
     ]
    }
   ],
   "source": [
    "X_test_2_vec = vectorizer.transform(X_test_2)\n",
    "y_pred_2 = svm.predict(X_test_2_vec)\n",
    "report = classification_report(y_test_2, y_pred_2)\n",
    "print(report)"
   ]
  },
  {
   "cell_type": "code",
   "execution_count": 30,
   "metadata": {},
   "outputs": [
    {
     "name": "stdout",
     "output_type": "stream",
     "text": [
      "              precision    recall  f1-score   support\n",
      "\n",
      "           0       0.99      0.98      0.99      2975\n",
      "           1       0.96      0.98      0.97      1084\n",
      "\n",
      "    accuracy                           0.98      4059\n",
      "   macro avg       0.97      0.98      0.98      4059\n",
      "weighted avg       0.98      0.98      0.98      4059\n",
      "\n"
     ]
    }
   ],
   "source": [
    "### Try to train on all the data\n",
    "X = pd.concat([X_train, X_test, X_test_1, X_test_2])\n",
    "y = pd.concat([y_train, y_test, y_test_1, y_test_2])\n",
    "\n",
    "X_all_train, X_all_test, y_all_train, y_all_test = train_test_split(X, y, test_size=0.2, random_state=42)\n",
    "\n",
    "X_all_train_vec = vectorizer.fit_transform(X_all_train)\n",
    "X_all_test_vec = vectorizer.transform(X_all_test)\n",
    "\n",
    "svm_all = LinearSVC()\n",
    "svm_all.fit(X_all_train_vec, y_all_train)\n",
    "\n",
    "y_all_pred = svm_all.predict(X_all_test_vec)\n",
    "\n",
    "report = classification_report(y_all_test, y_all_pred)\n",
    "print(report)\n",
    "\n",
    "misclassified_all = X_all_test.loc[y_all_test != y_all_pred]"
   ]
  },
  {
   "cell_type": "code",
   "execution_count": 31,
   "metadata": {},
   "outputs": [
    {
     "data": {
      "text/plain": [
       "75"
      ]
     },
     "execution_count": 31,
     "metadata": {},
     "output_type": "execute_result"
    }
   ],
   "source": [
    "len(misclassified_all)"
   ]
  },
  {
   "cell_type": "code",
   "execution_count": 32,
   "metadata": {},
   "outputs": [
    {
     "name": "stdout",
     "output_type": "stream",
     "text": [
      "copyrights, patents, trade secrets or any other intellectual property of Licensor except as expressly stated herein. No patent license is granted to make, use, sell or offer to sell embodiments of any patent claims other than the Licensed Claims defined in Section 2. No right is granted to the trade\n",
      "Copyright Treaty of 1996, the WIPO Performances and Phonograms Treaty of 1996 and\n",
      "(C) THE FRAMEWORX COMPANY 2003 http://opensource.org/licenses/frameworx.php', NULL, NULL, NULL, 'Frameworx Open License 1.0', NULL, NULL, NULL, '', NULL, false, false, false, '1e8bdb53db662b8ba76df594951ff287', 1, NULL); INSERT INTO license_ref VALUES (227, 'gSOAP-1.3b', 'gSOAP Public License Ve\n",
      "(c) 1T3XT BVBA\"/> meta name=\"CreationDate\" content=\"\"/> head> body> pre> Example PDF file that contains a form with a signature field.\n",
      "copyrighted work whose copyright is held by Artifex Software Inc., located in San Rafael California and artofcode LLC, located in Benicia, California (the \"Licensor\"). Please note that AFPL Ghostscript is neither the program known as \"GNU Ghostscript\" nor the version of Ghostscript available for com\n",
      "copyright, trade secret or other intellectual property right owned or controlled by ATI, except as expressly provided in this License.\n",
      "copyright) license to exercise the rights in the Work as stated below:\n",
      "Copyright Act, 17 U.S.C. 101 et seq., the equivalent laws of other countries, and international treaty. This section shall survive the termination of this License.\n",
      "COPYRIGHTS. Title to all copies of the\\nFirmware remains with Hauppauge or its suppliers. The Firmware is\\ncopyrighted and protected by the laws of the United States and other\\ncountries, and international treaty provisions. You may not remove any\\ncopyright notices from the Firmware. Hauppauge may\n",
      "copyright SPDXID: SPDXRef-item85737 FileChecksum: SHA1: 0577443d165ba01496252702fb3052560d701ba9 FileChecksum: SHA256: ae1ff2f59aabf96a000ba640c7bf2787664fa94352d62eca0670833bffa095ce FileChecksum: MD5: 03b232fc7a926fdd5b4726a17989bf42 LicenseConcluded: GPL-2.0+ LicenseInfoInFile: GPL-2.0+\n",
      "copyright SPDXID: SPDXRef-item85758 FileChecksum: SHA1: 0577443d165ba01496252702fb3052560d701ba9 FileChecksum: SHA256: ae1ff2f59aabf96a000ba640c7bf2787664fa94352d62eca0670833bffa095ce FileChecksum: MD5: 03b232fc7a926fdd5b4726a17989bf42 LicenseConcluded: GPL-2.0+ LicenseInfoInFile: GPL-2.0+\n",
      "copyright. See that file for details.\n",
      "Copyright Flag\u00018BIM' Japanese Print Flags 8BIM\u0003��\u0017Color Halftone SettingsH/ff\u0001lff /ff\u0001������ 2\u0001Z 5\u0001- 8BIM\u0003��\u0017Color Transfer Settingsp��������������������������������������������\u0003����������������������������������������������\u0003����������������������������������������������\u0003������������������������\n",
      "(c) VMware receives written notice of the non-conformity within ninety (90) days following shipment. EXCEPT FOR THE PRECEDING EXPRESS LIMITED WARRANTY, TO THE MAXIMUM EXTENT PERMITTED BY APPLICABLE MANDATORY LAW, VMWARE AND ITS LICENSORS PROVIDE THE SOFTWARE WITHOUT ANY WARRANTIES OF ANY KIND, EXPRE\n",
      "© Fossology contributors\n",
      "copyrighted by Hewlett-Packard Company have the notice:\n",
      "Copyright 2011Jesse Phillips\n",
      "(C) Copyright C E Chew\n",
      "Copyright (C) _____________________________. All Rights Reserved.\n",
      "Copyright (c) 2006, 2010 Micah Cowan\\n#\\n# Redistribution of this program in any form, with or without\\n# modifications, is permitted, provided that the above copyright is\\n# retained in distributions of this program in source form.\\n#\\n# (This is a free, non-copyleft license compatible with pretty\n",
      "�� M\u0018ZS��&1\u001fB����\u0015!p��~[�������y����������-��QI��E$%orl����m������DSRYNR����%%&o\u000b����\u0016��&>��L��\f��|I��R��1        }{N��>��J����xP��\u001f\"g`TF����9\u001d��$C��&��j@[R��#E\u001b?��>I��-^��}u ��\u0007j�� ��\u0017A����4 ��`����8w\u0010��'������n��ZQ�����,��\u0011nc5M����OH��\n",
      "U����������\u0011����T����@\u000b��\u0015`������(��PA������?����3*�� ����\n",
      "��\tuOX.!2�� ����\"��'\\'����wf������k��h����4Z��$��tnr��$\u00189#��,MFXk��H2�� ��Nm2��ET��s��rK������������������������*��2��f��\u0004=Y����F��mRV��m(��&��������������d����F��������&����\tf��X\u00077��������y������YU��T��\f������c��$��PHi���\u001a����g\u001ew������4?-[3����\u0014����\u001e����p]Re����qa��1��\u0016��F7������O\u0010��[{I\u0017&��z%8��\n",
      "(��Y-������>/ic��_m>����Jh\"\u0003T\f��!��rQq������\u0014��������x+\u0018c��\u0019��������\u000b_Sj��\u0007����������q������I��������\u000ek(��1��������\n",
      "Copyright (c) 1995 Tatu Ylonen <ylo@cs.hut.fi>, Espoo, Finland\\n* All rights reserved\\n*\\n* As far as I am concerned, the code I have written for this software\\n* can be used freely for any purpose. Any derived versions of this\\n* software must be clearly marked as such, and if t\n",
      "Copyright (\\d{4}|\\(c\\)) Microsoft\" ./ | tee >&2 workingDirectory: '$(sdkPath)'\n",
      "copyright in this Software shall at all times remain with copyright holders.\\n\\nOpenLDAP is a registered trademark of the OpenLDAP Foundation.\\n\\nCopyright 1999-2003 The OpenLDAP Foundation, Redwood City, California, USA. All Rights Reserved. Permission to copy and distribute verbatim copies of this\n",
      "Copyright (C) 2014, Broadcom Corporation All Rights Reserved. * This is UNPUBLISHED PROPRIETARY SOURCE CODE of Broadcom Corporation; the contents of this file may not be disclosed to third parties, copied or duplicated in any form, in whole or in part, without the prior written permis\n",
      "�� opcional.\\n\"\n",
      "copyrighted by The Regents of the University of California.\n",
      "copyrighted by HP or its third party suppliers. Your license confers no title or ownership in the Software and is not a sale of any rights in the Software. HP''s third party suppliers may protect their rights in the event of any violation of these License Terms.\n",
      "Copyright 2014-2020 fossology'.\" | trans }} label> div> li>\n",
      "copyright for 2019 (@nathany #309) CI: Drop go1.8 from CI matrix (@nathany #309) Docs: Updating the FAQ section for supportability with NFS & FUSE filesystems (@Pratik32 4bf2d1fec78374803a39307bfb8d340688f4f28e )\n",
      "copyright has been retained\\nby Great Circle Associates.\\n\\nMajordomo is distributed in source code form, with almost all\\nmodules written in Perl (there is one small C program), and runs\\non many UNIX platforms. Majordomo is not a supported product of\\nGreat Circle Associates, but is made availabl\n",
      "�� enviado para o servidor.\"\n",
      "Copyright Date\\nAcademic Free License\\t2.0\\nApache Software License\\t1.0\\/1.1\\/2.0\\nApple Public Source License\\t2.0\\nArtistic license\\tFrom Perl 5.8.0\\nBSD license\\t\\\"July 22 1999\\\"\\nCommon Development and Distribution License (CDDL)\\t1.0\\nCommon Public License\\t1.0\\nGNU Library or \\\"Lesser\\\" Gener\n",
      "copyright|\\<c\\>[^+:]|&copy)\" STR% \"includes copyrighted works of Hewlett-Packard Co for\"\n",
      "COPYRIGHT (C) 1986 Gary S. Brown. You may use this program, or code or tables extracted from it, as desired without restriction.\n",
      "copyright is claimed in the United States under Title 17, U.S.Code. All Other Rights Reserved.\n",
      "CopyrightPolicyTheWhiteHouse_files/wh_nav_feature_2012_photos_02.jpg\" alt=\"2012: A Year in Photos\"></a></p> p class=\"menu-feature-title\"><a href=\"/performances\">White House Performances</a></p> p>Watch all the musical acts</p> a href=\"/performances\"><img src=\"/sites/default/files/image/wh_n\n",
      "(C) TfLiteOpaqueDelegatePlugin struct, this returns a function that takes a TFLiteSettings FlatBuffer and returns a unique_ptr to an instance of the (C++) DelegatePluginInterface abstract class. std::function<std::unique_ptr<tflite::delegates::DelegatePluginInterface>( const ::tflite::TFLi\n",
      "Copyright (c) 2000, 2003\n",
      "Copyright: X License Group: System Environment/Libraries Source: icu-%{version}.tgz BuildRoot: /var/tmp/%{name}-%{version} description ICU is a set of C and C++ libraries that provides robust and full-featured Unicode and locale support. The library provides calendar support, conversions for many c\n",
      "Copyright (c) 1996 NVIDIA, Corp. All rights reserved.\\n\\nNOTICE TO USER: The source code is copyrighted under U.S. and international laws. NVIDIA, Corp. of Sunnyvale, California owns the copyright and as design patents pending on the design and interface of the NV chips. Users and possessors of this\n",
      "copyright-format/1.0/ Upstream-Name: PM2 Upstream-Contact: Alexandre Strzelewicz <alexandre@keymetrics.io> Source: http://pm2.o/\n",
      "Copyright (C) 2012 Free Software Foundation, Inc.\"; break; case 15: p = This is free software: you are free to change and redistribute it.\\n\" There is NO WARRANTY, to the extent permitted by law.\\n\"; break; case 16:\tp = This is free software; you can redistribute it and/or mod\n",
      "Copyright (C) Universite de Strasbourg Distributed under the terms of the CeCILL-B license, as published by the CEA-CNRS-INRIA. Refer to the LICENSE file or to http://www.cecill.info/licences/Licence_CeCILL-B_V1-en.html for details.\n",
      "Copyright (C) 1991, 1992 Hans-Hermann Bode\\n\\nPermission is granted to make and distribute verbatim copies of this document provided that the copyright notice and this permission notice are preserved on all copies.\\n\\nPermission is granted to copy and distribute modified versions of this document u\n",
      "copyright|\\<c\\>[^+:]|&copy)\" STR% \"unless otherwise stated Linux howto documents are copyrighted by their respective authors\"\n",
      "copyright\"> link type=\"text/css\" rel=\"stylesheet\" media=\"all\" href=\"CopyrightPolicyTheWhiteHouse_files/css_injector_13.css\"> link type=\"text/css\" rel=\"stylesheet\" media=\"all\" href=\"CopyrightPolicyTheWhiteHouse_files/css_1b093e47d77eeb1567a95e92bf540da6_136.css\"> link type=\"text/css\" rel=\"styles\n",
      "Copyright (c) 2001 Unidex, Inc. All rights reserved.\\n\\n Unidex, Inc. grants you permission to copy, modify, distribute,\\n and\\/or use the DTD provided that you agree to the\\n following conditions:\\n\\n 1. You must include this COPYRIGHT NOTICE and LICENSE\\n in all copies or su\n",
      "(c) Scott Jehl. MIT/GPLv2 Lic. j.mp/respondjs */\n",
      "Copyright (c) 4-digit year, Company or Person's Name <E-mail address>\n",
      "(c) Audiences are explicitly provided by users 2) No service account impersontation\n",
      "copyrighted as noted above. Qhull is free software and may be obtained via http from www.qhull.org. It may be freely copied, modified, and redistributed under the following conditions:\n",
      "Copyright: GPL, see /usr/share/common-licenses/GPL\n",
      "copyrighted work whose copyright is held by Aladdin Enterprises (the \"Licensor\"). Please note that Aladdin Ghostscript is neither the program known as \"GNU Ghostscript\" nor the version of Ghostscript available for commercial licensing from Artifex Software Inc.\n",
      "copyright twig templates to twig.loader see Twig_Loader_Filesystem\n",
      "copyright notice and this permission notice in its entirety.\n",
      "CopyrightText: <text> Copyright (c) 2000, 2003 </text>\n",
      "copyright 1989-2000 by Norman Ramsey. All rights reserved.\\n\\nNoweb is protected by copyright. It is not public-domain software or shareware, and it is not protected by a ``copyleft'' agreement like the one used by the Free Software Foundation.\\n\\nNoweb is available free for any use in any field of\n",
      "copyright, and can be used without restriction.\" This segment of code is noted in this program with \"mredkj.com\".\n",
      "copyright of the Dojo Foundation. These\n",
      "��\tNU��!nep��g��[\u001fl��pj\u00043K��Y����\u0012y+ 4����y%��3K��Y����\u0012f��0����y%��VW{\u0012��,af\t3K��Y��\u0012����0������\u0014af����5 ��\u0019��9��������4v} ����\u001e��&����jC��r=\u001a��>7P\n",
      "copyrighted by the ITU-T, write to the ITU-T Secretariat; exceptions may be made for this. This decision will be guided by the two goals of preserving the free status of all derivatives of this free software and of promoting the sharing and reuse of software generally.\n",
      "Copyright Policy | The White House</title> meta name=\"description\" content=\"\"> meta name=\"keywords\" content=\"\"> meta http-equiv=\"Content-Type\" content=\"text/html; charset=UTF-8\"> script src=\"CopyrightPolicyTheWhiteHouse_files/ga.js\" async=\"\" type=\"text/javascript\"></script><script type=\"\n",
      "(C) Copyright 2000 All Rights Reserved\n",
      "Copyright|generated|GENERATED)\" || echo $$file; \\ done); \\ if [ -n \"$${licRes}\" ]; then \\ echo \"license header checking failed:\"; echo \"$${licRes}\"; \\ exit 1; \\ fi\n",
      "(c) 2015 ALL RIGHTS RESERVED VERSION 2.1 THIS LICENSE DEFINES THE RIGHTS OF USE, REPRODUCTION, DISTRIBUTION, MODIFICATION, AND REDISTRIBUTION OF CERTAIN COVERED SOFTWARE (AS DEFINED BELOW) ORIGINALLY RELEASED BY THE OPEN SOURCE ELECTION TECHNOLOGY FOUNDATION (FORMERLY \"THE OSDV FOUNDATION\").\n",
      "copyright by Dimitri van Heesch and released under the GPL. This does a _slow_ update of the dox, because it loops over the given substitutions instead of assuming all the needed ones are given.\n",
      "(c) 2015 ALL RIGHTS RESERVED VERSION 2.1\\n\\nTHIS LICENSE DEFINES THE RIGHTS OF USE, REPRODUCTION, DISTRIBUTION, MODIFICATION, AND REDISTRIBUTION OF CERTAIN COVERED SOFTWARE (AS DEFINED BELOW) ORIGINALLY RELEASED BY THE OPEN SOURCE ELECTION TECHNOLOGY FOUNDATION (FORMERLY \\\"THE OSDV FOUNDATION\\\"). A\n",
      "© Skype – Last revised: August 2009', 'http://www.skype.com/intl/en-us/legal/eula/', NULL, NULL, NULL, 'Skype EULA', NULL, NULL, NULL, '', NULL, false, false, false, '76cd66f51760a868bb7a9275b9b9fd84', 1, NULL); INSERT INTO license_ref VALUES (257, 'QT(Commercial)', 'Qt COMMERCIAL LICENSE AGREEME\n",
      "copyright is written, it is Taro Muraoka. koron@tka.att.ne.jp> User: Those who use or used this software. others: Those who are not managers or users. Especially,\n",
      "Copyright (c) 2008\n",
      "copyrightable works distributed by Google as part of the Go project.\n",
      "(c) You may:\n",
      "Copyright (C) 2005 by Adriaan de Groot Based on some code from Doxyfile.am, among other things. License: GPL version 2. See file COPYING in kdelibs for details.\n"
     ]
    }
   ],
   "source": [
    "for misclassification in misclassified_all:\n",
    "    print(misclassification)"
   ]
  },
  {
   "attachments": {},
   "cell_type": "markdown",
   "metadata": {},
   "source": [
    "### Testing out Random Forest"
   ]
  },
  {
   "cell_type": "code",
   "execution_count": 33,
   "metadata": {},
   "outputs": [
    {
     "name": "stdout",
     "output_type": "stream",
     "text": [
      "              precision    recall  f1-score   support\n",
      "\n",
      "           0       0.99      0.98      0.99      2870\n",
      "           1       0.95      0.97      0.96      1024\n",
      "\n",
      "    accuracy                           0.98      3894\n",
      "   macro avg       0.97      0.98      0.97      3894\n",
      "weighted avg       0.98      0.98      0.98      3894\n",
      "\n"
     ]
    }
   ],
   "source": [
    "import pandas as pd\n",
    "from sklearn.ensemble import RandomForestClassifier\n",
    "from sklearn.model_selection import train_test_split\n",
    "from sklearn.metrics import classification_report\n",
    "from sklearn.feature_extraction.text import TfidfVectorizer\n",
    "\n",
    "df1 = pd.read_csv('cleared_datasets/fossology-master.csv')\n",
    "df1.head()\n",
    "X = df1[\"copyright\"]\n",
    "y = df1[\"falsePositive\"]\n",
    "X = X.drop_duplicates()\n",
    "y = y[X.index]\n",
    "X_train, X_test, y_train, y_test = train_test_split(X, y, test_size=0.2, random_state=42)\n",
    "vectorizer = TfidfVectorizer()\n",
    "X_train_vec = vectorizer.fit_transform(X_train)\n",
    "X_test_vec = vectorizer.transform(X_test)\n",
    "rf = RandomForestClassifier()\n",
    "rf.fit(X_train_vec, y_train)\n",
    "y_pred = rf.predict(X_test_vec)\n",
    "report = classification_report(y_test, y_pred)\n",
    "print(report)"
   ]
  },
  {
   "cell_type": "markdown",
   "metadata": {},
   "source": []
  },
  {
   "cell_type": "code",
   "execution_count": 34,
   "metadata": {},
   "outputs": [
    {
     "name": "stdout",
     "output_type": "stream",
     "text": [
      "              precision    recall  f1-score   support\n",
      "\n",
      "           0       1.00      0.98      0.99     14865\n",
      "           1       0.86      0.99      0.92      1632\n",
      "\n",
      "    accuracy                           0.98     16497\n",
      "   macro avg       0.93      0.99      0.96     16497\n",
      "weighted avg       0.99      0.98      0.98     16497\n",
      "\n"
     ]
    }
   ],
   "source": [
    "df2 = pd.read_csv('cleared_datasets/kubernetes-master.csv')\n",
    "X_test_1 = df2['copyright']\n",
    "y_test_1 = df2['falsePositive']\n",
    "X_test_1.drop_duplicates()\n",
    "y_test_1 = y_test_1[X_test_1.index]\n",
    "X_test_1_vec = vectorizer.transform(X_test_1)\n",
    "y_pred_1 = rf.predict(X_test_1_vec)\n",
    "report = classification_report(y_test_1, y_pred_1)\n",
    "print(report)"
   ]
  },
  {
   "cell_type": "code",
   "execution_count": 35,
   "metadata": {},
   "outputs": [
    {
     "name": "stdout",
     "output_type": "stream",
     "text": [
      "              precision    recall  f1-score   support\n",
      "\n",
      "           0       1.00      1.00      1.00     25786\n",
      "           1       0.77      1.00      0.87       156\n",
      "\n",
      "    accuracy                           1.00     25942\n",
      "   macro avg       0.89      1.00      0.94     25942\n",
      "weighted avg       1.00      1.00      1.00     25942\n",
      "\n"
     ]
    }
   ],
   "source": [
    "df3 = pd.read_csv('cleared_datasets/tensorflow-master.csv')\n",
    "X_test_2 = df3['copyright']\n",
    "y_test_2 = df3['falsePositive']\n",
    "X_test_2.drop_duplicates()\n",
    "y_test_2 = y_test_2[X_test_2.index]\n",
    "X_test_2_vec = vectorizer.transform(X_test_2)\n",
    "y_pred_2 = rf.predict(X_test_2_vec)\n",
    "report = classification_report(y_test_2, y_pred_2)\n",
    "print(report)"
   ]
  },
  {
   "cell_type": "code",
   "execution_count": 36,
   "metadata": {},
   "outputs": [
    {
     "name": "stdout",
     "output_type": "stream",
     "text": [
      "              precision    recall  f1-score   support\n",
      "\n",
      "           0       0.99      0.98      0.99      2870\n",
      "           1       0.95      0.97      0.96      1024\n",
      "\n",
      "    accuracy                           0.98      3894\n",
      "   macro avg       0.97      0.98      0.97      3894\n",
      "weighted avg       0.98      0.98      0.98      3894\n",
      "\n",
      "              precision    recall  f1-score   support\n",
      "\n",
      "           0       1.00      0.79      0.88     14865\n",
      "           1       0.35      1.00      0.51      1632\n",
      "\n",
      "    accuracy                           0.81     16497\n",
      "   macro avg       0.67      0.89      0.70     16497\n",
      "weighted avg       0.93      0.81      0.85     16497\n",
      "\n",
      "              precision    recall  f1-score   support\n",
      "\n",
      "           0       1.00      1.00      1.00     25786\n",
      "           1       0.60      1.00      0.75       156\n",
      "\n",
      "    accuracy                           1.00     25942\n",
      "   macro avg       0.80      1.00      0.88     25942\n",
      "weighted avg       1.00      1.00      1.00     25942\n",
      "\n"
     ]
    }
   ],
   "source": [
    "rf6 = RandomForestClassifier(100)\n",
    "rf6.fit(X_train_vec, y_train)\n",
    "y_pred = rf6.predict(X_test_vec)\n",
    "report = classification_report(y_test, y_pred)\n",
    "print(report)\n",
    "y_pred_1 = rf6.predict(X_test_1_vec)\n",
    "report = classification_report(y_test_1, y_pred_1)\n",
    "print(report)\n",
    "y_pred_2 = rf6.predict(X_test_2_vec)\n",
    "report = classification_report(y_test_2, y_pred_2)\n",
    "print(report)"
   ]
  },
  {
   "cell_type": "code",
   "execution_count": 37,
   "metadata": {},
   "outputs": [],
   "source": [
    "misclassified_all = X_test.loc[y_test != y_pred]"
   ]
  },
  {
   "cell_type": "code",
   "execution_count": 38,
   "metadata": {},
   "outputs": [
    {
     "name": "stdout",
     "output_type": "stream",
     "text": [
      "Copyright (C) 2017 Bundesamt für Sicherheit in der Informationstechnik\n",
      "(C) CHARGE ANY FEE IN CONNECTION WITH THE SOFTWARE. SUBJECT TO THESE LIMITATIONS, YOU MAY MAKE COPIES AND DERIVATIVE WORKS OF THE SOFTWARE AND DISTRIBUTE SUCH COPIES TO OTHER PERSONS PROVIDED THAT SUCH COPIES AND RELATED DISTRIBUTION ARE ACCOMPANIED BY HP'S COPYRIGHT NOTICE AND THIS AGREEMENT AND A\n",
      "Copyright (C) 2004 Sam Hocevar <sam@hocevar.net>\\n\\nEveryone is permitted to copy and distribute verbatim or modified copies of this license document, and changing it is allowed as long as the name is changed.\\n\\nDO WHAT THE FUCK YOU WANT TO PUBLIC LICENSE\\nTERMS AND CONDITIONS FOR COPYING, DISTRIBU\n",
      "copyrighted software distributed under the terms of the GNU General Public License (hereinafter the \"GPL\").\n",
      "copyright;ojo\" \\ S. -B./build -G Ninja \\\n",
      "Copyright (C) Universite de Strasbourg Distributed under the terms of the CeCILL-B license, as published by the CEA-CNRS-INRIA. Refer to the LICENSE file or to http://www.cecill.info/licences/Licence_CeCILL-B_V1-en.html for details.\n",
      "copyright\",$FolderPk,$BucketPool);\n",
      "copyright disclaimers included herein.\n",
      "Copyright Sergue E. Leontiev 2013\n",
      "Copyright (c) 2008 Matteo Frigo\n",
      "COPYRIGHTS. Title to all copies of the\\nFirmware remains with Hauppauge or its suppliers. The Firmware is\\ncopyrighted and protected by the laws of the United States and other\\ncountries, and international treaty provisions. You may not remove any\\ncopyright notices from the Firmware. Hauppauge may\n",
      "(c) Copyright Bigelow & Holmes 1986, 1985. Lucida is a registered trademark of Bigelow & Holmes. Permission to use the Lucida trademark is hereby granted only in association with the images and fonts described in this file.\n",
      "copyright\",1); scannerTest(sc, testContent, \"email\", { \"info@mysite.org\", \"benj@debian.org\" });\n",
      "Copyright Notre Dame, some don't\n",
      "Copyright: X License Group: System Environment/Libraries Source: icu-%{version}.tgz BuildRoot: /var/tmp/%{name}-%{version} description ICU is a set of C and C++ libraries that provides robust and full-featured Unicode and locale support. The library provides calendar support, conversions for many c\n",
      "copyright and know-how are retained, all rights reserved.\"\n",
      "copyright (copyright_pk, agent_fk, pfile_fk, content, hash, type, copy_startbyte, copy_endbyte, is_enabled) VALUES (16, 8, 9, 'copyright (c) 2048', '0x5c8f0370f2ab5d53', 'statement', 0, 18, 'true'); INSERT INTO copyright_ars (ars_pk, agent_fk, upload_fk, ars_success, ars_status, ars_starttime, ars_e\n",
      "Copyright 1988,1990,1993 by Paul Vixie\\n\\nAll rights reserved\\n\\nDistribute freely, except: don't remove my name from the source or documentation (don't take credit for my work), mark your changes (don't get me blamed for your possible bugs), don't alter or remove this notice. May be sold if buildab\n",
      "(c) the European Community 2007\\n\\nThis European Union Public Licence (the \\\"EUPL\\\") applies to the Work or Software (as defined below) which is provided under the terms of this Licence. Any use of the Work, other than as authorised under this Licence is prohibited (to the extent such use is covered\n",
      "copyright laws of the United States. Adobe Systems Incorporated, 345 Park Avenue, San Jose, CA 95110-2704, USA.\n",
      "CopyrightFormat Original-Source: http://www.kernel.org/pub/software/scm/git/\n",
      "Copyright ?<FONT color=#ff0000> </FONT><FONT color=green>{date here}</FONT></FONT><FONT size=2>, International Business Machines Corporation and others. All Rights Reserved. FONT></UL> P><FONT size=2></FONT> P><FONT size=2>In addition, each Contributor must identif\n",
      "Copyright (c) 2002 by AUTHOR PROFESSIONAL IDENTIFICATION * URL \\\"PROMOTIONAL SLOGAN FOR AUTHOR'S PROFESSIONAL PRACTICE\\\"\\n\\nAll Rights Reserved\\n\\nATTRIBUTION ASSURANCE LICENSE (adapted from the original BSD license)\\n\\nRedistribution and use in source and binary forms, with or without modification,\n",
      "Copyright (c) 2006\n",
      "(c) iMatix, and LGPL\n",
      "Copyright (C) 1995, A.M. Kuchling\n",
      "Copyright © 1996-2007 Oracle and/or its affiliates. For third party copyrights see below (copies from the third party readme).\n",
      "Copyright (C) YEAR YOUR NAME. Permission is granted to copy, distribute and/or modify this document under the terms of the GNU Free Documentation License, Version 1.2 or any later version published by the Free Software Foundation; with no Invariant Sections, no Front-Co\n",
      "copyright grant software distribut licen iu][nst]\n",
      "Copyright in this document and the software accompanying this document is owned by Daniel F. Savarese. All rights reserved. NetComponents License\n",
      "Copyright Patrick Powell 1995 This code is based on code written by Patrick Powell (papowell@astart.com) It may be used for any purpose as long as this notice remains intact on all source code distributions\n",
      "copyright): New directory scan and better JSON\n",
      "copyright over the Contents\n",
      "(C) 1986 SMI\n",
      "Copyright (c) FSF. All rights are reserved.\n",
      "Copyright remains Eric Young's, and as such any Copyright notices in pre></td></tr>\n",
      "Copyright (C) 2008 by Ioannis Tambouras\n",
      "COPYRIGHT at the top level of the upstream source code.\n",
      "Copyright:SimpleOnlyKeepCopyright MPL-MIT-dual:MPL-MIT-dual1,MPL-MIT-dual2 orGPLv2+orLGPLv2.1+:Altern,GPLv2orLGPLv2\\.1Ver2\\+,MPLoptionNOTGPLVer0,MPLoptionIfNotDelete3licsVer0 MIToldwithoutSell:MITperNoSell,MITnorep,MITasis MIToldwithoutSellCMUVariant:MITpermNoSell,X11CMUAsIs,X11CMULiability,X11CMUre\n",
      "copyright violation found\")\n",
      "CopyrightPolicyTheWhiteHouse_files/stats.js\" type=\"text/javascript\"></script></head>\n",
      "© Hubert Holin &amp; Didier Vidal. Maple\n",
      "Copyright (c) 2006, 2010 Micah Cowan\\n#\\n# Redistribution of this program in any form, with or without\\n# modifications, is permitted, provided that the above copyright is\\n# retained in distributions of this program in source form.\\n#\\n# (This is a free, non-copyleft license compatible with pretty\n",
      "copyrighted under U.S. and international laws. Sun Microsystems, Inc. of Mountain View, California owns\n",
      "Copyright (c) {{year}}, {{copyright holder}}\\r\\nAll rights reserved.\\r\\n\\r\\nRedistribution and use in source and binary forms, with or without\\r\\nmodification, are permitted provided that the following conditions are met:\\r\\n\\r\\n1. Redistributions of source code must retain the above copyright\\r\\nno\n",
      "COPYRIGHT2.html#3 http://creativecommons.org/license/\n",
      "copyrights, patents, trade secrets or any other intellectual property of Licensor except as expressly stated herein. No patent license is granted to make, use, sell or offer to sell embodiments of any patent claims other than the Licensed Claims defined in Section 2. No right is granted to the trade\n",
      "Copyright (c) 4-digit year, Company or Person's Name <E-mail address>\n",
      "Copyright 2011Jesse Phillips\n",
      "COPYRIGHT HOLDERS BE LIABLE FOR ANY CLAIM, DAMAGES OR OTHER LIABILITY, WHETHER IN AN ACTION OF CONTRACT, TORT OR OTHERWISE, ARISING FROM, OUT OF OR IN CONNECTION WITH THE SOFTWARE OR THE USE OR OTHER DEALINGS IN THE SOFTWARE. OF SUCH DAMAGE.\n",
      "copyright notice and this permission notice in its entirety.\n",
      "copyright (c) 2002 by author\", $output[22]);\n",
      "Copyright © 2008 Omair Majid\n",
      "copyright\\ndesignation and this License in the documentation and\\/or other materials provided with the\\ndistribution.\\nCopyright &copy 1994-1999. The MITRE Corporation (\\ntarget=\\\"_top\\\">http:\\/\\/www.mitre.org\\/). All Rights Reserved.\\n\\nThe terms \\\"MITRE\\\" and \\\"The MITRE Corporation\\\" are trademar\n",
      "copyright (copyright_pk, agent_fk, pfile_fk, content, hash, type, copy_startbyte, copy_endbyte, is_enabled) VALUES (5, 8, 4, 'copyright 3dfx interactive, inc. 1999, all rights reserved this 0xd5b4932ee22d9d53', 'statement', 5063, 5128, 'true');\n",
      "(c) Scott Jehl. MIT/GPLv2 Lic. j.mp/respondjs */\n",
      "Copyright © 1998-2002 by Peter Norvig. Permission is granted to anyone to use this software, in source or object code form, on any computer system, and to modify, compile, decompile, run, and redistribute it to anyone else, subject to the following restrictions: 1.The author makes no warranty\n",
      "Copyright|copyright\\s*(©)?([\\w \\-\\,\\[\\]]+)?(\\.com)?\\.?|Copyright\\s*(©)?|©([\\w \\-\\,\\.\\[\\]]+)?(Copyright)?)|(Copyright\\s*(\\(c\\))?|\\(c\\)\\s*(Copyright)?(?:[\\w \\,\\-\\.\\\"\\[\\]]{2,53}\\s*)?\\.?|\\(c\\)\\s*(Copyright)?)|Copyright|([\\w,]|(\\s*\\d+(\\s(?:\\,|-)\\s*\\d+)?\\s*))(\\s*\\d+(\\s*(?:\\,|-)\\s*\\d+)?\\,?\\s*)\\s*[a-zA-Z\n",
      "Copyright (c) 2002 by AUTHOR PROFESSIONAL IDENTIFICATION * URL PROMOTIONAL SLOGAN FOR AUTHOR''S PROFESSIONAL PRACTICE\"\n",
      "copyright= --- by default, =uglifyjs= will keep the initial\n",
      "(c) UNIX System Laboratories, Inc. All or some portions of this file are derived from material licensed to the University of California by American Telephone and Telegraph Co. or Unix System Laboratories, Inc. and are reproduced herein with the permission of UNIX System Laboratories, Inc\n",
      "Copyright \\u00a9 2004 National ICT Australia Ltd\\n\\nAll rights reserved.\\n\\nBy this licence, National ICT Australia Ltd (NICTA) grants permission,\\nfree of charge, to any person who obtains a copy of this software\\nand any associated documentation files (\\\"the Software\\\") to use and\\ndeal with the S\n",
      "CopyrightPolicyTheWhiteHouse_files/widget110.css\" type=\"text/css\" rel=\"stylesheet\"> meta http-equiv=\"Content-Type\" content=\"text/html; charset=UTF-8\"> meta http-equiv=\"X-UA-Compatible\" content=\"IE=8\">\n",
      "Copyright Eberhard Mattes\n",
      "copyright by the University of Cambridge, England</s>.\n",
      "Copyright in any portions created by third parties is as indicated C_ elsewhere herein. All Rights Reserved.\n",
      "COPYRIGHT NOTICE\\n\\nThese patterns and the generating sh script are Copyright (c) GMV 1991\\n\\nThese patterns were developed for internal GMV use and are made public in the hope that they will benefit others. Also, spreading these patterns throughout the Spanish-language TeX community is expected to\n",
      "Copyright Treaty adopted on December 20, 1996, and/or similar international agreements.\n",
      "Copyright 2013 Ankur Sinha\n",
      "COPYRIGHT\\n\\nThe following is a notice of limited availability of the code, and disclaimer which must be included in the prologue of the code and in all source listings of the code.\\n\\nCopyright Notice\\n1998--2020, Argonne National Laboratory\\n\\nPermission is hereby granted to use, reproduce, prepar\n",
      "Copyright Jaap Suter 2003\n",
      "Copyright Act, 17 U.S.C. 101 et seq., the equivalent laws of other countries, and international treaty. This section shall survive the termination of this License.\n",
      "Copyright Treaty of 1996, the WIPO Performances and Phonograms Treaty of 1996 and\n",
      "CopyRight.php 3095 2010-04-22 02:44:56Z rrando $\"\n",
      "copyright (copyright_pk, agent_fk, pfile_fk, content, hash, type, copy_startbyte, copy_endbyte, is_enabled) VALUES (10, 8, 5, 'copyright (c) 2002 by author professional identification * url 0xcd38e0e5aeb1930f', 'statement', 31, 97, 'true');\n",
      "© 2008 by Patrick O'Grady/Mad Dog Media. All rights and most lefts reserved. This material may not be published, broadcast, rewritten, redistributed, laser-printed, photocopied, crocheted into a sampler, knitted into a sweater, tattooed on a floozy, spray-painted on an overpass, tapped out in Morse\n",
      "COPYRIGHT,v 1.4 2004/01/13 18:05:41 samleffler Exp $\n"
     ]
    }
   ],
   "source": [
    "for m in misclassified_all:\n",
    "    print(m)"
   ]
  },
  {
   "cell_type": "code",
   "execution_count": 39,
   "metadata": {},
   "outputs": [
    {
     "name": "stdout",
     "output_type": "stream",
     "text": [
      "              precision    recall  f1-score   support\n",
      "\n",
      "           0       0.99      0.98      0.99      2870\n",
      "           1       0.95      0.97      0.96      1024\n",
      "\n",
      "    accuracy                           0.98      3894\n",
      "   macro avg       0.97      0.98      0.97      3894\n",
      "weighted avg       0.98      0.98      0.98      3894\n",
      "\n",
      "              precision    recall  f1-score   support\n",
      "\n",
      "           0       1.00      0.98      0.99     14865\n",
      "           1       0.88      1.00      0.93      1632\n",
      "\n",
      "    accuracy                           0.99     16497\n",
      "   macro avg       0.94      0.99      0.96     16497\n",
      "weighted avg       0.99      0.99      0.99     16497\n",
      "\n",
      "              precision    recall  f1-score   support\n",
      "\n",
      "           0       1.00      1.00      1.00     25786\n",
      "           1       0.81      1.00      0.90       156\n",
      "\n",
      "    accuracy                           1.00     25942\n",
      "   macro avg       0.91      1.00      0.95     25942\n",
      "weighted avg       1.00      1.00      1.00     25942\n",
      "\n"
     ]
    }
   ],
   "source": [
    "rf2 = RandomForestClassifier(200)\n",
    "rf2.fit(X_train_vec, y_train)\n",
    "y_pred = rf2.predict(X_test_vec)\n",
    "report = classification_report(y_test, y_pred)\n",
    "print(report)\n",
    "y_pred_1 = rf2.predict(X_test_1_vec)\n",
    "report = classification_report(y_test_1, y_pred_1)\n",
    "print(report)\n",
    "y_pred_2 = rf2.predict(X_test_2_vec)\n",
    "report = classification_report(y_test_2, y_pred_2)\n",
    "print(report)"
   ]
  },
  {
   "cell_type": "code",
   "execution_count": 40,
   "metadata": {},
   "outputs": [
    {
     "name": "stdout",
     "output_type": "stream",
     "text": [
      "              precision    recall  f1-score   support\n",
      "\n",
      "           0       0.99      0.98      0.99      2870\n",
      "           1       0.95      0.97      0.96      1024\n",
      "\n",
      "    accuracy                           0.98      3894\n",
      "   macro avg       0.97      0.98      0.97      3894\n",
      "weighted avg       0.98      0.98      0.98      3894\n",
      "\n",
      "              precision    recall  f1-score   support\n",
      "\n",
      "           0       1.00      0.98      0.99     14865\n",
      "           1       0.88      0.99      0.93      1632\n",
      "\n",
      "    accuracy                           0.99     16497\n",
      "   macro avg       0.94      0.99      0.96     16497\n",
      "weighted avg       0.99      0.99      0.99     16497\n",
      "\n",
      "              precision    recall  f1-score   support\n",
      "\n",
      "           0       1.00      1.00      1.00     25786\n",
      "           1       0.78      1.00      0.87       156\n",
      "\n",
      "    accuracy                           1.00     25942\n",
      "   macro avg       0.89      1.00      0.94     25942\n",
      "weighted avg       1.00      1.00      1.00     25942\n",
      "\n"
     ]
    }
   ],
   "source": [
    "rf3 = RandomForestClassifier(300)\n",
    "rf3.fit(X_train_vec, y_train)\n",
    "y_pred = rf3.predict(X_test_vec)\n",
    "report = classification_report(y_test, y_pred)\n",
    "print(report)\n",
    "y_pred_1 = rf3.predict(X_test_1_vec)\n",
    "report = classification_report(y_test_1, y_pred_1)\n",
    "print(report)\n",
    "y_pred_2 = rf3.predict(X_test_2_vec)\n",
    "report = classification_report(y_test_2, y_pred_2)\n",
    "print(report)"
   ]
  },
  {
   "cell_type": "code",
   "execution_count": 41,
   "metadata": {},
   "outputs": [
    {
     "name": "stdout",
     "output_type": "stream",
     "text": [
      "              precision    recall  f1-score   support\n",
      "\n",
      "           0       0.99      0.98      0.99      2870\n",
      "           1       0.95      0.97      0.96      1024\n",
      "\n",
      "    accuracy                           0.98      3894\n",
      "   macro avg       0.97      0.98      0.97      3894\n",
      "weighted avg       0.98      0.98      0.98      3894\n",
      "\n",
      "              precision    recall  f1-score   support\n",
      "\n",
      "           0       1.00      0.98      0.99     14865\n",
      "           1       0.87      0.99      0.93      1632\n",
      "\n",
      "    accuracy                           0.98     16497\n",
      "   macro avg       0.93      0.99      0.96     16497\n",
      "weighted avg       0.99      0.98      0.99     16497\n",
      "\n",
      "              precision    recall  f1-score   support\n",
      "\n",
      "           0       1.00      1.00      1.00     25786\n",
      "           1       0.77      1.00      0.87       156\n",
      "\n",
      "    accuracy                           1.00     25942\n",
      "   macro avg       0.89      1.00      0.94     25942\n",
      "weighted avg       1.00      1.00      1.00     25942\n",
      "\n"
     ]
    }
   ],
   "source": [
    "rf4 = RandomForestClassifier(500)\n",
    "rf4.fit(X_train_vec, y_train)\n",
    "y_pred = rf4.predict(X_test_vec)\n",
    "report = classification_report(y_test, y_pred)\n",
    "print(report)\n",
    "y_pred_1 = rf4.predict(X_test_1_vec)\n",
    "report = classification_report(y_test_1, y_pred_1)\n",
    "print(report)\n",
    "y_pred_2 = rf4.predict(X_test_2_vec)\n",
    "report = classification_report(y_test_2, y_pred_2)\n",
    "print(report)"
   ]
  },
  {
   "cell_type": "code",
   "execution_count": 42,
   "metadata": {},
   "outputs": [
    {
     "name": "stdout",
     "output_type": "stream",
     "text": [
      "              precision    recall  f1-score   support\n",
      "\n",
      "           0       0.99      0.98      0.99      2870\n",
      "           1       0.95      0.97      0.96      1024\n",
      "\n",
      "    accuracy                           0.98      3894\n",
      "   macro avg       0.97      0.98      0.97      3894\n",
      "weighted avg       0.98      0.98      0.98      3894\n",
      "\n",
      "              precision    recall  f1-score   support\n",
      "\n",
      "           0       1.00      0.99      0.99     14865\n",
      "           1       0.88      0.99      0.93      1632\n",
      "\n",
      "    accuracy                           0.99     16497\n",
      "   macro avg       0.94      0.99      0.96     16497\n",
      "weighted avg       0.99      0.99      0.99     16497\n",
      "\n",
      "              precision    recall  f1-score   support\n",
      "\n",
      "           0       1.00      1.00      1.00     25786\n",
      "           1       0.71      1.00      0.83       156\n",
      "\n",
      "    accuracy                           1.00     25942\n",
      "   macro avg       0.86      1.00      0.92     25942\n",
      "weighted avg       1.00      1.00      1.00     25942\n",
      "\n"
     ]
    }
   ],
   "source": [
    "rf5 = RandomForestClassifier(1000)\n",
    "rf5.fit(X_train_vec, y_train)\n",
    "y_pred = rf5.predict(X_test_vec)\n",
    "report = classification_report(y_test, y_pred)\n",
    "print(report)\n",
    "y_pred_1 = rf5.predict(X_test_1_vec)\n",
    "report = classification_report(y_test_1, y_pred_1)\n",
    "print(report)\n",
    "y_pred_2 = rf5.predict(X_test_2_vec)\n",
    "report = classification_report(y_test_2, y_pred_2)\n",
    "print(report)"
   ]
  },
  {
   "attachments": {},
   "cell_type": "markdown",
   "metadata": {},
   "source": [
    "### Test out Naive Bayes"
   ]
  },
  {
   "cell_type": "code",
   "execution_count": 44,
   "metadata": {},
   "outputs": [
    {
     "name": "stdout",
     "output_type": "stream",
     "text": [
      "              precision    recall  f1-score   support\n",
      "\n",
      "           0       0.97      0.97      0.97      2975\n",
      "           1       0.92      0.93      0.92      1084\n",
      "\n",
      "    accuracy                           0.96      4059\n",
      "   macro avg       0.95      0.95      0.95      4059\n",
      "weighted avg       0.96      0.96      0.96      4059\n",
      "\n"
     ]
    }
   ],
   "source": [
    "from sklearn.naive_bayes import MultinomialNB\n",
    "\n",
    "nb = MultinomialNB()\n",
    "nb.fit(X_all_train_vec, y_all_train)\n",
    "\n",
    "y_all_pred = nb.predict(X_all_test_vec)\n",
    "\n",
    "report = classification_report(y_all_test, y_all_pred)\n",
    "print(report)"
   ]
  },
  {
   "cell_type": "code",
   "execution_count": 70,
   "metadata": {},
   "outputs": [
    {
     "data": {
      "text/plain": [
       "{0: 2842, 1: 922, 2: 295}"
      ]
     },
     "execution_count": 70,
     "metadata": {},
     "output_type": "execute_result"
    }
   ],
   "source": [
    "import numpy as np\n",
    "\n",
    "# make the naive bayes classifier even more tight\n",
    "y_all_pred = nb.predict_proba(X_all_test_vec)\n",
    "y_all_pred_final = []\n",
    "for i in range(len(y_all_pred)):\n",
    "    if max(y_all_pred[i]) < 0.8:\n",
    "        y_all_pred_final.append(2)\n",
    "    else:\n",
    "        y_all_pred_final.append(0 if y_all_pred[i][0] > y_all_pred[i][1] else 1)\n",
    "\n",
    "# get the counts of the different classes\n",
    "def get_counts(y_pred):\n",
    "    counts = {}\n",
    "    for i in y_pred:\n",
    "        if i not in counts:\n",
    "            counts[i] = 1\n",
    "        else:\n",
    "            counts[i] += 1\n",
    "    return counts\n",
    "\n",
    "get_counts(y_all_pred_final)"
   ]
  },
  {
   "cell_type": "code",
   "execution_count": 86,
   "metadata": {},
   "outputs": [
    {
     "data": {
      "text/plain": [
       "array(['copyright notice;',\n",
       "       'copyright|\\\\<c\\\\>[^+:]|&copy) =YEAR= =SOME= catharon productions\"',\n",
       "       '�� SA����Le��T��/��T���� SA����L\\x03������i����@����L\\x03��\\x062',\n",
       "       'copyright|\\\\<c\\\\>[^+:]|&copy) zeus technology limited =YEAR=\"',\n",
       "       'copyright|\\\\<c\\\\>[^+:]|&copy) =YEAR= =SOME= sleepycat software\"',\n",
       "       \"(c) to Red Hat''s knowledge, Red Hat branded Software does not, at the time of delivery to Client, include malicious or hidden mechanisms or code for the purpose of damaging or corrupting the Software.\",\n",
       "       'Copyright Treaty of 1996, the WIPO Performances and Phonograms Treaty of 1996 and',\n",
       "       'Copyright License',\n",
       "       \"�� J��T����R7��T\\x06o��������Jvow\\x1er\\ne��m��HA\\x04D��������I��t��/����\\x0c����Tt|��p\\x07��������d\\x05V��#��\\x7f\\x07������p����GM��4B����\\x03��yD���� ����i��v\\x19ST����Me����������\\x13��S��q\\x1cO��Gm[qN��mZ����Q+������eQ+|\\x12.����5��\\x19��8[\\x160������Z��L��w��%��\\x08��Ll<\\x1aF\\x1d��\\x19Rbf��\\x1br��b&9������Z[V��', ����>6��b0F��[f����a���� ������\\x148����jr(G����Tg��O����D/������[N/h��\\x01V��)����Knvf����f����g\\x1fv������,\\x0b=������ed��\\\\H����Y����}��>QB\\\\��\\x14=����`Q\\x16K������\\x14������\\x03_��\",\n",
       "       'Copyright (C) 2000, Pawel Mrochen, based on makefile.msc which is',\n",
       "       'Copyright (c) 2000 The Apache Software Foundation. All rights reserved.\\\\n\\\\nRedistribution and use in source and binary forms, with or without modification, are permitted provided that the following conditions are met:\\\\n\\\\n1. Redistributions of source code must retain the above copyright notice, this',\n",
       "       'COPYRIGHT=\"No\"CopyrightSHOWCOPYRIGHT=\"Yes\"AgreeToLicense <> \"Yes\"NextLicenseAgreementAgreeToLicense = \"Yes\"ProgressType0=\"Modify\"ReadyToInstallInstallNowVersionNT < \"601\" OR NOT ISSupportPerUser OR InstalledGroupBox1NOT SERIALNUMSHOWSerialNumberTextCompanyNameTextCurrentSettingsTextProgressType0=\"Re',\n",
       "       'copyright> year>2003</year> holder>&dhusername;</holder>',\n",
       "       'copyright_once',\n",
       "       'copyrighted work whose copyright is held by Artifex Software Inc., located in San Rafael California and artofcode LLC, located in Benicia, California (the \"Licensor\"). Please note that AFPL Ghostscript is neither the program known as \"GNU Ghostscript\" nor the version of Ghostscript available for com',\n",
       "       'copyright VALUES (24, 15, 3, \\'http://www.condorproject.org/)\"\\', \\'5f99b6394b68ba3efd6355d001cf5c9c\\', \\'url\\', 1545, 1576);',\n",
       "       \"copyrights']['scannerFindings'], $titleSubHeadingCEI);\",\n",
       "       \"Copyright (C) 2003, 2006-2007 Free Software Foundation, Inc. This file is free software; the Free Software Foundation gives unlimited permission to copy and/or distribute it, with or without modifications, as long as this notice is preserved.', '', NULL, NULL, NULL, 'Free Software Foundation', NULL,\",\n",
       "       'copyrighted work whose copyright is held by Artifex Software Inc., located in San Rafael California and artofcode LLC, located in Benicia, California the \"Licensor\"). Please note that AFPL Ghostscript is neither the program known as \"GNU Ghostscript\" nor the version of Ghostscript available for com',\n",
       "       'copyrightContent)==0) { copyrightContent = null;',\n",
       "       'Copyright (C) 20[yy] [Name of the Entitled Person].',\n",
       "       'COPYRIGHT NOTICE: * */',\n",
       "       'Copyright (c) <year> <owner> All rights reserved.',\n",
       "       'copyright laws of the United States. Adobe Systems Incorporated, 345 Park Avenue, San Jose, CA 95110-2704, USA.',\n",
       "       \"© d'usage, de copie, de diffusion, de transformation et interdiction d'appropriation exclusive.\",\n",
       "       'copyright-document-20021231',\n",
       "       'Copyright \\\\u00a9 2018 MongoDB, Inc.\\\\n\\\\n Everyone is permitted to copy and distribute verbatim copies of this\\\\n license document, but changing it is not allowed.\\\\n\\\\n TERMS AND CONDITIONS\\\\n\\\\n 0. Definitions.\\\\n \\\\n \\\\\"This License\\\\\" refers to Server Side Public License.\\\\n\\\\n \\\\\"',\n",
       "       'copyright|\\\\<c\\\\>[^+:]|&copy) =YEAR= =SOME= carnegie mellon university\"',\n",
       "       'copyright laws, the author or authors',\n",
       "       'copyright        2        2018-05-11 12:54:08.512252+05:30        2018-05-11 12:54:10.314938+05:30        Completed        1        \\\\N        1060        \\\\N        \\\\N        \\\\N        \\\\N 5        2        ecc        2        2018-05-11 12:54:08.570293+05:30        2018-05-11 12:54:10.382832+05:30        Completed        1        \\\\N        1060        \\\\N        \\\\N        \\\\N        \\\\N 23        4        monk        4        2018-05-11 13:06:34.54903+05:30        2018-05-11 13:06:35.476129+05:30        Compl',\n",
       "       'copyright|\\\\<c\\\\>[^+:]|&copy) =YEAR= =SOME= defense advanced research projects agency\"',\n",
       "       'copyright. See that file for details.',\n",
       "       'copyright VALUES (17, 15, 5, \\'Copyright 2004 XXX 3dfx Interactive. conspicuously and appropriately publish on each copy of a derivative work\"> 257e7a16fdea45af00db34b34901297e\\', \\'statement\\', 92, 206, \\'true\\');',\n",
       "       \"Copyright Flag\\x018BIM' Japanese Print Flags 8BIM\\x03��\\x17Color Halftone SettingsH/ff\\x01lff /ff\\x01������ 2\\x01Z 5\\x01- 8BIM\\x03��\\x17Color Transfer Settingsp��������������������������������������������\\x03����������������������������������������������\\x03����������������������������������������������\\x03������������������������\",\n",
       "       'CopyrightText: NOASSERTION',\n",
       "       'copyright|\\\\<c\\\\>[^+:]|&copy) =YEAR= =SOME= distributed processing technology corp\"',\n",
       "       'Copyright (C) 2010 - 2013 Intel Corporation. All Rights Reserved. * The source code contained or described herein and all documents related to the source code (\"Material\") are owned by Intel Corporation or licensors. Title to the Material remains with Intel Corporation or its licensors. The Material',\n",
       "       'copyright 2014 Docker, inc. The code and documentation are released under the [Apache 2.0 license](../LICENSE). The documentation is also released under Creative Commons Attribution 4.0 International License. You may obtain a copy of the license, titled CC-BY-4.0, at http://creativecommons.org/licen',\n",
       "       'Copyright 2020 The TensorFlow Authors. All Rights Reserved. Licensed under the Apache License, Version 2.0 (the \"License\"); you may not use this file except in compliance with the License. You may obtain a copy of the License at',\n",
       "       'Copyright = $excludingCopyright;',\n",
       "       'Copyright (c) 2000-2006, The Perl Foundation.\\\\n\\\\nEveryone is permitted to copy and distribute verbatim copies of this license document, but changing it is not allowed.\\\\n\\\\nPreamble\\\\n\\\\nThis license establishes the terms under which a given free software Package may be copied, modified, distributed, an',\n",
       "       'copyrighted by the Free Software Foundation, write to the Free Software Foundation; we sometimes make exceptions for this. Our decision will be guided by the two goals of preserving the free status of all derivatives of our free software and of promoting the sharing and reuse of software ge',\n",
       "       'Copyright (c) 1999 Adobe Systems Incorporated. All Rights Reserved. CharacterSet Adobe-Korea1-0 Characters 2549 IsBaseFont true IsCIDFont true Ascender 883 Descender -257 CapHeight 883 StartDirection 2 UnderlinePosition -100 UnderlineThickness 50 ItalicAngle 0 IsFixedPitch false EndDirection StartC',\n",
       "       'copyright-software-20021231',\n",
       "       'copyright|\\\\<c\\\\>[^+:]|&copy) =YEAR= =SOME= unicode inc\"',\n",
       "       'Copyright Holder(s).', 'copyrightPfile + $eccPfile + $ipPfile;',\n",
       "       'Copyright (c) <insert year> IETF Trust and the persons identified as the document authors. All rights reserved.',\n",
       "       'Copyright (c) 2010-2011 Adaptive Computing Enterprises, Inc. All rights reserved. Use this license to use or redistribute the TORQUE software v2.5+ and later versions. For free support for TORQUE users, questions should be emailed to the community of TORQUE users at torqueusers@supercluster.org. Use',\n",
       "       '(c) is the Copyright property of CompuServe Incorporated. GIF(sm) is a Service Mark property of CompuServe Incorporated.\"\\', \\'http://spdx.org/licenses/IJG#licenseText\\', NULL, NULL, NULL, \\'Independent JPEG Group License\\', NULL, NULL, NULL, \\'\\', NULL, false, false, false, \\'c0df0c60061c7ff52d95ed8afe2f8e',\n",
       "       \"copyright/list.php');\",\n",
       "       'Copyright (c) {{YEAR}}, {{OWNER}} All rights reserved.',\n",
       "       'copyright sequence.', 'Copyright($scanCopyright)',\n",
       "       'Copyright: (C) 1996 Ignatios Souvatzis</s> License: BSD Redistribution and use in source and binary forms, with or without modification, are permitted provided that the following conditions are met:',\n",
       "       'COPYRIGHT define IDENTITY_COPYRIGHT endif endif endif endif',\n",
       "       'copyright/mod_deps',\n",
       "       'copyright-software-19980720\">previous version</a> and is written so as to preserve the <a href=\"http://www.gnu.org/philosophy/license-list.html#GPLCompatibleLicenses\">Free Software Foundation\\'s assessment of GPL compatibility</a> and <a href=\"http://www.opensource.org/licenses/W3C.php\">OSI\\'s certifi',\n",
       "       'copyright. The library is in the public domain.',\n",
       "       '(c) 2009-2014 Stuart Knightley <stuart [at] stuartk.com> Dual licenced under the MIT license or GPLv3. See https://raw.github.com/Stuk/jszip/master/LICENSE.markdown.',\n",
       "       'copyright list',\n",
       "       'COPYRIGHT=\"Copyright (c) 2015-2020 gimme contributors\" readonly GIMME_LICENSE_URL=\"https://raw.githubusercontent.com/travis-ci/gimme/${GIMME_VERSION}/LICENSE\" export GIMME_VERSION export GIMME_COPYRIGHT export GIMME_LICENSE_URL',\n",
       "       'copyright|\\\\<c\\\\>[^+:]|&copy) =YEAR= =SOME= Henry Spencer\"',\n",
       "       'Copyright © 1991-2005 Unicode, Inc. All rights reserved. 2. Certain documents and files on this website contain a legend indicating that \"Modification is permitted.\" Any person is hereby authorized, without fee, to modify such documents and files to create derivative works conforming to t',\n",
       "       'copyright/VERSION-copyright',\n",
       "       'Copyright (C) <replaceable>year</replaceable> <replaceable>name of author</replaceable>',\n",
       "       'copyright interest in',\n",
       "       'Copyright 2018 Free Software Foundation, Inc. Could not generate addis value for fusion',\n",
       "       '�� M\\x18ZS��&1\\x1fB����\\x15!p��~[��������\\x08y����������-��QI��E$%orl����m������DSRYNR����%%&o\\x0b����\\x16��&>��L��\\x0c��|I��R��1        }{N��>��J����xP��\\x1f\"g`TF����9\\x1d��$C��&��j@[R��#E\\x1b?��>I��-^��}u ��\\x07j�� ��\\x17A����4 ��`����8w\\x10��\\'������n��ZQ��\\x08����,��\\x11nc5M����OH��\\nU����������\\x11����T����@\\x0b��\\x15`������(��PA������?����3*�� ����',\n",
       "       'Copyright (C) 1991-2, RSA Data Security, Inc. Created 1991. All rights reserved.\\\\n\\\\nLicense to copy and use this software is granted provided that it is identified as the \\\\\"RSA Data Security, Inc. MD5 Message-Digest Algorithm\\\\\" in all material mentioning or referencing this software or this function',\n",
       "       'copyright__ = \"\"\"', \"copyright) increase maximum length of TLD's\",\n",
       "       'Copyright: 1996, Aki Yoshida, 2001, Iris Van den Broeke, Daniel Deville. License: other Permission to use, copy, modify and distribute this software for non-commercial or commercial purposes and without fee is',\n",
       "       \"© expérimenté par nombre d'artistes contemporains.\",\n",
       "       'CopyrightAttributeAssemblyTrademarkAttributeAssemblyCultureAttributeSystem.Runtime.InteropServicesComVisibleAttributeGuidAttributeAssemblyVersionAttributeAssemblyFileVersionAttributeSystem.Runtime.VersioningTargetFrameworkAttributeSystem.DiagnosticsDebuggableAttributeDebuggingModesSystem.Runtime.Com',\n",
       "       'copyright Alexey Kuznetsov,</s> and are distributed under the GNU General Public Licenses (version 2 or later), which is available in usr/share/common-licesnes/GPL.',\n",
       "       'copyright -C $tempFileName -c $SYSCONFDIR\";',\n",
       "       '��\\tuOX.!2�� ����\"��\\'\\\\\\'����wf������k��h����4Z��$��tnr��$\\x189#��,MFXk��H2�� ��Nm2��ET��s��rK�����������\\x08��\\x7f������������*��2��f��\\x04=Y����F��mRV��m(��&��������������d����F��������&����\\tf��X\\x077��������y������YU��T��\\x0c������c��$��PHi���\\x1a����g\\x1ew\\x7f������4?-[3����\\x14����\\x1e����p]Re����qa��1��\\x16��F7������O\\x10��[{I\\x17&��z%8��\\n(��Y-������>/ic��_m>����Jh\"\\x03T\\x0c��!��rQq������\\x14��������x+\\x18c��\\x19��������\\x0b_Sj��\\x07����������q������I��������\\x0ek(��1��������',\n",
       "       'Copyrighttable);', 'Copyrighted [year]',\n",
       "       'copyright list of one specified uploadtree_id',\n",
       "       \"Copyright (c) 1983-2002 Sybase, Inc. All Rights Reserved. This file contains Original Code and/or Modifications of Original Code as defined in and that are subject to the Sybase Open Watcom Public License version 1.0 (the 'License'). You may not use this file except in compliance with the License. B\",\n",
       "       'copyright|\\\\<c\\\\>[^+:]|&copy) =YEAR= =SOME= massachusetts institute of technology\"',\n",
       "       \"CopyrightText: NOASSERTION if generalAssessment is not empty ~%} PackageComment: <text> {{ generalAssessment|replace({'<text>':'&lt;text&gt;','</text>':'&lt;/text&gt;'}) }} </text> endif ~%} if obligations|default is not empty %} PackageAttributionText: <text> {{ obligations|join('\\\\n')\",\n",
       "       'copyright owners', 'copyright_once;',\n",
       "       'copyright 2002 Andrea Campi The source file calendar/libical/src/libicalcap/Makefile.am is',\n",
       "       'copyright\",1); scannerTest(sc, testContent, \"email\", { \"info@mysite.org\", \"benj@debian.org\" });',\n",
       "       'copyright --scheduler_start\"); FO_ASSERT_EQUAL(ma->max_run, 255); FO_ASSERT_EQUAL(ma->special, 0); FO_ASSERT_PTR_NULL(ma->version); FO_ASSERT_TRUE(ma->valid);',\n",
       "       '�� opcional.\\\\n\"',\n",
       "       '(c) 2006 Amazon Digital Services, Inc. or its affiliates.\\\\n\", rf_url\": \"https:\\\\/\\\\/fedoraproject.org\\\\/wiki\\\\/Licensing\\\\/AmazonDigitalServicesLicense\", rf_add_date\": null, rf_copyleft\": null, rf_OSIapproved\": null, rf_fullname\": \"Amazon Digital Services Lice',\n",
       "       'Copyright (c)1994-1997 their original authors. This module is released under the same license as Perl itself. See the Perl README for details.',\n",
       "       'copyright-format/1.0/ Upstream-Name: PostgreSQL Source: ftp://ftp.postgresql.org/mirror/postgresql/src/',\n",
       "       'Copyright Notice\" refers to the following language:',\n",
       "       'copyright-software-20021231\"', 'copyright(NULL));',\n",
       "       '�� and Expect are identical',\n",
       "       'Copyright © 1991-2010 Unicode, Inc. All rights reserved. Certain documents and files on this website contain a legend indicating that &quot;Modification is permitted.&quot; Any person is hereby authorized, without fee, to modify such documents and files to create derivative works conforming to the',\n",
       "       'Copyright (C) 2000-2002 werken digital.\\\\nAll rights reserved.\\\\n\\\\nRedistribution and use in source and binary forms, with or without modification, are permitted provided that the following conditions are met:\\\\n\\\\n 1. Redistributions of source code must retain the above copyright notice, this li',\n",
       "       'copyright|\\\\<c\\\\>[^+:]|&copy) =YEAR= =SOME= xerox corp\"',\n",
       "       'Copyright (c) 1993-2009, all rights reserved. Since DOC software is open-source, freely available software, you are free to use, modify, copy, and distribute--perpetually and irrevocably--the DOC software source code and object code produced from the source, as well as copy and distribute modified',\n",
       "       'Copyright (c) 2003 Entessa, LLC. All rights reserved.\\\\n\\\\nRedistribution and use in source and binary forms, with or without modification, are permitted provided that the following conditions are met:\\\\n\\\\n1. Redistributions of source code must retain the above copyright notice, this list of condition',\n",
       "       'Copyright 2014-2020 fossology\\'.\" | trans }} label> div> li>',\n",
       "       'Copyright; and',\n",
       "       'Copyright (c) {{year}}, {{copyright holder}} All rights reserved.',\n",
       "       'Copyright © 1996-2007 Oracle and/or its affiliates. For third party copyrights see below (copies from the third party readme).',\n",
       "       'Copyright (c) 2013 by Nikita Popov. h3><a class=\"top\" href=\"#releaseHeader\">&#8679;</a></h3> pre> li> li id=\"njh_easyrdf_0.9.0\" class=\"release\" title=\"njh easyrdf 0.9.0\"> div class=\"inset\"> h3 id=\"h3njh_easyrdf_0',\n",
       "       '(c) and copyright unicode symbol list_of_copyrights = \" \".join(map(str, filtered_sentence)) substring = \"( c )\"',\n",
       "       '�� enviado para o servidor.\"', 'copyright_spasht\";',\n",
       "       'copyright pre></td></tr>',\n",
       "       'Copyright (c) 2015 Rolls-Royce Controls and Data Services Limited. All rights reserved.',\n",
       "       'COPYRIGHT at the top level of the upstream source code.',\n",
       "       'CopyrightYearCheckWR_StartDBrowsaffectedrename@@GLIBC_2.0memset@@GLIBC_2.0_RepGetHostfopen64@@GLIBC_2.1_RepCheckStringWR_StrstrPQresultStatus__strtol_internal@@GLIBC_2.0HBItemsProcessedFileReadLineRepClose__libc_start_main@@GLIBC_2.0InitHeartbeatstrrchr@@GLIBC_2.0DBaccesschmod@@GLI',\n",
       "       'Copyright Date\\\\nAcademic Free License\\\\t2.0\\\\nApache Software License\\\\t1.0\\\\/1.1\\\\/2.0\\\\nApple Public Source License\\\\t2.0\\\\nArtistic license\\\\tFrom Perl 5.8.0\\\\nBSD license\\\\t\\\\\"July 22 1999\\\\\"\\\\nCommon Development and Distribution License (CDDL)\\\\t1.0\\\\nCommon Public License\\\\t1.0\\\\nGNU Library or \\\\\"Lesser\\\\\" Gener',\n",
       "       'copyright|\\\\<c\\\\>[^+:]|&copy)\" STR% \"includes copyrighted works of Hewlett-Packard Co for\"',\n",
       "       '�� deixada sem nome na v2. O padr��o �� \" service/v2\\'.\"',\n",
       "       '(C) 1998-2002 Red Hat, Inc. -- Licensing details are in the COPYING file accompanying popt source distributions, available from ftp://ftp.rpm.org/pub/rpm/dist. */',\n",
       "       'Copyright for the status of this software.',\n",
       "       'COPYRIGHT (C) 1986 Gary S. Brown. You may use this program, or code or tables extracted from it, as desired without restriction.',\n",
       "       'copyright|\\\\<c\\\\>[^+:]|&copy) =YEAR= =SOME= xilinx inc\"',\n",
       "       \"copyright interest in the library `Frob' (a library for tweaking knobs) written by James Random Hacker.\\\\r        06dc4dc7921fafdfdb61a667f39520ea        statement        26734        26841        t\",\n",
       "       'copyright is claimed in the United States under Title 17, U.S.Code. All Other Rights Reserved.',\n",
       "       'copyright|\\\\<c\\\\>[^+:]|&copy) =YEAR= =SOME= the openssl project\"',\n",
       "       'copyrightTexts;',\n",
       "       '��\\tLj��IM`R\\x13����\\x04&5��IM`R\\x13����\\x04&5����&0��\\tLj\\x02��������\\x06��������3����]������\\x1b��\\x1d# h,\"\\n����xV��[��I\\n0��\\x01&��k����\\x084 m��$:����\\x08t\\x04: ����@g����\\x1b`R\\x03Lj��I\\n0��\\x01&5����\\x06����\\x12Lj��I\\n0��\\x01&��������l ;��K@Eb����*\\x02+\\x02+\\x02+ ��!��!��q��\\n��\\n��\\n��\\n��\\n��m!��#��s��\\x1d��\\x1d��\\x1d��h����\\x02��\\x0e��Q7����\\x06������\\x1a`R\\x03Lj��I\\n0��%������\\x1a`R\\x03Lj��I\\n0��\\x01&5������`R\\x03Lj��I\\n0��\\x01&5����\\x06������Z��I\\n0��\\x01&5����\\x06������\\x1a`R\\x03Lj\\t&}������\\x19r����me����f��|����',\n",
       "       '(c) Copyright NicroZoft Corp. 1993</s> This source is subject to the NicroZoft Public License (NZPL). All other right reserved.',\n",
       "       'Copyright 2014 è&#135;ªç&#148;±è½¯ä»¶å&#159;ºé&#135;&#145;ä¼&#154;ã&#128;&#130;',\n",
       "       'Copyright �� 2016 Maxim Kupriianov <max@kc.vc>',\n",
       "       'Copyright (c) [YEAR] W3C® (MIT, ERCIM, Keio, Beihang).\"',\n",
       "       'copyrighted by the Regents of the University of California, Sun Microsystems, Inc., Scriptics Corporation, ActiveState Corporation and other parties. The following terms apply to all files associated with the software unless explicitly disclaimed in individual files.',\n",
       "       'copyright\" already exists\\':',\n",
       "       'copyright matcher hCopyrightScanner sc;',\n",
       "       'Copyright (c) 1996 NVIDIA, Corp. All rights reserved.\\\\n\\\\nNOTICE TO USER: The source code is copyrighted under U.S. and international laws. NVIDIA, Corp. of Sunnyvale, California owns the copyright and as design patents pending on the design and interface of the NV chips. Users and possessors of this',\n",
       "       \"copyright interest in the library `Frob'' (a library for tweaking knobs) written by James Random Hacker.\",\n",
       "       'COPYRIGHT NOTICE',\n",
       "       'copyright = filter_var($copyright, FILTER_VALIDATE_BOOLEAN);',\n",
       "       '�� especificada ou \\\\n\"', 'copyrighted.',\n",
       "       'Copyright \" {YEAR} United States Government as represented by _____________',\n",
       "       '(c) 2007. This file and the modifications can be redistributed and/or modified under the terms and conditions of the GNU General Public License, version 2.1 and not any later version of the GPL, as published by the Free Software Foundation.',\n",
       "       \"Copyright (C) 2003-2004 Lawrence E. Rosen. All rights reserved. Permission is hereby granted to copy and distribute this license without modification. This license may not be modified without the express written permission of its copyright owner.', 'http://www.opensource.org/licenses/osl-2.1.php', N\",\n",
       "       'Copyright Randy Rando, licensed under the BSD license\\\\n\");',\n",
       "       '(c) for c in node.comparators]',\n",
       "       'copyright|\\\\<c\\\\>[^+:]|&copy) =YEAR= =SOME= trident microsystems inc\"',\n",
       "       'copyright-format/1.0/ Upstream-Name: PM2 Upstream-Contact: Alexandre Strzelewicz <alexandre@keymetrics.io> Source: http://pm2.o/',\n",
       "       '�� trouv��es. \"', 'CopyrightLister',\n",
       "       'Copyright (c) 2006, CRYPTOGAMS by <appro@openssl.org>\\\\nAll rights reserved.\\\\n\\\\nRedistribution and use in source and binary forms, with or without\\\\nmodification, are permitted provided that the following conditions\\\\nare met:\\\\n\\\\n *\\\\tRedistributions of source code must retain copyright notices,\\\\n\\\\',\n",
       "       'COPYRIGHTEND#### BSDCOPYRIGHTBEGIN####',\n",
       "       'Copyright (C) Universite de Strasbourg Distributed under the terms of the CeCILL-B license, as published by the CEA-CNRS-INRIA. Refer to the LICENSE file or to http://www.cecill.info/licences/Licence_CeCILL-B_V1-en.html for details.',\n",
       "       'Copyright 2023 The Prometheus Authors Licensed under the Apache License, Version 2.0 (the \"License\"); you may not use this file except in compliance with the License. You may obtain a copy of the License at',\n",
       "       'copyright infomation was added. 9. Chinese annotations was added. 10. POD documents was added. 11. Release notes was added. 12. Readme file was added.',\n",
       "       'Copyright © [$date-of-document] Open Geospatial Consortium, Inc. All Rights Reserved. http://www.opengeospatial.org/ogc/legal (Hypertext is preferred, but a textual representation is permitted.) 3. Notice of any changes or modifications to the OGC files, including the date changes were made. (We re',\n",
       "       'Copyright (c) 2000-2001 X.Net, Inc. Lafayette, California, USA Permission is hereby granted, free of charge, to any person obtaining a copy of this software and associated documentation files (the \"Software\"), to deal in the Software without restriction, including without limitation the rights to us',\n",
       "       'Copyright (c) 2005-2008 Aptana, Inc. This program is distributed under both the Aptana Public License and the GNU General Public license. For the GPL license, this program is free software; you can redistribute it and/or modify it under the terms of the GNU General Public License, Version 3, as publ',\n",
       "       'COPYRIGHT file for details.',\n",
       "       'Copyright Date* Academic Free License 2.0 Apache Software License 1.0/1.1/2.0 Apple Public Source License 2.0 Artistic license From Perl 5.8.0 BSD license \"July 22 1999',\n",
       "       'Copyright 2001 Scott Robert Ladd. All rights reserved, except as noted herein.\\\\n\\\\nThis computer program source file is supplied \\\\\"AS IS\\\\\". Scott Robert Ladd (hereinafter referred to \\\\nas \\\\\"Author\\\\\") disclaims all warranties, expressed or implied, including, without limitation, the \\\\nwarranties of me',\n",
       "       'copyright|\\\\<c\\\\>[^+:]|&copy) =YEAR= =SOME= zveno pty ltd\"',\n",
       "       'copyright.txt contains license(s) AGPL-3.0-only File NomosTestfiles/AGPL/readme.rst contains license(s) AGPL-3.0-or-later File NomosTestfiles/Aladdin/Aladdin.txt contains license(s) Aladdin File NomosTestfiles/Aladdin/LICENSE.txt contains license(s) Aladdin,LPPL-1.3+ File NomosTestfiles/Amazon/ADSL.',\n",
       "       'copyright_res as $copyright) {',\n",
       "       \"copyright notices and/or license terms and conditions imposed by contributors on embedded code. The contributors' license terms and conditions\",\n",
       "       'copyrighted by Open Market, Inc (\"Open Market\"). The following terms apply to all files associated with the Software and Documentation unless explicitly disclaimed in individual files.',\n",
       "       'Copyright (C) 1991, 1992 Hans-Hermann Bode\\\\n\\\\nPermission is granted to make and distribute verbatim copies of this document provided that the copyright notice and this permission notice are preserved on all copies.\\\\n\\\\nPermission is granted to copy and distribute modified versions of this document u',\n",
       "       \"copyright (copyright_pk, agent_fk, pfile_fk, content, hash, type, copy_startbyte, copy_endbyte, is_enabled) VALUES (21, 15, 3, 'Copyright (c) 1990-2006 Condor Team, Computer Sciences Department, University of Wisconsin-Madison, Madison, WI. All Rights Reserved. For more information contact: Condor T\",\n",
       "       'Copyright Policy</h1>',\n",
       "       'copyright law while still making the Package open source and free software).',\n",
       "       '(c) yyunput( c, yytext_ptr )', \"copyright/library.php');\",\n",
       "       'copyright\" ALIAS% _ZZGEN_last_cpy',\n",
       "       'Copyright (C) 2001-2003 by the Institute of Electrical and Electronics Engineers, Inc and The Open Group. In the event of any discrepancy between these versions and the original IEEE and The Open Group Standard, the original IEEE and The Open Group Standard is the referee document.\\t70a80a97b8511a277',\n",
       "       '�� configurada v��rias vezes, apenas o ��ltimo \" valor ser�� utilizado\\\\n\" kubectl annotate pods foo description=\\'my frontend\\'\\\\n\"',\n",
       "       'copyright|\\\\<c\\\\>[^+:]|&copy) =YEAR= =SOME= internet software consortium\"',\n",
       "       '(c) Feeding child[%d]: attr=\\'%s\\' | arg=\\'%s\\'\\\\n\",Thread,Attr,Arg); memset(CM[Thread].Parm,\\'\\\\0\\',MAXCMD); strcpy(CM[Thread].Parm,Arg); write(CM[Thread].ChildStdin,Arg,ArgLen); IsProcess = 2;',\n",
       "       'copyright|\\\\<c\\\\>[^+:]|&copy)\" STR% \"unless otherwise stated Linux howto documents are copyrighted by their respective authors\"',\n",
       "       'copyright\"> link type=\"text/css\" rel=\"stylesheet\" media=\"all\" href=\"CopyrightPolicyTheWhiteHouse_files/css_injector_13.css\"> link type=\"text/css\" rel=\"stylesheet\" media=\"all\" href=\"CopyrightPolicyTheWhiteHouse_files/css_1b093e47d77eeb1567a95e92bf540da6_136.css\"> link type=\"text/css\" rel=\"styles',\n",
       "       'Copyright (C) 1994-2006 The XFree86 Project, Inc.\\\\nAll rights reserved.\\\\n\\\\nPermission is hereby granted, free of charge, to any person obtaining a copy of this software and associated documentation files (the \\\\\"Software\\\\\"), to deal in the Software without restriction, including without limitation th',\n",
       "       \"CopyrightFindings';\",\n",
       "       '�� suportada, converte para a ��ltima vers�� dispon��vel.',\n",
       "       'copyright (and design patent)? licen[cs]e\"',\n",
       "       'copyright C 1988 by the Institute of Electrical and Electronics Engineers, Inc. In the event of any discrepancy between these versions and the original IEEE Standard, the original IEEE Standard is the referee document.',\n",
       "       'CopyrightOwner> rdf:Seq/> plus:CopyrightOwner> plus:Licensor> rdf:Seq/> plus:Licensor> rdf:Description> rdf:RDF> x:xmpmeta>',\n",
       "       'copyright notice:',\n",
       "       'Copyright (C) ______ All Rights Reserved.\\tb0f18f5453d5ea826b33686317365b95\\tstatement\\t31851\\t31922\\tt',\n",
       "       'Copyright AlainMiniussi 20014 - 20015',\n",
       "       'Copyright for that code follows.',\n",
       "       'Copyright (C) 1996 X Consortium\\\\n\\\\nPermission is hereby granted, free of charge, to any person obtaining a copy of this software and associated documentation files (the \\\\\"Software\\\\\"), to deal in the Software without restriction, including without limitation the rights to use, copy, modify, merge, pu',\n",
       "       '(c) Scott Jehl. MIT/GPLv2 Lic. j.mp/respondjs */',\n",
       "       'Copyright 2003, North Carolina State Highway Patrol License: Perl / BSD This module is free software; you may redistribute it and/or modify it under the same terms as Perl itself.',\n",
       "       'Copyright License Distribution Packager Group Icon Summary Obsoletes Provides Source Patch',\n",
       "       \"copyright CERN 2020. Anyone is welcome to use it, in\\\\nunmodified form only.\\\\n\\\\nUse of this Licence does not imply any endorsement by CERN of any\\\\nLicensor or their designs nor does it imply any involvement by CERN in\\\\ntheir development.\\\\n\\\\n\\\\n1 Definitions\\\\n\\\\n 1.1 'Licence' means this CERN-OHL-P.\\\\n\\\\\",\n",
       "       \"Copyright (c) 4-digit year, Company or Person's Name <E-mail address>\",\n",
       "       '(c) Audiences are explicitly provided by users 2) No service account impersontation',\n",
       "       'copyright|\\\\<c\\\\>[^+:]|&copy) =YEAR= =SOME= piriform (ltd|limited)\"',\n",
       "       'Copyright (c) 2001-2004 by the MX4J contributors. All rights reserved.\\\\n\\\\n Redistribution and use in source and binary forms, with or without\\\\n modification, are permitted provided that the following conditions\\\\n are met:\\\\n\\\\n 1. Redistributions of source code must re',\n",
       "       'copyright ecc => ecc others => author',\n",
       "       'copyright. More considerations for licensors: wiki.creativecommons.org/Considerations_for_licensors',\n",
       "       'copyright:|@[acr]|>|\\\\\\\\\\\\\\\\par)\"',\n",
       "       'copyrighted as noted above. Qhull is free software and may be obtained via http from www.qhull.org. It may be freely copied, modified, and redistributed under the following conditions:',\n",
       "       'Copyright and',\n",
       "       'Copyright (C) 1996-2003 Free Software Foundation, Inc. This file is free software, distributed under the terms of the GNU General Public License. As a special exception to the GNU General Public License, this file may be distributed as part of a program that contains a configuration script gene',\n",
       "       'Copyright (c) AWare Systems <http://www.awaresystems.be/>',\n",
       "       'copyright|\\\\<c\\\\>[^+:]|&copy) =YEAR= =SOME= secret labs ab\"',\n",
       "       'Copyright 1996-1999 by Scott Hudson, Frank Flannery, C. Scott Ananian Permission to use, copy, modify, and distribute this software and its documentation for any purpose and without fee is hereby granted, provided',\n",
       "       'Copyright-Notice\">',\n",
       "       'copyrighted by the Free Software Foundation, write to the Free Software Foundation; we sometimes make exceptions for this. Our decision will be guided by the two goals of preserving the free status of all derivatives of our free software and of promoting the sharing and reuse of software general',\n",
       "       'Copyright: GPL, see /usr/share/common-licenses/GPL',\n",
       "       'copyright, and pkgagent.',\n",
       "       'Copyright (c) 2011, Deusty, LLC\\\\nAll rights reserved.\\\\n\\\\nRedistribution and use of this software in source and binary forms, with or without modification, are permitted provided that the following conditions are met:\\\\n\\\\n * Redistributions of source code must retain the above copyright notice, th',\n",
       "       'copyright|\\\\<c\\\\>[^+:]|&copy) =YEAR= =SOME= red ?hat\"',\n",
       "       'copyright|\\\\<c\\\\>[^+:]|&copy) =YEAR= =SOME= wintertree software inc\"',\n",
       "       'copyright|\\\\<c\\\\>[^+:]|&copy) university of cambridge =SOME= =YEAR=\"',\n",
       "       'copyright twig templates to twig.loader see Twig_Loader_Filesystem',\n",
       "       'copyright information about a file',\n",
       "       \"copyright Free Software Foundation,</s> and is licensed under the GNU General Public License which on Debian GNU/Linux systems can be found as `/usr/share/common-licenses/GPL'.\",\n",
       "       'Copyright by many contributors; see http://babel.eclipse.org/ DATATOOLS.CORE.UI.PREFERENCES.COLUMN.TAB=Text DATATOOLS.CORE.UI.DND.COPY=Copiaz\\\\u0103 FILE_PATH_LABEL_TEXT=&Numele fi\\\\u015fierului: UI_TITLE_FILE_CHOOSER=Selectare Fi\\\\u015fiere UI_TOOLTIP_DELETE=\\\\u015eterge SCHEMA_MANAGEMENT_CREATE_INDE',\n",
       "       '(c) 2006 VeriSign, Inc. - For authorized use only1E0C U <VeriSign Class 3 Public Primary Certification Authority - G50 061108000000Z 360716235959Z0\\x81Ê1\\x0b0 U US1\\x170 U\\x04',\n",
       "       'copyright|\\\\<c\\\\>[^+:]|&copy) =YEAR= =SOME= the netbsd foundation inc\"',\n",
       "       'Copyright (c) 2003 Contributors. All rights reserved. This program and the accompanying materials are made available under the terms of the Eclipse Public License v1.0 which accompanies this distribution and is available at http://www.eclipse.org/legal/epl-v10.html',\n",
       "       '(C) Copyright Nicolai M. Josuttis 2001. Permission to copy, use, modify, sell and distribute this software',\n",
       "       \"© 2008 by Patrick O'Grady/Mad Dog Media. All rights and most lefts reserved. This material may not be published, broadcast, rewritten, redistributed, laser-printed, photocopied, crocheted into a sampler, knitted into a sweater, tattooed on a floozy, spray-painted on an overpass, tapped out in Morse\",\n",
       "       'copyright file of the sysvinit package for the location of the upstream sources of the sysvinit package. Debian-specific files for sysvinit, such as these initscripts, are <s>maintained by the members of the pkg-sysvinit project at alioth.debian.org.</s>',\n",
       "       'Copyright 2020 The Prometheus Authors Licensed under the Apache License, Version 2.0 (the \"License\"); you may not use this file except in compliance with the License. You may obtain a copy of the License at',\n",
       "       'copyright|\\\\<c\\\\>[^+:]|&copy) =YEAR= =SOME= oracle\"',\n",
       "       'Copyright (C) 2001-2009 Robert A. van Engelen, Genivia inc. All Rights Reserved. THE SOFTWARE IN THIS PRODUCT WAS IN PART PROVIDED BY GENIVIA INC AND ANY EXPRESS OR IMPLIED WARRANTIES, INCLUDING, BUT NOT LIMITED TO, THE IMPLIED WARRANTIES OF MERCHANTABILITY AND FITNESS FOR A PARTICULAR PURPOSE ARE D',\n",
       "       'Copyright 2016 The Prometheus Authors Licensed under the Apache License, Version 2.0 (the \"License\"); you may not use this file except in compliance with the License. You may obtain a copy of the License at',\n",
       "       'COPYRIGHT LICENSE',\n",
       "       'Copyright (C) &lt;year&gt; &lt;name of author&gt; [year] This program is free software: you can redistribute it and/or modify it under the terms of the GNU General Public License as published by the Free Software Foundation, version.',\n",
       "       \"copyright 1989-2000 by Norman Ramsey. All rights reserved.\\\\n\\\\nNoweb is protected by copyright. It is not public-domain software or shareware, and it is not protected by a ``copyleft'' agreement like the one used by the Free Software Foundation.\\\\n\\\\nNoweb is available free for any use in any field of\",\n",
       "       'copyright|\\\\<c\\\\>[^+:]|&copy) =YEAR= =SOME= university of illinois\"',\n",
       "       '�� para o .bash_profile\\\\n\" t\\\\tkubectl completion bash > ~/.kube/completion.bash.inc\\\\n\" t\\\\tprintf \\\\\"\\\\n\" Kubectl shell completion\\\\n\" source \\'$HOME/.kube/completion.bash.inc\\'\\\\n\" HOME/.bash_profile\\\\n\" t\\\\tsource $HOME/.bash_profile\\\\n\"',\n",
       "       'copyright.html\"',\n",
       "       'copyright|\\\\<c\\\\>[^+:]|&copy).damagesderivadistribut(\\\\<gnu|free\\\\>|l?gpl)free softwaregrantin(demnif|tellect)indemnif[iy]intellectual propert[^e]liabilitylicen[cs]mis-?representso(ftware|urce)open sourcep(atent|roduc|rofit|roject|ublic)patentpermi[st]permission',\n",
       "       'copyright, and can be used without restriction.\" This segment of code is noted in this program with \"mredkj.com\".',\n",
       "       'copyright>$this->_Copyright</copyright>\\\\n\"; V .= \"<text>$this->_Text</text>\\\\n\"; break; case \"HTML\": global $VERSION; global $SVN_REV; V .= \"<b>FOSSology version $VERSION (code revision $SVN_REV)</b>\\\\n\";',\n",
       "       'Copyright (C) {{YEAR}} {{OWNER}} All Rights Reserved.',\n",
       "       '��\\tNU��!nep��g��[\\x1fl��pj\\x043K��Y����\\x12y+ 4����y%��f\\x083K��Y����\\x12f��0����y%��VW{\\x12��,af\\t3K��Y��\\x12����0������\\x14af����5 ��\\x19��9��������4v} ����\\x1e��&����jC��r=\\x1a��>7P',\n",
       "       'copyright is running',\n",
       "       'Copyright (C) 1995-2012 Index Data See the file LICENSE for details.',\n",
       "       '��\\tm��fLa9\\x0e$����;`����I\\x12����`Eg3��(\\x17|��nx$����;��L��74\\n3��d{-%����c\\x1b-��\\x12\\x7f]����\\x04m��������������\\x01��8����b\\x13A����?���Q��3������RN\\x0c��a\\x1b��\\x16G��\\x1b����\\x1d����Y��\\x1c����FKF������\\x1c��y%k\\x18����rQ\\x16������\\x12/+����0�� Dg @�� ������f%DCM3��Hg-��Z��\\x02x��G��f��\\x04��n~\\x1d����m����g��7����\\x07��<������\\x0c@����Q��2g\\x03~:\\x1f</������PTfx��:��q ��\\x1b��������������J\\x04��L������x��o��:��&��\\x0c, ����D\\x0b��DR��JE$��������B-������l������&3��)��S��\\x10��\\x048\\x04������\\\\\\x03',\n",
       "       '(c) for c in containers] else: containers = [] tf_session.TF_Reset(target, containers, config)',\n",
       "       'Copyright (c) Microsoft Corporation and released under the MLPL as found at: http://msdn.microsoft.com/en-us/cc300389.aspx#MLPL>. For use only on Windows operating systems.',\n",
       "       'Copyright (C) 2003-2004 Lawrence E. Rosen. All rights reserved. Permission is hereby granted to copy and distribute this license without modification. This license may not be modified without the express written permission of its copyright owner.',\n",
       "       'Copyright © <YEAR> <HOLDERS>. All rights reserved.',\n",
       "       'copyrighted by the ITU-T, write to the ITU-T Secretariat; exceptions may be made for this. This decision will be guided by the two goals of preserving the free status of all derivatives of this free software and of promoting the sharing and reuse of software generally.',\n",
       "       '�� criado, \"',\n",
       "       'Copyright\"][\"License\"][0]=\"Corporate/Sun/Sun Microsystems Free with Copyright variant 1\";',\n",
       "       'Copyright \\\\u00a9 2004 National ICT Australia Ltd\\\\n\\\\nAll rights reserved.\\\\n\\\\nBy this licence, National ICT Australia Ltd (NICTA) grants permission,\\\\nfree of charge, to any person who obtains a copy of this software\\\\nand any associated documentation files (\\\\\"the Software\\\\\") to use and\\\\ndeal with the S',\n",
       "       'copyright|\\\\<c\\\\>[^+:]|&copy) =YEAR= =SOME= regents of the university of california\"',\n",
       "       'copyright rtype: dict()',\n",
       "       'copyright by the Free Software Foundation but is freely distributable. The same holds for its supporting scripts config.guess, config.sub, ltconfig, ltmain.sh). Another support',\n",
       "       'Copyright (4-digit-year) by (CopyrightHoldersName)',\n",
       "       \"Copyright: Copyright 2009 Damien Raude-Morvan License: GPL-2+ On Debian systems the full text of the GNU General Public License can be found in the `/usr/share/common-licenses/GPL-2' file.\",\n",
       "       'Copyright \\\\(co 2001-2003 by the Institute of Electrical and Electronics Engineers, Inc and The Open Group. In the event of any discrepancy between this version and the original IEEE and The Open Group Standard, the original IEEE and The Open Group Standard is the referee document. The original Stand',\n",
       "       '(c) In quant resize bilinear the choice of unsigned vs signed accumulation and saturated vs unsaturated arithmetic is often unimportant.',\n",
       "       'Copyright 2002 (C) The Codehaus. All Rights Reserved.\\\\n\\\\nRedistribution and use of this software and associated documentation (\\\\\"Software\\\\\"), with or without modification, are permitted provided that the following conditions are met:\\\\n\\\\n1. Redistributions of source code must retain copyright stateme',\n",
       "       'copyright_count',\n",
       "       'COPYRIGHT,v 1.2 2004/05/15 22:26:24 samleffler Exp $',\n",
       "       'copyrighted to legally protect it\"',\n",
       "       'Copyright YEAR The Kubernetes sample-apiserver Authors.',\n",
       "       'copyrights are various',\n",
       "       'copyright 3dfx interactive, inc. 1999, all rights reserved this \\\\n\"), array( description\"=> \"desc\", textfinding\" => \"text\", comments\" => \"comment\", uploadtree_pk\" => \"7\", clearing_decision_type_fk\" => \"5\",',\n",
       "       'Copyright \\\\(co 2006 Canonical Ltd. br This is free software; see the source for copying conditions. There is NO warranty; not even for MERCHANTABILITY or FITNESS FOR A PARTICULAR PURPOSE.',\n",
       "       'Copyright below).',\n",
       "       'CopyrightTextsToDB($data->getCopyrightTexts(), data->getPfiles());',\n",
       "       'copyright\")); endif', 'Copyright = $includingCopyright;',\n",
       "       'Copyright 2022 Google LLC. Licensed under the Apache License, Version 2.0 (the \"License\"); you may not use this file except in compliance with the License. You may obtain a copy of the License at',\n",
       "       'Copyright \" {YEAR} United States Government as represented by _____________ _____________________________. No copyright is claimed in the United States under Title 17, U.S.Code. All Other Rights Reserved.',\n",
       "       'Copyright 2021 The Kubernetes Authors. REM REM Licensed under the Apache License, Version 2.0 (the \"License\"); REM you may not use this file except in compliance with the License. REM You may obtain a copy of the License at REM REM http://www.apache.org/licenses/LICENSE-2.0 REM REM Unless requir',\n",
       "       'Copyright: (c) Julian Smart Licence: wxWindows licence',\n",
       "       'Copyright (c) 2000- (insert then current year) OCLC Online Computer Library Center, Inc. and other contributors. All rights reserved. The contents of this file, as updated from time to time by the OCLC Office of Research, are subject to OCLC Research Public License Version 2.0 (the \"License\"); y',\n",
       "       'Copyright (C) 2002 Lawrence E. Rosen. All rights reserved. Permission is hereby granted to copy and distribute this license without modification. This license may not be modified without',\n",
       "       'copyright> year>2007</year> holder>&dhusername;</holder>',\n",
       "       'Copyright (C) 2004 Sam Hocevar <sam@hocevar.net>\\\\n\\\\nEveryone is permitted to copy and distribute verbatim or modified copies of this license document, and changing it is allowed as long as the name is changed.\\\\n\\\\nDO WHAT THE FUCK YOU WANT TO PUBLIC LICENSE\\\\nTERMS AND CONDITIONS FOR COPYING, DISTRIBU',\n",
       "       '(c) a wholly owned subsidiary of the wholly owned subsidiary in (a) or of the Parent in (b).',\n",
       "       'copyright_ars (',\n",
       "       '(C) 2004, 3GPP Organizational Partners (ARIB, ATIS, CCSA, ETSI, TTA, TTC) Permission to distribute, modify and use this file under the standard license',\n",
       "       'Copyright\" define\\tLS_TDMKONLY\\t\"Trademark-ref\" define\\tLS_LICRONLY\\t\"License-ref\" define\\tLS_PATRONLY\\t\"Patent-ref\"',\n",
       "       'copyright/* datadir}/PBPROJ/ecc/*',\n",
       "       'copyright|\\\\<c\\\\>[^+:]|&copy) =YEAR= =SOME= xfree86 project (version |v)1\\\\.?0\"',\n",
       "       'Copyright 2018 Google Inc. All Rights Reserved. Licensed under the Apache License, Version 2.0 (the \"License\"); you may not use this file except in compliance with the License. You may obtain a copy of the License at',\n",
       "       'Copyright .= \"<h2>Too many rows to display. Only first $max_rows shown.</h2>\";',\n",
       "       'copyright|\\\\<c\\\\>[^+:]|&copy) the internet society =SOME= =YEAR=\"',\n",
       "       'COPYRIGHT I B M CORPORATION 2002 LICENSED MATERIAL - PROGRAM PROPERTY OF I B M',\n",
       "       'COPYRIGHTHISTOGRAM\", _(\"Copyright Browser\"));',\n",
       "       'copyrightable works distributed by Google as part of the Go project.',\n",
       "       'CopyrightString = MY_7ZIP_VERSION kDllName \" client) \" MY_COPYRIGHT \" \" MY_DATE;',\n",
       "       'Copyright Holder.', '(c) You may:',\n",
       "       'copyright nomos package bucket',\n",
       "       'Copyright 2007 TeX Users Group. You may freely use, modify and/or distribute this file.',\n",
       "       '© version 1.1', 'copyright_ars () INHERITS (ars_master)\");'],\n",
       "      dtype=object)"
      ]
     },
     "execution_count": 86,
     "metadata": {},
     "output_type": "execute_result"
    }
   ],
   "source": [
    "indices = np.array(y_all_pred_final)\n",
    "indices = np.where(indices == 2)[0]\n",
    "np.array(X_all_test)[indices]"
   ]
  },
  {
   "cell_type": "code",
   "execution_count": 71,
   "metadata": {},
   "outputs": [
    {
     "name": "stdout",
     "output_type": "stream",
     "text": [
      "              precision    recall  f1-score   support\n",
      "\n",
      "           0       0.99      0.94      0.97      2975\n",
      "           1       0.95      0.81      0.87      1084\n",
      "           2       0.00      0.00      0.00         0\n",
      "\n",
      "    accuracy                           0.91      4059\n",
      "   macro avg       0.65      0.58      0.61      4059\n",
      "weighted avg       0.98      0.91      0.94      4059\n",
      "\n"
     ]
    },
    {
     "name": "stderr",
     "output_type": "stream",
     "text": [
      "/home/jimbo/.local/lib/python3.8/site-packages/sklearn/metrics/_classification.py:1344: UndefinedMetricWarning: Recall and F-score are ill-defined and being set to 0.0 in labels with no true samples. Use `zero_division` parameter to control this behavior.\n",
      "  _warn_prf(average, modifier, msg_start, len(result))\n",
      "/home/jimbo/.local/lib/python3.8/site-packages/sklearn/metrics/_classification.py:1344: UndefinedMetricWarning: Recall and F-score are ill-defined and being set to 0.0 in labels with no true samples. Use `zero_division` parameter to control this behavior.\n",
      "  _warn_prf(average, modifier, msg_start, len(result))\n",
      "/home/jimbo/.local/lib/python3.8/site-packages/sklearn/metrics/_classification.py:1344: UndefinedMetricWarning: Recall and F-score are ill-defined and being set to 0.0 in labels with no true samples. Use `zero_division` parameter to control this behavior.\n",
      "  _warn_prf(average, modifier, msg_start, len(result))\n"
     ]
    }
   ],
   "source": [
    "print(classification_report(y_all_test, y_all_pred_final))"
   ]
  },
  {
   "cell_type": "code",
   "execution_count": 39,
   "metadata": {},
   "outputs": [
    {
     "name": "stdout",
     "output_type": "stream",
     "text": [
      "              precision    recall  f1-score   support\n",
      "\n",
      "           0       0.98      0.97      0.98      2870\n",
      "           1       0.92      0.95      0.93      1024\n",
      "\n",
      "    accuracy                           0.96      3894\n",
      "   macro avg       0.95      0.96      0.95      3894\n",
      "weighted avg       0.97      0.96      0.96      3894\n",
      "\n"
     ]
    }
   ],
   "source": [
    "# try only fossology and test on kubernetes\n",
    "nb = MultinomialNB()\n",
    "nb.fit(X_train_vec, y_train)\n",
    "\n",
    "y_pred = nb.predict(X_test_vec)\n",
    "\n",
    "report = classification_report(y_test, y_pred)\n",
    "print(report)"
   ]
  },
  {
   "attachments": {},
   "cell_type": "markdown",
   "metadata": {},
   "source": [
    "### USE RNNs"
   ]
  },
  {
   "cell_type": "code",
   "execution_count": null,
   "metadata": {},
   "outputs": [],
   "source": [
    "# Load GloVe embeddings\n",
    "import numpy as np\n",
    "def load_glove(file):\n",
    "    \"\"\"Load GloVe embeddings from a text file.\n",
    "    Args:\n",
    "        file (str): path to the glove file.\n",
    "    Returns:\n",
    "        dict: a dictionary mapping words to their vector representations.\n",
    "    \"\"\"\n",
    "    embeddings = {}\n",
    "    with open(file) as f:\n",
    "        for line in f:\n",
    "            values = line.split()\n",
    "            word = values[0]\n",
    "            vector = np.asarray(values[1:], dtype='float32')\n",
    "            embeddings[word] = vector\n",
    "    return embeddings\n",
    "\n",
    "glove = load_glove('glove.6B.300d.txt')\n"
   ]
  },
  {
   "cell_type": "code",
   "execution_count": null,
   "metadata": {},
   "outputs": [],
   "source": [
    "import torch\n",
    "import torch.nn as nn\n",
    "import torch.optim as optim\n",
    "from torchtext.data import Field, TabularDataset, BucketIterator\n",
    "from sklearn.metrics import accuracy_score, classification_report\n",
    "from tqdm import tqdm\n",
    "import pandas as pd\n",
    "\n",
    "device = torch.device(\"cuda\" if torch.cuda.is_available() else \"cpu\")\n",
    "\n",
    "BATCH_SIZE = 64\n",
    "EMBEDDING_DIM = 100\n",
    "HIDDEN_DIM = 256\n",
    "OUTPUT_DIM = 2\n",
    "N_EPOCHS = 10\n",
    "LR = 0.001\n",
    "\n",
    "TEXT = Field(tokenize=\"revtok\", lower=True, include_lengths=True)\n",
    "LABEL = Field(sequential=False, use_vocab=False, dtype=torch.float)\n",
    "\n",
    "fields = [(\"copyright\", TEXT), (\"falsePositive\", LABEL)]\n",
    "\n",
    "df1 = pd.read_csv(\"cleared_datasets/fossology-master.csv\")\n",
    "df1.to_csv(\"cleared_datasets/fossology-master.csv\", index=False) \n",
    "dataset = TabularDataset(path=\"cleared_datasets/fossology-master.csv\", format=\"csv\", fields=fields, skip_header=True)\n",
    "\n",
    "train_dataset, test_dataset = dataset.split(split_ratio=0.8)\n",
    "\n",
    "TEXT.build_vocab(train_dataset, max_size=10000, vectors=\"glove.6B.100d\", unk_init=torch.Tensor.normal_)\n",
    "\n",
    "train_iterator, test_iterator = BucketIterator.splits((train_dataset, test_dataset), batch_size=BATCH_SIZE, sort_within_batch=True, device=device)\n",
    "\n",
    "class RNN(nn.Module):\n",
    "    def __init__(self, input_dim, embedding_dim, hidden_dim, output_dim):\n",
    "        super().__init__()\n",
    "        self.embedding = nn.Embedding(input_dim, embedding_dim) \n",
    "        self.rnn = nn.RNN(embedding_dim, hidden_dim) \n",
    "        self.fc = nn.Linear(hidden_dim, output_dim) \n",
    "\n",
    "    def forward(self, text, text_lengths):\n",
    "        embedded = self.embedding(text) \n",
    "        packed_embedded = nn.utils.rnn.pack_padded_sequence(embedded, text_lengths) \n",
    "        packed_output, hidden = self.rnn(packed_embedded) \n",
    "        output, output_lengths = nn.utils.rnn.pad_packed_sequence(packed_output) \n",
    "        hidden = hidden.squeeze(0) \n",
    "        logits = self.fc(hidden) \n",
    "        return logits\n",
    "\n",
    "input_dim = len(TEXT.vocab) \n",
    "model = RNN(input_dim, EMBEDDING_DIM, HIDDEN_DIM, OUTPUT_DIM).to(device) \n",
    "\n",
    "pretrained_embeddings = TEXT.vocab.vectors \n",
    "model.embedding.weight.data.copy_(pretrained_embeddings) \n",
    "\n",
    "criterion = nn.CrossEntropyLoss() \n",
    "optimizer = optim.Adam(model.parameters(), lr=LR) \n",
    "\n",
    "def get_accuracy(y_pred, y_true):\n",
    "    y_pred = torch.argmax(y_pred, dim=1) \n",
    "    correct = (y_pred == y_true).float() \n",
    "    acc = correct.sum() / len(correct) \n",
    "    return acc\n",
    "\n",
    "def train(model, iterator, criterion, optimizer):\n",
    "    epoch_loss = 0 \n",
    "    epoch_acc = 0 \n",
    "    model.train() \n",
    "    for batch in iterator: \n",
    "        text, text_lengths = batch.copyright \n",
    "        label = batch.falsePositive \n",
    "        optimizer.zero_grad() \n",
    "        logits = model(text, text_lengths) \n",
    "        loss = criterion(logits, label.long()) \n",
    "        acc = get_accuracy(logits, label) \n",
    "        loss.backward() \n",
    "        optimizer.step() \n",
    "        epoch_loss += loss.item() \n",
    "        epoch_acc += acc.item() \n",
    "    return epoch_loss / len(iterator), epoch_acc / len(iterator) \n",
    "\n",
    "def evaluate(model, iterator, criterion):\n",
    "    epoch_loss = 0 \n",
    "    epoch_acc = 0 \n",
    "    model.eval() \n",
    "    with torch.no_grad(): \n",
    "        for batch in iterator: \n",
    "            text, text_lengths = batch.copyright \n",
    "            label = batch.falsePositive \n",
    "            logits = model(text, text_lengths) \n",
    "            loss = criterion(logits, label.long()) \n",
    "            acc = get_accuracy(logits, label) \n",
    "            epoch_loss += loss.item() \n",
    "            epoch_acc += acc.item() \n",
    "    return epoch_loss / len(iterator), epoch_acc / len(iterator) \n",
    "\n",
    "for epoch in tqdm(range(N_EPOCHS)):\n",
    "    train_loss, train_acc = train(model, train_iterator, criterion, optimizer) \n",
    "    test_loss, test_acc = evaluate(model, test_iterator, criterion) \n",
    "    print(f\"Epoch {epoch+1}: Train Loss: {train_loss:.3f}, Train Acc: {train_acc*100:.2f}%, Test Loss: {test_loss:.3f}, Test Acc: {test_acc*100:.2f}%\") \n",
    "\n",
    "y_true = [] \n",
    "y_pred = [] \n",
    "model.eval() \n",
    "with torch.no_grad(): \n",
    "    for batch in test_iterator: \n",
    "        text, text_lengths = batch.copyright \n",
    "        label = batch.falsePositive \n",
    "        logits = model(text, text_lengths) \n",
    "        pred = torch.argmax(logits, dim=1) \n",
    "        y_true.extend(label.tolist()) \n",
    "        y_pred.extend(pred.tolist()) \n",
    "\n",
    "report = classification_report(y_true, y_pred)\n",
    "print(report)"
   ]
  },
  {
   "attachments": {},
   "cell_type": "markdown",
   "metadata": {},
   "source": [
    "### Test out different vectorizer (Glove, FastText & Word2Vec) "
   ]
  },
  {
   "cell_type": "code",
   "execution_count": null,
   "metadata": {},
   "outputs": [],
   "source": [
    "import pandas as pd\n",
    "import numpy as np\n",
    "from sklearn.model_selection import train_test_split\n",
    "from sklearn.metrics import classification_report\n",
    "from sklearn.svm import LinearSVC\n",
    "from gensim.models import fasttext\n",
    "\n",
    "fasttext.util.download_model('en', if_exists='ignore')\n",
    "\n",
    "# Load the data\n",
    "df1 = pd.read_csv('cleared_datasets/fossology-master.csv')\n",
    "df1.head()\n",
    "\n",
    "# Get the inputs and labels\n",
    "X = df1[\"copyright\"]\n",
    "y = df1[\"falsePositive\"]\n",
    "\n",
    "# Drop duplicates\n",
    "X = X.drop_duplicates()\n",
    "y = y[X.index]\n",
    "\n",
    "# Split into train and test sets\n",
    "X_train, X_test, y_train, y_test = train_test_split(X, y, test_size=0.2, random_state=42)\n",
    "\n",
    "# Load the FastText model\n",
    "model = fasttext.load_facebook_vectors('cc.en.300.bin')\n",
    "\n",
    "# Define a function to create document vectors\n",
    "def create_doc_vecs(texts, model):\n",
    "    # Initialize an empty list to store the vectors\n",
    "    vectors = []\n",
    "    # Loop through the texts\n",
    "    for text in texts:\n",
    "        # Split the text into words\n",
    "        words = text.split()\n",
    "        # Initialize an empty array to store the word vectors\n",
    "        word_vecs = np.zeros((len(words), model.vector_size))\n",
    "        # Loop through the words\n",
    "        for i, word in enumerate(words):\n",
    "            # Get the word vector from the model\n",
    "            word_vec = model[word]\n",
    "            # Store it in the array\n",
    "            word_vecs[i] = word_vec\n",
    "        # Average the word vectors to get the document vector\n",
    "        doc_vec = np.mean(word_vecs, axis=0)\n",
    "        # Append it to the list\n",
    "        vectors.append(doc_vec)\n",
    "    # Convert the list to a numpy array\n",
    "    vectors = np.array(vectors)\n",
    "    # Return the array of document vectors\n",
    "    return vectors\n",
    "\n",
    "# Create document vectors for train and test sets\n",
    "X_train_vec = create_doc_vecs(X_train, model)\n",
    "X_test_vec = create_doc_vecs(X_test, model)\n",
    "\n",
    "# Train a linear SVM classifier\n",
    "svm = LinearSVC()\n",
    "svm.fit(X_train_vec, y_train)\n",
    "\n",
    "# Predict on the test set\n",
    "y_pred = svm.predict(X_test_vec)\n",
    "\n",
    "# Print the classification report\n",
    "report = classification_report(y_test, y_pred)\n",
    "print(report)"
   ]
  },
  {
   "attachments": {},
   "cell_type": "markdown",
   "metadata": {},
   "source": [
    "### Testing out DistilBert"
   ]
  },
  {
   "cell_type": "code",
   "execution_count": 1,
   "metadata": {},
   "outputs": [],
   "source": [
    "import pandas as pd\n",
    "import torch\n",
    "from sklearn.model_selection import train_test_split\n",
    "from sklearn.metrics import classification_report\n",
    "from transformers import DistilBertTokenizerFast, DistilBertForSequenceClassification\n",
    "from tqdm import tqdm"
   ]
  },
  {
   "cell_type": "code",
   "execution_count": 2,
   "metadata": {},
   "outputs": [],
   "source": [
    "df1 = pd.read_csv('cleared_datasets/fossology-master.csv')\n",
    "df1.head()\n",
    "X = df1[\"copyright\"]\n",
    "y = df1[\"falsePositive\"]\n",
    "X = X.drop_duplicates()\n",
    "y = y[X.index]\n",
    "X_train, X_test, y_train, y_test = train_test_split(X, y, test_size=0.2, random_state=42)"
   ]
  },
  {
   "cell_type": "code",
   "execution_count": 3,
   "metadata": {},
   "outputs": [],
   "source": [
    "tokenizer = DistilBertTokenizerFast.from_pretrained('distilbert-base-uncased')"
   ]
  },
  {
   "cell_type": "code",
   "execution_count": 4,
   "metadata": {},
   "outputs": [
    {
     "name": "stderr",
     "output_type": "stream",
     "text": [
      "Some weights of the model checkpoint at distilbert-base-uncased were not used when initializing DistilBertForSequenceClassification: ['vocab_projector.bias', 'vocab_transform.weight', 'vocab_layer_norm.weight', 'vocab_layer_norm.bias', 'vocab_projector.weight', 'vocab_transform.bias']\n",
      "- This IS expected if you are initializing DistilBertForSequenceClassification from the checkpoint of a model trained on another task or with another architecture (e.g. initializing a BertForSequenceClassification model from a BertForPreTraining model).\n",
      "- This IS NOT expected if you are initializing DistilBertForSequenceClassification from the checkpoint of a model that you expect to be exactly identical (initializing a BertForSequenceClassification model from a BertForSequenceClassification model).\n",
      "Some weights of DistilBertForSequenceClassification were not initialized from the model checkpoint at distilbert-base-uncased and are newly initialized: ['pre_classifier.weight', 'classifier.bias', 'pre_classifier.bias', 'classifier.weight']\n",
      "You should probably TRAIN this model on a down-stream task to be able to use it for predictions and inference.\n"
     ]
    }
   ],
   "source": [
    "model = DistilBertForSequenceClassification.from_pretrained('distilbert-base-uncased')"
   ]
  },
  {
   "cell_type": "code",
   "execution_count": 6,
   "metadata": {},
   "outputs": [
    {
     "data": {
      "text/plain": [
       "device(type='cuda')"
      ]
     },
     "execution_count": 6,
     "metadata": {},
     "output_type": "execute_result"
    }
   ],
   "source": [
    "device = torch.device('cuda' if torch.cuda.is_available() else 'cpu')\n",
    "device"
   ]
  },
  {
   "cell_type": "code",
   "execution_count": 7,
   "metadata": {},
   "outputs": [
    {
     "data": {
      "text/plain": [
       "DistilBertForSequenceClassification(\n",
       "  (distilbert): DistilBertModel(\n",
       "    (embeddings): Embeddings(\n",
       "      (word_embeddings): Embedding(30522, 768, padding_idx=0)\n",
       "      (position_embeddings): Embedding(512, 768)\n",
       "      (LayerNorm): LayerNorm((768,), eps=1e-12, elementwise_affine=True)\n",
       "      (dropout): Dropout(p=0.1, inplace=False)\n",
       "    )\n",
       "    (transformer): Transformer(\n",
       "      (layer): ModuleList(\n",
       "        (0-5): 6 x TransformerBlock(\n",
       "          (attention): MultiHeadSelfAttention(\n",
       "            (dropout): Dropout(p=0.1, inplace=False)\n",
       "            (q_lin): Linear(in_features=768, out_features=768, bias=True)\n",
       "            (k_lin): Linear(in_features=768, out_features=768, bias=True)\n",
       "            (v_lin): Linear(in_features=768, out_features=768, bias=True)\n",
       "            (out_lin): Linear(in_features=768, out_features=768, bias=True)\n",
       "          )\n",
       "          (sa_layer_norm): LayerNorm((768,), eps=1e-12, elementwise_affine=True)\n",
       "          (ffn): FFN(\n",
       "            (dropout): Dropout(p=0.1, inplace=False)\n",
       "            (lin1): Linear(in_features=768, out_features=3072, bias=True)\n",
       "            (lin2): Linear(in_features=3072, out_features=768, bias=True)\n",
       "            (activation): GELUActivation()\n",
       "          )\n",
       "          (output_layer_norm): LayerNorm((768,), eps=1e-12, elementwise_affine=True)\n",
       "        )\n",
       "      )\n",
       "    )\n",
       "  )\n",
       "  (pre_classifier): Linear(in_features=768, out_features=768, bias=True)\n",
       "  (classifier): Linear(in_features=768, out_features=2, bias=True)\n",
       "  (dropout): Dropout(p=0.2, inplace=False)\n",
       ")"
      ]
     },
     "execution_count": 7,
     "metadata": {},
     "output_type": "execute_result"
    }
   ],
   "source": [
    "model.to(device)"
   ]
  },
  {
   "cell_type": "code",
   "execution_count": 8,
   "metadata": {},
   "outputs": [],
   "source": [
    "train_encodings = tokenizer(X_train.tolist(), truncation=True, padding=True)\n",
    "test_encodings = tokenizer(X_test.tolist(), truncation=True, padding=True)"
   ]
  },
  {
   "cell_type": "code",
   "execution_count": 9,
   "metadata": {},
   "outputs": [],
   "source": [
    "train_inputs = torch.tensor(train_encodings['input_ids'])\n",
    "train_attention_masks = torch.tensor(train_encodings['attention_mask'])\n",
    "train_labels = torch.tensor(y_train.tolist())\n",
    "test_inputs = torch.tensor(test_encodings['input_ids'])\n",
    "test_attention_masks = torch.tensor(test_encodings['attention_mask'])\n",
    "test_labels = torch.tensor(y_test.tolist())"
   ]
  },
  {
   "cell_type": "code",
   "execution_count": 10,
   "metadata": {},
   "outputs": [],
   "source": [
    "batch_size = 32\n",
    "train_data = torch.utils.data.TensorDataset(train_inputs, train_attention_masks, train_labels)\n",
    "train_loader = torch.utils.data.DataLoader(train_data, batch_size=batch_size, shuffle=True)\n",
    "test_data = torch.utils.data.TensorDataset(test_inputs, test_attention_masks, test_labels)\n",
    "test_loader = torch.utils.data.DataLoader(test_data, batch_size=batch_size, shuffle=False)"
   ]
  },
  {
   "cell_type": "code",
   "execution_count": 11,
   "metadata": {},
   "outputs": [],
   "source": [
    "optimizer = torch.optim.Adam(model.parameters(), lr=1e-5)\n",
    "loss_fn = torch.nn.CrossEntropyLoss()"
   ]
  },
  {
   "cell_type": "code",
   "execution_count": 12,
   "metadata": {},
   "outputs": [
    {
     "name": "stderr",
     "output_type": "stream",
     "text": [
      "100%|██████████| 487/487 [10:03<00:00,  1.24s/it]\n"
     ]
    },
    {
     "name": "stdout",
     "output_type": "stream",
     "text": [
      "Epoch 1, Loss: 0.0854413020070757\n"
     ]
    },
    {
     "name": "stderr",
     "output_type": "stream",
     "text": [
      "  4%|▍         | 19/487 [00:28<11:44,  1.51s/it]\n"
     ]
    },
    {
     "ename": "KeyboardInterrupt",
     "evalue": "",
     "output_type": "error",
     "traceback": [
      "\u001b[0;31m---------------------------------------------------------------------------\u001b[0m",
      "\u001b[0;31mKeyboardInterrupt\u001b[0m                         Traceback (most recent call last)",
      "\u001b[0;32m/tmp/ipykernel_14039/1920865193.py\u001b[0m in \u001b[0;36m<module>\u001b[0;34m\u001b[0m\n\u001b[1;32m      9\u001b[0m         \u001b[0mloss\u001b[0m\u001b[0;34m,\u001b[0m \u001b[0mlogits\u001b[0m \u001b[0;34m=\u001b[0m \u001b[0moutputs\u001b[0m\u001b[0;34m[\u001b[0m\u001b[0;34m:\u001b[0m\u001b[0;36m2\u001b[0m\u001b[0;34m]\u001b[0m\u001b[0;34m\u001b[0m\u001b[0;34m\u001b[0m\u001b[0m\n\u001b[1;32m     10\u001b[0m         \u001b[0mtotal_loss\u001b[0m \u001b[0;34m+=\u001b[0m \u001b[0mloss\u001b[0m\u001b[0;34m.\u001b[0m\u001b[0mitem\u001b[0m\u001b[0;34m(\u001b[0m\u001b[0;34m)\u001b[0m\u001b[0;34m\u001b[0m\u001b[0;34m\u001b[0m\u001b[0m\n\u001b[0;32m---> 11\u001b[0;31m         \u001b[0mloss\u001b[0m\u001b[0;34m.\u001b[0m\u001b[0mbackward\u001b[0m\u001b[0;34m(\u001b[0m\u001b[0;34m)\u001b[0m\u001b[0;34m\u001b[0m\u001b[0;34m\u001b[0m\u001b[0m\n\u001b[0m\u001b[1;32m     12\u001b[0m         \u001b[0moptimizer\u001b[0m\u001b[0;34m.\u001b[0m\u001b[0mstep\u001b[0m\u001b[0;34m(\u001b[0m\u001b[0;34m)\u001b[0m\u001b[0;34m\u001b[0m\u001b[0;34m\u001b[0m\u001b[0m\n\u001b[1;32m     13\u001b[0m     \u001b[0mprint\u001b[0m\u001b[0;34m(\u001b[0m\u001b[0;34mf\"Epoch {epoch+1}, Loss: {total_loss/len(train_loader)}\"\u001b[0m\u001b[0;34m)\u001b[0m\u001b[0;34m\u001b[0m\u001b[0;34m\u001b[0m\u001b[0m\n",
      "\u001b[0;32m~/.local/lib/python3.8/site-packages/torch/_tensor.py\u001b[0m in \u001b[0;36mbackward\u001b[0;34m(self, gradient, retain_graph, create_graph, inputs)\u001b[0m\n\u001b[1;32m    485\u001b[0m                 \u001b[0minputs\u001b[0m\u001b[0;34m=\u001b[0m\u001b[0minputs\u001b[0m\u001b[0;34m,\u001b[0m\u001b[0;34m\u001b[0m\u001b[0;34m\u001b[0m\u001b[0m\n\u001b[1;32m    486\u001b[0m             )\n\u001b[0;32m--> 487\u001b[0;31m         torch.autograd.backward(\n\u001b[0m\u001b[1;32m    488\u001b[0m             \u001b[0mself\u001b[0m\u001b[0;34m,\u001b[0m \u001b[0mgradient\u001b[0m\u001b[0;34m,\u001b[0m \u001b[0mretain_graph\u001b[0m\u001b[0;34m,\u001b[0m \u001b[0mcreate_graph\u001b[0m\u001b[0;34m,\u001b[0m \u001b[0minputs\u001b[0m\u001b[0;34m=\u001b[0m\u001b[0minputs\u001b[0m\u001b[0;34m\u001b[0m\u001b[0;34m\u001b[0m\u001b[0m\n\u001b[1;32m    489\u001b[0m         )\n",
      "\u001b[0;32m~/.local/lib/python3.8/site-packages/torch/autograd/__init__.py\u001b[0m in \u001b[0;36mbackward\u001b[0;34m(tensors, grad_tensors, retain_graph, create_graph, grad_variables, inputs)\u001b[0m\n\u001b[1;32m    198\u001b[0m     \u001b[0;31m# some Python versions print out the first line of a multi-line function\u001b[0m\u001b[0;34m\u001b[0m\u001b[0;34m\u001b[0m\u001b[0;34m\u001b[0m\u001b[0m\n\u001b[1;32m    199\u001b[0m     \u001b[0;31m# calls in the traceback and some print out the last line\u001b[0m\u001b[0;34m\u001b[0m\u001b[0;34m\u001b[0m\u001b[0;34m\u001b[0m\u001b[0m\n\u001b[0;32m--> 200\u001b[0;31m     Variable._execution_engine.run_backward(  # Calls into the C++ engine to run the backward pass\n\u001b[0m\u001b[1;32m    201\u001b[0m         \u001b[0mtensors\u001b[0m\u001b[0;34m,\u001b[0m \u001b[0mgrad_tensors_\u001b[0m\u001b[0;34m,\u001b[0m \u001b[0mretain_graph\u001b[0m\u001b[0;34m,\u001b[0m \u001b[0mcreate_graph\u001b[0m\u001b[0;34m,\u001b[0m \u001b[0minputs\u001b[0m\u001b[0;34m,\u001b[0m\u001b[0;34m\u001b[0m\u001b[0;34m\u001b[0m\u001b[0m\n\u001b[1;32m    202\u001b[0m         allow_unreachable=True, accumulate_grad=True)  # Calls into the C++ engine to run the backward pass\n",
      "\u001b[0;31mKeyboardInterrupt\u001b[0m: "
     ]
    }
   ],
   "source": [
    "epochs = 3\n",
    "for epoch in range(epochs):\n",
    "    model.train()\n",
    "    total_loss = 0\n",
    "    for batch in tqdm(train_loader):\n",
    "        input_ids, attention_mask, labels = batch[0].to(device), batch[1].to(device), batch[2].to(device)\n",
    "        optimizer.zero_grad()\n",
    "        outputs = model(input_ids=input_ids, attention_mask=attention_mask, labels=labels)\n",
    "        loss, logits = outputs[:2]\n",
    "        total_loss += loss.item()\n",
    "        loss.backward()\n",
    "        optimizer.step()\n",
    "    print(f\"Epoch {epoch+1}, Loss: {total_loss/len(train_loader)}\")"
   ]
  },
  {
   "cell_type": "code",
   "execution_count": null,
   "metadata": {},
   "outputs": [],
   "source": [
    "model.eval()\n",
    "y_true = []\n",
    "y_pred = []\n",
    "with torch.no_grad():\n",
    "    for batch in test_loader:\n",
    "        input_ids, attention_mask, labels = batch[0].to(device), batch[1].to(device), batch[2].to(device)\n",
    "        outputs = model(input_ids=input_ids, attention_mask=attention_mask)\n",
    "        logits = outputs[0]\n",
    "        preds = torch.argmax(logits, dim=1)\n",
    "        y_true.extend(labels.cpu().numpy())\n",
    "        y_pred.extend(preds.cpu().numpy())"
   ]
  },
  {
   "cell_type": "code",
   "execution_count": null,
   "metadata": {},
   "outputs": [],
   "source": [
    "report = classification_report(y_true, y_pred)\n",
    "print(report)"
   ]
  }
 ],
 "metadata": {
  "kernelspec": {
   "display_name": "Python 3",
   "language": "python",
   "name": "python3"
  },
  "language_info": {
   "codemirror_mode": {
    "name": "ipython",
    "version": 3
   },
   "file_extension": ".py",
   "mimetype": "text/x-python",
   "name": "python",
   "nbconvert_exporter": "python",
   "pygments_lexer": "ipython3",
   "version": "3.8.5"
  },
  "orig_nbformat": 4,
  "vscode": {
   "interpreter": {
    "hash": "0eefc6a63c6d719296cee5685f23fefb92aa63e2e9fdaf52ddbdc4ce266c7bb3"
   }
  }
 },
 "nbformat": 4,
 "nbformat_minor": 2
}
