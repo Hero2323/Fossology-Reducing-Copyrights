{
 "cells": [
  {
   "cell_type": "code",
   "execution_count": 2,
   "metadata": {},
   "outputs": [],
   "source": [
    "# Import the os library\n",
    "import os\n",
    "\n",
    "# Define a function that takes the source directory as an argument\n",
    "def get_file_exts(src_dir):\n",
    "    # Create an empty set to store the file extensions\n",
    "    file_exts = set()\n",
    "    # Loop through all the files in the source directory\n",
    "    for file in os.listdir(src_dir):\n",
    "        # Get the file path\n",
    "        file_path = os.path.join(src_dir, file)\n",
    "        # Check if the file is a regular file\n",
    "        if os.path.isfile(file_path):\n",
    "            # Split the file name and the extension\n",
    "            file_name, file_ext = os.path.splitext(file)\n",
    "            # If the file has no extension, use \"NO_EXT\" as a placeholder\n",
    "            if not file_ext:\n",
    "                file_ext = \"NO_EXT\"\n",
    "            # Add the file extension to the set\n",
    "            file_exts.add(file_ext)\n",
    "        # Check if the file is a directory\n",
    "        elif os.path.isdir(file_path):\n",
    "            # Call the function recursively on the subdirectory and update the set with the returned value\n",
    "            file_exts.update(get_file_exts(file_path))\n",
    "    # Return the set of file extensions\n",
    "    return file_exts"
   ]
  },
  {
   "cell_type": "code",
   "execution_count": 3,
   "metadata": {},
   "outputs": [
    {
     "name": "stdout",
     "output_type": "stream",
     "text": [
      "{'.3x', '.yaml', '.0_or_BSD', '.0-IGO', '.rpm', '.cc', '.LICENSE', '.0-or-later,remove', '.pl', '.RC', '.6515', '.35829', '.h', '.postinst', '.02', '.0-or-later,simple-replace', '.ixx', '.ts', '.3-invariants-only', '.install', '.docs', '.ci', '.c', '.make', '.hpp', '.conf', '.3b', '.lintian-overrides', '.34', '.64', '.tar', '.pb', '.py', '.rtf', '.0-AT', '.3', '.gl', '.m4-BSD-lite', '.aspx', '.GPLv2+-PHP', '.2616', '.multi', '.1+', '.xs', '.libutf', '.Non-commercial', '.dts', '.41', '.tex', '.GPLpossibility', '.0-with-bison-exception', '.3-no-invariants-or-later', '.7', '.16', '.42', '.4', '.fatfs', '.0-cl8', '.10386', '.0-Perl', '.0-no-RFN', '.OSS', '.GPL-EXCEPT', '.nanorc', '.repo', '.3a', '.class', '.pod', '.pom', '.md', '.1804', '.doxygen', '.schema', '.23', '.spdx', '.Debian', '.8', '.README_JPEG', '.ico', '.6', '.isc', '.0-or-later,biggerremove', '.4483', '.4ht', '.phtml', '.0+', '.control', '.txt', '.png', '.2-no-invariants-or-later', '.sh', '.2', '.notes', '.info-2', '.0-or-later,mixed', '.0-or-later', '.3-or-later', '.cs', '.0_reversed_version_ref', '.copyright', '.ipw3945', '.1-invariants-or-later', '.3c', '.38', '.01', '.S', '.css_GPL_MIT', '.logrotate', '.1-no-RFN', '.sql', '.pre', '.0-or-later,biggeraddition', '.0,remove', '.r', '.html', '.yml', '.spec', '.hin', '.GPLv2', '.dat', '.lic', '.BSD-2', '.1-only', '.1+-unRARrestriction', '.lock', '.htc', '.hostapd', '.devcpp', '.postrm', '.pp', '.0-with-GCC-exception', '.2-no-invariants-only', '.js', '.xhtml', '.0-RFN', '.rst', '.dsc', '.xml', '.3+', '.Dockerfile', '.intel', '.text', '.ini', '.pdfium', '.composer', '.us', '.1-RFN', '.0-Combined-Work-Exception', '.ada', '.2+', '.2-only', '.license', '.java', '.cxx', '.1-or-later', '.readme', '.nsi', '.1', '.62', '.3-no-invariants-only', '.0-or-later,replace', '.sty', '.css', '.inf', '.cpp', '.0-no-copyleft-exception', '.org', '.10240', '.12320', '.go', '.dtd', '.post', '.3-invariants-or-later', '.hxx', '.mk', '.json', '.htm', '.in', '.scss', '.terms', '.cron', '.pbf', 'NO_EXT', '.2-invariants-only', '.pkg', '.texi', '.inc', '.run', '.php', '.Copyleft', '.sep', '.GPL3-EXCEPT', '.00', '.po', '.51', '.MD', '.m4', '.2-invariants-or-later', '.0-or-later,addition', '.5', '.bz2', '.mo', '.npm', '.svg', '.1-no-invariants-or-later', '.0-only', '.1-no-invariants-only', '.gz', '.twig', '.2-or-later', '.ads', '.3-only', '.0,addition', '.1-invariants-only', '.gif', '.7z', '.2-2004-Oct-03', '.0', '.cmake'}\n"
     ]
    }
   ],
   "source": [
    "# Define the source directory of the project\n",
    "src_dir = \"fossology-master\"\n",
    "\n",
    "# Call the function on the source directory and print the result\n",
    "print(get_file_exts(src_dir))\n"
   ]
  },
  {
   "cell_type": "code",
   "execution_count": null,
   "metadata": {},
   "outputs": [],
   "source": []
  }
 ],
 "metadata": {
  "kernelspec": {
   "display_name": "Python 3",
   "language": "python",
   "name": "python3"
  },
  "language_info": {
   "codemirror_mode": {
    "name": "ipython",
    "version": 3
   },
   "file_extension": ".py",
   "mimetype": "text/x-python",
   "name": "python",
   "nbconvert_exporter": "python",
   "pygments_lexer": "ipython3",
   "version": "3.8.5"
  },
  "orig_nbformat": 4,
  "vscode": {
   "interpreter": {
    "hash": "0eefc6a63c6d719296cee5685f23fefb92aa63e2e9fdaf52ddbdc4ce266c7bb3"
   }
  }
 },
 "nbformat": 4,
 "nbformat_minor": 2
}
