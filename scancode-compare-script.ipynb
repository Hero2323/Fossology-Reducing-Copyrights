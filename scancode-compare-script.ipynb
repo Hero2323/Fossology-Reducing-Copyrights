{
 "cells": [
  {
   "cell_type": "code",
   "execution_count": 15,
   "metadata": {},
   "outputs": [],
   "source": [
    "import pandas as pd\n",
    "import numpy as np\n",
    "import ast\n",
    "import swifter\n",
    "from tqdm.notebook import tqdm"
   ]
  },
  {
   "cell_type": "code",
   "execution_count": 16,
   "metadata": {},
   "outputs": [],
   "source": [
    "fossology_copyrights_df = pd.read_csv('fossologyAPI_CSVs/fossology-master.csv')\n",
    "scan_code_copyrights_df = pd.read_csv('scan_code_csvs/fossology-master.csv')"
   ]
  },
  {
   "cell_type": "code",
   "execution_count": 17,
   "metadata": {},
   "outputs": [
    {
     "name": "stdout",
     "output_type": "stream",
     "text": [
      "API Length:  43743\n",
      "Scan code Length:  4399\n"
     ]
    }
   ],
   "source": [
    "print('API Length: ', len(fossology_copyrights_df))\n",
    "print('Scan code Length: ', len(scan_code_copyrights_df))"
   ]
  },
  {
   "cell_type": "code",
   "execution_count": 18,
   "metadata": {},
   "outputs": [],
   "source": [
    "fossology_copyrights_df = fossology_copyrights_df.loc[:, ['file_path', 'copyright']]\n",
    "scan_code_copyrights_df = scan_code_copyrights_df.loc[:, ['file_path', 'copyrights']]\n",
    "scan_code_copyrights_df = scan_code_copyrights_df.rename(columns={'copyrights': 'scan_code_copyrights'})"
   ]
  },
  {
   "cell_type": "code",
   "execution_count": 19,
   "metadata": {},
   "outputs": [],
   "source": [
    "fossology_copyrights_df = fossology_copyrights_df.sort_values('file_path')\n",
    "scan_code_copyrights_df = scan_code_copyrights_df.sort_values('file_path')"
   ]
  },
  {
   "cell_type": "code",
   "execution_count": 20,
   "metadata": {},
   "outputs": [],
   "source": [
    "fossology_copyrights_df = fossology_copyrights_df.reset_index()\n",
    "fossology_copyrights_df = fossology_copyrights_df.loc[:, ['file_path', 'copyright']]\n",
    "scan_code_copyrights_df = scan_code_copyrights_df.reset_index()\n",
    "scan_code_copyrights_df = scan_code_copyrights_df.loc[:, ['file_path', 'scan_code_copyrights']]"
   ]
  },
  {
   "cell_type": "code",
   "execution_count": 21,
   "metadata": {},
   "outputs": [
    {
     "data": {
      "application/vnd.jupyter.widget-view+json": {
       "model_id": "ce6f3e00b55d4b3aa2badd154168c16a",
       "version_major": 2,
       "version_minor": 0
      },
      "text/plain": [
       "Pandas Apply:   0%|          | 0/4399 [00:00<?, ?it/s]"
      ]
     },
     "metadata": {},
     "output_type": "display_data"
    }
   ],
   "source": [
    "# Fix scan_code_copyrights being string even though they should be lists\n",
    "def convert_scan_code_copyrights_to_list(row):\n",
    "    s = row['scan_code_copyrights']\n",
    "    l = ast.literal_eval(s)\n",
    "    row['scan_code_copyrights'] = l\n",
    "    return row\n",
    "\n",
    "scancode_df = scan_code_copyrights_df.swifter.progress_bar(True).apply(convert_scan_code_copyrights_to_list, axis=1)"
   ]
  },
  {
   "cell_type": "code",
   "execution_count": 22,
   "metadata": {},
   "outputs": [
    {
     "data": {
      "text/html": [
       "<div>\n",
       "<style scoped>\n",
       "    .dataframe tbody tr th:only-of-type {\n",
       "        vertical-align: middle;\n",
       "    }\n",
       "\n",
       "    .dataframe tbody tr th {\n",
       "        vertical-align: top;\n",
       "    }\n",
       "\n",
       "    .dataframe thead th {\n",
       "        text-align: right;\n",
       "    }\n",
       "</style>\n",
       "<table border=\"1\" class=\"dataframe\">\n",
       "  <thead>\n",
       "    <tr style=\"text-align: right;\">\n",
       "      <th></th>\n",
       "      <th>file_path</th>\n",
       "      <th>copyright</th>\n",
       "    </tr>\n",
       "  </thead>\n",
       "  <tbody>\n",
       "    <tr>\n",
       "      <th>0</th>\n",
       "      <td>fossology-master/.dockerignore</td>\n",
       "      <td>copyright/agent_tests/Unit/test_copyright src/...</td>\n",
       "    </tr>\n",
       "    <tr>\n",
       "      <th>1</th>\n",
       "      <td>fossology-master/.dockerignore</td>\n",
       "      <td>copyright/VERSION-copyright src/spdx2/agent_te...</td>\n",
       "    </tr>\n",
       "    <tr>\n",
       "      <th>2</th>\n",
       "      <td>fossology-master/.dockerignore</td>\n",
       "      <td>copyright_list src/cli/fo_folder src/cli/fo_no...</td>\n",
       "    </tr>\n",
       "    <tr>\n",
       "      <th>3</th>\n",
       "      <td>fossology-master/.dockerignore</td>\n",
       "      <td>copyright/VERSION-keyword</td>\n",
       "    </tr>\n",
       "    <tr>\n",
       "      <th>4</th>\n",
       "      <td>fossology-master/.dockerignore</td>\n",
       "      <td>copyright/VERSION-ecc</td>\n",
       "    </tr>\n",
       "  </tbody>\n",
       "</table>\n",
       "</div>"
      ],
      "text/plain": [
       "                        file_path  \\\n",
       "0  fossology-master/.dockerignore   \n",
       "1  fossology-master/.dockerignore   \n",
       "2  fossology-master/.dockerignore   \n",
       "3  fossology-master/.dockerignore   \n",
       "4  fossology-master/.dockerignore   \n",
       "\n",
       "                                           copyright  \n",
       "0  copyright/agent_tests/Unit/test_copyright src/...  \n",
       "1  copyright/VERSION-copyright src/spdx2/agent_te...  \n",
       "2  copyright_list src/cli/fo_folder src/cli/fo_no...  \n",
       "3                          copyright/VERSION-keyword  \n",
       "4                              copyright/VERSION-ecc  "
      ]
     },
     "execution_count": 22,
     "metadata": {},
     "output_type": "execute_result"
    }
   ],
   "source": [
    "fossology_copyrights_df.head()"
   ]
  },
  {
   "cell_type": "code",
   "execution_count": 23,
   "metadata": {},
   "outputs": [
    {
     "data": {
      "text/html": [
       "<div>\n",
       "<style scoped>\n",
       "    .dataframe tbody tr th:only-of-type {\n",
       "        vertical-align: middle;\n",
       "    }\n",
       "\n",
       "    .dataframe tbody tr th {\n",
       "        vertical-align: top;\n",
       "    }\n",
       "\n",
       "    .dataframe thead th {\n",
       "        text-align: right;\n",
       "    }\n",
       "</style>\n",
       "<table border=\"1\" class=\"dataframe\">\n",
       "  <thead>\n",
       "    <tr style=\"text-align: right;\">\n",
       "      <th></th>\n",
       "      <th>file_path</th>\n",
       "      <th>scan_code_copyrights</th>\n",
       "    </tr>\n",
       "  </thead>\n",
       "  <tbody>\n",
       "    <tr>\n",
       "      <th>0</th>\n",
       "      <td>fossology-master/.dockerignore</td>\n",
       "      <td>[Copyright (c) Fossology contributors]</td>\n",
       "    </tr>\n",
       "    <tr>\n",
       "      <th>1</th>\n",
       "      <td>fossology-master/.editorconfig</td>\n",
       "      <td>[Copyright (c) Fossology contributors]</td>\n",
       "    </tr>\n",
       "    <tr>\n",
       "      <th>2</th>\n",
       "      <td>fossology-master/.github/ISSUE_TEMPLATE.md</td>\n",
       "      <td>[Copyright (c) Fossology contributors]</td>\n",
       "    </tr>\n",
       "    <tr>\n",
       "      <th>3</th>\n",
       "      <td>fossology-master/.github/ISSUE_TEMPLATE/bug_re...</td>\n",
       "      <td>[Copyright (c) Fossology contributors]</td>\n",
       "    </tr>\n",
       "    <tr>\n",
       "      <th>4</th>\n",
       "      <td>fossology-master/.github/ISSUE_TEMPLATE/featur...</td>\n",
       "      <td>[Copyright (c) Fossology contributors]</td>\n",
       "    </tr>\n",
       "  </tbody>\n",
       "</table>\n",
       "</div>"
      ],
      "text/plain": [
       "                                           file_path  \\\n",
       "0                     fossology-master/.dockerignore   \n",
       "1                     fossology-master/.editorconfig   \n",
       "2         fossology-master/.github/ISSUE_TEMPLATE.md   \n",
       "3  fossology-master/.github/ISSUE_TEMPLATE/bug_re...   \n",
       "4  fossology-master/.github/ISSUE_TEMPLATE/featur...   \n",
       "\n",
       "                     scan_code_copyrights  \n",
       "0  [Copyright (c) Fossology contributors]  \n",
       "1  [Copyright (c) Fossology contributors]  \n",
       "2  [Copyright (c) Fossology contributors]  \n",
       "3  [Copyright (c) Fossology contributors]  \n",
       "4  [Copyright (c) Fossology contributors]  "
      ]
     },
     "execution_count": 23,
     "metadata": {},
     "output_type": "execute_result"
    }
   ],
   "source": [
    "scan_code_copyrights_df.head()"
   ]
  },
  {
   "cell_type": "code",
   "execution_count": 24,
   "metadata": {},
   "outputs": [
    {
     "name": "stdout",
     "output_type": "stream",
     "text": [
      "API Length:  43743\n",
      "Scancode Length:  4399\n"
     ]
    }
   ],
   "source": [
    "print('API Length: ', len(fossology_copyrights_df))\n",
    "print('Scancode Length: ', len(scan_code_copyrights_df))"
   ]
  },
  {
   "cell_type": "code",
   "execution_count": 25,
   "metadata": {},
   "outputs": [],
   "source": [
    "merged_df = fossology_copyrights_df.join(scan_code_copyrights_df.set_index('file_path'), on='file_path', how='left')"
   ]
  },
  {
   "cell_type": "code",
   "execution_count": 26,
   "metadata": {},
   "outputs": [],
   "source": [
    "merged_df['falsePositive'] = 1"
   ]
  },
  {
   "cell_type": "code",
   "execution_count": 27,
   "metadata": {},
   "outputs": [],
   "source": [
    "def check_false_positive(row):\n",
    "    try:\n",
    "        if row['scan_code_copyrights'] is np.nan:\n",
    "            return row\n",
    "        for scan_code_copyright in row['scan_code_copyrights']:\n",
    "            lower_scan_code = scan_code_copyright.lower()\n",
    "            lower_foss_copyright = row['copyright'].lower()\n",
    "            if lower_scan_code in lower_foss_copyright:\n",
    "                row['scan_code_copyrights'] = scan_code_copyright\n",
    "                row['falsePositive'] = 0\n",
    "                break\n",
    "            elif lower_scan_code.replace('copyright (c)', '©') in lower_foss_copyright:\n",
    "                row['scan_code_copyrights'] = scan_code_copyright\n",
    "                row['falsePositive'] = 0\n",
    "                break\n",
    "            elif lower_scan_code.replace('copyright (c)', '(c)') in lower_foss_copyright:\n",
    "                row['scan_code_copyrights'] = scan_code_copyright\n",
    "                row['falsePositive'] = 0\n",
    "                break\n",
    "            elif lower_scan_code.replace('copyright', '(c)') in lower_foss_copyright:\n",
    "                row['scan_code_copyrights'] = scan_code_copyright\n",
    "                row['falsePositive'] = 0\n",
    "                break\n",
    "            elif lower_scan_code.replace('copyright', '©') in lower_foss_copyright:\n",
    "                row['scan_code_copyrights'] = scan_code_copyright\n",
    "                row['falsePositive'] = 0\n",
    "                break\n",
    "            elif lower_scan_code.replace('(c)', '©') in lower_foss_copyright:\n",
    "                row['scan_code_copyrights'] = scan_code_copyright\n",
    "                row['falsePositive'] = 0\n",
    "                break\n",
    "            elif lower_scan_code.replace('(c)', 'copyright ©') in lower_foss_copyright:\n",
    "                row['scan_code_copyrights'] = scan_code_copyright\n",
    "                row['falsePositive'] = 0\n",
    "                break\n",
    "            elif lower_scan_code.replace('(c)', 'copyright') in lower_foss_copyright:\n",
    "                row['scan_code_copyrights'] = scan_code_copyright\n",
    "                row['falsePositive'] = 0\n",
    "                break\n",
    "            elif lower_scan_code.replace('(c)', 'copyright (c)') in lower_foss_copyright:\n",
    "                row['scan_code_copyrights'] = scan_code_copyright\n",
    "                row['falsePositive'] = 0\n",
    "                break\n",
    "            else:\n",
    "                row['scan_code_copyrights'] = '-'\n",
    "    except Exception as E:\n",
    "        print(E, row['scan_code_copyrights'])\n",
    "    return row"
   ]
  },
  {
   "cell_type": "code",
   "execution_count": 28,
   "metadata": {},
   "outputs": [
    {
     "data": {
      "application/vnd.jupyter.widget-view+json": {
       "model_id": "2e741b443e3345c8a4b2a0b0790e1e50",
       "version_major": 2,
       "version_minor": 0
      },
      "text/plain": [
       "Pandas Apply:   0%|          | 0/43743 [00:00<?, ?it/s]"
      ]
     },
     "metadata": {},
     "output_type": "display_data"
    }
   ],
   "source": [
    "merged_df = merged_df.swifter.progress_bar(enable=True, desc=None).apply(check_false_positive, axis=1)"
   ]
  },
  {
   "cell_type": "code",
   "execution_count": null,
   "metadata": {},
   "outputs": [],
   "source": [
    "def remove_lists(row):\n",
    "    if type(row['scan_code_copyrights']) == list:\n",
    "        row['scan_code_copyrights'] = '-'\n",
    "    if row['scan_code_copyrights'] == '':\n",
    "        row['scan_code_copyrights'] = '-'\n",
    "    return row"
   ]
  },
  {
   "cell_type": "code",
   "execution_count": null,
   "metadata": {},
   "outputs": [
    {
     "data": {
      "application/vnd.jupyter.widget-view+json": {
       "model_id": "08168276116a473c80f08a9aaa17510f",
       "version_major": 2,
       "version_minor": 0
      },
      "text/plain": [
       "Pandas Apply:   0%|          | 0/43743 [00:00<?, ?it/s]"
      ]
     },
     "metadata": {},
     "output_type": "display_data"
    }
   ],
   "source": [
    "#merged_df = merged_df.swifter.progress_bar(enable=True, desc=None).apply(remove_lists, axis=1)"
   ]
  },
  {
   "cell_type": "code",
   "execution_count": 16,
   "metadata": {},
   "outputs": [],
   "source": [
    "merged_df.to_csv('merged_csvs/fossology-master.csv', index=False)"
   ]
  },
  {
   "cell_type": "code",
   "execution_count": 19,
   "metadata": {},
   "outputs": [
    {
     "data": {
      "text/plain": [
       "\"['Copyright (c) Fossology contributors']\""
      ]
     },
     "execution_count": 19,
     "metadata": {},
     "output_type": "execute_result"
    }
   ],
   "source": [
    "merged_df.iloc[0]['scan_code_copyrights']"
   ]
  }
 ],
 "metadata": {
  "kernelspec": {
   "display_name": "Python 3",
   "language": "python",
   "name": "python3"
  },
  "language_info": {
   "codemirror_mode": {
    "name": "ipython",
    "version": 3
   },
   "file_extension": ".py",
   "mimetype": "text/x-python",
   "name": "python",
   "nbconvert_exporter": "python",
   "pygments_lexer": "ipython3",
   "version": "3.8.5"
  },
  "orig_nbformat": 4,
  "vscode": {
   "interpreter": {
    "hash": "069bb8bee4d116659dec40e4a227483e59993d66caaf019b0bf4acfff5c59bd2"
   }
  }
 },
 "nbformat": 4,
 "nbformat_minor": 2
}
